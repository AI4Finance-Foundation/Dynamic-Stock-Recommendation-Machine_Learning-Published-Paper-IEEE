{
 "cells": [
  {
   "cell_type": "code",
   "execution_count": 72,
   "metadata": {
    "collapsed": true
   },
   "outputs": [],
   "source": [
    "import numpy as np\n",
    "import pandas as pd\n",
    "\n",
    "import time\n",
    "from datetime import datetime as dt\n",
    "\n",
    "import matplotlib.pyplot as plt\n",
    "import plotly\n",
    "import plotly.graph_objs as go\n",
    "\n",
    "\n"
   ]
  },
  {
   "cell_type": "markdown",
   "metadata": {},
   "source": [
    "# 1. Data Preparation"
   ]
  },
  {
   "cell_type": "markdown",
   "metadata": {},
   "source": [
    "3 datasets:\n",
    "\n",
    "S&P 500 daily adjusted price\n",
    "\n",
    "Mean-variance weights table\n",
    "\n",
    "Min-variance weights table"
   ]
  },
  {
   "cell_type": "code",
   "execution_count": 7,
   "metadata": {},
   "outputs": [],
   "source": [
    "data_adj = pd.read_csv(\"1-sp500_adj_price.csv\")\n",
    "weight_meanv = pd.read_excel('mean_weighted_user8.xlsx')\n",
    "weight_minv = pd.read_excel('minimum_weighted_user8.xlsx')\n",
    "weight_equal=pd.read_excel('equally_weighted_user8.xlsx')"
   ]
  },
  {
   "cell_type": "code",
   "execution_count": 10,
   "metadata": {},
   "outputs": [
    {
     "data": {
      "text/html": [
       "<div>\n",
       "<style>\n",
       "    .dataframe thead tr:only-child th {\n",
       "        text-align: right;\n",
       "    }\n",
       "\n",
       "    .dataframe thead th {\n",
       "        text-align: left;\n",
       "    }\n",
       "\n",
       "    .dataframe tbody tr th {\n",
       "        vertical-align: top;\n",
       "    }\n",
       "</style>\n",
       "<table border=\"1\" class=\"dataframe\">\n",
       "  <thead>\n",
       "    <tr style=\"text-align: right;\">\n",
       "      <th></th>\n",
       "      <th>tic</th>\n",
       "      <th>predicted_return</th>\n",
       "      <th>weights</th>\n",
       "      <th>trade_date</th>\n",
       "    </tr>\n",
       "  </thead>\n",
       "  <tbody>\n",
       "    <tr>\n",
       "      <th>0</th>\n",
       "      <td>EOG</td>\n",
       "      <td>0.033723</td>\n",
       "      <td>0.000186</td>\n",
       "      <td>19950601</td>\n",
       "    </tr>\n",
       "    <tr>\n",
       "      <th>1</th>\n",
       "      <td>EQT</td>\n",
       "      <td>0.037745</td>\n",
       "      <td>0.000000</td>\n",
       "      <td>19950601</td>\n",
       "    </tr>\n",
       "    <tr>\n",
       "      <th>2</th>\n",
       "      <td>HES</td>\n",
       "      <td>0.051450</td>\n",
       "      <td>0.005125</td>\n",
       "      <td>19950601</td>\n",
       "    </tr>\n",
       "    <tr>\n",
       "      <th>3</th>\n",
       "      <td>NFX</td>\n",
       "      <td>0.030283</td>\n",
       "      <td>0.050000</td>\n",
       "      <td>19950601</td>\n",
       "    </tr>\n",
       "    <tr>\n",
       "      <th>4</th>\n",
       "      <td>OKE</td>\n",
       "      <td>0.041020</td>\n",
       "      <td>0.000000</td>\n",
       "      <td>19950601</td>\n",
       "    </tr>\n",
       "  </tbody>\n",
       "</table>\n",
       "</div>"
      ],
      "text/plain": [
       "   tic  predicted_return   weights  trade_date\n",
       "0  EOG          0.033723  0.000186    19950601\n",
       "1  EQT          0.037745  0.000000    19950601\n",
       "2  HES          0.051450  0.005125    19950601\n",
       "3  NFX          0.030283  0.050000    19950601\n",
       "4  OKE          0.041020  0.000000    19950601"
      ]
     },
     "execution_count": 10,
     "metadata": {},
     "output_type": "execute_result"
    }
   ],
   "source": [
    "weight_meanv.head()"
   ]
  },
  {
   "cell_type": "code",
   "execution_count": 11,
   "metadata": {},
   "outputs": [
    {
     "data": {
      "text/html": [
       "<div>\n",
       "<style>\n",
       "    .dataframe thead tr:only-child th {\n",
       "        text-align: right;\n",
       "    }\n",
       "\n",
       "    .dataframe thead th {\n",
       "        text-align: left;\n",
       "    }\n",
       "\n",
       "    .dataframe tbody tr th {\n",
       "        vertical-align: top;\n",
       "    }\n",
       "</style>\n",
       "<table border=\"1\" class=\"dataframe\">\n",
       "  <thead>\n",
       "    <tr style=\"text-align: right;\">\n",
       "      <th></th>\n",
       "      <th>tic</th>\n",
       "      <th>predicted_return</th>\n",
       "      <th>weights</th>\n",
       "      <th>trade_date</th>\n",
       "    </tr>\n",
       "  </thead>\n",
       "  <tbody>\n",
       "    <tr>\n",
       "      <th>0</th>\n",
       "      <td>EOG</td>\n",
       "      <td>0.033723</td>\n",
       "      <td>0.009718</td>\n",
       "      <td>19950601</td>\n",
       "    </tr>\n",
       "    <tr>\n",
       "      <th>1</th>\n",
       "      <td>EQT</td>\n",
       "      <td>0.037745</td>\n",
       "      <td>0.000000</td>\n",
       "      <td>19950601</td>\n",
       "    </tr>\n",
       "    <tr>\n",
       "      <th>2</th>\n",
       "      <td>HES</td>\n",
       "      <td>0.051450</td>\n",
       "      <td>0.007371</td>\n",
       "      <td>19950601</td>\n",
       "    </tr>\n",
       "    <tr>\n",
       "      <th>3</th>\n",
       "      <td>NFX</td>\n",
       "      <td>0.030283</td>\n",
       "      <td>0.050000</td>\n",
       "      <td>19950601</td>\n",
       "    </tr>\n",
       "    <tr>\n",
       "      <th>4</th>\n",
       "      <td>OKE</td>\n",
       "      <td>0.041020</td>\n",
       "      <td>0.000000</td>\n",
       "      <td>19950601</td>\n",
       "    </tr>\n",
       "  </tbody>\n",
       "</table>\n",
       "</div>"
      ],
      "text/plain": [
       "   tic  predicted_return   weights  trade_date\n",
       "0  EOG          0.033723  0.009718    19950601\n",
       "1  EQT          0.037745  0.000000    19950601\n",
       "2  HES          0.051450  0.007371    19950601\n",
       "3  NFX          0.030283  0.050000    19950601\n",
       "4  OKE          0.041020  0.000000    19950601"
      ]
     },
     "execution_count": 11,
     "metadata": {},
     "output_type": "execute_result"
    }
   ],
   "source": [
    "weight_minv.head()"
   ]
  },
  {
   "cell_type": "code",
   "execution_count": 12,
   "metadata": {},
   "outputs": [
    {
     "data": {
      "text/html": [
       "<div>\n",
       "<style>\n",
       "    .dataframe thead tr:only-child th {\n",
       "        text-align: right;\n",
       "    }\n",
       "\n",
       "    .dataframe thead th {\n",
       "        text-align: left;\n",
       "    }\n",
       "\n",
       "    .dataframe tbody tr th {\n",
       "        vertical-align: top;\n",
       "    }\n",
       "</style>\n",
       "<table border=\"1\" class=\"dataframe\">\n",
       "  <thead>\n",
       "    <tr style=\"text-align: right;\">\n",
       "      <th></th>\n",
       "      <th>tic</th>\n",
       "      <th>predicted_return</th>\n",
       "      <th>weights</th>\n",
       "      <th>trade_date</th>\n",
       "    </tr>\n",
       "  </thead>\n",
       "  <tbody>\n",
       "    <tr>\n",
       "      <th>0</th>\n",
       "      <td>EOG</td>\n",
       "      <td>0.033723</td>\n",
       "      <td>0.006993</td>\n",
       "      <td>19950601</td>\n",
       "    </tr>\n",
       "    <tr>\n",
       "      <th>1</th>\n",
       "      <td>EQT</td>\n",
       "      <td>0.037745</td>\n",
       "      <td>0.006993</td>\n",
       "      <td>19950601</td>\n",
       "    </tr>\n",
       "    <tr>\n",
       "      <th>2</th>\n",
       "      <td>HES</td>\n",
       "      <td>0.051450</td>\n",
       "      <td>0.006993</td>\n",
       "      <td>19950601</td>\n",
       "    </tr>\n",
       "    <tr>\n",
       "      <th>3</th>\n",
       "      <td>NFX</td>\n",
       "      <td>0.030283</td>\n",
       "      <td>0.006993</td>\n",
       "      <td>19950601</td>\n",
       "    </tr>\n",
       "    <tr>\n",
       "      <th>4</th>\n",
       "      <td>OKE</td>\n",
       "      <td>0.041020</td>\n",
       "      <td>0.006993</td>\n",
       "      <td>19950601</td>\n",
       "    </tr>\n",
       "  </tbody>\n",
       "</table>\n",
       "</div>"
      ],
      "text/plain": [
       "   tic  predicted_return   weights  trade_date\n",
       "0  EOG          0.033723  0.006993    19950601\n",
       "1  EQT          0.037745  0.006993    19950601\n",
       "2  HES          0.051450  0.006993    19950601\n",
       "3  NFX          0.030283  0.006993    19950601\n",
       "4  OKE          0.041020  0.006993    19950601"
      ]
     },
     "execution_count": 12,
     "metadata": {},
     "output_type": "execute_result"
    }
   ],
   "source": [
    "weight_equal.head()"
   ]
  },
  {
   "cell_type": "code",
   "execution_count": 18,
   "metadata": {},
   "outputs": [
    {
     "name": "stdout",
     "output_type": "stream",
     "text": [
      "12932 12932 12932\n"
     ]
    }
   ],
   "source": [
    "#the length of the 3 tables should be the same\n",
    "print(len(weight_meanv),\n",
    "len(weight_minv),\n",
    "len(weight_equal))\n"
   ]
  },
  {
   "cell_type": "markdown",
   "metadata": {},
   "source": []
  },
  {
   "cell_type": "code",
   "execution_count": null,
   "metadata": {
    "collapsed": true
   },
   "outputs": [],
   "source": []
  },
  {
   "cell_type": "markdown",
   "metadata": {},
   "source": [
    "## 1.1 Get stock name, trade date, daily date"
   ]
  },
  {
   "cell_type": "markdown",
   "metadata": {},
   "source": [
    "Add 20170901 as tradedate_full\n"
   ]
  },
  {
   "cell_type": "code",
   "execution_count": 36,
   "metadata": {
    "collapsed": true
   },
   "outputs": [],
   "source": [
    "#get unique stock name from table\n",
    "#stock names are the same between mean variance and minimum variance\n",
    "#only the weights are different\n",
    "stocks_name = list(set(weight_meanv['tic']))\n",
    "stocks_name.sort()"
   ]
  },
  {
   "cell_type": "code",
   "execution_count": 37,
   "metadata": {},
   "outputs": [
    {
     "data": {
      "text/plain": [
       "982"
      ]
     },
     "execution_count": 37,
     "metadata": {},
     "output_type": "execute_result"
    }
   ],
   "source": [
    "len(stocks_name)"
   ]
  },
  {
   "cell_type": "code",
   "execution_count": 33,
   "metadata": {},
   "outputs": [
    {
     "name": "stdout",
     "output_type": "stream",
     "text": [
      "<class 'pandas.core.series.Series'> <class 'list'>\n"
     ]
    }
   ],
   "source": [
    "#get all daily date\n",
    "#convert to list from pandas.core.series.Series\n",
    "#use set to get unique values\n",
    "daily = list(set(data_adj['datadate']))\n",
    "#sort it\n",
    "daily.sort()\n",
    "print(type(data_adj['datadate']),type(daily))"
   ]
  },
  {
   "cell_type": "code",
   "execution_count": 31,
   "metadata": {},
   "outputs": [
    {
     "data": {
      "text/plain": [
       "7155"
      ]
     },
     "execution_count": 31,
     "metadata": {},
     "output_type": "execute_result"
    }
   ],
   "source": [
    "len(daily)\n"
   ]
  },
  {
   "cell_type": "code",
   "execution_count": 38,
   "metadata": {},
   "outputs": [],
   "source": [
    "#get unique trade date from table\n",
    "tradedate = list(set(weight_meanv['trade_date']))\n",
    "tradedate.sort()\n"
   ]
  },
  {
   "cell_type": "code",
   "execution_count": 40,
   "metadata": {},
   "outputs": [
    {
     "data": {
      "text/plain": [
       "89"
      ]
     },
     "execution_count": 40,
     "metadata": {},
     "output_type": "execute_result"
    }
   ],
   "source": [
    "len(tradedate)"
   ]
  },
  {
   "cell_type": "code",
   "execution_count": 41,
   "metadata": {},
   "outputs": [
    {
     "data": {
      "text/plain": [
       "90"
      ]
     },
     "execution_count": 41,
     "metadata": {},
     "output_type": "execute_result"
    }
   ],
   "source": [
    "#add the last trade date 20170901\n",
    "tradedate_full = tradedate.copy()\n",
    "tradedate_full.append(20170901)\n",
    "len(tradedate_full)"
   ]
  },
  {
   "cell_type": "markdown",
   "metadata": {},
   "source": [
    "## 1.2 Get the daily price matrix based on stock_name"
   ]
  },
  {
   "cell_type": "code",
   "execution_count": null,
   "metadata": {
    "collapsed": true
   },
   "outputs": [],
   "source": [
    "#30mins running time\n",
    "##################match current all stocks to daily adjusted price table#######################\n",
    "# backtest daily price matrix:\n",
    "# covert original table to matrix\n",
    "# rows = all stocks: 971, columns = all dates:7155 days\n",
    "#\n",
    "start_time = time.time()\n",
    "\n",
    "balance_daily = pd.DataFrame(index = stocks_name, columns = daily)\n",
    "balance_daily = balance_daily.fillna(np.nan)\n",
    "\n",
    "for i in stocks_name:\n",
    "    ind = np.where(data_adj['tic'] == i)[0]\n",
    "    tmp = data_adj.loc[ind, :]\n",
    "    tmp.index = range(tmp.shape[0])\n",
    "    for j in daily:\n",
    "        ind2 = np.where(tmp['datadate'] == j)[0]\n",
    "        if(len(ind2) != 0):\n",
    "            balance_daily.loc[i,j] = tmp.loc[ind2[0], 'adj_price']\n",
    "\n",
    "elapsed_time = time.time() - start_time\n",
    "print(elapsed_time)\n",
    "#writer2 = pd.ExcelWriter('balance_daily.xlsx')\n",
    "#writer2 = pd.ExcelWriter('balance_daily_user8.xlsx')\n",
    "\n",
    "#balance_daily.to_excel(writer2,'Sheet1')\n",
    "#writer2.save()\n",
    "###############################################"
   ]
  },
  {
   "cell_type": "code",
   "execution_count": null,
   "metadata": {
    "collapsed": true
   },
   "outputs": [],
   "source": [
    "balance_daily = pd.read_excel('balance_daily_user8.xlsx')\n"
   ]
  },
  {
   "cell_type": "markdown",
   "metadata": {},
   "source": [
    "# 2. Create the rebalance matrix:"
   ]
  },
  {
   "cell_type": "code",
   "execution_count": 111,
   "metadata": {
    "collapsed": true
   },
   "outputs": [],
   "source": [
    "# set initial capital to 1 million and transaction percet to 0.1%\n",
    "\n",
    "capital = 1000000\n",
    "transaction_percent = 1/1000"
   ]
  },
  {
   "cell_type": "code",
   "execution_count": 214,
   "metadata": {
    "collapsed": true
   },
   "outputs": [],
   "source": [
    "#construct an empty matrix\n",
    "#rows are stocks: 971 unique stocks\n",
    "#columns are trade dates\n",
    "#name the index as stock names\n",
    "\n",
    "def cal_portfolio(stocks_name,tradedate, weight_table, capital, transaction_percent):\n",
    "\n",
    "\n",
    "    balance_weight = pd.DataFrame(index = stocks_name, columns = tradedate)\n",
    "    balance_weight = balance_weight.fillna(0)\n",
    "    \n",
    "    #loop through the weights table to fill the matrix\n",
    "    #need weight tabele\n",
    "    #0. weights table\n",
    "    for i in range(weight_table.shape[0]):\n",
    "        tics = weight_table.loc[i, 'tic']\n",
    "        date = weight_table.loc[i, 'trade_date']\n",
    "        w = weight_table.loc[i, 'weights']\n",
    "        balance_weight.loc[tics, date] = w\n",
    "        \n",
    "    #1. shares table\n",
    "    balance_share = pd.DataFrame(index = stocks_name, columns = tradedate)\n",
    "    balance_share['initial'] = 0\n",
    "    balance_share = balance_share.fillna(0)\n",
    "    #2. costs table\n",
    "    balance_cost = pd.DataFrame(index = stocks_name, columns = tradedate)\n",
    "    balance_cost = balance_cost.fillna(0)\n",
    "    #3. cash table\n",
    "    balance_cash = pd.DataFrame(index = stocks_name, columns = tradedate)\n",
    "    balance_cash = balance_cash.fillna(0)\n",
    "\n",
    "    #4. portfolio without transaction costs table \n",
    "    portfolio = pd.DataFrame(index = range(1), columns = tradedate_full)\n",
    "    portfolio.loc[0,tradedate[0]] = capital\n",
    "    \n",
    "    \n",
    "    # calculate portfolio value without cost\n",
    "    balance_price_full = []\n",
    "    balance_price_full = balance_daily[tradedate_full]\n",
    "    balance_price = balance_daily[tradedate]\n",
    "    for j in range(len(tradedate)):\n",
    "        i = tradedate[j]\n",
    "        #current capital\n",
    "        cap = portfolio.loc[0, i]\n",
    "        #\n",
    "        balance_cash[i] = cap * balance_weight[i]\n",
    "        balance_share[i] = list(np.array(balance_cash[i])\n",
    "                                      / np.array(balance_price[i]))\n",
    "        balance_share[i] = balance_share[i].fillna(0)\n",
    "        balance_share[i] = balance_share[i].astype(int)\n",
    "        #next quarter price * current share to calculate next quarter total account value\n",
    "        a = balance_price_full[tradedate_full[j+1]].fillna(0)\n",
    "        portfolio.loc[0, tradedate_full[j+1]] = np.dot(balance_share[i], a)\n",
    "\n",
    "    balance_cost = abs(np.diff(balance_share, axis = 1))\n",
    "    balance_cost = balance_cost * balance_price\n",
    "    balance_cost = np.sum(balance_cost, axis = 0) * transaction_percent\n",
    "    balance_cost['20170901'] = 0\n",
    "    \n",
    "    #5. portfolio with transaction cost table\n",
    "    #calcualte portolio value with transaction cost\n",
    "    balance_cost.index = tradedate_full\n",
    "    portfolio_cost = []\n",
    "    portfolio_cost = portfolio.loc[0,] - balance_cost\n",
    "    portfolio_cost.index = tradedate_full\n",
    "    portfolio_cost_value = portfolio_cost.copy()\n",
    "    \n",
    "    #6. portfolio return P&L table\n",
    "    portfolio_cumsum = portfolio_cost_value.copy()\n",
    "    portfolio_cumsum.index = range(len(portfolio_cumsum))\n",
    "    tmp = portfolio_cumsum.shift(1)\n",
    "    tmp[0] = 0\n",
    "    tmp.index = tradedate_full\n",
    "\n",
    "    portfolio_cumsum = portfolio_cost_value- tmp\n",
    "    portfolio_cumsum.index = range(len(portfolio_cumsum))\n",
    "    tmp.index = range(len(tmp))\n",
    "    for i in range(len(portfolio_cumsum)):\n",
    "        if(tmp[i] != 0):\n",
    "            portfolio_cumsum[i] = portfolio_cumsum[i]/tmp[i]\n",
    "\n",
    "    portfolio_cumsum.index = range(len(portfolio_cumsum))\n",
    "    portfolio_cumsum[0] = 0\n",
    "    portfolio_return=portfolio_cumsum.copy()\n",
    "\n",
    "\n",
    "\n",
    "    # 7. portfolio accumulative return table\n",
    "    initial = 0\n",
    "    for i in range(portfolio_cumsum.shape[0]):\n",
    "        portfolio_cumsum[i] = initial + portfolio_cumsum[i]\n",
    "        initial = portfolio_cumsum[i]\n",
    "    \n",
    "    #1. shares table\n",
    "    #2. costs table\n",
    "    #3. cash table\n",
    "    #4. portfolio without transaction costs table \n",
    "    #5. portfolio with transaction cost table\n",
    "    #6. portfolio return P&L table\n",
    "    #7. portfolio accumulative return table\n",
    "\n",
    "\n",
    "\n",
    "\n",
    "\n",
    "\n",
    "\n",
    "\n",
    "    return(balance_share,balance_cost,balance_cash,portfolio,portfolio_cost,portfolio_return,portfolio_cumsum)\n",
    "    \n",
    "    \n",
    "    \n",
    "    \n",
    "    "
   ]
  },
  {
   "cell_type": "code",
   "execution_count": 215,
   "metadata": {},
   "outputs": [],
   "source": [
    "#calculate mean variance allocation portolio\n",
    "(balance_share_meanv,\n",
    " balance_cost_meanv,\n",
    " balance_cash_meanv,\n",
    " portfolio_meanv,\n",
    " portfolio_cost_meanv,\n",
    " portfolio_return_meanv,\n",
    " portfolio_cumsum_meanv)=cal_portfolio(stocks_name,tradedate, weight_meanv, capital, transaction_percent)\n"
   ]
  },
  {
   "cell_type": "code",
   "execution_count": 217,
   "metadata": {},
   "outputs": [
    {
     "data": {
      "text/plain": [
       "3.7725457672472325"
      ]
     },
     "execution_count": 217,
     "metadata": {},
     "output_type": "execute_result"
    }
   ],
   "source": [
    "sum(portfolio_return_meanv)"
   ]
  },
  {
   "cell_type": "code",
   "execution_count": 218,
   "metadata": {},
   "outputs": [],
   "source": [
    "#calculate minimum variance allocation portolio\n",
    "(balance_share_minv,\n",
    " balance_cost_minv,\n",
    " balance_cash_minv,\n",
    " portfolio_minv,\n",
    " portfolio_cost_minv,\n",
    " portfolio_return_minv,\n",
    " portfolio_cumsum_minv)=cal_portfolio(stocks_name,tradedate, weight_minv, capital, transaction_percent)"
   ]
  },
  {
   "cell_type": "code",
   "execution_count": 222,
   "metadata": {},
   "outputs": [
    {
     "data": {
      "text/plain": [
       "19950601         998480\n",
       "19950901    1.10261e+06\n",
       "19951201    1.18345e+06\n",
       "19960301     1.2846e+06\n",
       "19960603     1.4131e+06\n",
       "19960903    1.38101e+06\n",
       "19961202     1.4824e+06\n",
       "19970303    1.59612e+06\n",
       "19970602    1.73839e+06\n",
       "19970902    1.94777e+06\n",
       "19971201     2.1836e+06\n",
       "19980302    2.35056e+06\n",
       "19980601    2.42195e+06\n",
       "19980901    2.04893e+06\n",
       "19981201    2.37001e+06\n",
       "19990301    2.25513e+06\n",
       "19990601    2.44132e+06\n",
       "19990901    2.41451e+06\n",
       "19991201     2.2037e+06\n",
       "20000301    2.43569e+06\n",
       "20000601    2.63105e+06\n",
       "20000901    2.92137e+06\n",
       "20001201    2.82773e+06\n",
       "20010301    3.17083e+06\n",
       "20010601     3.3818e+06\n",
       "20010904    3.53567e+06\n",
       "20011203    3.69185e+06\n",
       "20020301    3.89302e+06\n",
       "20020603    4.10686e+06\n",
       "20020903     3.7193e+06\n",
       "               ...     \n",
       "20100601    6.36532e+06\n",
       "20100901    6.74614e+06\n",
       "20101201    7.24427e+06\n",
       "20110301    7.89389e+06\n",
       "20110601    8.58272e+06\n",
       "20110901    7.92188e+06\n",
       "20111201    7.85158e+06\n",
       "20120301     1.0089e+07\n",
       "20120601    9.74777e+06\n",
       "20120904    1.02996e+07\n",
       "20121203    1.03316e+07\n",
       "20130301    1.15868e+07\n",
       "20130603    1.24611e+07\n",
       "20130903    1.24822e+07\n",
       "20131202    1.38639e+07\n",
       "20140303    1.50484e+07\n",
       "20140602    1.55104e+07\n",
       "20140902    1.62531e+07\n",
       "20141201    1.65409e+07\n",
       "20150302    1.67542e+07\n",
       "20150601    1.68775e+07\n",
       "20150901    1.53321e+07\n",
       "20151201    1.58787e+07\n",
       "20160301     1.6199e+07\n",
       "20160601    1.69872e+07\n",
       "20160901    1.74793e+07\n",
       "20161201    1.65113e+07\n",
       "20170301     1.7566e+07\n",
       "20170601    1.79947e+07\n",
       "20170901    1.82037e+07\n",
       "Length: 90, dtype: object"
      ]
     },
     "execution_count": 222,
     "metadata": {},
     "output_type": "execute_result"
    }
   ],
   "source": [
    "portfolio_cost_minv"
   ]
  },
  {
   "cell_type": "code",
   "execution_count": 66,
   "metadata": {
    "collapsed": true
   },
   "outputs": [],
   "source": [
    "time_ind = pd.Series(tradedate_full)\n",
    "for i in range(len(time_ind)):\n",
    "    b = dt.strptime(str(time_ind[i]), '%Y%m%d')\n",
    "    time_ind[i] = b.strftime('%Y-%m-%d')"
   ]
  },
  {
   "cell_type": "code",
   "execution_count": 171,
   "metadata": {},
   "outputs": [
    {
     "data": {
      "application/vnd.plotly.v1+json": {
       "data": [
        {
         "mode": "lines",
         "name": "Mean-Variance",
         "type": "scatter",
         "x": [
          "1995-06-01",
          "1995-09-01",
          "1995-12-01",
          "1996-03-01",
          "1996-06-03",
          "1996-09-03",
          "1996-12-02",
          "1997-03-03",
          "1997-06-02",
          "1997-09-02",
          "1997-12-01",
          "1998-03-02",
          "1998-06-01",
          "1998-09-01",
          "1998-12-01",
          "1999-03-01",
          "1999-06-01",
          "1999-09-01",
          "1999-12-01",
          "2000-03-01",
          "2000-06-01",
          "2000-09-01",
          "2000-12-01",
          "2001-03-01",
          "2001-06-01",
          "2001-09-04",
          "2001-12-03",
          "2002-03-01",
          "2002-06-03",
          "2002-09-03",
          "2002-12-02",
          "2003-03-03",
          "2003-06-02",
          "2003-09-02",
          "2003-12-01",
          "2004-03-01",
          "2004-06-01",
          "2004-09-01",
          "2004-12-01",
          "2005-03-01",
          "2005-06-01",
          "2005-09-01",
          "2005-12-01",
          "2006-03-01",
          "2006-06-01",
          "2006-09-01",
          "2006-12-01",
          "2007-03-01",
          "2007-06-01",
          "2007-09-04",
          "2007-12-03",
          "2008-03-03",
          "2008-06-02",
          "2008-09-02",
          "2008-12-01",
          "2009-03-02",
          "2009-06-01",
          "2009-09-01",
          "2009-12-01",
          "2010-03-01",
          "2010-06-01",
          "2010-09-01",
          "2010-12-01",
          "2011-03-01",
          "2011-06-01",
          "2011-09-01",
          "2011-12-01",
          "2012-03-01",
          "2012-06-01",
          "2012-09-04",
          "2012-12-03",
          "2013-03-01",
          "2013-06-03",
          "2013-09-03",
          "2013-12-02",
          "2014-03-03",
          "2014-06-02",
          "2014-09-02",
          "2014-12-01",
          "2015-03-02",
          "2015-06-01",
          "2015-09-01",
          "2015-12-01",
          "2016-03-01",
          "2016-06-01",
          "2016-09-01",
          "2016-12-01",
          "2017-03-01",
          "2017-06-01",
          "2017-09-01"
         ],
         "y": [
          998458.0630760784,
          1123260.5833325768,
          1178447.027953154,
          1281597.7306278015,
          1439651.3212386016,
          1407240.1609442772,
          1522977.9114179679,
          1632541.4833938628,
          1787791.7486830775,
          2078707.3315186682,
          2357477.9077981734,
          2611332.89101861,
          2806902.63148295,
          2366390.2467384133,
          2766567.1854805327,
          2611990.9474679576,
          2881841.138891825,
          2851221.5596200484,
          2617998.0212413752,
          2893875.4713748884,
          2917807.2271569637,
          3031924.036641939,
          2817091.5808808156,
          3154758.385911378,
          3365066.885125832,
          3471736.732395638,
          3741173.8796073054,
          3907594.602960381,
          4217630.294919859,
          3834067.9214990935,
          4260043.85824238,
          3993996.51440481,
          4701968.577813604,
          5308885.432475517,
          5853367.820215049,
          6618773.001116394,
          6539255.927722559,
          6468547.334574623,
          7436134.1190955015,
          7944078.807019354,
          7957335.581337408,
          8844770.634129183,
          8622682.881323332,
          9092850.931435268,
          9138967.413752554,
          8437678.854902243,
          9054360.48270095,
          9300605.191982558,
          10282141.758749923,
          9487186.517790463,
          9384022.650324833,
          8393009.009985894,
          8552184.401542058,
          8293192.756599575,
          5075783.972060018,
          4044780.186312367,
          6718298.065287237,
          7829872.683074835,
          8311003.439170952,
          8553868.35935759,
          8299430.41693535,
          8946225.511025935,
          9474641.375049528,
          10123084.22950246,
          11307464.823933912,
          9910426.346559089,
          9930291.745956,
          12681091.49574536,
          11728009.402130347,
          12981708.766953334,
          12705325.213600066,
          15097664.731719736,
          16825199.72007481,
          17119015.41862564,
          18936258.68357095,
          19772778.140000775,
          19678172.482051454,
          20655033.848588046,
          20151068.121828265,
          20300039.702423334,
          20965732.232030004,
          19049996.62788146,
          20313505.219360344,
          19445184.304117437,
          21645729.019172747,
          22770956.049426667,
          21317820.101990003,
          22455075.035350002,
          23165916.588,
          23495586.979999997
         ]
        }
       ],
       "layout": {
        "title": "Portfolio Value Performance Quarterly Without Transaction cost",
        "xaxis": {
         "title": "Quarterly Trade Date"
        },
        "yaxis": {
         "title": "Portfolio Value"
        }
       }
      },
      "text/html": [
       "<div id=\"2637a1cd-cb10-4475-a270-1f6cbb1bfd74\" style=\"height: 525px; width: 100%;\" class=\"plotly-graph-div\"></div><script type=\"text/javascript\">require([\"plotly\"], function(Plotly) { window.PLOTLYENV=window.PLOTLYENV || {};window.PLOTLYENV.BASE_URL=\"https://plot.ly\";Plotly.newPlot(\"2637a1cd-cb10-4475-a270-1f6cbb1bfd74\", [{\"type\": \"scatter\", \"x\": [\"1995-06-01\", \"1995-09-01\", \"1995-12-01\", \"1996-03-01\", \"1996-06-03\", \"1996-09-03\", \"1996-12-02\", \"1997-03-03\", \"1997-06-02\", \"1997-09-02\", \"1997-12-01\", \"1998-03-02\", \"1998-06-01\", \"1998-09-01\", \"1998-12-01\", \"1999-03-01\", \"1999-06-01\", \"1999-09-01\", \"1999-12-01\", \"2000-03-01\", \"2000-06-01\", \"2000-09-01\", \"2000-12-01\", \"2001-03-01\", \"2001-06-01\", \"2001-09-04\", \"2001-12-03\", \"2002-03-01\", \"2002-06-03\", \"2002-09-03\", \"2002-12-02\", \"2003-03-03\", \"2003-06-02\", \"2003-09-02\", \"2003-12-01\", \"2004-03-01\", \"2004-06-01\", \"2004-09-01\", \"2004-12-01\", \"2005-03-01\", \"2005-06-01\", \"2005-09-01\", \"2005-12-01\", \"2006-03-01\", \"2006-06-01\", \"2006-09-01\", \"2006-12-01\", \"2007-03-01\", \"2007-06-01\", \"2007-09-04\", \"2007-12-03\", \"2008-03-03\", \"2008-06-02\", \"2008-09-02\", \"2008-12-01\", \"2009-03-02\", \"2009-06-01\", \"2009-09-01\", \"2009-12-01\", \"2010-03-01\", \"2010-06-01\", \"2010-09-01\", \"2010-12-01\", \"2011-03-01\", \"2011-06-01\", \"2011-09-01\", \"2011-12-01\", \"2012-03-01\", \"2012-06-01\", \"2012-09-04\", \"2012-12-03\", \"2013-03-01\", \"2013-06-03\", \"2013-09-03\", \"2013-12-02\", \"2014-03-03\", \"2014-06-02\", \"2014-09-02\", \"2014-12-01\", \"2015-03-02\", \"2015-06-01\", \"2015-09-01\", \"2015-12-01\", \"2016-03-01\", \"2016-06-01\", \"2016-09-01\", \"2016-12-01\", \"2017-03-01\", \"2017-06-01\", \"2017-09-01\"], \"y\": [998458.0630760784, 1123260.5833325768, 1178447.027953154, 1281597.7306278015, 1439651.3212386016, 1407240.1609442772, 1522977.9114179679, 1632541.4833938628, 1787791.7486830775, 2078707.3315186682, 2357477.9077981734, 2611332.89101861, 2806902.63148295, 2366390.2467384133, 2766567.1854805327, 2611990.9474679576, 2881841.138891825, 2851221.5596200484, 2617998.0212413752, 2893875.4713748884, 2917807.2271569637, 3031924.036641939, 2817091.5808808156, 3154758.385911378, 3365066.885125832, 3471736.732395638, 3741173.8796073054, 3907594.602960381, 4217630.294919859, 3834067.9214990935, 4260043.85824238, 3993996.51440481, 4701968.577813604, 5308885.432475517, 5853367.820215049, 6618773.001116394, 6539255.927722559, 6468547.334574623, 7436134.1190955015, 7944078.807019354, 7957335.581337408, 8844770.634129183, 8622682.881323332, 9092850.931435268, 9138967.413752554, 8437678.854902243, 9054360.48270095, 9300605.191982558, 10282141.758749923, 9487186.517790463, 9384022.650324833, 8393009.009985894, 8552184.401542058, 8293192.756599575, 5075783.972060018, 4044780.186312367, 6718298.065287237, 7829872.683074835, 8311003.439170952, 8553868.35935759, 8299430.41693535, 8946225.511025935, 9474641.375049528, 10123084.22950246, 11307464.823933912, 9910426.346559089, 9930291.745956, 12681091.49574536, 11728009.402130347, 12981708.766953334, 12705325.213600066, 15097664.731719736, 16825199.72007481, 17119015.41862564, 18936258.68357095, 19772778.140000775, 19678172.482051454, 20655033.848588046, 20151068.121828265, 20300039.702423334, 20965732.232030004, 19049996.62788146, 20313505.219360344, 19445184.304117437, 21645729.019172747, 22770956.049426667, 21317820.101990003, 22455075.035350002, 23165916.588, 23495586.979999997], \"mode\": \"lines\", \"name\": \"Mean-Variance\"}], {\"title\": \"Portfolio Value Performance Quarterly Without Transaction cost\", \"xaxis\": {\"title\": \"Quarterly Trade Date\"}, \"yaxis\": {\"title\": \"Portfolio Value\"}}, {\"showLink\": true, \"linkText\": \"Export to plot.ly\"})});</script>"
      ],
      "text/vnd.plotly.v1+html": [
       "<div id=\"2637a1cd-cb10-4475-a270-1f6cbb1bfd74\" style=\"height: 525px; width: 100%;\" class=\"plotly-graph-div\"></div><script type=\"text/javascript\">require([\"plotly\"], function(Plotly) { window.PLOTLYENV=window.PLOTLYENV || {};window.PLOTLYENV.BASE_URL=\"https://plot.ly\";Plotly.newPlot(\"2637a1cd-cb10-4475-a270-1f6cbb1bfd74\", [{\"type\": \"scatter\", \"x\": [\"1995-06-01\", \"1995-09-01\", \"1995-12-01\", \"1996-03-01\", \"1996-06-03\", \"1996-09-03\", \"1996-12-02\", \"1997-03-03\", \"1997-06-02\", \"1997-09-02\", \"1997-12-01\", \"1998-03-02\", \"1998-06-01\", \"1998-09-01\", \"1998-12-01\", \"1999-03-01\", \"1999-06-01\", \"1999-09-01\", \"1999-12-01\", \"2000-03-01\", \"2000-06-01\", \"2000-09-01\", \"2000-12-01\", \"2001-03-01\", \"2001-06-01\", \"2001-09-04\", \"2001-12-03\", \"2002-03-01\", \"2002-06-03\", \"2002-09-03\", \"2002-12-02\", \"2003-03-03\", \"2003-06-02\", \"2003-09-02\", \"2003-12-01\", \"2004-03-01\", \"2004-06-01\", \"2004-09-01\", \"2004-12-01\", \"2005-03-01\", \"2005-06-01\", \"2005-09-01\", \"2005-12-01\", \"2006-03-01\", \"2006-06-01\", \"2006-09-01\", \"2006-12-01\", \"2007-03-01\", \"2007-06-01\", \"2007-09-04\", \"2007-12-03\", \"2008-03-03\", \"2008-06-02\", \"2008-09-02\", \"2008-12-01\", \"2009-03-02\", \"2009-06-01\", \"2009-09-01\", \"2009-12-01\", \"2010-03-01\", \"2010-06-01\", \"2010-09-01\", \"2010-12-01\", \"2011-03-01\", \"2011-06-01\", \"2011-09-01\", \"2011-12-01\", \"2012-03-01\", \"2012-06-01\", \"2012-09-04\", \"2012-12-03\", \"2013-03-01\", \"2013-06-03\", \"2013-09-03\", \"2013-12-02\", \"2014-03-03\", \"2014-06-02\", \"2014-09-02\", \"2014-12-01\", \"2015-03-02\", \"2015-06-01\", \"2015-09-01\", \"2015-12-01\", \"2016-03-01\", \"2016-06-01\", \"2016-09-01\", \"2016-12-01\", \"2017-03-01\", \"2017-06-01\", \"2017-09-01\"], \"y\": [998458.0630760784, 1123260.5833325768, 1178447.027953154, 1281597.7306278015, 1439651.3212386016, 1407240.1609442772, 1522977.9114179679, 1632541.4833938628, 1787791.7486830775, 2078707.3315186682, 2357477.9077981734, 2611332.89101861, 2806902.63148295, 2366390.2467384133, 2766567.1854805327, 2611990.9474679576, 2881841.138891825, 2851221.5596200484, 2617998.0212413752, 2893875.4713748884, 2917807.2271569637, 3031924.036641939, 2817091.5808808156, 3154758.385911378, 3365066.885125832, 3471736.732395638, 3741173.8796073054, 3907594.602960381, 4217630.294919859, 3834067.9214990935, 4260043.85824238, 3993996.51440481, 4701968.577813604, 5308885.432475517, 5853367.820215049, 6618773.001116394, 6539255.927722559, 6468547.334574623, 7436134.1190955015, 7944078.807019354, 7957335.581337408, 8844770.634129183, 8622682.881323332, 9092850.931435268, 9138967.413752554, 8437678.854902243, 9054360.48270095, 9300605.191982558, 10282141.758749923, 9487186.517790463, 9384022.650324833, 8393009.009985894, 8552184.401542058, 8293192.756599575, 5075783.972060018, 4044780.186312367, 6718298.065287237, 7829872.683074835, 8311003.439170952, 8553868.35935759, 8299430.41693535, 8946225.511025935, 9474641.375049528, 10123084.22950246, 11307464.823933912, 9910426.346559089, 9930291.745956, 12681091.49574536, 11728009.402130347, 12981708.766953334, 12705325.213600066, 15097664.731719736, 16825199.72007481, 17119015.41862564, 18936258.68357095, 19772778.140000775, 19678172.482051454, 20655033.848588046, 20151068.121828265, 20300039.702423334, 20965732.232030004, 19049996.62788146, 20313505.219360344, 19445184.304117437, 21645729.019172747, 22770956.049426667, 21317820.101990003, 22455075.035350002, 23165916.588, 23495586.979999997], \"mode\": \"lines\", \"name\": \"Mean-Variance\"}], {\"title\": \"Portfolio Value Performance Quarterly Without Transaction cost\", \"xaxis\": {\"title\": \"Quarterly Trade Date\"}, \"yaxis\": {\"title\": \"Portfolio Value\"}}, {\"showLink\": true, \"linkText\": \"Export to plot.ly\"})});</script>"
      ]
     },
     "metadata": {},
     "output_type": "display_data"
    }
   ],
   "source": [
    "\n",
    "trace_value = go.Scatter(x = time_ind, y = portfolio_cost_value, mode = 'lines', name = 'Mean-Variance')\n",
    "\n",
    "\n",
    "data = [trace_value]\n",
    "layout = dict(title = \"Portfolio Value Performance Quarterly Without Transaction cost\", \n",
    "              xaxis = dict(title = 'Quarterly Trade Date'), \n",
    "              yaxis = dict(title = 'Portfolio Value'))\n",
    "fig = dict(data = data, layout = layout)\n",
    "plotly.offline.iplot(fig)\n"
   ]
  },
  {
   "cell_type": "code",
   "execution_count": 181,
   "metadata": {},
   "outputs": [],
   "source": [
    "#P&L return: weighted_meanv\n",
    "portfolio_2 = portfolio_cost_value.copy()\n",
    "portfolio_2.index = range(len(portfolio_2))\n",
    "tmp = portfolio_2.shift(1)\n",
    "tmp[0] = 0\n",
    "tmp.index = tradedate_full\n",
    "\n",
    "portfolio_2 = portfolio_cost_value- tmp\n",
    "portfolio_2.index = range(len(portfolio_2))\n",
    "tmp.index = range(len(tmp))\n",
    "for i in range(len(portfolio_2)):\n",
    "    if(tmp[i] != 0):\n",
    "        portfolio_2[i] = portfolio_2[i]/tmp[i]\n",
    "\n",
    "portfolio_2.index = range(len(portfolio_2))\n",
    "portfolio_2[0] = 0\n",
    "meanv_return=portfolio_2.copy()\n",
    "\n",
    "\n",
    "\n",
    "# accumulative\n",
    "initial = 0\n",
    "for i in range(portfolio_2.shape[0]):\n",
    "    portfolio_2[i] = initial + portfolio_2[i]\n",
    "    initial = portfolio_2[i]\n",
    "\n",
    "#plotly.offline.init_notebook_mode(connected=True)\n",
    "#cord = [go.Scatter(x = portfolio.columns, y = portfolio_2)]\n",
    "#plotly.offline.iplot(cord)"
   ]
  },
  {
   "cell_type": "code",
   "execution_count": 182,
   "metadata": {},
   "outputs": [
    {
     "data": {
      "text/plain": [
       "3.7725457672472325"
      ]
     },
     "execution_count": 182,
     "metadata": {},
     "output_type": "execute_result"
    }
   ],
   "source": [
    "sum(meanv_return)"
   ]
  },
  {
   "cell_type": "code",
   "execution_count": 183,
   "metadata": {},
   "outputs": [
    {
     "data": {
      "application/vnd.plotly.v1+json": {
       "data": [
        {
         "mode": "lines",
         "name": "Mean-Variance",
         "type": "scatter",
         "x": [
          "1995-06-01",
          "1995-09-01",
          "1995-12-01",
          "1996-03-01",
          "1996-06-03",
          "1996-09-03",
          "1996-12-02",
          "1997-03-03",
          "1997-06-02",
          "1997-09-02",
          "1997-12-01",
          "1998-03-02",
          "1998-06-01",
          "1998-09-01",
          "1998-12-01",
          "1999-03-01",
          "1999-06-01",
          "1999-09-01",
          "1999-12-01",
          "2000-03-01",
          "2000-06-01",
          "2000-09-01",
          "2000-12-01",
          "2001-03-01",
          "2001-06-01",
          "2001-09-04",
          "2001-12-03",
          "2002-03-01",
          "2002-06-03",
          "2002-09-03",
          "2002-12-02",
          "2003-03-03",
          "2003-06-02",
          "2003-09-02",
          "2003-12-01",
          "2004-03-01",
          "2004-06-01",
          "2004-09-01",
          "2004-12-01",
          "2005-03-01",
          "2005-06-01",
          "2005-09-01",
          "2005-12-01",
          "2006-03-01",
          "2006-06-01",
          "2006-09-01",
          "2006-12-01",
          "2007-03-01",
          "2007-06-01",
          "2007-09-04",
          "2007-12-03",
          "2008-03-03",
          "2008-06-02",
          "2008-09-02",
          "2008-12-01",
          "2009-03-02",
          "2009-06-01",
          "2009-09-01",
          "2009-12-01",
          "2010-03-01",
          "2010-06-01",
          "2010-09-01",
          "2010-12-01",
          "2011-03-01",
          "2011-06-01",
          "2011-09-01",
          "2011-12-01",
          "2012-03-01",
          "2012-06-01",
          "2012-09-04",
          "2012-12-03",
          "2013-03-01",
          "2013-06-03",
          "2013-09-03",
          "2013-12-02",
          "2014-03-03",
          "2014-06-02",
          "2014-09-02",
          "2014-12-01",
          "2015-03-02",
          "2015-06-01",
          "2015-09-01",
          "2015-12-01",
          "2016-03-01",
          "2016-06-01",
          "2016-09-01",
          "2016-12-01",
          "2017-03-01",
          "2017-06-01",
          "2017-09-01"
         ],
         "y": [
          0,
          0.12499525505558357,
          0.049130580596753175,
          0.08753104741059947,
          0.12332542952723254,
          -0.022513201506625582,
          0.08224449080250033,
          0.07194035524381694,
          0.09509728657336629,
          0.16272341733867204,
          0.13410766010809233,
          0.10768074745503382,
          0.07489268838032118,
          -0.15693896175935534,
          0.16910859875867124,
          -0.05587293842846846,
          0.1033120699309689,
          -0.010625005958361385,
          -0.08179776053943431,
          0.10537725693264675,
          0.008269794612380187,
          0.03911046912998701,
          -0.07085680682127674,
          0.11986362364725987,
          0.06666390052362063,
          0.03169917594842007,
          0.07760874973539401,
          0.044483557489860444,
          0.07934182622849245,
          -0.0909426257400433,
          0.11110286658060385,
          -0.06245178516714541,
          0.17725905890388508,
          0.12907718216699068,
          0.10256058350945468,
          0.13076321263426502,
          -0.012013869244408676,
          -0.0108129417061311,
          0.14958331978945127,
          0.06830762863992514,
          0.0016687616827693967,
          0.11152414570438689,
          -0.025109498255261105,
          0.05452688642073535,
          0.0050717297209673185,
          -0.07673608265579256,
          0.07308664366153468,
          0.02719625640618991,
          0.10553469871116378,
          -0.077314168546934,
          -0.010874021215054253,
          -0.1056064842623365,
          0.018965235396123062,
          -0.030283683417278016,
          -0.38795779610683717,
          -0.20312207757912437,
          0.660979770426615,
          0.16545479331007815,
          0.061448094441706104,
          0.02922209357319968,
          -0.029745365691055452,
          0.07793246784391035,
          0.059065788512969716,
          0.06843983099566579,
          0.11699799859214088,
          -0.12355010598112022,
          0.0020044949331376196,
          0.27701097008651265,
          -0.07515773338082003,
          0.10689788197093855,
          -0.021290229068829502,
          0.18829423709350285,
          0.11442398669282776,
          0.017462835713044668,
          0.1061534919215116,
          0.04417554018500953,
          -0.004784641656294701,
          0.04964187438785744,
          -0.024399172156003547,
          0.007392738672432851,
          0.032792671313209426,
          -0.09137460990853519,
          0.06632592205447536,
          -0.04274599119482981,
          0.11316656508055585,
          0.051983789931826674,
          -0.06381532441073118,
          0.053347618467511,
          0.031656164654580383,
          0.014230837391979874
         ]
        }
       ],
       "layout": {
        "title": "Portfolio Return for Mean Variance",
        "xaxis": {
         "title": "Quarterly Trade Date"
        },
        "yaxis": {
         "title": "Portfolio Value"
        }
       }
      },
      "text/html": [
       "<div id=\"ceb6447a-96a5-4775-be0d-4551d671b4dc\" style=\"height: 525px; width: 100%;\" class=\"plotly-graph-div\"></div><script type=\"text/javascript\">require([\"plotly\"], function(Plotly) { window.PLOTLYENV=window.PLOTLYENV || {};window.PLOTLYENV.BASE_URL=\"https://plot.ly\";Plotly.newPlot(\"ceb6447a-96a5-4775-be0d-4551d671b4dc\", [{\"type\": \"scatter\", \"x\": [\"1995-06-01\", \"1995-09-01\", \"1995-12-01\", \"1996-03-01\", \"1996-06-03\", \"1996-09-03\", \"1996-12-02\", \"1997-03-03\", \"1997-06-02\", \"1997-09-02\", \"1997-12-01\", \"1998-03-02\", \"1998-06-01\", \"1998-09-01\", \"1998-12-01\", \"1999-03-01\", \"1999-06-01\", \"1999-09-01\", \"1999-12-01\", \"2000-03-01\", \"2000-06-01\", \"2000-09-01\", \"2000-12-01\", \"2001-03-01\", \"2001-06-01\", \"2001-09-04\", \"2001-12-03\", \"2002-03-01\", \"2002-06-03\", \"2002-09-03\", \"2002-12-02\", \"2003-03-03\", \"2003-06-02\", \"2003-09-02\", \"2003-12-01\", \"2004-03-01\", \"2004-06-01\", \"2004-09-01\", \"2004-12-01\", \"2005-03-01\", \"2005-06-01\", \"2005-09-01\", \"2005-12-01\", \"2006-03-01\", \"2006-06-01\", \"2006-09-01\", \"2006-12-01\", \"2007-03-01\", \"2007-06-01\", \"2007-09-04\", \"2007-12-03\", \"2008-03-03\", \"2008-06-02\", \"2008-09-02\", \"2008-12-01\", \"2009-03-02\", \"2009-06-01\", \"2009-09-01\", \"2009-12-01\", \"2010-03-01\", \"2010-06-01\", \"2010-09-01\", \"2010-12-01\", \"2011-03-01\", \"2011-06-01\", \"2011-09-01\", \"2011-12-01\", \"2012-03-01\", \"2012-06-01\", \"2012-09-04\", \"2012-12-03\", \"2013-03-01\", \"2013-06-03\", \"2013-09-03\", \"2013-12-02\", \"2014-03-03\", \"2014-06-02\", \"2014-09-02\", \"2014-12-01\", \"2015-03-02\", \"2015-06-01\", \"2015-09-01\", \"2015-12-01\", \"2016-03-01\", \"2016-06-01\", \"2016-09-01\", \"2016-12-01\", \"2017-03-01\", \"2017-06-01\", \"2017-09-01\"], \"y\": [0, 0.12499525505558357, 0.049130580596753175, 0.08753104741059947, 0.12332542952723254, -0.022513201506625582, 0.08224449080250033, 0.07194035524381694, 0.09509728657336629, 0.16272341733867204, 0.13410766010809233, 0.10768074745503382, 0.07489268838032118, -0.15693896175935534, 0.16910859875867124, -0.05587293842846846, 0.1033120699309689, -0.010625005958361385, -0.08179776053943431, 0.10537725693264675, 0.008269794612380187, 0.03911046912998701, -0.07085680682127674, 0.11986362364725987, 0.06666390052362063, 0.03169917594842007, 0.07760874973539401, 0.044483557489860444, 0.07934182622849245, -0.0909426257400433, 0.11110286658060385, -0.06245178516714541, 0.17725905890388508, 0.12907718216699068, 0.10256058350945468, 0.13076321263426502, -0.012013869244408676, -0.0108129417061311, 0.14958331978945127, 0.06830762863992514, 0.0016687616827693967, 0.11152414570438689, -0.025109498255261105, 0.05452688642073535, 0.0050717297209673185, -0.07673608265579256, 0.07308664366153468, 0.02719625640618991, 0.10553469871116378, -0.077314168546934, -0.010874021215054253, -0.1056064842623365, 0.018965235396123062, -0.030283683417278016, -0.38795779610683717, -0.20312207757912437, 0.660979770426615, 0.16545479331007815, 0.061448094441706104, 0.02922209357319968, -0.029745365691055452, 0.07793246784391035, 0.059065788512969716, 0.06843983099566579, 0.11699799859214088, -0.12355010598112022, 0.0020044949331376196, 0.27701097008651265, -0.07515773338082003, 0.10689788197093855, -0.021290229068829502, 0.18829423709350285, 0.11442398669282776, 0.017462835713044668, 0.1061534919215116, 0.04417554018500953, -0.004784641656294701, 0.04964187438785744, -0.024399172156003547, 0.007392738672432851, 0.032792671313209426, -0.09137460990853519, 0.06632592205447536, -0.04274599119482981, 0.11316656508055585, 0.051983789931826674, -0.06381532441073118, 0.053347618467511, 0.031656164654580383, 0.014230837391979874], \"mode\": \"lines\", \"name\": \"Mean-Variance\"}], {\"title\": \"Portfolio Return for Mean Variance\", \"xaxis\": {\"title\": \"Quarterly Trade Date\"}, \"yaxis\": {\"title\": \"Portfolio Value\"}}, {\"showLink\": true, \"linkText\": \"Export to plot.ly\"})});</script>"
      ],
      "text/vnd.plotly.v1+html": [
       "<div id=\"ceb6447a-96a5-4775-be0d-4551d671b4dc\" style=\"height: 525px; width: 100%;\" class=\"plotly-graph-div\"></div><script type=\"text/javascript\">require([\"plotly\"], function(Plotly) { window.PLOTLYENV=window.PLOTLYENV || {};window.PLOTLYENV.BASE_URL=\"https://plot.ly\";Plotly.newPlot(\"ceb6447a-96a5-4775-be0d-4551d671b4dc\", [{\"type\": \"scatter\", \"x\": [\"1995-06-01\", \"1995-09-01\", \"1995-12-01\", \"1996-03-01\", \"1996-06-03\", \"1996-09-03\", \"1996-12-02\", \"1997-03-03\", \"1997-06-02\", \"1997-09-02\", \"1997-12-01\", \"1998-03-02\", \"1998-06-01\", \"1998-09-01\", \"1998-12-01\", \"1999-03-01\", \"1999-06-01\", \"1999-09-01\", \"1999-12-01\", \"2000-03-01\", \"2000-06-01\", \"2000-09-01\", \"2000-12-01\", \"2001-03-01\", \"2001-06-01\", \"2001-09-04\", \"2001-12-03\", \"2002-03-01\", \"2002-06-03\", \"2002-09-03\", \"2002-12-02\", \"2003-03-03\", \"2003-06-02\", \"2003-09-02\", \"2003-12-01\", \"2004-03-01\", \"2004-06-01\", \"2004-09-01\", \"2004-12-01\", \"2005-03-01\", \"2005-06-01\", \"2005-09-01\", \"2005-12-01\", \"2006-03-01\", \"2006-06-01\", \"2006-09-01\", \"2006-12-01\", \"2007-03-01\", \"2007-06-01\", \"2007-09-04\", \"2007-12-03\", \"2008-03-03\", \"2008-06-02\", \"2008-09-02\", \"2008-12-01\", \"2009-03-02\", \"2009-06-01\", \"2009-09-01\", \"2009-12-01\", \"2010-03-01\", \"2010-06-01\", \"2010-09-01\", \"2010-12-01\", \"2011-03-01\", \"2011-06-01\", \"2011-09-01\", \"2011-12-01\", \"2012-03-01\", \"2012-06-01\", \"2012-09-04\", \"2012-12-03\", \"2013-03-01\", \"2013-06-03\", \"2013-09-03\", \"2013-12-02\", \"2014-03-03\", \"2014-06-02\", \"2014-09-02\", \"2014-12-01\", \"2015-03-02\", \"2015-06-01\", \"2015-09-01\", \"2015-12-01\", \"2016-03-01\", \"2016-06-01\", \"2016-09-01\", \"2016-12-01\", \"2017-03-01\", \"2017-06-01\", \"2017-09-01\"], \"y\": [0, 0.12499525505558357, 0.049130580596753175, 0.08753104741059947, 0.12332542952723254, -0.022513201506625582, 0.08224449080250033, 0.07194035524381694, 0.09509728657336629, 0.16272341733867204, 0.13410766010809233, 0.10768074745503382, 0.07489268838032118, -0.15693896175935534, 0.16910859875867124, -0.05587293842846846, 0.1033120699309689, -0.010625005958361385, -0.08179776053943431, 0.10537725693264675, 0.008269794612380187, 0.03911046912998701, -0.07085680682127674, 0.11986362364725987, 0.06666390052362063, 0.03169917594842007, 0.07760874973539401, 0.044483557489860444, 0.07934182622849245, -0.0909426257400433, 0.11110286658060385, -0.06245178516714541, 0.17725905890388508, 0.12907718216699068, 0.10256058350945468, 0.13076321263426502, -0.012013869244408676, -0.0108129417061311, 0.14958331978945127, 0.06830762863992514, 0.0016687616827693967, 0.11152414570438689, -0.025109498255261105, 0.05452688642073535, 0.0050717297209673185, -0.07673608265579256, 0.07308664366153468, 0.02719625640618991, 0.10553469871116378, -0.077314168546934, -0.010874021215054253, -0.1056064842623365, 0.018965235396123062, -0.030283683417278016, -0.38795779610683717, -0.20312207757912437, 0.660979770426615, 0.16545479331007815, 0.061448094441706104, 0.02922209357319968, -0.029745365691055452, 0.07793246784391035, 0.059065788512969716, 0.06843983099566579, 0.11699799859214088, -0.12355010598112022, 0.0020044949331376196, 0.27701097008651265, -0.07515773338082003, 0.10689788197093855, -0.021290229068829502, 0.18829423709350285, 0.11442398669282776, 0.017462835713044668, 0.1061534919215116, 0.04417554018500953, -0.004784641656294701, 0.04964187438785744, -0.024399172156003547, 0.007392738672432851, 0.032792671313209426, -0.09137460990853519, 0.06632592205447536, -0.04274599119482981, 0.11316656508055585, 0.051983789931826674, -0.06381532441073118, 0.053347618467511, 0.031656164654580383, 0.014230837391979874], \"mode\": \"lines\", \"name\": \"Mean-Variance\"}], {\"title\": \"Portfolio Return for Mean Variance\", \"xaxis\": {\"title\": \"Quarterly Trade Date\"}, \"yaxis\": {\"title\": \"Portfolio Value\"}}, {\"showLink\": true, \"linkText\": \"Export to plot.ly\"})});</script>"
      ]
     },
     "metadata": {},
     "output_type": "display_data"
    }
   ],
   "source": [
    "trace_return = go.Scatter(x = time_ind, y = meanv_return, mode = 'lines', name = 'Mean-Variance')\n",
    "\n",
    "data = [trace_return]\n",
    "layout = dict(title = \"Portfolio Return for Mean Variance\", \n",
    "              xaxis = dict(title = 'Quarterly Trade Date'), \n",
    "              yaxis = dict(title = 'Portfolio Value'))\n",
    "fig = dict(data = data, layout = layout)\n",
    "plotly.offline.iplot(fig)"
   ]
  },
  {
   "cell_type": "code",
   "execution_count": 184,
   "metadata": {},
   "outputs": [
    {
     "data": {
      "application/vnd.plotly.v1+json": {
       "data": [
        {
         "mode": "lines",
         "name": "Mean-Variance",
         "type": "scatter",
         "x": [
          "1995-06-01",
          "1995-09-01",
          "1995-12-01",
          "1996-03-01",
          "1996-06-03",
          "1996-09-03",
          "1996-12-02",
          "1997-03-03",
          "1997-06-02",
          "1997-09-02",
          "1997-12-01",
          "1998-03-02",
          "1998-06-01",
          "1998-09-01",
          "1998-12-01",
          "1999-03-01",
          "1999-06-01",
          "1999-09-01",
          "1999-12-01",
          "2000-03-01",
          "2000-06-01",
          "2000-09-01",
          "2000-12-01",
          "2001-03-01",
          "2001-06-01",
          "2001-09-04",
          "2001-12-03",
          "2002-03-01",
          "2002-06-03",
          "2002-09-03",
          "2002-12-02",
          "2003-03-03",
          "2003-06-02",
          "2003-09-02",
          "2003-12-01",
          "2004-03-01",
          "2004-06-01",
          "2004-09-01",
          "2004-12-01",
          "2005-03-01",
          "2005-06-01",
          "2005-09-01",
          "2005-12-01",
          "2006-03-01",
          "2006-06-01",
          "2006-09-01",
          "2006-12-01",
          "2007-03-01",
          "2007-06-01",
          "2007-09-04",
          "2007-12-03",
          "2008-03-03",
          "2008-06-02",
          "2008-09-02",
          "2008-12-01",
          "2009-03-02",
          "2009-06-01",
          "2009-09-01",
          "2009-12-01",
          "2010-03-01",
          "2010-06-01",
          "2010-09-01",
          "2010-12-01",
          "2011-03-01",
          "2011-06-01",
          "2011-09-01",
          "2011-12-01",
          "2012-03-01",
          "2012-06-01",
          "2012-09-04",
          "2012-12-03",
          "2013-03-01",
          "2013-06-03",
          "2013-09-03",
          "2013-12-02",
          "2014-03-03",
          "2014-06-02",
          "2014-09-02",
          "2014-12-01",
          "2015-03-02",
          "2015-06-01",
          "2015-09-01",
          "2015-12-01",
          "2016-03-01",
          "2016-06-01",
          "2016-09-01",
          "2016-12-01",
          "2017-03-01",
          "2017-06-01",
          "2017-09-01"
         ],
         "y": [
          0,
          0.12499525505558357,
          0.17412583565233675,
          0.2616568830629362,
          0.38498231259016874,
          0.3624691110835432,
          0.44471360188604353,
          0.5166539571298605,
          0.6117512437032268,
          0.7744746610418988,
          0.908582321149991,
          1.016263068605025,
          1.091155756985346,
          0.9342167952259908,
          1.1033253939846621,
          1.0474524555561937,
          1.1507645254871626,
          1.140139519528801,
          1.0583417589893669,
          1.1637190159220137,
          1.1719888105343939,
          1.211099279664381,
          1.1402424728431042,
          1.260106096490364,
          1.3267699970139848,
          1.3584691729624048,
          1.4360779226977989,
          1.4805614801876594,
          1.5599033064161518,
          1.4689606806761084,
          1.5800635472567122,
          1.5176117620895668,
          1.694870820993452,
          1.8239480031604427,
          1.9265085866698974,
          2.0572717993041625,
          2.045257930059754,
          2.034444988353623,
          2.1840283081430742,
          2.2523359367829996,
          2.254004698465769,
          2.365528844170156,
          2.3404193459148948,
          2.3949462323356303,
          2.4000179620565976,
          2.323281879400805,
          2.39636852306234,
          2.42356477946853,
          2.5290994781796936,
          2.4517853096327595,
          2.440911288417705,
          2.335304804155369,
          2.354270039551492,
          2.323986356134214,
          1.9360285600273766,
          1.7329064824482523,
          2.3938862528748674,
          2.5593410461849455,
          2.6207891406266515,
          2.650011234199851,
          2.620265868508796,
          2.6981983363527062,
          2.7572641248656757,
          2.8257039558613415,
          2.9427019544534825,
          2.8191518484723623,
          2.8211563434055,
          3.0981673134920125,
          3.0230095801111925,
          3.129907462082131,
          3.1086172330133013,
          3.2969114701068043,
          3.411335456799632,
          3.4287982925126768,
          3.5349517844341882,
          3.579127324619198,
          3.5743426829629033,
          3.6239845573507607,
          3.5995853851947572,
          3.60697812386719,
          3.6397707951803997,
          3.5483961852718644,
          3.61472210732634,
          3.57197611613151,
          3.685142681212066,
          3.7371264711438923,
          3.673311146733161,
          3.726658765200672,
          3.7583149298552527,
          3.7725457672472325
         ]
        }
       ],
       "layout": {
        "title": "Portfolio Cumulative Return for Mean Variance",
        "xaxis": {
         "title": "Quarterly Trade Date"
        },
        "yaxis": {
         "title": "Portfolio Value"
        }
       }
      },
      "text/html": [
       "<div id=\"45d96c09-ac23-42a2-92b2-a83d099fe586\" style=\"height: 525px; width: 100%;\" class=\"plotly-graph-div\"></div><script type=\"text/javascript\">require([\"plotly\"], function(Plotly) { window.PLOTLYENV=window.PLOTLYENV || {};window.PLOTLYENV.BASE_URL=\"https://plot.ly\";Plotly.newPlot(\"45d96c09-ac23-42a2-92b2-a83d099fe586\", [{\"type\": \"scatter\", \"x\": [\"1995-06-01\", \"1995-09-01\", \"1995-12-01\", \"1996-03-01\", \"1996-06-03\", \"1996-09-03\", \"1996-12-02\", \"1997-03-03\", \"1997-06-02\", \"1997-09-02\", \"1997-12-01\", \"1998-03-02\", \"1998-06-01\", \"1998-09-01\", \"1998-12-01\", \"1999-03-01\", \"1999-06-01\", \"1999-09-01\", \"1999-12-01\", \"2000-03-01\", \"2000-06-01\", \"2000-09-01\", \"2000-12-01\", \"2001-03-01\", \"2001-06-01\", \"2001-09-04\", \"2001-12-03\", \"2002-03-01\", \"2002-06-03\", \"2002-09-03\", \"2002-12-02\", \"2003-03-03\", \"2003-06-02\", \"2003-09-02\", \"2003-12-01\", \"2004-03-01\", \"2004-06-01\", \"2004-09-01\", \"2004-12-01\", \"2005-03-01\", \"2005-06-01\", \"2005-09-01\", \"2005-12-01\", \"2006-03-01\", \"2006-06-01\", \"2006-09-01\", \"2006-12-01\", \"2007-03-01\", \"2007-06-01\", \"2007-09-04\", \"2007-12-03\", \"2008-03-03\", \"2008-06-02\", \"2008-09-02\", \"2008-12-01\", \"2009-03-02\", \"2009-06-01\", \"2009-09-01\", \"2009-12-01\", \"2010-03-01\", \"2010-06-01\", \"2010-09-01\", \"2010-12-01\", \"2011-03-01\", \"2011-06-01\", \"2011-09-01\", \"2011-12-01\", \"2012-03-01\", \"2012-06-01\", \"2012-09-04\", \"2012-12-03\", \"2013-03-01\", \"2013-06-03\", \"2013-09-03\", \"2013-12-02\", \"2014-03-03\", \"2014-06-02\", \"2014-09-02\", \"2014-12-01\", \"2015-03-02\", \"2015-06-01\", \"2015-09-01\", \"2015-12-01\", \"2016-03-01\", \"2016-06-01\", \"2016-09-01\", \"2016-12-01\", \"2017-03-01\", \"2017-06-01\", \"2017-09-01\"], \"y\": [0, 0.12499525505558357, 0.17412583565233675, 0.2616568830629362, 0.38498231259016874, 0.3624691110835432, 0.44471360188604353, 0.5166539571298605, 0.6117512437032268, 0.7744746610418988, 0.908582321149991, 1.016263068605025, 1.091155756985346, 0.9342167952259908, 1.1033253939846621, 1.0474524555561937, 1.1507645254871626, 1.140139519528801, 1.0583417589893669, 1.1637190159220137, 1.1719888105343939, 1.211099279664381, 1.1402424728431042, 1.260106096490364, 1.3267699970139848, 1.3584691729624048, 1.4360779226977989, 1.4805614801876594, 1.5599033064161518, 1.4689606806761084, 1.5800635472567122, 1.5176117620895668, 1.694870820993452, 1.8239480031604427, 1.9265085866698974, 2.0572717993041625, 2.045257930059754, 2.034444988353623, 2.1840283081430742, 2.2523359367829996, 2.254004698465769, 2.365528844170156, 2.3404193459148948, 2.3949462323356303, 2.4000179620565976, 2.323281879400805, 2.39636852306234, 2.42356477946853, 2.5290994781796936, 2.4517853096327595, 2.440911288417705, 2.335304804155369, 2.354270039551492, 2.323986356134214, 1.9360285600273766, 1.7329064824482523, 2.3938862528748674, 2.5593410461849455, 2.6207891406266515, 2.650011234199851, 2.620265868508796, 2.6981983363527062, 2.7572641248656757, 2.8257039558613415, 2.9427019544534825, 2.8191518484723623, 2.8211563434055, 3.0981673134920125, 3.0230095801111925, 3.129907462082131, 3.1086172330133013, 3.2969114701068043, 3.411335456799632, 3.4287982925126768, 3.5349517844341882, 3.579127324619198, 3.5743426829629033, 3.6239845573507607, 3.5995853851947572, 3.60697812386719, 3.6397707951803997, 3.5483961852718644, 3.61472210732634, 3.57197611613151, 3.685142681212066, 3.7371264711438923, 3.673311146733161, 3.726658765200672, 3.7583149298552527, 3.7725457672472325], \"mode\": \"lines\", \"name\": \"Mean-Variance\"}], {\"title\": \"Portfolio Cumulative Return for Mean Variance\", \"xaxis\": {\"title\": \"Quarterly Trade Date\"}, \"yaxis\": {\"title\": \"Portfolio Value\"}}, {\"showLink\": true, \"linkText\": \"Export to plot.ly\"})});</script>"
      ],
      "text/vnd.plotly.v1+html": [
       "<div id=\"45d96c09-ac23-42a2-92b2-a83d099fe586\" style=\"height: 525px; width: 100%;\" class=\"plotly-graph-div\"></div><script type=\"text/javascript\">require([\"plotly\"], function(Plotly) { window.PLOTLYENV=window.PLOTLYENV || {};window.PLOTLYENV.BASE_URL=\"https://plot.ly\";Plotly.newPlot(\"45d96c09-ac23-42a2-92b2-a83d099fe586\", [{\"type\": \"scatter\", \"x\": [\"1995-06-01\", \"1995-09-01\", \"1995-12-01\", \"1996-03-01\", \"1996-06-03\", \"1996-09-03\", \"1996-12-02\", \"1997-03-03\", \"1997-06-02\", \"1997-09-02\", \"1997-12-01\", \"1998-03-02\", \"1998-06-01\", \"1998-09-01\", \"1998-12-01\", \"1999-03-01\", \"1999-06-01\", \"1999-09-01\", \"1999-12-01\", \"2000-03-01\", \"2000-06-01\", \"2000-09-01\", \"2000-12-01\", \"2001-03-01\", \"2001-06-01\", \"2001-09-04\", \"2001-12-03\", \"2002-03-01\", \"2002-06-03\", \"2002-09-03\", \"2002-12-02\", \"2003-03-03\", \"2003-06-02\", \"2003-09-02\", \"2003-12-01\", \"2004-03-01\", \"2004-06-01\", \"2004-09-01\", \"2004-12-01\", \"2005-03-01\", \"2005-06-01\", \"2005-09-01\", \"2005-12-01\", \"2006-03-01\", \"2006-06-01\", \"2006-09-01\", \"2006-12-01\", \"2007-03-01\", \"2007-06-01\", \"2007-09-04\", \"2007-12-03\", \"2008-03-03\", \"2008-06-02\", \"2008-09-02\", \"2008-12-01\", \"2009-03-02\", \"2009-06-01\", \"2009-09-01\", \"2009-12-01\", \"2010-03-01\", \"2010-06-01\", \"2010-09-01\", \"2010-12-01\", \"2011-03-01\", \"2011-06-01\", \"2011-09-01\", \"2011-12-01\", \"2012-03-01\", \"2012-06-01\", \"2012-09-04\", \"2012-12-03\", \"2013-03-01\", \"2013-06-03\", \"2013-09-03\", \"2013-12-02\", \"2014-03-03\", \"2014-06-02\", \"2014-09-02\", \"2014-12-01\", \"2015-03-02\", \"2015-06-01\", \"2015-09-01\", \"2015-12-01\", \"2016-03-01\", \"2016-06-01\", \"2016-09-01\", \"2016-12-01\", \"2017-03-01\", \"2017-06-01\", \"2017-09-01\"], \"y\": [0, 0.12499525505558357, 0.17412583565233675, 0.2616568830629362, 0.38498231259016874, 0.3624691110835432, 0.44471360188604353, 0.5166539571298605, 0.6117512437032268, 0.7744746610418988, 0.908582321149991, 1.016263068605025, 1.091155756985346, 0.9342167952259908, 1.1033253939846621, 1.0474524555561937, 1.1507645254871626, 1.140139519528801, 1.0583417589893669, 1.1637190159220137, 1.1719888105343939, 1.211099279664381, 1.1402424728431042, 1.260106096490364, 1.3267699970139848, 1.3584691729624048, 1.4360779226977989, 1.4805614801876594, 1.5599033064161518, 1.4689606806761084, 1.5800635472567122, 1.5176117620895668, 1.694870820993452, 1.8239480031604427, 1.9265085866698974, 2.0572717993041625, 2.045257930059754, 2.034444988353623, 2.1840283081430742, 2.2523359367829996, 2.254004698465769, 2.365528844170156, 2.3404193459148948, 2.3949462323356303, 2.4000179620565976, 2.323281879400805, 2.39636852306234, 2.42356477946853, 2.5290994781796936, 2.4517853096327595, 2.440911288417705, 2.335304804155369, 2.354270039551492, 2.323986356134214, 1.9360285600273766, 1.7329064824482523, 2.3938862528748674, 2.5593410461849455, 2.6207891406266515, 2.650011234199851, 2.620265868508796, 2.6981983363527062, 2.7572641248656757, 2.8257039558613415, 2.9427019544534825, 2.8191518484723623, 2.8211563434055, 3.0981673134920125, 3.0230095801111925, 3.129907462082131, 3.1086172330133013, 3.2969114701068043, 3.411335456799632, 3.4287982925126768, 3.5349517844341882, 3.579127324619198, 3.5743426829629033, 3.6239845573507607, 3.5995853851947572, 3.60697812386719, 3.6397707951803997, 3.5483961852718644, 3.61472210732634, 3.57197611613151, 3.685142681212066, 3.7371264711438923, 3.673311146733161, 3.726658765200672, 3.7583149298552527, 3.7725457672472325], \"mode\": \"lines\", \"name\": \"Mean-Variance\"}], {\"title\": \"Portfolio Cumulative Return for Mean Variance\", \"xaxis\": {\"title\": \"Quarterly Trade Date\"}, \"yaxis\": {\"title\": \"Portfolio Value\"}}, {\"showLink\": true, \"linkText\": \"Export to plot.ly\"})});</script>"
      ]
     },
     "metadata": {},
     "output_type": "display_data"
    }
   ],
   "source": [
    "trace_cumulativeR = go.Scatter(x = time_ind, y = portfolio_2, mode = 'lines', name = 'Mean-Variance')\n",
    "\n",
    "data = [trace_cumulativeR]\n",
    "layout = dict(title = \"Portfolio Cumulative Return for Mean Variance\", \n",
    "              xaxis = dict(title = 'Quarterly Trade Date'), \n",
    "              yaxis = dict(title = 'Portfolio Value'))\n",
    "fig = dict(data = data, layout = layout)\n",
    "plotly.offline.iplot(fig)"
   ]
  },
  {
   "cell_type": "code",
   "execution_count": null,
   "metadata": {
    "collapsed": true
   },
   "outputs": [],
   "source": []
  }
 ],
 "metadata": {
  "kernelspec": {
   "display_name": "Python 3",
   "language": "python",
   "name": "python3"
  },
  "language_info": {
   "codemirror_mode": {
    "name": "ipython",
    "version": 3
   },
   "file_extension": ".py",
   "mimetype": "text/x-python",
   "name": "python",
   "nbconvert_exporter": "python",
   "pygments_lexer": "ipython3",
   "version": "3.6.3"
  }
 },
 "nbformat": 4,
 "nbformat_minor": 2
}
