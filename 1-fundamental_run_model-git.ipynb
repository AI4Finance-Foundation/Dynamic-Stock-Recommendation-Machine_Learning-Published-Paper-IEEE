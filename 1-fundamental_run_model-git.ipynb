{
 "cells": [
  {
   "cell_type": "code",
   "execution_count": 1,
   "metadata": {},
   "outputs": [],
   "source": [
    "import warnings\n",
    "\n",
    "warnings.filterwarnings(\"ignore\")"
   ]
  },
  {
   "cell_type": "code",
   "execution_count": 2,
   "metadata": {},
   "outputs": [],
   "source": [
    "from  matplotlib import pyplot as plt\n",
    "%matplotlib inline"
   ]
  },
  {
   "cell_type": "code",
   "execution_count": 3,
   "metadata": {
    "scrolled": true
   },
   "outputs": [],
   "source": [
    "import pandas as pd\n",
    "import numpy as np\n",
    "import time\n",
    "import traceback"
   ]
  },
  {
   "cell_type": "code",
   "execution_count": 144,
   "metadata": {},
   "outputs": [
    {
     "data": {
      "text/plain": [
       "<module 'ml_model' from 'code/ml_model.py'>"
      ]
     },
     "execution_count": 144,
     "metadata": {},
     "output_type": "execute_result"
    }
   ],
   "source": [
    "import sys\n",
    "sys.path.append('code')\n",
    "import ml_model\n",
    "from importlib import reload\n",
    "reload(ml_model)"
   ]
  },
  {
   "cell_type": "code",
   "execution_count": 5,
   "metadata": {},
   "outputs": [],
   "source": [
    "fundamental_total=pd.read_excel(\"Data/fundamental_final_table.xlsx\",'Sheet1')\n",
    "fundamental_total=fundamental_total[fundamental_total['tradedate'] < 20170901]\n",
    "\n"
   ]
  },
  {
   "cell_type": "code",
   "execution_count": 6,
   "metadata": {},
   "outputs": [
    {
     "data": {
      "text/plain": [
       "(79230, 32)"
      ]
     },
     "execution_count": 6,
     "metadata": {},
     "output_type": "execute_result"
    }
   ],
   "source": [
    "fundamental_total.shape"
   ]
  },
  {
   "cell_type": "code",
   "execution_count": 7,
   "metadata": {},
   "outputs": [
    {
     "data": {
      "text/html": [
       "<div>\n",
       "<style scoped>\n",
       "    .dataframe tbody tr th:only-of-type {\n",
       "        vertical-align: middle;\n",
       "    }\n",
       "\n",
       "    .dataframe tbody tr th {\n",
       "        vertical-align: top;\n",
       "    }\n",
       "\n",
       "    .dataframe thead th {\n",
       "        text-align: right;\n",
       "    }\n",
       "</style>\n",
       "<table border=\"1\" class=\"dataframe\">\n",
       "  <thead>\n",
       "    <tr style=\"text-align: right;\">\n",
       "      <th></th>\n",
       "      <th>gvkey</th>\n",
       "      <th>tic</th>\n",
       "      <th>datadate</th>\n",
       "      <th>rdq</th>\n",
       "      <th>tradedate</th>\n",
       "      <th>fyearq</th>\n",
       "      <th>fqtr</th>\n",
       "      <th>conm</th>\n",
       "      <th>datacqtr</th>\n",
       "      <th>datafqtr</th>\n",
       "      <th>...</th>\n",
       "      <th>X12_CR</th>\n",
       "      <th>X13_EM</th>\n",
       "      <th>X14_EVCFO</th>\n",
       "      <th>X15_LTDTA</th>\n",
       "      <th>X16_WCR</th>\n",
       "      <th>X17_DE</th>\n",
       "      <th>X18_QR</th>\n",
       "      <th>X19_DSI</th>\n",
       "      <th>X20_DPO</th>\n",
       "      <th>y_return</th>\n",
       "    </tr>\n",
       "  </thead>\n",
       "  <tbody>\n",
       "    <tr>\n",
       "      <th>0</th>\n",
       "      <td>126554</td>\n",
       "      <td>A</td>\n",
       "      <td>19990731</td>\n",
       "      <td>NaN</td>\n",
       "      <td>19991201</td>\n",
       "      <td>1999</td>\n",
       "      <td>3</td>\n",
       "      <td>AGILENT TECHNOLOGIES INC</td>\n",
       "      <td>1999Q2</td>\n",
       "      <td>1999Q3</td>\n",
       "      <td>...</td>\n",
       "      <td>0.000000</td>\n",
       "      <td>NaN</td>\n",
       "      <td>NaN</td>\n",
       "      <td>0.0</td>\n",
       "      <td>2.219496</td>\n",
       "      <td>0.568323</td>\n",
       "      <td>1.130879</td>\n",
       "      <td>632.218004</td>\n",
       "      <td>168.644252</td>\n",
       "      <td>0.932748</td>\n",
       "    </tr>\n",
       "    <tr>\n",
       "      <th>1</th>\n",
       "      <td>126554</td>\n",
       "      <td>A</td>\n",
       "      <td>19991031</td>\n",
       "      <td>19991216.0</td>\n",
       "      <td>20000301</td>\n",
       "      <td>1999</td>\n",
       "      <td>4</td>\n",
       "      <td>AGILENT TECHNOLOGIES INC</td>\n",
       "      <td>1999Q3</td>\n",
       "      <td>1999Q4</td>\n",
       "      <td>...</td>\n",
       "      <td>0.000000</td>\n",
       "      <td>NaN</td>\n",
       "      <td>NaN</td>\n",
       "      <td>0.0</td>\n",
       "      <td>2.104700</td>\n",
       "      <td>0.609698</td>\n",
       "      <td>1.212968</td>\n",
       "      <td>462.889171</td>\n",
       "      <td>157.487310</td>\n",
       "      <td>-0.402035</td>\n",
       "    </tr>\n",
       "    <tr>\n",
       "      <th>2</th>\n",
       "      <td>126554</td>\n",
       "      <td>A</td>\n",
       "      <td>20000131</td>\n",
       "      <td>20000217.0</td>\n",
       "      <td>20000601</td>\n",
       "      <td>2000</td>\n",
       "      <td>1</td>\n",
       "      <td>AGILENT TECHNOLOGIES INC</td>\n",
       "      <td>1999Q4</td>\n",
       "      <td>2000Q1</td>\n",
       "      <td>...</td>\n",
       "      <td>0.682148</td>\n",
       "      <td>NaN</td>\n",
       "      <td>NaN</td>\n",
       "      <td>NaN</td>\n",
       "      <td>2.410256</td>\n",
       "      <td>0.584262</td>\n",
       "      <td>1.652153</td>\n",
       "      <td>NaN</td>\n",
       "      <td>NaN</td>\n",
       "      <td>-0.168378</td>\n",
       "    </tr>\n",
       "    <tr>\n",
       "      <th>3</th>\n",
       "      <td>126554</td>\n",
       "      <td>A</td>\n",
       "      <td>20000430</td>\n",
       "      <td>20000516.0</td>\n",
       "      <td>20000901</td>\n",
       "      <td>2000</td>\n",
       "      <td>2</td>\n",
       "      <td>AGILENT TECHNOLOGIES INC</td>\n",
       "      <td>2000Q1</td>\n",
       "      <td>2000Q2</td>\n",
       "      <td>...</td>\n",
       "      <td>0.447392</td>\n",
       "      <td>-32.860525</td>\n",
       "      <td>127.695785</td>\n",
       "      <td>0.0</td>\n",
       "      <td>2.313358</td>\n",
       "      <td>0.577122</td>\n",
       "      <td>1.571363</td>\n",
       "      <td>321.930397</td>\n",
       "      <td>101.025014</td>\n",
       "      <td>-0.151789</td>\n",
       "    </tr>\n",
       "    <tr>\n",
       "      <th>4</th>\n",
       "      <td>126554</td>\n",
       "      <td>A</td>\n",
       "      <td>20000731</td>\n",
       "      <td>20000817.0</td>\n",
       "      <td>20001201</td>\n",
       "      <td>2000</td>\n",
       "      <td>3</td>\n",
       "      <td>AGILENT TECHNOLOGIES INC</td>\n",
       "      <td>2000Q2</td>\n",
       "      <td>2000Q3</td>\n",
       "      <td>...</td>\n",
       "      <td>0.280080</td>\n",
       "      <td>38.799048</td>\n",
       "      <td>70.418745</td>\n",
       "      <td>0.0</td>\n",
       "      <td>2.129084</td>\n",
       "      <td>0.596695</td>\n",
       "      <td>1.427092</td>\n",
       "      <td>610.759734</td>\n",
       "      <td>271.410256</td>\n",
       "      <td>-0.324581</td>\n",
       "    </tr>\n",
       "  </tbody>\n",
       "</table>\n",
       "<p>5 rows × 32 columns</p>\n",
       "</div>"
      ],
      "text/plain": [
       "    gvkey tic  datadate         rdq  tradedate  fyearq  fqtr  \\\n",
       "0  126554   A  19990731         NaN   19991201    1999     3   \n",
       "1  126554   A  19991031  19991216.0   20000301    1999     4   \n",
       "2  126554   A  20000131  20000217.0   20000601    2000     1   \n",
       "3  126554   A  20000430  20000516.0   20000901    2000     2   \n",
       "4  126554   A  20000731  20000817.0   20001201    2000     3   \n",
       "\n",
       "                       conm datacqtr datafqtr    ...       X12_CR     X13_EM  \\\n",
       "0  AGILENT TECHNOLOGIES INC   1999Q2   1999Q3    ...     0.000000        NaN   \n",
       "1  AGILENT TECHNOLOGIES INC   1999Q3   1999Q4    ...     0.000000        NaN   \n",
       "2  AGILENT TECHNOLOGIES INC   1999Q4   2000Q1    ...     0.682148        NaN   \n",
       "3  AGILENT TECHNOLOGIES INC   2000Q1   2000Q2    ...     0.447392 -32.860525   \n",
       "4  AGILENT TECHNOLOGIES INC   2000Q2   2000Q3    ...     0.280080  38.799048   \n",
       "\n",
       "    X14_EVCFO  X15_LTDTA   X16_WCR    X17_DE    X18_QR     X19_DSI  \\\n",
       "0         NaN        0.0  2.219496  0.568323  1.130879  632.218004   \n",
       "1         NaN        0.0  2.104700  0.609698  1.212968  462.889171   \n",
       "2         NaN        NaN  2.410256  0.584262  1.652153         NaN   \n",
       "3  127.695785        0.0  2.313358  0.577122  1.571363  321.930397   \n",
       "4   70.418745        0.0  2.129084  0.596695  1.427092  610.759734   \n",
       "\n",
       "      X20_DPO  y_return  \n",
       "0  168.644252  0.932748  \n",
       "1  157.487310 -0.402035  \n",
       "2         NaN -0.168378  \n",
       "3  101.025014 -0.151789  \n",
       "4  271.410256 -0.324581  \n",
       "\n",
       "[5 rows x 32 columns]"
      ]
     },
     "execution_count": 7,
     "metadata": {},
     "output_type": "execute_result"
    }
   ],
   "source": [
    "fundamental_total.head()"
   ]
  },
  {
   "cell_type": "code",
   "execution_count": 8,
   "metadata": {},
   "outputs": [],
   "source": [
    "\n",
    "#import datetime\n",
    "##time_fmt = '%Y-%m-%d'\n",
    "#datetime.datetime.strptime(str(fundamental_total['tradedate'][0]), time_fmt)\n"
   ]
  },
  {
   "cell_type": "code",
   "execution_count": 9,
   "metadata": {
    "scrolled": true
   },
   "outputs": [],
   "source": [
    "# use pandas' own to_datetime method\n",
    "#fundamental_total['tradedate']=pd.to_datetime(fundamental_total['tradedate'],format=\"%Y%m%d\")\n"
   ]
  },
  {
   "cell_type": "code",
   "execution_count": 10,
   "metadata": {},
   "outputs": [],
   "source": [
    "#sorted(fundamental_total['tradedate'])"
   ]
  },
  {
   "cell_type": "code",
   "execution_count": 11,
   "metadata": {},
   "outputs": [],
   "source": [
    "# trade date is int type\n",
    "# don't need to change date type\n",
    "unique_datetime = sorted(fundamental_total.tradedate.unique())"
   ]
  },
  {
   "cell_type": "code",
   "execution_count": 12,
   "metadata": {},
   "outputs": [
    {
     "data": {
      "text/plain": [
       "109"
      ]
     },
     "execution_count": 12,
     "metadata": {},
     "output_type": "execute_result"
    }
   ],
   "source": [
    "len(unique_datetime)"
   ]
  },
  {
   "cell_type": "code",
   "execution_count": 13,
   "metadata": {},
   "outputs": [],
   "source": [
    "#unique_datetime=[x.strftime(\"%Y-%m-%d\") for x in fundamental_total.tradedate.dt.date.unique()]\n",
    "\n",
    "#unique_datetime=sorted(unique_datetime)\n",
    "\n"
   ]
  },
  {
   "cell_type": "code",
   "execution_count": 14,
   "metadata": {
    "scrolled": true
   },
   "outputs": [
    {
     "data": {
      "text/plain": [
       "109"
      ]
     },
     "execution_count": 14,
     "metadata": {},
     "output_type": "execute_result"
    }
   ],
   "source": [
    "len(unique_datetime)"
   ]
  },
  {
   "cell_type": "code",
   "execution_count": 15,
   "metadata": {},
   "outputs": [
    {
     "data": {
      "text/plain": [
       "numpy.int64"
      ]
     },
     "execution_count": 15,
     "metadata": {},
     "output_type": "execute_result"
    }
   ],
   "source": [
    "type(unique_datetime[0])"
   ]
  },
  {
   "cell_type": "code",
   "execution_count": null,
   "metadata": {},
   "outputs": [],
   "source": []
  },
  {
   "cell_type": "code",
   "execution_count": 16,
   "metadata": {},
   "outputs": [],
   "source": [
    "sector10_data=pd.read_excel(\"Data/1-focasting_data/sector10_clean.xlsx\",'Sheet1')\n",
    "sector15_data=pd.read_excel(\"Data/1-focasting_data/sector15_clean.xlsx\",'Sheet1')\n",
    "sector20_data=pd.read_excel(\"Data/1-focasting_data/sector20_clean.xlsx\",'Sheet1')\n",
    "sector25_data=pd.read_excel(\"Data/1-focasting_data/sector25_clean.xlsx\",'Sheet1')\n",
    "sector30_data=pd.read_excel(\"Data/1-focasting_data/sector30_clean.xlsx\",'Sheet1')\n",
    "sector35_data=pd.read_excel(\"Data/1-focasting_data/sector35_clean.xlsx\",'Sheet1')\n",
    "sector40_data=pd.read_excel(\"Data/1-focasting_data/sector40_clean.xlsx\",'Sheet1')\n",
    "sector45_data=pd.read_excel(\"Data/1-focasting_data/sector45_clean.xlsx\",'Sheet1')\n",
    "sector50_data=pd.read_excel(\"Data/1-focasting_data/sector50_clean.xlsx\",'Sheet1')\n",
    "sector55_data=pd.read_excel(\"Data/1-focasting_data/sector55_clean.xlsx\",'Sheet1')\n",
    "sector60_data=pd.read_excel(\"Data/1-focasting_data/sector60_clean.xlsx\",'Sheet1')\n"
   ]
  },
  {
   "cell_type": "code",
   "execution_count": 17,
   "metadata": {},
   "outputs": [
    {
     "data": {
      "text/plain": [
       "(5238, 32)"
      ]
     },
     "execution_count": 17,
     "metadata": {},
     "output_type": "execute_result"
    }
   ],
   "source": [
    "sector10_data.shape"
   ]
  },
  {
   "cell_type": "code",
   "execution_count": 18,
   "metadata": {},
   "outputs": [
    {
     "data": {
      "text/html": [
       "<div>\n",
       "<style scoped>\n",
       "    .dataframe tbody tr th:only-of-type {\n",
       "        vertical-align: middle;\n",
       "    }\n",
       "\n",
       "    .dataframe tbody tr th {\n",
       "        vertical-align: top;\n",
       "    }\n",
       "\n",
       "    .dataframe thead th {\n",
       "        text-align: right;\n",
       "    }\n",
       "</style>\n",
       "<table border=\"1\" class=\"dataframe\">\n",
       "  <thead>\n",
       "    <tr style=\"text-align: right;\">\n",
       "      <th></th>\n",
       "      <th>gvkey</th>\n",
       "      <th>tic</th>\n",
       "      <th>datadate</th>\n",
       "      <th>rdq</th>\n",
       "      <th>tradedate</th>\n",
       "      <th>fyearq</th>\n",
       "      <th>fqtr</th>\n",
       "      <th>conm</th>\n",
       "      <th>datacqtr</th>\n",
       "      <th>datafqtr</th>\n",
       "      <th>...</th>\n",
       "      <th>X12_CR</th>\n",
       "      <th>X13_EM</th>\n",
       "      <th>X14_EVCFO</th>\n",
       "      <th>X15_LTDTA</th>\n",
       "      <th>X16_WCR</th>\n",
       "      <th>X17_DE</th>\n",
       "      <th>X18_QR</th>\n",
       "      <th>X19_DSI</th>\n",
       "      <th>X20_DPO</th>\n",
       "      <th>y_return</th>\n",
       "    </tr>\n",
       "  </thead>\n",
       "  <tbody>\n",
       "    <tr>\n",
       "      <th>0</th>\n",
       "      <td>1609</td>\n",
       "      <td>AN.2</td>\n",
       "      <td>19900630</td>\n",
       "      <td>19900723</td>\n",
       "      <td>19900904</td>\n",
       "      <td>1990</td>\n",
       "      <td>2</td>\n",
       "      <td>AMOCO CORP</td>\n",
       "      <td>1990Q2</td>\n",
       "      <td>1990Q2</td>\n",
       "      <td>...</td>\n",
       "      <td>0.287061</td>\n",
       "      <td>24.931335</td>\n",
       "      <td>19.033935</td>\n",
       "      <td>0.175658</td>\n",
       "      <td>1.217375</td>\n",
       "      <td>1.184878</td>\n",
       "      <td>0.991867</td>\n",
       "      <td>93.589744</td>\n",
       "      <td>182.423287</td>\n",
       "      <td>-0.090654</td>\n",
       "    </tr>\n",
       "    <tr>\n",
       "      <th>1</th>\n",
       "      <td>1609</td>\n",
       "      <td>AN.2</td>\n",
       "      <td>19900930</td>\n",
       "      <td>19901019</td>\n",
       "      <td>19901203</td>\n",
       "      <td>1990</td>\n",
       "      <td>3</td>\n",
       "      <td>AMOCO CORP</td>\n",
       "      <td>1990Q3</td>\n",
       "      <td>1990Q3</td>\n",
       "      <td>...</td>\n",
       "      <td>0.329244</td>\n",
       "      <td>16.355677</td>\n",
       "      <td>23.797690</td>\n",
       "      <td>0.165260</td>\n",
       "      <td>1.240053</td>\n",
       "      <td>1.231304</td>\n",
       "      <td>1.056034</td>\n",
       "      <td>81.535520</td>\n",
       "      <td>228.446368</td>\n",
       "      <td>0.021661</td>\n",
       "    </tr>\n",
       "    <tr>\n",
       "      <th>2</th>\n",
       "      <td>1609</td>\n",
       "      <td>AN.2</td>\n",
       "      <td>19901231</td>\n",
       "      <td>19910121</td>\n",
       "      <td>19910301</td>\n",
       "      <td>1990</td>\n",
       "      <td>4</td>\n",
       "      <td>AMOCO CORP</td>\n",
       "      <td>1990Q4</td>\n",
       "      <td>1990Q4</td>\n",
       "      <td>...</td>\n",
       "      <td>0.352846</td>\n",
       "      <td>12.384799</td>\n",
       "      <td>25.315831</td>\n",
       "      <td>0.162967</td>\n",
       "      <td>1.208413</td>\n",
       "      <td>1.288527</td>\n",
       "      <td>1.041771</td>\n",
       "      <td>68.649568</td>\n",
       "      <td>224.004814</td>\n",
       "      <td>0.002378</td>\n",
       "    </tr>\n",
       "    <tr>\n",
       "      <th>3</th>\n",
       "      <td>1609</td>\n",
       "      <td>AN.2</td>\n",
       "      <td>19910331</td>\n",
       "      <td>19910422</td>\n",
       "      <td>19910603</td>\n",
       "      <td>1991</td>\n",
       "      <td>1</td>\n",
       "      <td>AMOCO CORP</td>\n",
       "      <td>1991Q1</td>\n",
       "      <td>1991Q1</td>\n",
       "      <td>...</td>\n",
       "      <td>0.327528</td>\n",
       "      <td>15.264954</td>\n",
       "      <td>30.545437</td>\n",
       "      <td>0.165138</td>\n",
       "      <td>1.178332</td>\n",
       "      <td>1.142215</td>\n",
       "      <td>0.998158</td>\n",
       "      <td>88.196721</td>\n",
       "      <td>233.606557</td>\n",
       "      <td>-0.002378</td>\n",
       "    </tr>\n",
       "    <tr>\n",
       "      <th>4</th>\n",
       "      <td>1609</td>\n",
       "      <td>AN.2</td>\n",
       "      <td>19910630</td>\n",
       "      <td>19910722</td>\n",
       "      <td>19910903</td>\n",
       "      <td>1991</td>\n",
       "      <td>2</td>\n",
       "      <td>AMOCO CORP</td>\n",
       "      <td>1991Q2</td>\n",
       "      <td>1991Q2</td>\n",
       "      <td>...</td>\n",
       "      <td>0.273086</td>\n",
       "      <td>17.752935</td>\n",
       "      <td>84.262489</td>\n",
       "      <td>0.161043</td>\n",
       "      <td>1.100394</td>\n",
       "      <td>1.146152</td>\n",
       "      <td>0.893198</td>\n",
       "      <td>109.482636</td>\n",
       "      <td>253.346813</td>\n",
       "      <td>-0.108010</td>\n",
       "    </tr>\n",
       "  </tbody>\n",
       "</table>\n",
       "<p>5 rows × 32 columns</p>\n",
       "</div>"
      ],
      "text/plain": [
       "   gvkey   tic  datadate       rdq  tradedate  fyearq  fqtr        conm  \\\n",
       "0   1609  AN.2  19900630  19900723   19900904    1990     2  AMOCO CORP   \n",
       "1   1609  AN.2  19900930  19901019   19901203    1990     3  AMOCO CORP   \n",
       "2   1609  AN.2  19901231  19910121   19910301    1990     4  AMOCO CORP   \n",
       "3   1609  AN.2  19910331  19910422   19910603    1991     1  AMOCO CORP   \n",
       "4   1609  AN.2  19910630  19910722   19910903    1991     2  AMOCO CORP   \n",
       "\n",
       "  datacqtr datafqtr    ...       X12_CR     X13_EM  X14_EVCFO  X15_LTDTA  \\\n",
       "0   1990Q2   1990Q2    ...     0.287061  24.931335  19.033935   0.175658   \n",
       "1   1990Q3   1990Q3    ...     0.329244  16.355677  23.797690   0.165260   \n",
       "2   1990Q4   1990Q4    ...     0.352846  12.384799  25.315831   0.162967   \n",
       "3   1991Q1   1991Q1    ...     0.327528  15.264954  30.545437   0.165138   \n",
       "4   1991Q2   1991Q2    ...     0.273086  17.752935  84.262489   0.161043   \n",
       "\n",
       "    X16_WCR    X17_DE    X18_QR     X19_DSI     X20_DPO  y_return  \n",
       "0  1.217375  1.184878  0.991867   93.589744  182.423287 -0.090654  \n",
       "1  1.240053  1.231304  1.056034   81.535520  228.446368  0.021661  \n",
       "2  1.208413  1.288527  1.041771   68.649568  224.004814  0.002378  \n",
       "3  1.178332  1.142215  0.998158   88.196721  233.606557 -0.002378  \n",
       "4  1.100394  1.146152  0.893198  109.482636  253.346813 -0.108010  \n",
       "\n",
       "[5 rows x 32 columns]"
      ]
     },
     "execution_count": 18,
     "metadata": {},
     "output_type": "execute_result"
    }
   ],
   "source": [
    "sector10_data.head()"
   ]
  },
  {
   "cell_type": "code",
   "execution_count": 19,
   "metadata": {},
   "outputs": [],
   "source": [
    "unique_ticker_sector10=sorted(sector10_data.tic.unique())\n",
    "unique_ticker_sector15=sorted(sector15_data.tic.unique())\n",
    "unique_ticker_sector20=sorted(sector20_data.tic.unique())\n",
    "unique_ticker_sector25=sorted(sector25_data.tic.unique())\n",
    "unique_ticker_sector30=sorted(sector30_data.tic.unique())\n",
    "unique_ticker_sector35=sorted(sector35_data.tic.unique())\n",
    "unique_ticker_sector40=sorted(sector40_data.tic.unique())\n",
    "unique_ticker_sector45=sorted(sector45_data.tic.unique())\n",
    "unique_ticker_sector50=sorted(sector50_data.tic.unique())\n",
    "unique_ticker_sector55=sorted(sector55_data.tic.unique())\n",
    "unique_ticker_sector60=sorted(sector60_data.tic.unique())"
   ]
  },
  {
   "cell_type": "code",
   "execution_count": 20,
   "metadata": {},
   "outputs": [
    {
     "data": {
      "text/plain": [
       "79"
      ]
     },
     "execution_count": 20,
     "metadata": {},
     "output_type": "execute_result"
    }
   ],
   "source": [
    "len(unique_ticker_sector10)"
   ]
  },
  {
   "cell_type": "code",
   "execution_count": 21,
   "metadata": {},
   "outputs": [
    {
     "data": {
      "text/plain": [
       "79"
      ]
     },
     "execution_count": 21,
     "metadata": {},
     "output_type": "execute_result"
    }
   ],
   "source": [
    "len(unique_ticker_sector15)"
   ]
  },
  {
   "cell_type": "code",
   "execution_count": 22,
   "metadata": {},
   "outputs": [
    {
     "data": {
      "text/plain": [
       "137"
      ]
     },
     "execution_count": 22,
     "metadata": {},
     "output_type": "execute_result"
    }
   ],
   "source": [
    "len(unique_ticker_sector20)"
   ]
  },
  {
   "cell_type": "code",
   "execution_count": 23,
   "metadata": {},
   "outputs": [
    {
     "data": {
      "text/plain": [
       "182"
      ]
     },
     "execution_count": 23,
     "metadata": {},
     "output_type": "execute_result"
    }
   ],
   "source": [
    "len(unique_ticker_sector25)"
   ]
  },
  {
   "cell_type": "code",
   "execution_count": 24,
   "metadata": {},
   "outputs": [
    {
     "data": {
      "text/plain": [
       "88"
      ]
     },
     "execution_count": 24,
     "metadata": {},
     "output_type": "execute_result"
    }
   ],
   "source": [
    "len(unique_datetime[21:])"
   ]
  },
  {
   "cell_type": "code",
   "execution_count": 25,
   "metadata": {},
   "outputs": [],
   "source": [
    "# rolling window\n",
    "# train: 4 years = 16 quarters\n",
    "# test: 1 year = 4 quarters\n",
    "# first trade date = #20 quarter\n",
    "first_trade_date_index=20"
   ]
  },
  {
   "cell_type": "code",
   "execution_count": 26,
   "metadata": {},
   "outputs": [
    {
     "data": {
      "text/plain": [
       "19950601"
      ]
     },
     "execution_count": 26,
     "metadata": {},
     "output_type": "execute_result"
    }
   ],
   "source": [
    "#first trade date is 1995-06-01\n",
    "unique_datetime[first_trade_date_index]"
   ]
  },
  {
   "cell_type": "code",
   "execution_count": 27,
   "metadata": {},
   "outputs": [],
   "source": [
    "trade_date=unique_datetime[first_trade_date_index:]"
   ]
  },
  {
   "cell_type": "code",
   "execution_count": 28,
   "metadata": {},
   "outputs": [
    {
     "data": {
      "text/plain": [
       "20170601"
      ]
     },
     "execution_count": 28,
     "metadata": {},
     "output_type": "execute_result"
    }
   ],
   "source": [
    "trade_date[88]"
   ]
  },
  {
   "cell_type": "code",
   "execution_count": 29,
   "metadata": {},
   "outputs": [
    {
     "data": {
      "text/plain": [
       "89"
      ]
     },
     "execution_count": 29,
     "metadata": {},
     "output_type": "execute_result"
    }
   ],
   "source": [
    "len(trade_date)"
   ]
  },
  {
   "cell_type": "code",
   "execution_count": 30,
   "metadata": {},
   "outputs": [],
   "source": [
    "features_column = ['X1_REVGH', 'X2_EPS',\n",
    "       'X3_ROA', 'X4_ROE', 'X5_PE', 'X6_PS', 'X7_NPM', 'X8_GPM', 'X9_OM',\n",
    "       'X10_PB', 'X11_PCFO', 'X12_CR', 'X13_EM', 'X14_EVCFO', 'X15_LTDTA',\n",
    "       'X16_WCR', 'X17_DE', 'X18_QR', 'X19_DSI', 'X20_DPO']"
   ]
  },
  {
   "cell_type": "code",
   "execution_count": 31,
   "metadata": {},
   "outputs": [],
   "source": [
    "label_column = 'y_return'"
   ]
  },
  {
   "cell_type": "code",
   "execution_count": 32,
   "metadata": {},
   "outputs": [],
   "source": [
    "testing_windows = 4"
   ]
  },
  {
   "cell_type": "code",
   "execution_count": 33,
   "metadata": {},
   "outputs": [],
   "source": [
    "date_column = 'tradedate'"
   ]
  },
  {
   "cell_type": "code",
   "execution_count": 34,
   "metadata": {},
   "outputs": [],
   "source": [
    "tic_column = 'tic'\n"
   ]
  },
  {
   "cell_type": "code",
   "execution_count": 35,
   "metadata": {},
   "outputs": [],
   "source": [
    "#sorted(sector10_data.tradedate.unique())"
   ]
  },
  {
   "cell_type": "code",
   "execution_count": 630,
   "metadata": {},
   "outputs": [],
   "source": []
  },
  {
   "cell_type": "markdown",
   "metadata": {},
   "source": [
    "# Run model by sector"
   ]
  },
  {
   "cell_type": "markdown",
   "metadata": {},
   "source": [
    "## Sector 10"
   ]
  },
  {
   "cell_type": "code",
   "execution_count": 36,
   "metadata": {},
   "outputs": [
    {
     "data": {
      "text/plain": [
       "Index(['gvkey', 'tic', 'datadate', 'rdq', 'tradedate', 'fyearq', 'fqtr',\n",
       "       'conm', 'datacqtr', 'datafqtr', 'gsector', 'X1_REVGH', 'X2_EPS',\n",
       "       'X3_ROA', 'X4_ROE', 'X5_PE', 'X6_PS', 'X7_NPM', 'X8_GPM', 'X9_OM',\n",
       "       'X10_PB', 'X11_PCFO', 'X12_CR', 'X13_EM', 'X14_EVCFO', 'X15_LTDTA',\n",
       "       'X16_WCR', 'X17_DE', 'X18_QR', 'X19_DSI', 'X20_DPO', 'y_return'],\n",
       "      dtype='object')"
      ]
     },
     "execution_count": 36,
     "metadata": {},
     "output_type": "execute_result"
    }
   ],
   "source": [
    "sector10_data.columns"
   ]
  },
  {
   "cell_type": "code",
   "execution_count": 82,
   "metadata": {
    "scrolled": true
   },
   "outputs": [
    {
     "name": "stdout",
     "output_type": "stream",
     "text": [
      "{'max_features': 'sqrt', 'min_samples_leaf': 0.05, 'min_samples_split': 0.1, 'n_estimators': 200}\n",
      "Trade Date:  19950601\n",
      "{'max_features': 'sqrt', 'min_samples_leaf': 0.05, 'min_samples_split': 0.1, 'n_estimators': 75}\n",
      "Trade Date:  19950901\n",
      "{'max_features': 'sqrt', 'min_samples_leaf': 0.05, 'min_samples_split': 0.1, 'n_estimators': 200}\n",
      "Trade Date:  19951201\n",
      "{'max_features': 'sqrt', 'min_samples_leaf': 0.05, 'min_samples_split': 0.30000000000000004, 'n_estimators': 200}\n",
      "Trade Date:  19960301\n",
      "{'max_features': 'sqrt', 'min_samples_leaf': 0.05, 'min_samples_split': 0.30000000000000004, 'n_estimators': 100}\n",
      "Trade Date:  19960603\n",
      "{'max_features': 'sqrt', 'min_samples_leaf': 0.05, 'min_samples_split': 0.2, 'n_estimators': 200}\n",
      "Trade Date:  19960903\n",
      "{'max_features': 'sqrt', 'min_samples_leaf': 0.05, 'min_samples_split': 0.2, 'n_estimators': 100}\n",
      "Trade Date:  19961202\n",
      "{'max_features': 'sqrt', 'min_samples_leaf': 0.05, 'min_samples_split': 0.2, 'n_estimators': 100}\n",
      "Trade Date:  19970303\n",
      "{'max_features': 'sqrt', 'min_samples_leaf': 0.05, 'min_samples_split': 0.30000000000000004, 'n_estimators': 200}\n",
      "Trade Date:  19970602\n",
      "{'max_features': 'sqrt', 'min_samples_leaf': 0.05, 'min_samples_split': 0.30000000000000004, 'n_estimators': 100}\n",
      "Trade Date:  19970902\n",
      "{'max_features': 'sqrt', 'min_samples_leaf': 0.05, 'min_samples_split': 0.1, 'n_estimators': 200}\n",
      "Trade Date:  19971201\n",
      "{'max_features': 'sqrt', 'min_samples_leaf': 0.05, 'min_samples_split': 0.2, 'n_estimators': 75}\n",
      "Trade Date:  19980302\n",
      "{'max_features': 'sqrt', 'min_samples_leaf': 0.05, 'min_samples_split': 0.2, 'n_estimators': 100}\n",
      "Trade Date:  19980601\n",
      "{'max_features': 'sqrt', 'min_samples_leaf': 0.05, 'min_samples_split': 0.1, 'n_estimators': 200}\n",
      "Trade Date:  19980901\n",
      "{'max_features': 'sqrt', 'min_samples_leaf': 0.05, 'min_samples_split': 0.1, 'n_estimators': 200}\n",
      "Trade Date:  19981201\n",
      "{'max_features': 'sqrt', 'min_samples_leaf': 0.05, 'min_samples_split': 0.1, 'n_estimators': 100}\n",
      "Trade Date:  19990301\n",
      "{'max_features': 'sqrt', 'min_samples_leaf': 0.05, 'min_samples_split': 0.1, 'n_estimators': 100}\n",
      "Trade Date:  19990601\n",
      "{'max_features': 'sqrt', 'min_samples_leaf': 0.05, 'min_samples_split': 0.2, 'n_estimators': 200}\n",
      "Trade Date:  19990901\n",
      "{'max_features': 'sqrt', 'min_samples_leaf': 0.05, 'min_samples_split': 0.1, 'n_estimators': 200}\n",
      "Trade Date:  19991201\n",
      "{'max_features': 'sqrt', 'min_samples_leaf': 0.05, 'min_samples_split': 0.1, 'n_estimators': 200}\n",
      "Trade Date:  20000301\n",
      "{'max_features': 'sqrt', 'min_samples_leaf': 0.05, 'min_samples_split': 0.1, 'n_estimators': 100}\n",
      "Trade Date:  20000601\n",
      "{'max_features': 'sqrt', 'min_samples_leaf': 0.05, 'min_samples_split': 0.1, 'n_estimators': 200}\n",
      "Trade Date:  20000901\n",
      "{'max_features': 'sqrt', 'min_samples_leaf': 0.05, 'min_samples_split': 0.1, 'n_estimators': 200}\n",
      "Trade Date:  20001201\n",
      "{'max_features': 'sqrt', 'min_samples_leaf': 0.05, 'min_samples_split': 0.1, 'n_estimators': 200}\n",
      "Trade Date:  20010301\n",
      "{'max_features': 'sqrt', 'min_samples_leaf': 0.05, 'min_samples_split': 0.1, 'n_estimators': 100}\n",
      "Trade Date:  20010601\n",
      "{'max_features': 'sqrt', 'min_samples_leaf': 0.05, 'min_samples_split': 0.1, 'n_estimators': 200}\n",
      "Trade Date:  20010904\n",
      "{'max_features': 'sqrt', 'min_samples_leaf': 0.05, 'min_samples_split': 0.1, 'n_estimators': 200}\n",
      "Trade Date:  20011203\n",
      "{'max_features': 'sqrt', 'min_samples_leaf': 0.05, 'min_samples_split': 0.1, 'n_estimators': 200}\n",
      "Trade Date:  20020301\n",
      "{'max_features': 'sqrt', 'min_samples_leaf': 0.05, 'min_samples_split': 0.1, 'n_estimators': 100}\n",
      "Trade Date:  20020603\n",
      "{'max_features': 'sqrt', 'min_samples_leaf': 0.05, 'min_samples_split': 0.1, 'n_estimators': 200}\n",
      "Trade Date:  20020903\n",
      "{'max_features': 'sqrt', 'min_samples_leaf': 0.05, 'min_samples_split': 0.1, 'n_estimators': 75}\n",
      "Trade Date:  20021202\n",
      "{'max_features': 'sqrt', 'min_samples_leaf': 0.05, 'min_samples_split': 0.1, 'n_estimators': 200}\n",
      "Trade Date:  20030303\n",
      "{'max_features': 'sqrt', 'min_samples_leaf': 0.05, 'min_samples_split': 0.1, 'n_estimators': 100}\n",
      "Trade Date:  20030602\n",
      "{'max_features': 'sqrt', 'min_samples_leaf': 0.05, 'min_samples_split': 0.1, 'n_estimators': 100}\n",
      "Trade Date:  20030902\n",
      "{'max_features': 'sqrt', 'min_samples_leaf': 0.05, 'min_samples_split': 0.1, 'n_estimators': 200}\n",
      "Trade Date:  20031201\n",
      "{'max_features': 'sqrt', 'min_samples_leaf': 0.05, 'min_samples_split': 0.1, 'n_estimators': 200}\n",
      "Trade Date:  20040301\n",
      "{'max_features': 'sqrt', 'min_samples_leaf': 0.05, 'min_samples_split': 0.1, 'n_estimators': 100}\n",
      "Trade Date:  20040601\n",
      "{'max_features': 'sqrt', 'min_samples_leaf': 0.05, 'min_samples_split': 0.1, 'n_estimators': 200}\n",
      "Trade Date:  20040901\n",
      "{'max_features': 'sqrt', 'min_samples_leaf': 0.05, 'min_samples_split': 0.1, 'n_estimators': 200}\n",
      "Trade Date:  20041201\n",
      "{'max_features': 'sqrt', 'min_samples_leaf': 0.05, 'min_samples_split': 0.1, 'n_estimators': 75}\n",
      "Trade Date:  20050301\n",
      "{'max_features': 'sqrt', 'min_samples_leaf': 0.05, 'min_samples_split': 0.1, 'n_estimators': 200}\n",
      "Trade Date:  20050601\n",
      "{'max_features': 'sqrt', 'min_samples_leaf': 0.05, 'min_samples_split': 0.1, 'n_estimators': 100}\n",
      "Trade Date:  20050901\n",
      "{'max_features': 'sqrt', 'min_samples_leaf': 0.05, 'min_samples_split': 0.1, 'n_estimators': 200}\n",
      "Trade Date:  20051201\n",
      "{'max_features': 'sqrt', 'min_samples_leaf': 0.05, 'min_samples_split': 0.1, 'n_estimators': 200}\n",
      "Trade Date:  20060301\n",
      "{'max_features': 'sqrt', 'min_samples_leaf': 0.05, 'min_samples_split': 0.1, 'n_estimators': 100}\n",
      "Trade Date:  20060601\n",
      "{'max_features': 'sqrt', 'min_samples_leaf': 0.05, 'min_samples_split': 0.1, 'n_estimators': 100}\n",
      "Trade Date:  20060901\n",
      "{'max_features': 'sqrt', 'min_samples_leaf': 0.05, 'min_samples_split': 0.1, 'n_estimators': 100}\n",
      "Trade Date:  20061201\n",
      "{'max_features': 'sqrt', 'min_samples_leaf': 0.05, 'min_samples_split': 0.1, 'n_estimators': 200}\n",
      "Trade Date:  20070301\n",
      "{'max_features': 'sqrt', 'min_samples_leaf': 0.05, 'min_samples_split': 0.1, 'n_estimators': 75}\n",
      "Trade Date:  20070601\n",
      "{'max_features': 'sqrt', 'min_samples_leaf': 0.05, 'min_samples_split': 0.1, 'n_estimators': 200}\n",
      "Trade Date:  20070904\n",
      "{'max_features': 'sqrt', 'min_samples_leaf': 0.05, 'min_samples_split': 0.1, 'n_estimators': 200}\n",
      "Trade Date:  20071203\n",
      "{'max_features': 'sqrt', 'min_samples_leaf': 0.05, 'min_samples_split': 0.1, 'n_estimators': 75}\n",
      "Trade Date:  20080303\n",
      "{'max_features': 'sqrt', 'min_samples_leaf': 0.05, 'min_samples_split': 0.1, 'n_estimators': 200}\n",
      "Trade Date:  20080602\n",
      "{'max_features': 'sqrt', 'min_samples_leaf': 0.05, 'min_samples_split': 0.1, 'n_estimators': 200}\n",
      "Trade Date:  20080902\n",
      "{'max_features': 'sqrt', 'min_samples_leaf': 0.05, 'min_samples_split': 0.1, 'n_estimators': 100}\n",
      "Trade Date:  20081201\n",
      "{'max_features': 'sqrt', 'min_samples_leaf': 0.05, 'min_samples_split': 0.1, 'n_estimators': 200}\n",
      "Trade Date:  20090302\n",
      "{'max_features': 'sqrt', 'min_samples_leaf': 0.05, 'min_samples_split': 0.1, 'n_estimators': 100}\n",
      "Trade Date:  20090601\n",
      "{'max_features': 'sqrt', 'min_samples_leaf': 0.05, 'min_samples_split': 0.1, 'n_estimators': 200}\n",
      "Trade Date:  20090901\n",
      "{'max_features': 'sqrt', 'min_samples_leaf': 0.05, 'min_samples_split': 0.1, 'n_estimators': 200}\n",
      "Trade Date:  20091201\n",
      "{'max_features': 'sqrt', 'min_samples_leaf': 0.05, 'min_samples_split': 0.1, 'n_estimators': 200}\n",
      "Trade Date:  20100301\n",
      "{'max_features': 'sqrt', 'min_samples_leaf': 0.05, 'min_samples_split': 0.1, 'n_estimators': 200}\n",
      "Trade Date:  20100601\n",
      "{'max_features': 'sqrt', 'min_samples_leaf': 0.05, 'min_samples_split': 0.1, 'n_estimators': 200}\n",
      "Trade Date:  20100901\n",
      "{'max_features': 'sqrt', 'min_samples_leaf': 0.05, 'min_samples_split': 0.1, 'n_estimators': 200}\n",
      "Trade Date:  20101201\n",
      "{'max_features': 'sqrt', 'min_samples_leaf': 0.05, 'min_samples_split': 0.1, 'n_estimators': 200}\n",
      "Trade Date:  20110301\n",
      "{'max_features': 'sqrt', 'min_samples_leaf': 0.05, 'min_samples_split': 0.1, 'n_estimators': 200}\n",
      "Trade Date:  20110601\n",
      "{'max_features': 'sqrt', 'min_samples_leaf': 0.05, 'min_samples_split': 0.1, 'n_estimators': 200}\n",
      "Trade Date:  20110901\n",
      "{'max_features': 'sqrt', 'min_samples_leaf': 0.05, 'min_samples_split': 0.1, 'n_estimators': 100}\n",
      "Trade Date:  20111201\n",
      "{'max_features': 'sqrt', 'min_samples_leaf': 0.05, 'min_samples_split': 0.1, 'n_estimators': 200}\n",
      "Trade Date:  20120301\n",
      "{'max_features': 'sqrt', 'min_samples_leaf': 0.05, 'min_samples_split': 0.1, 'n_estimators': 100}\n",
      "Trade Date:  20120601\n",
      "{'max_features': 'sqrt', 'min_samples_leaf': 0.05, 'min_samples_split': 0.1, 'n_estimators': 200}\n",
      "Trade Date:  20120904\n",
      "{'max_features': 'sqrt', 'min_samples_leaf': 0.05, 'min_samples_split': 0.1, 'n_estimators': 100}\n",
      "Trade Date:  20121203\n",
      "{'max_features': 'sqrt', 'min_samples_leaf': 0.05, 'min_samples_split': 0.1, 'n_estimators': 200}\n",
      "Trade Date:  20130301\n",
      "{'max_features': 'sqrt', 'min_samples_leaf': 0.05, 'min_samples_split': 0.1, 'n_estimators': 100}\n"
     ]
    },
    {
     "name": "stderr",
     "output_type": "stream",
     "text": [
      "/home/ubuntu/anaconda3/lib/python3.6/site-packages/sklearn/model_selection/_search.py:814: DeprecationWarning: The default of the `iid` parameter will change from True to False in version 0.22 and will be removed in 0.24. This will change numeric results when test-set sizes are unequal.\n",
      "  DeprecationWarning)\n"
     ]
    },
    {
     "name": "stdout",
     "output_type": "stream",
     "text": [
      "Trade Date:  20130603\n",
      "{'max_features': 'sqrt', 'min_samples_leaf': 0.05, 'min_samples_split': 0.1, 'n_estimators': 100}\n"
     ]
    },
    {
     "name": "stderr",
     "output_type": "stream",
     "text": [
      "/home/ubuntu/anaconda3/lib/python3.6/site-packages/sklearn/model_selection/_search.py:814: DeprecationWarning: The default of the `iid` parameter will change from True to False in version 0.22 and will be removed in 0.24. This will change numeric results when test-set sizes are unequal.\n",
      "  DeprecationWarning)\n"
     ]
    },
    {
     "name": "stdout",
     "output_type": "stream",
     "text": [
      "Trade Date:  20130903\n",
      "{'max_features': 'sqrt', 'min_samples_leaf': 0.05, 'min_samples_split': 0.1, 'n_estimators': 200}\n"
     ]
    },
    {
     "name": "stderr",
     "output_type": "stream",
     "text": [
      "/home/ubuntu/anaconda3/lib/python3.6/site-packages/sklearn/model_selection/_search.py:814: DeprecationWarning: The default of the `iid` parameter will change from True to False in version 0.22 and will be removed in 0.24. This will change numeric results when test-set sizes are unequal.\n",
      "  DeprecationWarning)\n"
     ]
    },
    {
     "name": "stdout",
     "output_type": "stream",
     "text": [
      "Trade Date:  20131202\n",
      "{'max_features': 'sqrt', 'min_samples_leaf': 0.05, 'min_samples_split': 0.1, 'n_estimators': 200}\n"
     ]
    },
    {
     "name": "stderr",
     "output_type": "stream",
     "text": [
      "/home/ubuntu/anaconda3/lib/python3.6/site-packages/sklearn/model_selection/_search.py:814: DeprecationWarning: The default of the `iid` parameter will change from True to False in version 0.22 and will be removed in 0.24. This will change numeric results when test-set sizes are unequal.\n",
      "  DeprecationWarning)\n"
     ]
    },
    {
     "name": "stdout",
     "output_type": "stream",
     "text": [
      "Trade Date:  20140303\n",
      "{'max_features': 'sqrt', 'min_samples_leaf': 0.05, 'min_samples_split': 0.1, 'n_estimators': 75}\n"
     ]
    },
    {
     "name": "stderr",
     "output_type": "stream",
     "text": [
      "/home/ubuntu/anaconda3/lib/python3.6/site-packages/sklearn/model_selection/_search.py:814: DeprecationWarning: The default of the `iid` parameter will change from True to False in version 0.22 and will be removed in 0.24. This will change numeric results when test-set sizes are unequal.\n",
      "  DeprecationWarning)\n"
     ]
    },
    {
     "name": "stdout",
     "output_type": "stream",
     "text": [
      "Trade Date:  20140602\n",
      "{'max_features': 'sqrt', 'min_samples_leaf': 0.05, 'min_samples_split': 0.1, 'n_estimators': 200}\n"
     ]
    },
    {
     "name": "stderr",
     "output_type": "stream",
     "text": [
      "/home/ubuntu/anaconda3/lib/python3.6/site-packages/sklearn/model_selection/_search.py:814: DeprecationWarning: The default of the `iid` parameter will change from True to False in version 0.22 and will be removed in 0.24. This will change numeric results when test-set sizes are unequal.\n",
      "  DeprecationWarning)\n"
     ]
    },
    {
     "name": "stdout",
     "output_type": "stream",
     "text": [
      "Trade Date:  20140902\n",
      "{'max_features': 'sqrt', 'min_samples_leaf': 0.05, 'min_samples_split': 0.1, 'n_estimators': 200}\n"
     ]
    },
    {
     "name": "stderr",
     "output_type": "stream",
     "text": [
      "/home/ubuntu/anaconda3/lib/python3.6/site-packages/sklearn/model_selection/_search.py:814: DeprecationWarning: The default of the `iid` parameter will change from True to False in version 0.22 and will be removed in 0.24. This will change numeric results when test-set sizes are unequal.\n",
      "  DeprecationWarning)\n"
     ]
    },
    {
     "name": "stdout",
     "output_type": "stream",
     "text": [
      "Trade Date:  20141201\n",
      "{'max_features': 'sqrt', 'min_samples_leaf': 0.05, 'min_samples_split': 0.1, 'n_estimators': 200}\n",
      "Trade Date:  20150302\n",
      "{'max_features': 'sqrt', 'min_samples_leaf': 0.05, 'min_samples_split': 0.1, 'n_estimators': 200}\n"
     ]
    },
    {
     "name": "stderr",
     "output_type": "stream",
     "text": [
      "/home/ubuntu/anaconda3/lib/python3.6/site-packages/sklearn/model_selection/_search.py:814: DeprecationWarning: The default of the `iid` parameter will change from True to False in version 0.22 and will be removed in 0.24. This will change numeric results when test-set sizes are unequal.\n",
      "  DeprecationWarning)\n"
     ]
    },
    {
     "name": "stdout",
     "output_type": "stream",
     "text": [
      "Trade Date:  20150601\n",
      "{'max_features': 'sqrt', 'min_samples_leaf': 0.05, 'min_samples_split': 0.1, 'n_estimators': 100}\n"
     ]
    },
    {
     "name": "stderr",
     "output_type": "stream",
     "text": [
      "/home/ubuntu/anaconda3/lib/python3.6/site-packages/sklearn/model_selection/_search.py:814: DeprecationWarning: The default of the `iid` parameter will change from True to False in version 0.22 and will be removed in 0.24. This will change numeric results when test-set sizes are unequal.\n",
      "  DeprecationWarning)\n"
     ]
    },
    {
     "name": "stdout",
     "output_type": "stream",
     "text": [
      "Trade Date:  20150901\n",
      "{'max_features': 'sqrt', 'min_samples_leaf': 0.05, 'min_samples_split': 0.1, 'n_estimators': 200}\n"
     ]
    },
    {
     "name": "stderr",
     "output_type": "stream",
     "text": [
      "/home/ubuntu/anaconda3/lib/python3.6/site-packages/sklearn/model_selection/_search.py:814: DeprecationWarning: The default of the `iid` parameter will change from True to False in version 0.22 and will be removed in 0.24. This will change numeric results when test-set sizes are unequal.\n",
      "  DeprecationWarning)\n"
     ]
    },
    {
     "name": "stdout",
     "output_type": "stream",
     "text": [
      "Trade Date:  20151201\n",
      "{'max_features': 'sqrt', 'min_samples_leaf': 0.05, 'min_samples_split': 0.1, 'n_estimators': 100}\n",
      "Trade Date:  20160301\n",
      "{'max_features': 'sqrt', 'min_samples_leaf': 0.05, 'min_samples_split': 0.1, 'n_estimators': 100}\n"
     ]
    },
    {
     "name": "stderr",
     "output_type": "stream",
     "text": [
      "/home/ubuntu/anaconda3/lib/python3.6/site-packages/sklearn/model_selection/_search.py:814: DeprecationWarning: The default of the `iid` parameter will change from True to False in version 0.22 and will be removed in 0.24. This will change numeric results when test-set sizes are unequal.\n",
      "  DeprecationWarning)\n"
     ]
    },
    {
     "name": "stdout",
     "output_type": "stream",
     "text": [
      "Trade Date:  20160601\n",
      "{'max_features': 'sqrt', 'min_samples_leaf': 0.05, 'min_samples_split': 0.1, 'n_estimators': 200}\n",
      "Trade Date:  20160901\n",
      "{'max_features': 'sqrt', 'min_samples_leaf': 0.05, 'min_samples_split': 0.1, 'n_estimators': 200}\n"
     ]
    },
    {
     "name": "stderr",
     "output_type": "stream",
     "text": [
      "/home/ubuntu/anaconda3/lib/python3.6/site-packages/sklearn/model_selection/_search.py:814: DeprecationWarning: The default of the `iid` parameter will change from True to False in version 0.22 and will be removed in 0.24. This will change numeric results when test-set sizes are unequal.\n",
      "  DeprecationWarning)\n"
     ]
    },
    {
     "name": "stdout",
     "output_type": "stream",
     "text": [
      "Trade Date:  20161201\n",
      "{'max_features': 'sqrt', 'min_samples_leaf': 0.05, 'min_samples_split': 0.1, 'n_estimators': 200}\n",
      "Trade Date:  20170301\n",
      "{'max_features': 'sqrt', 'min_samples_leaf': 0.05, 'min_samples_split': 0.1, 'n_estimators': 200}\n"
     ]
    },
    {
     "name": "stderr",
     "output_type": "stream",
     "text": [
      "/home/ubuntu/anaconda3/lib/python3.6/site-packages/sklearn/model_selection/_search.py:814: DeprecationWarning: The default of the `iid` parameter will change from True to False in version 0.22 and will be removed in 0.24. This will change numeric results when test-set sizes are unequal.\n",
      "  DeprecationWarning)\n"
     ]
    },
    {
     "name": "stdout",
     "output_type": "stream",
     "text": [
      "Trade Date:  20170601\n"
     ]
    }
   ],
   "source": [
    "start = time.time()\n",
    "sector10_result=ml_model.run_4model(sector10_data,\n",
    "                          features_column, label_column, date_column,tic_column,\n",
    "                         unique_ticker_sector10, unique_datetime, trade_date,\n",
    "                         first_trade_date_index,\n",
    "                         testing_windows)\n",
    "end = time.time()"
   ]
  },
  {
   "cell_type": "code",
   "execution_count": 138,
   "metadata": {},
   "outputs": [
    {
     "name": "stdout",
     "output_type": "stream",
     "text": [
      "Time Spent:  26.945861530303954  minutes\n"
     ]
    }
   ],
   "source": [
    "print('Time Spent: ',(end-start)/60,' minutes')"
   ]
  },
  {
   "cell_type": "code",
   "execution_count": 363,
   "metadata": {},
   "outputs": [],
   "source": [
    "\n",
    "df_predict_best = sector10_result[4].astype(np.float64)\n",
    "df_best_model_name = sector10_result[5]\n"
   ]
  },
  {
   "cell_type": "code",
   "execution_count": 364,
   "metadata": {},
   "outputs": [
    {
     "data": {
      "text/plain": [
       "rf       45\n",
       "gbm      34\n",
       "ridge     8\n",
       "lr        2\n",
       "Name: model_name, dtype: int64"
      ]
     },
     "execution_count": 364,
     "metadata": {},
     "output_type": "execute_result"
    }
   ],
   "source": [
    "df_best_model_name.model_name.value_counts()"
   ]
  },
  {
   "cell_type": "markdown",
   "metadata": {},
   "source": [
    "### save the model results"
   ]
  },
  {
   "cell_type": "code",
   "execution_count": 145,
   "metadata": {},
   "outputs": [],
   "source": [
    "ml_model.save_model_result(sector10_result,'sector10')"
   ]
  },
  {
   "cell_type": "code",
   "execution_count": null,
   "metadata": {},
   "outputs": [],
   "source": []
  },
  {
   "cell_type": "markdown",
   "metadata": {},
   "source": [
    "## Sector 15"
   ]
  },
  {
   "cell_type": "code",
   "execution_count": 190,
   "metadata": {},
   "outputs": [
    {
     "data": {
      "text/plain": [
       "Index(['gvkey', 'tic', 'datadate', 'rdq', 'tradedate', 'fyearq', 'fqtr',\n",
       "       'conm', 'datacqtr', 'datafqtr', 'gsector', 'X1_REVGH', 'X2_EPS',\n",
       "       'X3_ROA', 'X4_ROE', 'X5_PE', 'X6_PS', 'X7_NPM', 'X8_GPM', 'X9_OM',\n",
       "       'X10_PB', 'X11_PCFO', 'X12_CR', 'X13_EM', 'X14_EVCFO', 'X15_LTDTA',\n",
       "       'X16_WCR', 'X17_DE', 'X18_QR', 'X19_DSI', 'X20_DPO', 'y_return'],\n",
       "      dtype='object')"
      ]
     },
     "execution_count": 190,
     "metadata": {},
     "output_type": "execute_result"
    }
   ],
   "source": [
    "sector15_data.columns\n"
   ]
  },
  {
   "cell_type": "code",
   "execution_count": 191,
   "metadata": {
    "scrolled": true
   },
   "outputs": [
    {
     "name": "stdout",
     "output_type": "stream",
     "text": [
      "{'max_features': 'sqrt', 'min_samples_leaf': 0.2, 'min_samples_split': 0.1, 'n_estimators': 100}\n",
      "Trade Date:  19950601\n",
      "{'max_features': 'sqrt', 'min_samples_leaf': 0.1, 'min_samples_split': 0.1, 'n_estimators': 200}\n",
      "Trade Date:  19950901\n",
      "{'max_features': 'sqrt', 'min_samples_leaf': 0.05, 'min_samples_split': 0.1, 'n_estimators': 75}\n",
      "Trade Date:  19951201\n",
      "{'max_features': 'sqrt', 'min_samples_leaf': 0.1, 'min_samples_split': 0.1, 'n_estimators': 100}\n",
      "Trade Date:  19960301\n",
      "{'max_features': 'sqrt', 'min_samples_leaf': 0.1, 'min_samples_split': 0.1, 'n_estimators': 200}\n",
      "Trade Date:  19960603\n",
      "{'max_features': 'sqrt', 'min_samples_leaf': 0.1, 'min_samples_split': 0.1, 'n_estimators': 75}\n",
      "Trade Date:  19960903\n",
      "{'max_features': 'sqrt', 'min_samples_leaf': 0.1, 'min_samples_split': 0.1, 'n_estimators': 75}\n",
      "Trade Date:  19961202\n",
      "{'max_features': 'sqrt', 'min_samples_leaf': 0.1, 'min_samples_split': 0.30000000000000004, 'n_estimators': 100}\n",
      "Trade Date:  19970303\n",
      "{'max_features': 'sqrt', 'min_samples_leaf': 0.1, 'min_samples_split': 0.1, 'n_estimators': 75}\n",
      "Trade Date:  19970602\n",
      "{'max_features': 'sqrt', 'min_samples_leaf': 0.1, 'min_samples_split': 0.1, 'n_estimators': 200}\n",
      "Trade Date:  19970902\n",
      "{'max_features': 'sqrt', 'min_samples_leaf': 0.1, 'min_samples_split': 0.1, 'n_estimators': 200}\n",
      "Trade Date:  19971201\n",
      "{'max_features': 'sqrt', 'min_samples_leaf': 0.1, 'min_samples_split': 0.1, 'n_estimators': 75}\n",
      "Trade Date:  19980302\n",
      "{'max_features': 'sqrt', 'min_samples_leaf': 0.1, 'min_samples_split': 0.30000000000000004, 'n_estimators': 75}\n",
      "Trade Date:  19980601\n",
      "{'max_features': 'sqrt', 'min_samples_leaf': 0.05, 'min_samples_split': 0.30000000000000004, 'n_estimators': 75}\n",
      "Trade Date:  19980901\n",
      "{'max_features': 'sqrt', 'min_samples_leaf': 0.05, 'min_samples_split': 0.1, 'n_estimators': 75}\n",
      "Trade Date:  19981201\n",
      "{'max_features': 'sqrt', 'min_samples_leaf': 0.05, 'min_samples_split': 0.2, 'n_estimators': 100}\n",
      "Trade Date:  19990301\n",
      "{'max_features': 'sqrt', 'min_samples_leaf': 0.05, 'min_samples_split': 0.1, 'n_estimators': 75}\n",
      "Trade Date:  19990601\n",
      "{'max_features': 'sqrt', 'min_samples_leaf': 0.1, 'min_samples_split': 0.1, 'n_estimators': 75}\n",
      "Trade Date:  19990901\n",
      "{'max_features': 'sqrt', 'min_samples_leaf': 0.05, 'min_samples_split': 0.1, 'n_estimators': 200}\n",
      "Trade Date:  19991201\n",
      "{'max_features': 'sqrt', 'min_samples_leaf': 0.05, 'min_samples_split': 0.1, 'n_estimators': 200}\n",
      "Trade Date:  20000301\n",
      "{'max_features': 'sqrt', 'min_samples_leaf': 0.05, 'min_samples_split': 0.1, 'n_estimators': 75}\n",
      "Trade Date:  20000601\n",
      "{'max_features': 'sqrt', 'min_samples_leaf': 0.05, 'min_samples_split': 0.1, 'n_estimators': 75}\n",
      "Trade Date:  20000901\n",
      "{'max_features': 'sqrt', 'min_samples_leaf': 0.05, 'min_samples_split': 0.1, 'n_estimators': 200}\n",
      "Trade Date:  20001201\n",
      "{'max_features': 'sqrt', 'min_samples_leaf': 0.05, 'min_samples_split': 0.1, 'n_estimators': 200}\n",
      "Trade Date:  20010301\n",
      "{'max_features': 'sqrt', 'min_samples_leaf': 0.05, 'min_samples_split': 0.1, 'n_estimators': 200}\n",
      "Trade Date:  20010601\n",
      "{'max_features': 'sqrt', 'min_samples_leaf': 0.05, 'min_samples_split': 0.1, 'n_estimators': 75}\n",
      "Trade Date:  20010904\n",
      "{'max_features': 'sqrt', 'min_samples_leaf': 0.05, 'min_samples_split': 0.1, 'n_estimators': 100}\n",
      "Trade Date:  20011203\n",
      "{'max_features': 'sqrt', 'min_samples_leaf': 0.05, 'min_samples_split': 0.1, 'n_estimators': 75}\n",
      "Trade Date:  20020301\n",
      "{'max_features': 'sqrt', 'min_samples_leaf': 0.05, 'min_samples_split': 0.1, 'n_estimators': 75}\n",
      "Trade Date:  20020603\n",
      "{'max_features': 'sqrt', 'min_samples_leaf': 0.05, 'min_samples_split': 0.2, 'n_estimators': 75}\n",
      "Trade Date:  20020903\n",
      "{'max_features': 'sqrt', 'min_samples_leaf': 0.05, 'min_samples_split': 0.2, 'n_estimators': 75}\n",
      "Trade Date:  20021202\n",
      "{'max_features': 'sqrt', 'min_samples_leaf': 0.1, 'min_samples_split': 0.4, 'n_estimators': 200}\n",
      "Trade Date:  20030303\n",
      "{'max_features': 'sqrt', 'min_samples_leaf': 0.05, 'min_samples_split': 0.1, 'n_estimators': 75}\n",
      "Trade Date:  20030602\n",
      "{'max_features': 'sqrt', 'min_samples_leaf': 0.2, 'min_samples_split': 0.1, 'n_estimators': 200}\n",
      "Trade Date:  20030902\n",
      "{'max_features': 'sqrt', 'min_samples_leaf': 0.2, 'min_samples_split': 0.1, 'n_estimators': 100}\n",
      "Trade Date:  20031201\n",
      "{'max_features': 'sqrt', 'min_samples_leaf': 0.1, 'min_samples_split': 0.1, 'n_estimators': 75}\n",
      "Trade Date:  20040301\n",
      "{'max_features': 'sqrt', 'min_samples_leaf': 0.1, 'min_samples_split': 0.1, 'n_estimators': 75}\n",
      "Trade Date:  20040601\n",
      "{'max_features': 'sqrt', 'min_samples_leaf': 0.1, 'min_samples_split': 0.1, 'n_estimators': 200}\n",
      "Trade Date:  20040901\n",
      "{'max_features': 'sqrt', 'min_samples_leaf': 0.2, 'min_samples_split': 0.5, 'n_estimators': 200}\n",
      "Trade Date:  20041201\n",
      "{'max_features': 'sqrt', 'min_samples_leaf': 0.2, 'min_samples_split': 0.5, 'n_estimators': 200}\n",
      "Trade Date:  20050301\n",
      "{'max_features': 'sqrt', 'min_samples_leaf': 0.1, 'min_samples_split': 0.1, 'n_estimators': 100}\n",
      "Trade Date:  20050601\n",
      "{'max_features': 'sqrt', 'min_samples_leaf': 0.2, 'min_samples_split': 0.5, 'n_estimators': 75}\n",
      "Trade Date:  20050901\n",
      "{'max_features': 'sqrt', 'min_samples_leaf': 0.2, 'min_samples_split': 0.5, 'n_estimators': 75}\n",
      "Trade Date:  20051201\n",
      "{'max_features': 'sqrt', 'min_samples_leaf': 0.2, 'min_samples_split': 0.1, 'n_estimators': 75}\n",
      "Trade Date:  20060301\n",
      "{'max_features': 'sqrt', 'min_samples_leaf': 0.1, 'min_samples_split': 0.5, 'n_estimators': 200}\n",
      "Trade Date:  20060601\n",
      "{'max_features': 'sqrt', 'min_samples_leaf': 0.05, 'min_samples_split': 0.5, 'n_estimators': 75}\n",
      "Trade Date:  20060901\n",
      "{'max_features': 'sqrt', 'min_samples_leaf': 0.05, 'min_samples_split': 0.5, 'n_estimators': 200}\n",
      "Trade Date:  20061201\n",
      "{'max_features': 'sqrt', 'min_samples_leaf': 0.05, 'min_samples_split': 0.4, 'n_estimators': 200}\n",
      "Trade Date:  20070301\n",
      "{'max_features': 'sqrt', 'min_samples_leaf': 0.1, 'min_samples_split': 0.1, 'n_estimators': 75}\n",
      "Trade Date:  20070601\n",
      "{'max_features': 'sqrt', 'min_samples_leaf': 0.05, 'min_samples_split': 0.4, 'n_estimators': 200}\n",
      "Trade Date:  20070904\n",
      "{'max_features': 'sqrt', 'min_samples_leaf': 0.05, 'min_samples_split': 0.2, 'n_estimators': 75}\n",
      "Trade Date:  20071203\n",
      "{'max_features': 'sqrt', 'min_samples_leaf': 0.05, 'min_samples_split': 0.2, 'n_estimators': 75}\n",
      "Trade Date:  20080303\n",
      "{'max_features': 'sqrt', 'min_samples_leaf': 0.05, 'min_samples_split': 0.1, 'n_estimators': 100}\n",
      "Trade Date:  20080602\n",
      "{'max_features': 'sqrt', 'min_samples_leaf': 0.05, 'min_samples_split': 0.5, 'n_estimators': 200}\n",
      "Trade Date:  20080902\n",
      "{'max_features': 'sqrt', 'min_samples_leaf': 0.1, 'min_samples_split': 0.1, 'n_estimators': 75}\n",
      "Trade Date:  20081201\n",
      "{'max_features': 'sqrt', 'min_samples_leaf': 0.1, 'min_samples_split': 0.1, 'n_estimators': 200}\n",
      "Trade Date:  20090302\n",
      "{'max_features': 'sqrt', 'min_samples_leaf': 0.05, 'min_samples_split': 0.1, 'n_estimators': 200}\n",
      "Trade Date:  20090601\n",
      "{'max_features': 'sqrt', 'min_samples_leaf': 0.05, 'min_samples_split': 0.5, 'n_estimators': 75}\n",
      "Trade Date:  20090901\n",
      "{'max_features': 'sqrt', 'min_samples_leaf': 0.1, 'min_samples_split': 0.1, 'n_estimators': 75}\n",
      "Trade Date:  20091201\n",
      "{'max_features': 'sqrt', 'min_samples_leaf': 0.2, 'min_samples_split': 0.1, 'n_estimators': 100}\n",
      "Trade Date:  20100301\n",
      "{'max_features': 'sqrt', 'min_samples_leaf': 0.05, 'min_samples_split': 0.1, 'n_estimators': 75}\n",
      "Trade Date:  20100601\n",
      "{'max_features': 'sqrt', 'min_samples_leaf': 0.05, 'min_samples_split': 0.1, 'n_estimators': 100}\n",
      "Trade Date:  20100901\n",
      "{'max_features': 'sqrt', 'min_samples_leaf': 0.05, 'min_samples_split': 0.1, 'n_estimators': 200}\n",
      "Trade Date:  20101201\n",
      "{'max_features': 'sqrt', 'min_samples_leaf': 0.05, 'min_samples_split': 0.1, 'n_estimators': 200}\n",
      "Trade Date:  20110301\n",
      "{'max_features': 'sqrt', 'min_samples_leaf': 0.05, 'min_samples_split': 0.1, 'n_estimators': 100}\n",
      "Trade Date:  20110601\n",
      "{'max_features': 'sqrt', 'min_samples_leaf': 0.05, 'min_samples_split': 0.1, 'n_estimators': 100}\n",
      "Trade Date:  20110901\n",
      "{'max_features': 'sqrt', 'min_samples_leaf': 0.05, 'min_samples_split': 0.1, 'n_estimators': 200}\n",
      "Trade Date:  20111201\n",
      "{'max_features': 'sqrt', 'min_samples_leaf': 0.05, 'min_samples_split': 0.1, 'n_estimators': 200}\n",
      "Trade Date:  20120301\n",
      "{'max_features': 'sqrt', 'min_samples_leaf': 0.05, 'min_samples_split': 0.1, 'n_estimators': 100}\n",
      "Trade Date:  20120601\n",
      "{'max_features': 'sqrt', 'min_samples_leaf': 0.05, 'min_samples_split': 0.1, 'n_estimators': 75}\n",
      "Trade Date:  20120904\n",
      "{'max_features': 'sqrt', 'min_samples_leaf': 0.05, 'min_samples_split': 0.1, 'n_estimators': 100}\n",
      "Trade Date:  20121203\n",
      "{'max_features': 'sqrt', 'min_samples_leaf': 0.05, 'min_samples_split': 0.1, 'n_estimators': 200}\n",
      "Trade Date:  20130301\n",
      "{'max_features': 'sqrt', 'min_samples_leaf': 0.05, 'min_samples_split': 0.1, 'n_estimators': 75}\n",
      "Trade Date:  20130603\n",
      "{'max_features': 'sqrt', 'min_samples_leaf': 0.05, 'min_samples_split': 0.1, 'n_estimators': 200}\n",
      "Trade Date:  20130903\n",
      "{'max_features': 'sqrt', 'min_samples_leaf': 0.05, 'min_samples_split': 0.1, 'n_estimators': 200}\n",
      "Trade Date:  20131202\n",
      "{'max_features': 'sqrt', 'min_samples_leaf': 0.05, 'min_samples_split': 0.1, 'n_estimators': 200}\n",
      "Trade Date:  20140303\n",
      "{'max_features': 'sqrt', 'min_samples_leaf': 0.05, 'min_samples_split': 0.1, 'n_estimators': 200}\n",
      "Trade Date:  20140602\n",
      "{'max_features': 'sqrt', 'min_samples_leaf': 0.05, 'min_samples_split': 0.1, 'n_estimators': 75}\n",
      "Trade Date:  20140902\n",
      "{'max_features': 'sqrt', 'min_samples_leaf': 0.05, 'min_samples_split': 0.1, 'n_estimators': 75}\n",
      "Trade Date:  20141201\n",
      "{'max_features': 'sqrt', 'min_samples_leaf': 0.05, 'min_samples_split': 0.1, 'n_estimators': 75}\n",
      "Trade Date:  20150302\n",
      "{'max_features': 'sqrt', 'min_samples_leaf': 0.05, 'min_samples_split': 0.1, 'n_estimators': 100}\n",
      "Trade Date:  20150601\n",
      "{'max_features': 'sqrt', 'min_samples_leaf': 0.05, 'min_samples_split': 0.1, 'n_estimators': 75}\n",
      "Trade Date:  20150901\n",
      "{'max_features': 'sqrt', 'min_samples_leaf': 0.05, 'min_samples_split': 0.1, 'n_estimators': 75}\n",
      "Trade Date:  20151201\n",
      "{'max_features': 'sqrt', 'min_samples_leaf': 0.05, 'min_samples_split': 0.1, 'n_estimators': 75}\n",
      "Trade Date:  20160301\n",
      "{'max_features': 'sqrt', 'min_samples_leaf': 0.05, 'min_samples_split': 0.1, 'n_estimators': 75}\n",
      "Trade Date:  20160601\n",
      "{'max_features': 'sqrt', 'min_samples_leaf': 0.05, 'min_samples_split': 0.1, 'n_estimators': 100}\n",
      "Trade Date:  20160901\n",
      "{'max_features': 'sqrt', 'min_samples_leaf': 0.05, 'min_samples_split': 0.1, 'n_estimators': 75}\n",
      "Trade Date:  20161201\n",
      "{'max_features': 'sqrt', 'min_samples_leaf': 0.05, 'min_samples_split': 0.1, 'n_estimators': 200}\n",
      "Trade Date:  20170301\n",
      "{'max_features': 'sqrt', 'min_samples_leaf': 0.05, 'min_samples_split': 0.1, 'n_estimators': 100}\n",
      "Trade Date:  20170601\n",
      "Time Spent:  25.682966820398967  minutes\n"
     ]
    }
   ],
   "source": [
    "start = time.time()\n",
    "sector15_result=ml_model.run_4model(sector15_data,\n",
    "                          features_column, label_column, date_column,tic_column,\n",
    "                         unique_ticker_sector15, unique_datetime, trade_date,\n",
    "                         first_trade_date_index,\n",
    "                         testing_windows)\n",
    "end = time.time()\n",
    "print('Time Spent: ',(end-start)/60,' minutes')"
   ]
  },
  {
   "cell_type": "code",
   "execution_count": 353,
   "metadata": {},
   "outputs": [],
   "source": [
    "\n",
    "df_predict_best = sector15_result[4].astype(np.float64)\n",
    "df_best_model_name = sector15_result[5]"
   ]
  },
  {
   "cell_type": "code",
   "execution_count": 354,
   "metadata": {},
   "outputs": [
    {
     "data": {
      "text/plain": [
       "rf       50\n",
       "gbm      28\n",
       "lr        8\n",
       "ridge     3\n",
       "Name: model_name, dtype: int64"
      ]
     },
     "execution_count": 354,
     "metadata": {},
     "output_type": "execute_result"
    }
   ],
   "source": [
    "df_best_model_name.model_name.value_counts()"
   ]
  },
  {
   "cell_type": "markdown",
   "metadata": {},
   "source": [
    "### save the model results"
   ]
  },
  {
   "cell_type": "code",
   "execution_count": 194,
   "metadata": {},
   "outputs": [],
   "source": [
    "ml_model.save_model_result(sector15_result,'sector15')"
   ]
  },
  {
   "cell_type": "markdown",
   "metadata": {},
   "source": [
    "## Sector 20"
   ]
  },
  {
   "cell_type": "code",
   "execution_count": 220,
   "metadata": {},
   "outputs": [
    {
     "data": {
      "text/plain": [
       "Index(['gvkey', 'tic', 'datadate', 'rdq', 'tradedate', 'fyearq', 'fqtr',\n",
       "       'conm', 'datacqtr', 'datafqtr', 'gsector', 'X1_REVGH', 'X2_EPS',\n",
       "       'X3_ROA', 'X4_ROE', 'X5_PE', 'X6_PS', 'X7_NPM', 'X8_GPM', 'X9_OM',\n",
       "       'X10_PB', 'X15_LTDTA', 'X17_DE', 'X19_DSI', 'X20_DPO', 'y_return'],\n",
       "      dtype='object')"
      ]
     },
     "execution_count": 220,
     "metadata": {},
     "output_type": "execute_result"
    }
   ],
   "source": [
    "sector20_data.columns"
   ]
  },
  {
   "cell_type": "code",
   "execution_count": 221,
   "metadata": {
    "scrolled": true
   },
   "outputs": [
    {
     "name": "stdout",
     "output_type": "stream",
     "text": [
      "{'max_features': 'sqrt', 'min_samples_leaf': 0.05, 'min_samples_split': 0.1, 'n_estimators': 100}\n",
      "Trade Date:  19950601\n",
      "{'max_features': 'sqrt', 'min_samples_leaf': 0.05, 'min_samples_split': 0.1, 'n_estimators': 100}\n",
      "Trade Date:  19950901\n",
      "{'max_features': 'sqrt', 'min_samples_leaf': 0.05, 'min_samples_split': 0.1, 'n_estimators': 200}\n",
      "Trade Date:  19951201\n",
      "{'max_features': 'sqrt', 'min_samples_leaf': 0.05, 'min_samples_split': 0.1, 'n_estimators': 200}\n",
      "Trade Date:  19960301\n",
      "{'max_features': 'sqrt', 'min_samples_leaf': 0.05, 'min_samples_split': 0.1, 'n_estimators': 200}\n",
      "Trade Date:  19960603\n",
      "{'max_features': 'sqrt', 'min_samples_leaf': 0.05, 'min_samples_split': 0.1, 'n_estimators': 75}\n",
      "Trade Date:  19960903\n",
      "{'max_features': 'sqrt', 'min_samples_leaf': 0.05, 'min_samples_split': 0.1, 'n_estimators': 75}\n",
      "Trade Date:  19961202\n",
      "{'max_features': 'sqrt', 'min_samples_leaf': 0.05, 'min_samples_split': 0.1, 'n_estimators': 100}\n",
      "Trade Date:  19970303\n",
      "{'max_features': 'sqrt', 'min_samples_leaf': 0.05, 'min_samples_split': 0.1, 'n_estimators': 100}\n",
      "Trade Date:  19970602\n",
      "{'max_features': 'sqrt', 'min_samples_leaf': 0.05, 'min_samples_split': 0.1, 'n_estimators': 200}\n",
      "Trade Date:  19970902\n",
      "{'max_features': 'sqrt', 'min_samples_leaf': 0.05, 'min_samples_split': 0.1, 'n_estimators': 100}\n",
      "Trade Date:  19971201\n",
      "{'max_features': 'sqrt', 'min_samples_leaf': 0.05, 'min_samples_split': 0.1, 'n_estimators': 100}\n",
      "Trade Date:  19980302\n",
      "{'max_features': 'sqrt', 'min_samples_leaf': 0.05, 'min_samples_split': 0.1, 'n_estimators': 200}\n",
      "Trade Date:  19980601\n",
      "{'max_features': 'sqrt', 'min_samples_leaf': 0.05, 'min_samples_split': 0.1, 'n_estimators': 200}\n",
      "Trade Date:  19980901\n",
      "{'max_features': 'sqrt', 'min_samples_leaf': 0.05, 'min_samples_split': 0.1, 'n_estimators': 200}\n",
      "Trade Date:  19981201\n",
      "{'max_features': 'sqrt', 'min_samples_leaf': 0.05, 'min_samples_split': 0.1, 'n_estimators': 200}\n",
      "Trade Date:  19990301\n",
      "{'max_features': 'sqrt', 'min_samples_leaf': 0.05, 'min_samples_split': 0.1, 'n_estimators': 100}\n",
      "Trade Date:  19990601\n",
      "{'max_features': 'sqrt', 'min_samples_leaf': 0.05, 'min_samples_split': 0.1, 'n_estimators': 75}\n",
      "Trade Date:  19990901\n",
      "{'max_features': 'sqrt', 'min_samples_leaf': 0.05, 'min_samples_split': 0.1, 'n_estimators': 200}\n",
      "Trade Date:  19991201\n",
      "{'max_features': 'sqrt', 'min_samples_leaf': 0.05, 'min_samples_split': 0.1, 'n_estimators': 75}\n",
      "Trade Date:  20000301\n",
      "{'max_features': 'sqrt', 'min_samples_leaf': 0.05, 'min_samples_split': 0.1, 'n_estimators': 200}\n",
      "Trade Date:  20000601\n",
      "{'max_features': 'sqrt', 'min_samples_leaf': 0.05, 'min_samples_split': 0.1, 'n_estimators': 200}\n",
      "Trade Date:  20000901\n",
      "{'max_features': 'sqrt', 'min_samples_leaf': 0.05, 'min_samples_split': 0.1, 'n_estimators': 200}\n",
      "Trade Date:  20001201\n",
      "{'max_features': 'sqrt', 'min_samples_leaf': 0.05, 'min_samples_split': 0.2, 'n_estimators': 200}\n",
      "Trade Date:  20010301\n",
      "{'max_features': 'sqrt', 'min_samples_leaf': 0.05, 'min_samples_split': 0.1, 'n_estimators': 200}\n",
      "Trade Date:  20010601\n",
      "{'max_features': 'sqrt', 'min_samples_leaf': 0.05, 'min_samples_split': 0.1, 'n_estimators': 200}\n",
      "Trade Date:  20010904\n",
      "{'max_features': 'sqrt', 'min_samples_leaf': 0.05, 'min_samples_split': 0.1, 'n_estimators': 200}\n",
      "Trade Date:  20011203\n",
      "{'max_features': 'sqrt', 'min_samples_leaf': 0.05, 'min_samples_split': 0.1, 'n_estimators': 75}\n",
      "Trade Date:  20020301\n",
      "{'max_features': 'sqrt', 'min_samples_leaf': 0.05, 'min_samples_split': 0.1, 'n_estimators': 200}\n",
      "Trade Date:  20020603\n",
      "{'max_features': 'sqrt', 'min_samples_leaf': 0.05, 'min_samples_split': 0.1, 'n_estimators': 100}\n",
      "Trade Date:  20020903\n",
      "{'max_features': 'sqrt', 'min_samples_leaf': 0.05, 'min_samples_split': 0.1, 'n_estimators': 200}\n",
      "Trade Date:  20021202\n",
      "{'max_features': 'sqrt', 'min_samples_leaf': 0.1, 'min_samples_split': 0.1, 'n_estimators': 75}\n",
      "Trade Date:  20030303\n",
      "{'max_features': 'sqrt', 'min_samples_leaf': 0.1, 'min_samples_split': 0.1, 'n_estimators': 75}\n",
      "Trade Date:  20030602\n",
      "{'max_features': 'sqrt', 'min_samples_leaf': 0.05, 'min_samples_split': 0.1, 'n_estimators': 100}\n"
     ]
    },
    {
     "name": "stderr",
     "output_type": "stream",
     "text": [
      "/home/ubuntu/anaconda3/lib/python3.6/site-packages/sklearn/model_selection/_search.py:814: DeprecationWarning: The default of the `iid` parameter will change from True to False in version 0.22 and will be removed in 0.24. This will change numeric results when test-set sizes are unequal.\n",
      "  DeprecationWarning)\n"
     ]
    },
    {
     "name": "stdout",
     "output_type": "stream",
     "text": [
      "Trade Date:  20030902\n",
      "{'max_features': 'sqrt', 'min_samples_leaf': 0.05, 'min_samples_split': 0.1, 'n_estimators': 200}\n",
      "Trade Date:  20031201\n",
      "{'max_features': 'sqrt', 'min_samples_leaf': 0.05, 'min_samples_split': 0.1, 'n_estimators': 200}\n"
     ]
    },
    {
     "name": "stderr",
     "output_type": "stream",
     "text": [
      "/home/ubuntu/anaconda3/lib/python3.6/site-packages/sklearn/model_selection/_search.py:814: DeprecationWarning: The default of the `iid` parameter will change from True to False in version 0.22 and will be removed in 0.24. This will change numeric results when test-set sizes are unequal.\n",
      "  DeprecationWarning)\n"
     ]
    },
    {
     "name": "stdout",
     "output_type": "stream",
     "text": [
      "Trade Date:  20040301\n",
      "{'max_features': 'sqrt', 'min_samples_leaf': 0.05, 'min_samples_split': 0.1, 'n_estimators': 100}\n"
     ]
    },
    {
     "name": "stderr",
     "output_type": "stream",
     "text": [
      "/home/ubuntu/anaconda3/lib/python3.6/site-packages/sklearn/model_selection/_search.py:814: DeprecationWarning: The default of the `iid` parameter will change from True to False in version 0.22 and will be removed in 0.24. This will change numeric results when test-set sizes are unequal.\n",
      "  DeprecationWarning)\n"
     ]
    },
    {
     "name": "stdout",
     "output_type": "stream",
     "text": [
      "Trade Date:  20040601\n",
      "{'max_features': 'sqrt', 'min_samples_leaf': 0.05, 'min_samples_split': 0.2, 'n_estimators': 75}\n"
     ]
    },
    {
     "name": "stderr",
     "output_type": "stream",
     "text": [
      "/home/ubuntu/anaconda3/lib/python3.6/site-packages/sklearn/model_selection/_search.py:814: DeprecationWarning: The default of the `iid` parameter will change from True to False in version 0.22 and will be removed in 0.24. This will change numeric results when test-set sizes are unequal.\n",
      "  DeprecationWarning)\n"
     ]
    },
    {
     "name": "stdout",
     "output_type": "stream",
     "text": [
      "Trade Date:  20040901\n",
      "{'max_features': 'sqrt', 'min_samples_leaf': 0.05, 'min_samples_split': 0.2, 'n_estimators': 75}\n",
      "Trade Date:  20041201\n",
      "{'max_features': 'sqrt', 'min_samples_leaf': 0.05, 'min_samples_split': 0.2, 'n_estimators': 200}\n",
      "Trade Date:  20050301\n",
      "{'max_features': 'sqrt', 'min_samples_leaf': 0.05, 'min_samples_split': 0.4, 'n_estimators': 75}\n",
      "Trade Date:  20050601\n",
      "{'max_features': 'sqrt', 'min_samples_leaf': 0.05, 'min_samples_split': 0.1, 'n_estimators': 200}\n"
     ]
    },
    {
     "name": "stderr",
     "output_type": "stream",
     "text": [
      "/home/ubuntu/anaconda3/lib/python3.6/site-packages/sklearn/model_selection/_search.py:814: DeprecationWarning: The default of the `iid` parameter will change from True to False in version 0.22 and will be removed in 0.24. This will change numeric results when test-set sizes are unequal.\n",
      "  DeprecationWarning)\n"
     ]
    },
    {
     "name": "stdout",
     "output_type": "stream",
     "text": [
      "Trade Date:  20050901\n",
      "{'max_features': 'sqrt', 'min_samples_leaf': 0.05, 'min_samples_split': 0.1, 'n_estimators': 75}\n",
      "Trade Date:  20051201\n",
      "{'max_features': 'sqrt', 'min_samples_leaf': 0.05, 'min_samples_split': 0.1, 'n_estimators': 100}\n",
      "Trade Date:  20060301\n",
      "{'max_features': 'sqrt', 'min_samples_leaf': 0.05, 'min_samples_split': 0.30000000000000004, 'n_estimators': 75}\n",
      "Trade Date:  20060601\n",
      "{'max_features': 'sqrt', 'min_samples_leaf': 0.05, 'min_samples_split': 0.2, 'n_estimators': 75}\n"
     ]
    },
    {
     "name": "stderr",
     "output_type": "stream",
     "text": [
      "/home/ubuntu/anaconda3/lib/python3.6/site-packages/sklearn/model_selection/_search.py:814: DeprecationWarning: The default of the `iid` parameter will change from True to False in version 0.22 and will be removed in 0.24. This will change numeric results when test-set sizes are unequal.\n",
      "  DeprecationWarning)\n"
     ]
    },
    {
     "name": "stdout",
     "output_type": "stream",
     "text": [
      "Trade Date:  20060901\n",
      "{'max_features': 'sqrt', 'min_samples_leaf': 0.05, 'min_samples_split': 0.1, 'n_estimators': 200}\n"
     ]
    },
    {
     "name": "stderr",
     "output_type": "stream",
     "text": [
      "/home/ubuntu/anaconda3/lib/python3.6/site-packages/sklearn/model_selection/_search.py:814: DeprecationWarning: The default of the `iid` parameter will change from True to False in version 0.22 and will be removed in 0.24. This will change numeric results when test-set sizes are unequal.\n",
      "  DeprecationWarning)\n"
     ]
    },
    {
     "name": "stdout",
     "output_type": "stream",
     "text": [
      "Trade Date:  20061201\n",
      "{'max_features': 'sqrt', 'min_samples_leaf': 0.05, 'min_samples_split': 0.1, 'n_estimators': 200}\n"
     ]
    },
    {
     "name": "stderr",
     "output_type": "stream",
     "text": [
      "/home/ubuntu/anaconda3/lib/python3.6/site-packages/sklearn/model_selection/_search.py:814: DeprecationWarning: The default of the `iid` parameter will change from True to False in version 0.22 and will be removed in 0.24. This will change numeric results when test-set sizes are unequal.\n",
      "  DeprecationWarning)\n"
     ]
    },
    {
     "name": "stdout",
     "output_type": "stream",
     "text": [
      "Trade Date:  20070301\n",
      "{'max_features': 'sqrt', 'min_samples_leaf': 0.05, 'min_samples_split': 0.2, 'n_estimators': 200}\n",
      "Trade Date:  20070601\n",
      "{'max_features': 'sqrt', 'min_samples_leaf': 0.05, 'min_samples_split': 0.1, 'n_estimators': 75}\n",
      "Trade Date:  20070904\n",
      "{'max_features': 'sqrt', 'min_samples_leaf': 0.05, 'min_samples_split': 0.1, 'n_estimators': 75}\n"
     ]
    },
    {
     "name": "stderr",
     "output_type": "stream",
     "text": [
      "/home/ubuntu/anaconda3/lib/python3.6/site-packages/sklearn/model_selection/_search.py:814: DeprecationWarning: The default of the `iid` parameter will change from True to False in version 0.22 and will be removed in 0.24. This will change numeric results when test-set sizes are unequal.\n",
      "  DeprecationWarning)\n"
     ]
    },
    {
     "name": "stdout",
     "output_type": "stream",
     "text": [
      "Trade Date:  20071203\n",
      "{'max_features': 'sqrt', 'min_samples_leaf': 0.05, 'min_samples_split': 0.1, 'n_estimators': 75}\n",
      "Trade Date:  20080303\n",
      "{'max_features': 'sqrt', 'min_samples_leaf': 0.05, 'min_samples_split': 0.2, 'n_estimators': 200}\n",
      "Trade Date:  20080602\n",
      "{'max_features': 'sqrt', 'min_samples_leaf': 0.05, 'min_samples_split': 0.2, 'n_estimators': 200}\n"
     ]
    },
    {
     "name": "stderr",
     "output_type": "stream",
     "text": [
      "/home/ubuntu/anaconda3/lib/python3.6/site-packages/sklearn/model_selection/_search.py:814: DeprecationWarning: The default of the `iid` parameter will change from True to False in version 0.22 and will be removed in 0.24. This will change numeric results when test-set sizes are unequal.\n",
      "  DeprecationWarning)\n"
     ]
    },
    {
     "name": "stdout",
     "output_type": "stream",
     "text": [
      "Trade Date:  20080902\n",
      "{'max_features': 'sqrt', 'min_samples_leaf': 0.05, 'min_samples_split': 0.2, 'n_estimators': 75}\n"
     ]
    },
    {
     "name": "stderr",
     "output_type": "stream",
     "text": [
      "/home/ubuntu/anaconda3/lib/python3.6/site-packages/sklearn/model_selection/_search.py:814: DeprecationWarning: The default of the `iid` parameter will change from True to False in version 0.22 and will be removed in 0.24. This will change numeric results when test-set sizes are unequal.\n",
      "  DeprecationWarning)\n"
     ]
    },
    {
     "name": "stdout",
     "output_type": "stream",
     "text": [
      "Trade Date:  20081201\n",
      "{'max_features': 'sqrt', 'min_samples_leaf': 0.05, 'min_samples_split': 0.30000000000000004, 'n_estimators': 200}\n"
     ]
    },
    {
     "name": "stderr",
     "output_type": "stream",
     "text": [
      "/home/ubuntu/anaconda3/lib/python3.6/site-packages/sklearn/model_selection/_search.py:814: DeprecationWarning: The default of the `iid` parameter will change from True to False in version 0.22 and will be removed in 0.24. This will change numeric results when test-set sizes are unequal.\n",
      "  DeprecationWarning)\n"
     ]
    },
    {
     "name": "stdout",
     "output_type": "stream",
     "text": [
      "Trade Date:  20090302\n",
      "{'max_features': 'sqrt', 'min_samples_leaf': 0.05, 'min_samples_split': 0.2, 'n_estimators': 75}\n"
     ]
    },
    {
     "name": "stderr",
     "output_type": "stream",
     "text": [
      "/home/ubuntu/anaconda3/lib/python3.6/site-packages/sklearn/model_selection/_search.py:814: DeprecationWarning: The default of the `iid` parameter will change from True to False in version 0.22 and will be removed in 0.24. This will change numeric results when test-set sizes are unequal.\n",
      "  DeprecationWarning)\n"
     ]
    },
    {
     "name": "stdout",
     "output_type": "stream",
     "text": [
      "Trade Date:  20090601\n",
      "{'max_features': 'sqrt', 'min_samples_leaf': 0.05, 'min_samples_split': 0.4, 'n_estimators': 75}\n"
     ]
    },
    {
     "name": "stderr",
     "output_type": "stream",
     "text": [
      "/home/ubuntu/anaconda3/lib/python3.6/site-packages/sklearn/model_selection/_search.py:814: DeprecationWarning: The default of the `iid` parameter will change from True to False in version 0.22 and will be removed in 0.24. This will change numeric results when test-set sizes are unequal.\n",
      "  DeprecationWarning)\n"
     ]
    },
    {
     "name": "stdout",
     "output_type": "stream",
     "text": [
      "Trade Date:  20090901\n",
      "{'max_features': 'sqrt', 'min_samples_leaf': 0.05, 'min_samples_split': 0.1, 'n_estimators': 200}\n"
     ]
    },
    {
     "name": "stderr",
     "output_type": "stream",
     "text": [
      "/home/ubuntu/anaconda3/lib/python3.6/site-packages/sklearn/model_selection/_search.py:814: DeprecationWarning: The default of the `iid` parameter will change from True to False in version 0.22 and will be removed in 0.24. This will change numeric results when test-set sizes are unequal.\n",
      "  DeprecationWarning)\n"
     ]
    },
    {
     "name": "stdout",
     "output_type": "stream",
     "text": [
      "Trade Date:  20091201\n",
      "{'max_features': 'sqrt', 'min_samples_leaf': 0.05, 'min_samples_split': 0.1, 'n_estimators': 200}\n"
     ]
    },
    {
     "name": "stderr",
     "output_type": "stream",
     "text": [
      "/home/ubuntu/anaconda3/lib/python3.6/site-packages/sklearn/model_selection/_search.py:814: DeprecationWarning: The default of the `iid` parameter will change from True to False in version 0.22 and will be removed in 0.24. This will change numeric results when test-set sizes are unequal.\n",
      "  DeprecationWarning)\n"
     ]
    },
    {
     "name": "stdout",
     "output_type": "stream",
     "text": [
      "Trade Date:  20100301\n",
      "{'max_features': 'sqrt', 'min_samples_leaf': 0.05, 'min_samples_split': 0.1, 'n_estimators': 75}\n"
     ]
    },
    {
     "name": "stderr",
     "output_type": "stream",
     "text": [
      "/home/ubuntu/anaconda3/lib/python3.6/site-packages/sklearn/model_selection/_search.py:814: DeprecationWarning: The default of the `iid` parameter will change from True to False in version 0.22 and will be removed in 0.24. This will change numeric results when test-set sizes are unequal.\n",
      "  DeprecationWarning)\n"
     ]
    },
    {
     "name": "stdout",
     "output_type": "stream",
     "text": [
      "Trade Date:  20100601\n",
      "{'max_features': 'sqrt', 'min_samples_leaf': 0.05, 'min_samples_split': 0.2, 'n_estimators': 200}\n"
     ]
    },
    {
     "name": "stderr",
     "output_type": "stream",
     "text": [
      "/home/ubuntu/anaconda3/lib/python3.6/site-packages/sklearn/model_selection/_search.py:814: DeprecationWarning: The default of the `iid` parameter will change from True to False in version 0.22 and will be removed in 0.24. This will change numeric results when test-set sizes are unequal.\n",
      "  DeprecationWarning)\n"
     ]
    },
    {
     "name": "stdout",
     "output_type": "stream",
     "text": [
      "Trade Date:  20100901\n",
      "{'max_features': 'sqrt', 'min_samples_leaf': 0.05, 'min_samples_split': 0.5, 'n_estimators': 75}\n",
      "Trade Date:  20101201\n",
      "{'max_features': 'sqrt', 'min_samples_leaf': 0.05, 'min_samples_split': 0.1, 'n_estimators': 75}\n"
     ]
    },
    {
     "name": "stderr",
     "output_type": "stream",
     "text": [
      "/home/ubuntu/anaconda3/lib/python3.6/site-packages/sklearn/model_selection/_search.py:814: DeprecationWarning: The default of the `iid` parameter will change from True to False in version 0.22 and will be removed in 0.24. This will change numeric results when test-set sizes are unequal.\n",
      "  DeprecationWarning)\n"
     ]
    },
    {
     "name": "stdout",
     "output_type": "stream",
     "text": [
      "Trade Date:  20110301\n",
      "{'max_features': 'sqrt', 'min_samples_leaf': 0.05, 'min_samples_split': 0.5, 'n_estimators': 75}\n",
      "Trade Date:  20110601\n",
      "{'max_features': 'sqrt', 'min_samples_leaf': 0.1, 'min_samples_split': 0.5, 'n_estimators': 200}\n",
      "Trade Date:  20110901\n",
      "{'max_features': 'sqrt', 'min_samples_leaf': 0.05, 'min_samples_split': 0.5, 'n_estimators': 75}\n",
      "Trade Date:  20111201\n",
      "{'max_features': 'sqrt', 'min_samples_leaf': 0.05, 'min_samples_split': 0.5, 'n_estimators': 75}\n",
      "Trade Date:  20120301\n",
      "{'max_features': 'sqrt', 'min_samples_leaf': 0.05, 'min_samples_split': 0.5, 'n_estimators': 75}\n",
      "Trade Date:  20120601\n",
      "{'max_features': 'sqrt', 'min_samples_leaf': 0.05, 'min_samples_split': 0.5, 'n_estimators': 100}\n",
      "Trade Date:  20120904\n",
      "{'max_features': 'sqrt', 'min_samples_leaf': 0.05, 'min_samples_split': 0.5, 'n_estimators': 100}\n",
      "Trade Date:  20121203\n",
      "{'max_features': 'sqrt', 'min_samples_leaf': 0.2, 'min_samples_split': 0.5, 'n_estimators': 200}\n",
      "Trade Date:  20130301\n",
      "{'max_features': 'sqrt', 'min_samples_leaf': 0.2, 'min_samples_split': 0.1, 'n_estimators': 200}\n",
      "Trade Date:  20130603\n",
      "{'max_features': 'sqrt', 'min_samples_leaf': 0.05, 'min_samples_split': 0.1, 'n_estimators': 100}\n",
      "Trade Date:  20130903\n",
      "{'max_features': 'sqrt', 'min_samples_leaf': 0.05, 'min_samples_split': 0.5, 'n_estimators': 100}\n",
      "Trade Date:  20131202\n",
      "{'max_features': 'sqrt', 'min_samples_leaf': 0.1, 'min_samples_split': 0.1, 'n_estimators': 75}\n",
      "Trade Date:  20140303\n",
      "{'max_features': 'sqrt', 'min_samples_leaf': 0.1, 'min_samples_split': 0.1, 'n_estimators': 100}\n",
      "Trade Date:  20140602\n",
      "{'max_features': 'sqrt', 'min_samples_leaf': 0.2, 'min_samples_split': 0.1, 'n_estimators': 75}\n",
      "Trade Date:  20140902\n",
      "{'max_features': 'sqrt', 'min_samples_leaf': 0.1, 'min_samples_split': 0.1, 'n_estimators': 100}\n",
      "Trade Date:  20141201\n",
      "{'max_features': 'sqrt', 'min_samples_leaf': 0.2, 'min_samples_split': 0.1, 'n_estimators': 200}\n",
      "Trade Date:  20150302\n",
      "{'max_features': 'sqrt', 'min_samples_leaf': 0.2, 'min_samples_split': 0.1, 'n_estimators': 100}\n",
      "Trade Date:  20150601\n",
      "{'max_features': 'sqrt', 'min_samples_leaf': 0.05, 'min_samples_split': 0.1, 'n_estimators': 75}\n",
      "Trade Date:  20150901\n",
      "{'max_features': 'sqrt', 'min_samples_leaf': 0.1, 'min_samples_split': 0.1, 'n_estimators': 75}\n",
      "Trade Date:  20151201\n",
      "{'max_features': 'sqrt', 'min_samples_leaf': 0.05, 'min_samples_split': 0.1, 'n_estimators': 200}\n",
      "Trade Date:  20160301\n",
      "{'max_features': 'sqrt', 'min_samples_leaf': 0.05, 'min_samples_split': 0.1, 'n_estimators': 75}\n",
      "Trade Date:  20160601\n",
      "{'max_features': 'sqrt', 'min_samples_leaf': 0.05, 'min_samples_split': 0.1, 'n_estimators': 75}\n",
      "Trade Date:  20160901\n",
      "{'max_features': 'sqrt', 'min_samples_leaf': 0.1, 'min_samples_split': 0.1, 'n_estimators': 100}\n",
      "Trade Date:  20161201\n",
      "{'max_features': 'sqrt', 'min_samples_leaf': 0.1, 'min_samples_split': 0.1, 'n_estimators': 75}\n",
      "Trade Date:  20170301\n",
      "{'max_features': 'sqrt', 'min_samples_leaf': 0.1, 'min_samples_split': 0.1, 'n_estimators': 75}\n",
      "Trade Date:  20170601\n",
      "Time Spent:  30.163649388154347  minutes\n"
     ]
    }
   ],
   "source": [
    "start = time.time()\n",
    "sector20_result=ml_model.run_4model(sector20_data,\n",
    "                          ['X1_REVGH', 'X2_EPS',\n",
    "       'X3_ROA', 'X4_ROE', 'X5_PE', 'X6_PS', 'X7_NPM', 'X8_GPM', 'X9_OM',\n",
    "       'X10_PB', 'X15_LTDTA', 'X17_DE', 'X19_DSI', 'X20_DPO'], label_column, date_column,tic_column,\n",
    "                         unique_ticker_sector20, unique_datetime, trade_date,\n",
    "                         first_trade_date_index,\n",
    "                         testing_windows)\n",
    "end = time.time()\n",
    "print('Time Spent: ',(end-start)/60,' minutes')"
   ]
  },
  {
   "cell_type": "code",
   "execution_count": 343,
   "metadata": {},
   "outputs": [],
   "source": [
    "\n",
    "df_predict_best = sector20_result[4].astype(np.float64)\n",
    "df_best_model_name = sector20_result[5]"
   ]
  },
  {
   "cell_type": "code",
   "execution_count": 344,
   "metadata": {},
   "outputs": [
    {
     "data": {
      "text/plain": [
       "gbm      41\n",
       "rf       20\n",
       "lr       15\n",
       "ridge    13\n",
       "Name: model_name, dtype: int64"
      ]
     },
     "execution_count": 344,
     "metadata": {},
     "output_type": "execute_result"
    }
   ],
   "source": [
    "df_best_model_name.model_name.value_counts()"
   ]
  },
  {
   "cell_type": "markdown",
   "metadata": {},
   "source": [
    "### save the model results"
   ]
  },
  {
   "cell_type": "code",
   "execution_count": 224,
   "metadata": {},
   "outputs": [],
   "source": [
    "ml_model.save_model_result(sector20_result,'sector20')"
   ]
  },
  {
   "cell_type": "markdown",
   "metadata": {},
   "source": [
    "## Sector 25"
   ]
  },
  {
   "cell_type": "code",
   "execution_count": 233,
   "metadata": {},
   "outputs": [
    {
     "data": {
      "text/plain": [
       "Index(['gvkey', 'tic', 'datadate', 'rdq', 'tradedate', 'fyearq', 'fqtr',\n",
       "       'conm', 'datacqtr', 'datafqtr', 'gsector', 'X1_REVGH', 'X2_EPS',\n",
       "       'X3_ROA', 'X4_ROE', 'X5_PE', 'X6_PS', 'X7_NPM', 'X8_GPM', 'X9_OM',\n",
       "       'X10_PB', 'X15_LTDTA', 'X17_DE', 'X19_DSI', 'X20_DPO', 'y_return'],\n",
       "      dtype='object')"
      ]
     },
     "execution_count": 233,
     "metadata": {},
     "output_type": "execute_result"
    }
   ],
   "source": [
    "sector25_data.columns"
   ]
  },
  {
   "cell_type": "code",
   "execution_count": 234,
   "metadata": {
    "scrolled": true
   },
   "outputs": [
    {
     "name": "stdout",
     "output_type": "stream",
     "text": [
      "{'max_features': 'sqrt', 'min_samples_leaf': 0.05, 'min_samples_split': 0.30000000000000004, 'n_estimators': 100}\n",
      "Trade Date:  19950601\n",
      "{'max_features': 'sqrt', 'min_samples_leaf': 0.05, 'min_samples_split': 0.5, 'n_estimators': 100}\n",
      "Trade Date:  19950901\n",
      "{'max_features': 'sqrt', 'min_samples_leaf': 0.05, 'min_samples_split': 0.1, 'n_estimators': 100}\n",
      "Trade Date:  19951201\n",
      "{'max_features': 'sqrt', 'min_samples_leaf': 0.05, 'min_samples_split': 0.1, 'n_estimators': 200}\n",
      "Trade Date:  19960301\n",
      "{'max_features': 'sqrt', 'min_samples_leaf': 0.05, 'min_samples_split': 0.30000000000000004, 'n_estimators': 75}\n",
      "Trade Date:  19960603\n",
      "{'max_features': 'sqrt', 'min_samples_leaf': 0.05, 'min_samples_split': 0.1, 'n_estimators': 200}\n",
      "Trade Date:  19960903\n",
      "{'max_features': 'sqrt', 'min_samples_leaf': 0.05, 'min_samples_split': 0.1, 'n_estimators': 100}\n",
      "Trade Date:  19961202\n",
      "{'max_features': 'sqrt', 'min_samples_leaf': 0.05, 'min_samples_split': 0.1, 'n_estimators': 100}\n",
      "Trade Date:  19970303\n",
      "{'max_features': 'sqrt', 'min_samples_leaf': 0.05, 'min_samples_split': 0.1, 'n_estimators': 200}\n",
      "Trade Date:  19970602\n",
      "{'max_features': 'sqrt', 'min_samples_leaf': 0.05, 'min_samples_split': 0.1, 'n_estimators': 200}\n",
      "Trade Date:  19970902\n",
      "{'max_features': 'sqrt', 'min_samples_leaf': 0.05, 'min_samples_split': 0.2, 'n_estimators': 75}\n",
      "Trade Date:  19971201\n",
      "{'max_features': 'sqrt', 'min_samples_leaf': 0.05, 'min_samples_split': 0.30000000000000004, 'n_estimators': 100}\n",
      "Trade Date:  19980302\n",
      "{'max_features': 'sqrt', 'min_samples_leaf': 0.05, 'min_samples_split': 0.1, 'n_estimators': 200}\n",
      "Trade Date:  19980601\n",
      "{'max_features': 'sqrt', 'min_samples_leaf': 0.05, 'min_samples_split': 0.2, 'n_estimators': 200}\n",
      "Trade Date:  19980901\n",
      "{'max_features': 'sqrt', 'min_samples_leaf': 0.05, 'min_samples_split': 0.2, 'n_estimators': 200}\n",
      "Trade Date:  19981201\n",
      "{'max_features': 'sqrt', 'min_samples_leaf': 0.05, 'min_samples_split': 0.2, 'n_estimators': 200}\n",
      "Trade Date:  19990301\n",
      "{'max_features': 'sqrt', 'min_samples_leaf': 0.05, 'min_samples_split': 0.30000000000000004, 'n_estimators': 100}\n",
      "Trade Date:  19990601\n",
      "{'max_features': 'sqrt', 'min_samples_leaf': 0.05, 'min_samples_split': 0.1, 'n_estimators': 100}\n",
      "Trade Date:  19990901\n",
      "{'max_features': 'sqrt', 'min_samples_leaf': 0.05, 'min_samples_split': 0.1, 'n_estimators': 200}\n",
      "Trade Date:  19991201\n",
      "{'max_features': 'sqrt', 'min_samples_leaf': 0.05, 'min_samples_split': 0.1, 'n_estimators': 200}\n",
      "Trade Date:  20000301\n",
      "{'max_features': 'sqrt', 'min_samples_leaf': 0.05, 'min_samples_split': 0.1, 'n_estimators': 100}\n",
      "Trade Date:  20000601\n",
      "{'max_features': 'sqrt', 'min_samples_leaf': 0.05, 'min_samples_split': 0.1, 'n_estimators': 200}\n",
      "Trade Date:  20000901\n",
      "{'max_features': 'sqrt', 'min_samples_leaf': 0.05, 'min_samples_split': 0.1, 'n_estimators': 200}\n",
      "Trade Date:  20001201\n",
      "{'max_features': 'sqrt', 'min_samples_leaf': 0.05, 'min_samples_split': 0.1, 'n_estimators': 200}\n",
      "Trade Date:  20010301\n",
      "{'max_features': 'sqrt', 'min_samples_leaf': 0.05, 'min_samples_split': 0.2, 'n_estimators': 75}\n",
      "Trade Date:  20010601\n",
      "{'max_features': 'sqrt', 'min_samples_leaf': 0.05, 'min_samples_split': 0.2, 'n_estimators': 200}\n",
      "Trade Date:  20010904\n",
      "{'max_features': 'sqrt', 'min_samples_leaf': 0.05, 'min_samples_split': 0.30000000000000004, 'n_estimators': 100}\n",
      "Trade Date:  20011203\n",
      "{'max_features': 'sqrt', 'min_samples_leaf': 0.05, 'min_samples_split': 0.4, 'n_estimators': 100}\n",
      "Trade Date:  20020301\n",
      "{'max_features': 'sqrt', 'min_samples_leaf': 0.05, 'min_samples_split': 0.5, 'n_estimators': 200}\n",
      "Trade Date:  20020603\n",
      "{'max_features': 'sqrt', 'min_samples_leaf': 0.05, 'min_samples_split': 0.4, 'n_estimators': 75}\n",
      "Trade Date:  20020903\n",
      "{'max_features': 'sqrt', 'min_samples_leaf': 0.05, 'min_samples_split': 0.30000000000000004, 'n_estimators': 200}\n",
      "Trade Date:  20021202\n",
      "{'max_features': 'sqrt', 'min_samples_leaf': 0.05, 'min_samples_split': 0.5, 'n_estimators': 200}\n",
      "Trade Date:  20030303\n",
      "{'max_features': 'sqrt', 'min_samples_leaf': 0.05, 'min_samples_split': 0.30000000000000004, 'n_estimators': 200}\n",
      "Trade Date:  20030602\n",
      "{'max_features': 'sqrt', 'min_samples_leaf': 0.05, 'min_samples_split': 0.5, 'n_estimators': 75}\n",
      "Trade Date:  20030902\n",
      "{'max_features': 'sqrt', 'min_samples_leaf': 0.05, 'min_samples_split': 0.5, 'n_estimators': 200}\n",
      "Trade Date:  20031201\n",
      "{'max_features': 'sqrt', 'min_samples_leaf': 0.2, 'min_samples_split': 0.5, 'n_estimators': 200}\n",
      "Trade Date:  20040301\n",
      "{'max_features': 'sqrt', 'min_samples_leaf': 0.05, 'min_samples_split': 0.5, 'n_estimators': 200}\n",
      "Trade Date:  20040601\n",
      "{'max_features': 'sqrt', 'min_samples_leaf': 0.05, 'min_samples_split': 0.5, 'n_estimators': 200}\n"
     ]
    },
    {
     "name": "stderr",
     "output_type": "stream",
     "text": [
      "/home/ubuntu/anaconda3/lib/python3.6/site-packages/sklearn/model_selection/_search.py:814: DeprecationWarning: The default of the `iid` parameter will change from True to False in version 0.22 and will be removed in 0.24. This will change numeric results when test-set sizes are unequal.\n",
      "  DeprecationWarning)\n"
     ]
    },
    {
     "name": "stdout",
     "output_type": "stream",
     "text": [
      "Trade Date:  20040901\n",
      "{'max_features': 'sqrt', 'min_samples_leaf': 0.05, 'min_samples_split': 0.5, 'n_estimators': 200}\n"
     ]
    },
    {
     "name": "stderr",
     "output_type": "stream",
     "text": [
      "/home/ubuntu/anaconda3/lib/python3.6/site-packages/sklearn/model_selection/_search.py:814: DeprecationWarning: The default of the `iid` parameter will change from True to False in version 0.22 and will be removed in 0.24. This will change numeric results when test-set sizes are unequal.\n",
      "  DeprecationWarning)\n"
     ]
    },
    {
     "name": "stdout",
     "output_type": "stream",
     "text": [
      "Trade Date:  20041201\n",
      "{'max_features': 'sqrt', 'min_samples_leaf': 0.05, 'min_samples_split': 0.5, 'n_estimators': 200}\n"
     ]
    },
    {
     "name": "stderr",
     "output_type": "stream",
     "text": [
      "/home/ubuntu/anaconda3/lib/python3.6/site-packages/sklearn/model_selection/_search.py:814: DeprecationWarning: The default of the `iid` parameter will change from True to False in version 0.22 and will be removed in 0.24. This will change numeric results when test-set sizes are unequal.\n",
      "  DeprecationWarning)\n"
     ]
    },
    {
     "name": "stdout",
     "output_type": "stream",
     "text": [
      "Trade Date:  20050301\n",
      "{'max_features': 'sqrt', 'min_samples_leaf': 0.05, 'min_samples_split': 0.5, 'n_estimators': 75}\n"
     ]
    },
    {
     "name": "stderr",
     "output_type": "stream",
     "text": [
      "/home/ubuntu/anaconda3/lib/python3.6/site-packages/sklearn/model_selection/_search.py:814: DeprecationWarning: The default of the `iid` parameter will change from True to False in version 0.22 and will be removed in 0.24. This will change numeric results when test-set sizes are unequal.\n",
      "  DeprecationWarning)\n"
     ]
    },
    {
     "name": "stdout",
     "output_type": "stream",
     "text": [
      "Trade Date:  20050601\n",
      "{'max_features': 'sqrt', 'min_samples_leaf': 0.05, 'min_samples_split': 0.4, 'n_estimators': 200}\n"
     ]
    },
    {
     "name": "stderr",
     "output_type": "stream",
     "text": [
      "/home/ubuntu/anaconda3/lib/python3.6/site-packages/sklearn/model_selection/_search.py:814: DeprecationWarning: The default of the `iid` parameter will change from True to False in version 0.22 and will be removed in 0.24. This will change numeric results when test-set sizes are unequal.\n",
      "  DeprecationWarning)\n"
     ]
    },
    {
     "name": "stdout",
     "output_type": "stream",
     "text": [
      "Trade Date:  20050901\n",
      "{'max_features': 'sqrt', 'min_samples_leaf': 0.05, 'min_samples_split': 0.5, 'n_estimators': 200}\n"
     ]
    },
    {
     "name": "stderr",
     "output_type": "stream",
     "text": [
      "/home/ubuntu/anaconda3/lib/python3.6/site-packages/sklearn/model_selection/_search.py:814: DeprecationWarning: The default of the `iid` parameter will change from True to False in version 0.22 and will be removed in 0.24. This will change numeric results when test-set sizes are unequal.\n",
      "  DeprecationWarning)\n"
     ]
    },
    {
     "name": "stdout",
     "output_type": "stream",
     "text": [
      "Trade Date:  20051201\n",
      "{'max_features': 'sqrt', 'min_samples_leaf': 0.2, 'min_samples_split': 0.5, 'n_estimators': 200}\n"
     ]
    },
    {
     "name": "stderr",
     "output_type": "stream",
     "text": [
      "/home/ubuntu/anaconda3/lib/python3.6/site-packages/sklearn/model_selection/_search.py:814: DeprecationWarning: The default of the `iid` parameter will change from True to False in version 0.22 and will be removed in 0.24. This will change numeric results when test-set sizes are unequal.\n",
      "  DeprecationWarning)\n"
     ]
    },
    {
     "name": "stdout",
     "output_type": "stream",
     "text": [
      "Trade Date:  20060301\n",
      "{'max_features': 'sqrt', 'min_samples_leaf': 0.2, 'min_samples_split': 0.5, 'n_estimators': 200}\n"
     ]
    },
    {
     "name": "stderr",
     "output_type": "stream",
     "text": [
      "/home/ubuntu/anaconda3/lib/python3.6/site-packages/sklearn/model_selection/_search.py:814: DeprecationWarning: The default of the `iid` parameter will change from True to False in version 0.22 and will be removed in 0.24. This will change numeric results when test-set sizes are unequal.\n",
      "  DeprecationWarning)\n"
     ]
    },
    {
     "name": "stdout",
     "output_type": "stream",
     "text": [
      "Trade Date:  20060601\n",
      "{'max_features': 'sqrt', 'min_samples_leaf': 0.05, 'min_samples_split': 0.4, 'n_estimators': 200}\n",
      "Trade Date:  20060901\n",
      "{'max_features': 'sqrt', 'min_samples_leaf': 0.05, 'min_samples_split': 0.4, 'n_estimators': 200}\n"
     ]
    },
    {
     "name": "stderr",
     "output_type": "stream",
     "text": [
      "/home/ubuntu/anaconda3/lib/python3.6/site-packages/sklearn/model_selection/_search.py:814: DeprecationWarning: The default of the `iid` parameter will change from True to False in version 0.22 and will be removed in 0.24. This will change numeric results when test-set sizes are unequal.\n",
      "  DeprecationWarning)\n"
     ]
    },
    {
     "name": "stdout",
     "output_type": "stream",
     "text": [
      "Trade Date:  20061201\n",
      "{'max_features': 'sqrt', 'min_samples_leaf': 0.05, 'min_samples_split': 0.5, 'n_estimators': 100}\n",
      "Trade Date:  20070301\n",
      "{'max_features': 'sqrt', 'min_samples_leaf': 0.05, 'min_samples_split': 0.5, 'n_estimators': 75}\n",
      "Trade Date:  20070601\n",
      "{'max_features': 'sqrt', 'min_samples_leaf': 0.05, 'min_samples_split': 0.5, 'n_estimators': 200}\n",
      "Trade Date:  20070904\n",
      "{'max_features': 'sqrt', 'min_samples_leaf': 0.05, 'min_samples_split': 0.4, 'n_estimators': 200}\n"
     ]
    },
    {
     "name": "stderr",
     "output_type": "stream",
     "text": [
      "/home/ubuntu/anaconda3/lib/python3.6/site-packages/sklearn/model_selection/_search.py:814: DeprecationWarning: The default of the `iid` parameter will change from True to False in version 0.22 and will be removed in 0.24. This will change numeric results when test-set sizes are unequal.\n",
      "  DeprecationWarning)\n"
     ]
    },
    {
     "name": "stdout",
     "output_type": "stream",
     "text": [
      "Trade Date:  20071203\n",
      "{'max_features': 'sqrt', 'min_samples_leaf': 0.05, 'min_samples_split': 0.4, 'n_estimators': 200}\n"
     ]
    },
    {
     "name": "stderr",
     "output_type": "stream",
     "text": [
      "/home/ubuntu/anaconda3/lib/python3.6/site-packages/sklearn/model_selection/_search.py:814: DeprecationWarning: The default of the `iid` parameter will change from True to False in version 0.22 and will be removed in 0.24. This will change numeric results when test-set sizes are unequal.\n",
      "  DeprecationWarning)\n"
     ]
    },
    {
     "name": "stdout",
     "output_type": "stream",
     "text": [
      "Trade Date:  20080303\n",
      "{'max_features': 'sqrt', 'min_samples_leaf': 0.05, 'min_samples_split': 0.5, 'n_estimators': 100}\n",
      "Trade Date:  20080602\n",
      "{'max_features': 'sqrt', 'min_samples_leaf': 0.2, 'min_samples_split': 0.5, 'n_estimators': 200}\n"
     ]
    },
    {
     "name": "stderr",
     "output_type": "stream",
     "text": [
      "/home/ubuntu/anaconda3/lib/python3.6/site-packages/sklearn/model_selection/_search.py:814: DeprecationWarning: The default of the `iid` parameter will change from True to False in version 0.22 and will be removed in 0.24. This will change numeric results when test-set sizes are unequal.\n",
      "  DeprecationWarning)\n"
     ]
    },
    {
     "name": "stdout",
     "output_type": "stream",
     "text": [
      "Trade Date:  20080902\n",
      "{'max_features': 'sqrt', 'min_samples_leaf': 0.2, 'min_samples_split': 0.5, 'n_estimators': 200}\n"
     ]
    },
    {
     "name": "stderr",
     "output_type": "stream",
     "text": [
      "/home/ubuntu/anaconda3/lib/python3.6/site-packages/sklearn/model_selection/_search.py:814: DeprecationWarning: The default of the `iid` parameter will change from True to False in version 0.22 and will be removed in 0.24. This will change numeric results when test-set sizes are unequal.\n",
      "  DeprecationWarning)\n"
     ]
    },
    {
     "name": "stdout",
     "output_type": "stream",
     "text": [
      "Trade Date:  20081201\n",
      "{'max_features': 'sqrt', 'min_samples_leaf': 0.2, 'min_samples_split': 0.5, 'n_estimators': 200}\n",
      "Trade Date:  20090302\n",
      "{'max_features': 'sqrt', 'min_samples_leaf': 0.05, 'min_samples_split': 0.5, 'n_estimators': 75}\n"
     ]
    },
    {
     "name": "stderr",
     "output_type": "stream",
     "text": [
      "/home/ubuntu/anaconda3/lib/python3.6/site-packages/sklearn/model_selection/_search.py:814: DeprecationWarning: The default of the `iid` parameter will change from True to False in version 0.22 and will be removed in 0.24. This will change numeric results when test-set sizes are unequal.\n",
      "  DeprecationWarning)\n"
     ]
    },
    {
     "name": "stdout",
     "output_type": "stream",
     "text": [
      "Trade Date:  20090601\n",
      "{'max_features': 'sqrt', 'min_samples_leaf': 0.2, 'min_samples_split': 0.1, 'n_estimators': 100}\n",
      "Trade Date:  20090901\n",
      "{'max_features': 'sqrt', 'min_samples_leaf': 0.05, 'min_samples_split': 0.5, 'n_estimators': 75}\n"
     ]
    },
    {
     "name": "stderr",
     "output_type": "stream",
     "text": [
      "/home/ubuntu/anaconda3/lib/python3.6/site-packages/sklearn/model_selection/_search.py:814: DeprecationWarning: The default of the `iid` parameter will change from True to False in version 0.22 and will be removed in 0.24. This will change numeric results when test-set sizes are unequal.\n",
      "  DeprecationWarning)\n"
     ]
    },
    {
     "name": "stdout",
     "output_type": "stream",
     "text": [
      "Trade Date:  20091201\n",
      "{'max_features': 'sqrt', 'min_samples_leaf': 0.05, 'min_samples_split': 0.4, 'n_estimators': 100}\n"
     ]
    },
    {
     "name": "stderr",
     "output_type": "stream",
     "text": [
      "/home/ubuntu/anaconda3/lib/python3.6/site-packages/sklearn/model_selection/_search.py:814: DeprecationWarning: The default of the `iid` parameter will change from True to False in version 0.22 and will be removed in 0.24. This will change numeric results when test-set sizes are unequal.\n",
      "  DeprecationWarning)\n"
     ]
    },
    {
     "name": "stdout",
     "output_type": "stream",
     "text": [
      "Trade Date:  20100301\n",
      "{'max_features': 'sqrt', 'min_samples_leaf': 0.2, 'min_samples_split': 0.5, 'n_estimators': 75}\n"
     ]
    },
    {
     "name": "stderr",
     "output_type": "stream",
     "text": [
      "/home/ubuntu/anaconda3/lib/python3.6/site-packages/sklearn/model_selection/_search.py:814: DeprecationWarning: The default of the `iid` parameter will change from True to False in version 0.22 and will be removed in 0.24. This will change numeric results when test-set sizes are unequal.\n",
      "  DeprecationWarning)\n"
     ]
    },
    {
     "name": "stdout",
     "output_type": "stream",
     "text": [
      "Trade Date:  20100601\n",
      "{'max_features': 'sqrt', 'min_samples_leaf': 0.2, 'min_samples_split': 0.5, 'n_estimators': 75}\n",
      "Trade Date:  20100901\n",
      "{'max_features': 'sqrt', 'min_samples_leaf': 0.05, 'min_samples_split': 0.2, 'n_estimators': 100}\n",
      "Trade Date:  20101201\n",
      "{'max_features': 'sqrt', 'min_samples_leaf': 0.05, 'min_samples_split': 0.2, 'n_estimators': 100}\n"
     ]
    },
    {
     "name": "stderr",
     "output_type": "stream",
     "text": [
      "/home/ubuntu/anaconda3/lib/python3.6/site-packages/sklearn/model_selection/_search.py:814: DeprecationWarning: The default of the `iid` parameter will change from True to False in version 0.22 and will be removed in 0.24. This will change numeric results when test-set sizes are unequal.\n",
      "  DeprecationWarning)\n"
     ]
    },
    {
     "name": "stdout",
     "output_type": "stream",
     "text": [
      "Trade Date:  20110301\n",
      "{'max_features': 'sqrt', 'min_samples_leaf': 0.05, 'min_samples_split': 0.2, 'n_estimators': 75}\n",
      "Trade Date:  20110601\n",
      "{'max_features': 'sqrt', 'min_samples_leaf': 0.2, 'min_samples_split': 0.5, 'n_estimators': 100}\n"
     ]
    },
    {
     "name": "stderr",
     "output_type": "stream",
     "text": [
      "/home/ubuntu/anaconda3/lib/python3.6/site-packages/sklearn/model_selection/_search.py:814: DeprecationWarning: The default of the `iid` parameter will change from True to False in version 0.22 and will be removed in 0.24. This will change numeric results when test-set sizes are unequal.\n",
      "  DeprecationWarning)\n"
     ]
    },
    {
     "name": "stdout",
     "output_type": "stream",
     "text": [
      "Trade Date:  20110901\n",
      "{'max_features': 'sqrt', 'min_samples_leaf': 0.05, 'min_samples_split': 0.2, 'n_estimators': 200}\n"
     ]
    },
    {
     "name": "stderr",
     "output_type": "stream",
     "text": [
      "/home/ubuntu/anaconda3/lib/python3.6/site-packages/sklearn/model_selection/_search.py:814: DeprecationWarning: The default of the `iid` parameter will change from True to False in version 0.22 and will be removed in 0.24. This will change numeric results when test-set sizes are unequal.\n",
      "  DeprecationWarning)\n"
     ]
    },
    {
     "name": "stdout",
     "output_type": "stream",
     "text": [
      "Trade Date:  20111201\n",
      "{'max_features': 'sqrt', 'min_samples_leaf': 0.05, 'min_samples_split': 0.4, 'n_estimators': 200}\n",
      "Trade Date:  20120301\n",
      "{'max_features': 'sqrt', 'min_samples_leaf': 0.05, 'min_samples_split': 0.2, 'n_estimators': 100}\n"
     ]
    },
    {
     "name": "stderr",
     "output_type": "stream",
     "text": [
      "/home/ubuntu/anaconda3/lib/python3.6/site-packages/sklearn/model_selection/_search.py:814: DeprecationWarning: The default of the `iid` parameter will change from True to False in version 0.22 and will be removed in 0.24. This will change numeric results when test-set sizes are unequal.\n",
      "  DeprecationWarning)\n"
     ]
    },
    {
     "name": "stdout",
     "output_type": "stream",
     "text": [
      "Trade Date:  20120601\n",
      "{'max_features': 'sqrt', 'min_samples_leaf': 0.05, 'min_samples_split': 0.30000000000000004, 'n_estimators': 200}\n"
     ]
    },
    {
     "name": "stderr",
     "output_type": "stream",
     "text": [
      "/home/ubuntu/anaconda3/lib/python3.6/site-packages/sklearn/model_selection/_search.py:814: DeprecationWarning: The default of the `iid` parameter will change from True to False in version 0.22 and will be removed in 0.24. This will change numeric results when test-set sizes are unequal.\n",
      "  DeprecationWarning)\n"
     ]
    },
    {
     "name": "stdout",
     "output_type": "stream",
     "text": [
      "Trade Date:  20120904\n",
      "{'max_features': 'sqrt', 'min_samples_leaf': 0.05, 'min_samples_split': 0.30000000000000004, 'n_estimators': 200}\n",
      "Trade Date:  20121203\n",
      "{'max_features': 'sqrt', 'min_samples_leaf': 0.05, 'min_samples_split': 0.4, 'n_estimators': 100}\n"
     ]
    },
    {
     "name": "stderr",
     "output_type": "stream",
     "text": [
      "/home/ubuntu/anaconda3/lib/python3.6/site-packages/sklearn/model_selection/_search.py:814: DeprecationWarning: The default of the `iid` parameter will change from True to False in version 0.22 and will be removed in 0.24. This will change numeric results when test-set sizes are unequal.\n",
      "  DeprecationWarning)\n"
     ]
    },
    {
     "name": "stdout",
     "output_type": "stream",
     "text": [
      "Trade Date:  20130301\n",
      "{'max_features': 'sqrt', 'min_samples_leaf': 0.05, 'min_samples_split': 0.2, 'n_estimators': 100}\n"
     ]
    },
    {
     "name": "stderr",
     "output_type": "stream",
     "text": [
      "/home/ubuntu/anaconda3/lib/python3.6/site-packages/sklearn/model_selection/_search.py:814: DeprecationWarning: The default of the `iid` parameter will change from True to False in version 0.22 and will be removed in 0.24. This will change numeric results when test-set sizes are unequal.\n",
      "  DeprecationWarning)\n"
     ]
    },
    {
     "name": "stdout",
     "output_type": "stream",
     "text": [
      "Trade Date:  20130603\n",
      "{'max_features': 'sqrt', 'min_samples_leaf': 0.05, 'min_samples_split': 0.4, 'n_estimators': 75}\n"
     ]
    },
    {
     "name": "stderr",
     "output_type": "stream",
     "text": [
      "/home/ubuntu/anaconda3/lib/python3.6/site-packages/sklearn/model_selection/_search.py:814: DeprecationWarning: The default of the `iid` parameter will change from True to False in version 0.22 and will be removed in 0.24. This will change numeric results when test-set sizes are unequal.\n",
      "  DeprecationWarning)\n"
     ]
    },
    {
     "name": "stdout",
     "output_type": "stream",
     "text": [
      "Trade Date:  20130903\n",
      "{'max_features': 'sqrt', 'min_samples_leaf': 0.05, 'min_samples_split': 0.4, 'n_estimators': 75}\n",
      "Trade Date:  20131202\n",
      "{'max_features': 'sqrt', 'min_samples_leaf': 0.05, 'min_samples_split': 0.2, 'n_estimators': 75}\n"
     ]
    },
    {
     "name": "stderr",
     "output_type": "stream",
     "text": [
      "/home/ubuntu/anaconda3/lib/python3.6/site-packages/sklearn/model_selection/_search.py:814: DeprecationWarning: The default of the `iid` parameter will change from True to False in version 0.22 and will be removed in 0.24. This will change numeric results when test-set sizes are unequal.\n",
      "  DeprecationWarning)\n"
     ]
    },
    {
     "name": "stdout",
     "output_type": "stream",
     "text": [
      "Trade Date:  20140303\n",
      "{'max_features': 'sqrt', 'min_samples_leaf': 0.05, 'min_samples_split': 0.30000000000000004, 'n_estimators': 75}\n"
     ]
    },
    {
     "name": "stderr",
     "output_type": "stream",
     "text": [
      "/home/ubuntu/anaconda3/lib/python3.6/site-packages/sklearn/model_selection/_search.py:814: DeprecationWarning: The default of the `iid` parameter will change from True to False in version 0.22 and will be removed in 0.24. This will change numeric results when test-set sizes are unequal.\n",
      "  DeprecationWarning)\n"
     ]
    },
    {
     "name": "stdout",
     "output_type": "stream",
     "text": [
      "Trade Date:  20140602\n",
      "{'max_features': 'sqrt', 'min_samples_leaf': 0.05, 'min_samples_split': 0.5, 'n_estimators': 75}\n"
     ]
    },
    {
     "name": "stderr",
     "output_type": "stream",
     "text": [
      "/home/ubuntu/anaconda3/lib/python3.6/site-packages/sklearn/model_selection/_search.py:814: DeprecationWarning: The default of the `iid` parameter will change from True to False in version 0.22 and will be removed in 0.24. This will change numeric results when test-set sizes are unequal.\n",
      "  DeprecationWarning)\n"
     ]
    },
    {
     "name": "stdout",
     "output_type": "stream",
     "text": [
      "Trade Date:  20140902\n",
      "{'max_features': 'sqrt', 'min_samples_leaf': 0.05, 'min_samples_split': 0.4, 'n_estimators': 75}\n"
     ]
    },
    {
     "name": "stderr",
     "output_type": "stream",
     "text": [
      "/home/ubuntu/anaconda3/lib/python3.6/site-packages/sklearn/model_selection/_search.py:814: DeprecationWarning: The default of the `iid` parameter will change from True to False in version 0.22 and will be removed in 0.24. This will change numeric results when test-set sizes are unequal.\n",
      "  DeprecationWarning)\n"
     ]
    },
    {
     "name": "stdout",
     "output_type": "stream",
     "text": [
      "Trade Date:  20141201\n",
      "{'max_features': 'sqrt', 'min_samples_leaf': 0.05, 'min_samples_split': 0.1, 'n_estimators': 200}\n"
     ]
    },
    {
     "name": "stderr",
     "output_type": "stream",
     "text": [
      "/home/ubuntu/anaconda3/lib/python3.6/site-packages/sklearn/model_selection/_search.py:814: DeprecationWarning: The default of the `iid` parameter will change from True to False in version 0.22 and will be removed in 0.24. This will change numeric results when test-set sizes are unequal.\n",
      "  DeprecationWarning)\n"
     ]
    },
    {
     "name": "stdout",
     "output_type": "stream",
     "text": [
      "Trade Date:  20150302\n",
      "{'max_features': 'sqrt', 'min_samples_leaf': 0.05, 'min_samples_split': 0.4, 'n_estimators': 75}\n"
     ]
    },
    {
     "name": "stderr",
     "output_type": "stream",
     "text": [
      "/home/ubuntu/anaconda3/lib/python3.6/site-packages/sklearn/model_selection/_search.py:814: DeprecationWarning: The default of the `iid` parameter will change from True to False in version 0.22 and will be removed in 0.24. This will change numeric results when test-set sizes are unequal.\n",
      "  DeprecationWarning)\n"
     ]
    },
    {
     "name": "stdout",
     "output_type": "stream",
     "text": [
      "Trade Date:  20150601\n",
      "{'max_features': 'sqrt', 'min_samples_leaf': 0.05, 'min_samples_split': 0.30000000000000004, 'n_estimators': 75}\n"
     ]
    },
    {
     "name": "stderr",
     "output_type": "stream",
     "text": [
      "/home/ubuntu/anaconda3/lib/python3.6/site-packages/sklearn/model_selection/_search.py:814: DeprecationWarning: The default of the `iid` parameter will change from True to False in version 0.22 and will be removed in 0.24. This will change numeric results when test-set sizes are unequal.\n",
      "  DeprecationWarning)\n"
     ]
    },
    {
     "name": "stdout",
     "output_type": "stream",
     "text": [
      "Trade Date:  20150901\n",
      "{'max_features': 'sqrt', 'min_samples_leaf': 0.05, 'min_samples_split': 0.1, 'n_estimators': 100}\n",
      "Trade Date:  20151201\n",
      "{'max_features': 'sqrt', 'min_samples_leaf': 0.05, 'min_samples_split': 0.2, 'n_estimators': 75}\n"
     ]
    },
    {
     "name": "stderr",
     "output_type": "stream",
     "text": [
      "/home/ubuntu/anaconda3/lib/python3.6/site-packages/sklearn/model_selection/_search.py:814: DeprecationWarning: The default of the `iid` parameter will change from True to False in version 0.22 and will be removed in 0.24. This will change numeric results when test-set sizes are unequal.\n",
      "  DeprecationWarning)\n"
     ]
    },
    {
     "name": "stdout",
     "output_type": "stream",
     "text": [
      "Trade Date:  20160301\n",
      "{'max_features': 'sqrt', 'min_samples_leaf': 0.05, 'min_samples_split': 0.2, 'n_estimators': 75}\n",
      "Trade Date:  20160601\n",
      "{'max_features': 'sqrt', 'min_samples_leaf': 0.05, 'min_samples_split': 0.2, 'n_estimators': 100}\n"
     ]
    },
    {
     "name": "stderr",
     "output_type": "stream",
     "text": [
      "/home/ubuntu/anaconda3/lib/python3.6/site-packages/sklearn/model_selection/_search.py:814: DeprecationWarning: The default of the `iid` parameter will change from True to False in version 0.22 and will be removed in 0.24. This will change numeric results when test-set sizes are unequal.\n",
      "  DeprecationWarning)\n"
     ]
    },
    {
     "name": "stdout",
     "output_type": "stream",
     "text": [
      "Trade Date:  20160901\n",
      "{'max_features': 'sqrt', 'min_samples_leaf': 0.05, 'min_samples_split': 0.1, 'n_estimators': 100}\n"
     ]
    },
    {
     "name": "stderr",
     "output_type": "stream",
     "text": [
      "/home/ubuntu/anaconda3/lib/python3.6/site-packages/sklearn/model_selection/_search.py:814: DeprecationWarning: The default of the `iid` parameter will change from True to False in version 0.22 and will be removed in 0.24. This will change numeric results when test-set sizes are unequal.\n",
      "  DeprecationWarning)\n"
     ]
    },
    {
     "name": "stdout",
     "output_type": "stream",
     "text": [
      "Trade Date:  20161201\n",
      "{'max_features': 'sqrt', 'min_samples_leaf': 0.05, 'min_samples_split': 0.1, 'n_estimators': 200}\n"
     ]
    },
    {
     "name": "stderr",
     "output_type": "stream",
     "text": [
      "/home/ubuntu/anaconda3/lib/python3.6/site-packages/sklearn/model_selection/_search.py:814: DeprecationWarning: The default of the `iid` parameter will change from True to False in version 0.22 and will be removed in 0.24. This will change numeric results when test-set sizes are unequal.\n",
      "  DeprecationWarning)\n"
     ]
    },
    {
     "name": "stdout",
     "output_type": "stream",
     "text": [
      "Trade Date:  20170301\n",
      "{'max_features': 'sqrt', 'min_samples_leaf': 0.05, 'min_samples_split': 0.2, 'n_estimators': 75}\n",
      "Trade Date:  20170601\n",
      "Time Spent:  34.94080534776052  minutes\n"
     ]
    }
   ],
   "source": [
    "start = time.time()\n",
    "sector25_result=ml_model.run_4model(sector25_data,\n",
    "                          ['X1_REVGH', 'X2_EPS',\n",
    "       'X3_ROA', 'X4_ROE', 'X5_PE', 'X6_PS', 'X7_NPM', 'X8_GPM', 'X9_OM',\n",
    "       'X10_PB', 'X15_LTDTA', 'X17_DE', 'X19_DSI', 'X20_DPO'], label_column, date_column,tic_column,\n",
    "                         unique_ticker_sector25, unique_datetime, trade_date,\n",
    "                         first_trade_date_index,\n",
    "                         testing_windows)\n",
    "end = time.time()\n",
    "print('Time Spent: ',(end-start)/60,' minutes')"
   ]
  },
  {
   "cell_type": "code",
   "execution_count": 373,
   "metadata": {},
   "outputs": [],
   "source": [
    "\n",
    "df_predict_best = sector25_result[4].astype(np.float64)\n",
    "df_best_model_name = sector25_result[5]"
   ]
  },
  {
   "cell_type": "code",
   "execution_count": 374,
   "metadata": {},
   "outputs": [
    {
     "data": {
      "text/plain": [
       "gbm      45\n",
       "rf       36\n",
       "lr        5\n",
       "ridge     3\n",
       "Name: model_name, dtype: int64"
      ]
     },
     "execution_count": 374,
     "metadata": {},
     "output_type": "execute_result"
    }
   ],
   "source": [
    "df_best_model_name.model_name.value_counts()"
   ]
  },
  {
   "cell_type": "markdown",
   "metadata": {},
   "source": [
    "### save the model results"
   ]
  },
  {
   "cell_type": "code",
   "execution_count": 237,
   "metadata": {},
   "outputs": [],
   "source": [
    "ml_model.save_model_result(sector25_result,'sector25')"
   ]
  },
  {
   "cell_type": "markdown",
   "metadata": {},
   "source": [
    "## Sector 30"
   ]
  },
  {
   "cell_type": "code",
   "execution_count": 246,
   "metadata": {},
   "outputs": [
    {
     "data": {
      "text/plain": [
       "Index(['gvkey', 'tic', 'datadate', 'rdq', 'tradedate', 'fyearq', 'fqtr',\n",
       "       'conm', 'datacqtr', 'datafqtr', 'gsector', 'X1_REVGH', 'X2_EPS',\n",
       "       'X3_ROA', 'X4_ROE', 'X5_PE', 'X6_PS', 'X7_NPM', 'X8_GPM', 'X9_OM',\n",
       "       'X10_PB', 'X12_CR', 'X15_LTDTA', 'X16_WCR', 'X17_DE', 'X18_QR',\n",
       "       'X19_DSI', 'X20_DPO', 'y_return'],\n",
       "      dtype='object')"
      ]
     },
     "execution_count": 246,
     "metadata": {},
     "output_type": "execute_result"
    }
   ],
   "source": [
    "sector30_data.columns"
   ]
  },
  {
   "cell_type": "code",
   "execution_count": 247,
   "metadata": {
    "scrolled": true
   },
   "outputs": [
    {
     "name": "stdout",
     "output_type": "stream",
     "text": [
      "{'max_features': 'sqrt', 'min_samples_leaf': 0.05, 'min_samples_split': 0.2, 'n_estimators': 100}\n"
     ]
    },
    {
     "name": "stderr",
     "output_type": "stream",
     "text": [
      "/home/ubuntu/anaconda3/lib/python3.6/site-packages/sklearn/model_selection/_search.py:814: DeprecationWarning: The default of the `iid` parameter will change from True to False in version 0.22 and will be removed in 0.24. This will change numeric results when test-set sizes are unequal.\n",
      "  DeprecationWarning)\n"
     ]
    },
    {
     "name": "stdout",
     "output_type": "stream",
     "text": [
      "Trade Date:  19950601\n",
      "{'max_features': 'sqrt', 'min_samples_leaf': 0.05, 'min_samples_split': 0.2, 'n_estimators': 200}\n"
     ]
    },
    {
     "name": "stderr",
     "output_type": "stream",
     "text": [
      "/home/ubuntu/anaconda3/lib/python3.6/site-packages/sklearn/model_selection/_search.py:814: DeprecationWarning: The default of the `iid` parameter will change from True to False in version 0.22 and will be removed in 0.24. This will change numeric results when test-set sizes are unequal.\n",
      "  DeprecationWarning)\n"
     ]
    },
    {
     "name": "stdout",
     "output_type": "stream",
     "text": [
      "Trade Date:  19950901\n",
      "{'max_features': 'sqrt', 'min_samples_leaf': 0.05, 'min_samples_split': 0.1, 'n_estimators': 100}\n",
      "Trade Date:  19951201\n",
      "{'max_features': 'sqrt', 'min_samples_leaf': 0.05, 'min_samples_split': 0.1, 'n_estimators': 100}\n",
      "Trade Date:  19960301\n",
      "{'max_features': 'sqrt', 'min_samples_leaf': 0.05, 'min_samples_split': 0.1, 'n_estimators': 100}\n"
     ]
    },
    {
     "name": "stderr",
     "output_type": "stream",
     "text": [
      "/home/ubuntu/anaconda3/lib/python3.6/site-packages/sklearn/model_selection/_search.py:814: DeprecationWarning: The default of the `iid` parameter will change from True to False in version 0.22 and will be removed in 0.24. This will change numeric results when test-set sizes are unequal.\n",
      "  DeprecationWarning)\n"
     ]
    },
    {
     "name": "stdout",
     "output_type": "stream",
     "text": [
      "Trade Date:  19960603\n",
      "{'max_features': 'sqrt', 'min_samples_leaf': 0.05, 'min_samples_split': 0.1, 'n_estimators': 75}\n"
     ]
    },
    {
     "name": "stderr",
     "output_type": "stream",
     "text": [
      "/home/ubuntu/anaconda3/lib/python3.6/site-packages/sklearn/model_selection/_search.py:814: DeprecationWarning: The default of the `iid` parameter will change from True to False in version 0.22 and will be removed in 0.24. This will change numeric results when test-set sizes are unequal.\n",
      "  DeprecationWarning)\n"
     ]
    },
    {
     "name": "stdout",
     "output_type": "stream",
     "text": [
      "Trade Date:  19960903\n",
      "{'max_features': 'sqrt', 'min_samples_leaf': 0.05, 'min_samples_split': 0.2, 'n_estimators': 100}\n"
     ]
    },
    {
     "name": "stderr",
     "output_type": "stream",
     "text": [
      "/home/ubuntu/anaconda3/lib/python3.6/site-packages/sklearn/model_selection/_search.py:814: DeprecationWarning: The default of the `iid` parameter will change from True to False in version 0.22 and will be removed in 0.24. This will change numeric results when test-set sizes are unequal.\n",
      "  DeprecationWarning)\n"
     ]
    },
    {
     "name": "stdout",
     "output_type": "stream",
     "text": [
      "Trade Date:  19961202\n",
      "{'max_features': 'sqrt', 'min_samples_leaf': 0.05, 'min_samples_split': 0.1, 'n_estimators': 200}\n",
      "Trade Date:  19970303\n",
      "{'max_features': 'sqrt', 'min_samples_leaf': 0.05, 'min_samples_split': 0.2, 'n_estimators': 75}\n"
     ]
    },
    {
     "name": "stderr",
     "output_type": "stream",
     "text": [
      "/home/ubuntu/anaconda3/lib/python3.6/site-packages/sklearn/model_selection/_search.py:814: DeprecationWarning: The default of the `iid` parameter will change from True to False in version 0.22 and will be removed in 0.24. This will change numeric results when test-set sizes are unequal.\n",
      "  DeprecationWarning)\n"
     ]
    },
    {
     "name": "stdout",
     "output_type": "stream",
     "text": [
      "Trade Date:  19970602\n",
      "{'max_features': 'sqrt', 'min_samples_leaf': 0.1, 'min_samples_split': 0.1, 'n_estimators': 100}\n"
     ]
    },
    {
     "name": "stderr",
     "output_type": "stream",
     "text": [
      "/home/ubuntu/anaconda3/lib/python3.6/site-packages/sklearn/model_selection/_search.py:814: DeprecationWarning: The default of the `iid` parameter will change from True to False in version 0.22 and will be removed in 0.24. This will change numeric results when test-set sizes are unequal.\n",
      "  DeprecationWarning)\n"
     ]
    },
    {
     "name": "stdout",
     "output_type": "stream",
     "text": [
      "Trade Date:  19970902\n",
      "{'max_features': 'sqrt', 'min_samples_leaf': 0.05, 'min_samples_split': 0.30000000000000004, 'n_estimators': 75}\n",
      "Trade Date:  19971201\n",
      "{'max_features': 'sqrt', 'min_samples_leaf': 0.05, 'min_samples_split': 0.30000000000000004, 'n_estimators': 75}\n",
      "Trade Date:  19980302\n",
      "{'max_features': 'sqrt', 'min_samples_leaf': 0.05, 'min_samples_split': 0.2, 'n_estimators': 200}\n"
     ]
    },
    {
     "name": "stderr",
     "output_type": "stream",
     "text": [
      "/home/ubuntu/anaconda3/lib/python3.6/site-packages/sklearn/model_selection/_search.py:814: DeprecationWarning: The default of the `iid` parameter will change from True to False in version 0.22 and will be removed in 0.24. This will change numeric results when test-set sizes are unequal.\n",
      "  DeprecationWarning)\n"
     ]
    },
    {
     "name": "stdout",
     "output_type": "stream",
     "text": [
      "Trade Date:  19980601\n",
      "{'max_features': 'sqrt', 'min_samples_leaf': 0.1, 'min_samples_split': 0.30000000000000004, 'n_estimators': 75}\n",
      "Trade Date:  19980901\n",
      "{'max_features': 'sqrt', 'min_samples_leaf': 0.1, 'min_samples_split': 0.30000000000000004, 'n_estimators': 200}\n"
     ]
    },
    {
     "name": "stderr",
     "output_type": "stream",
     "text": [
      "/home/ubuntu/anaconda3/lib/python3.6/site-packages/sklearn/model_selection/_search.py:814: DeprecationWarning: The default of the `iid` parameter will change from True to False in version 0.22 and will be removed in 0.24. This will change numeric results when test-set sizes are unequal.\n",
      "  DeprecationWarning)\n"
     ]
    },
    {
     "name": "stdout",
     "output_type": "stream",
     "text": [
      "Trade Date:  19981201\n",
      "{'max_features': 'sqrt', 'min_samples_leaf': 0.05, 'min_samples_split': 0.30000000000000004, 'n_estimators': 75}\n"
     ]
    },
    {
     "name": "stderr",
     "output_type": "stream",
     "text": [
      "/home/ubuntu/anaconda3/lib/python3.6/site-packages/sklearn/model_selection/_search.py:814: DeprecationWarning: The default of the `iid` parameter will change from True to False in version 0.22 and will be removed in 0.24. This will change numeric results when test-set sizes are unequal.\n",
      "  DeprecationWarning)\n"
     ]
    },
    {
     "name": "stdout",
     "output_type": "stream",
     "text": [
      "Trade Date:  19990301\n",
      "{'max_features': 'sqrt', 'min_samples_leaf': 0.05, 'min_samples_split': 0.5, 'n_estimators': 75}\n"
     ]
    },
    {
     "name": "stderr",
     "output_type": "stream",
     "text": [
      "/home/ubuntu/anaconda3/lib/python3.6/site-packages/sklearn/model_selection/_search.py:814: DeprecationWarning: The default of the `iid` parameter will change from True to False in version 0.22 and will be removed in 0.24. This will change numeric results when test-set sizes are unequal.\n",
      "  DeprecationWarning)\n"
     ]
    },
    {
     "name": "stdout",
     "output_type": "stream",
     "text": [
      "Trade Date:  19990601\n",
      "{'max_features': 'sqrt', 'min_samples_leaf': 0.05, 'min_samples_split': 0.2, 'n_estimators': 200}\n"
     ]
    },
    {
     "name": "stderr",
     "output_type": "stream",
     "text": [
      "/home/ubuntu/anaconda3/lib/python3.6/site-packages/sklearn/model_selection/_search.py:814: DeprecationWarning: The default of the `iid` parameter will change from True to False in version 0.22 and will be removed in 0.24. This will change numeric results when test-set sizes are unequal.\n",
      "  DeprecationWarning)\n"
     ]
    },
    {
     "name": "stdout",
     "output_type": "stream",
     "text": [
      "Trade Date:  19990901\n",
      "{'max_features': 'sqrt', 'min_samples_leaf': 0.05, 'min_samples_split': 0.30000000000000004, 'n_estimators': 200}\n"
     ]
    },
    {
     "name": "stderr",
     "output_type": "stream",
     "text": [
      "/home/ubuntu/anaconda3/lib/python3.6/site-packages/sklearn/model_selection/_search.py:814: DeprecationWarning: The default of the `iid` parameter will change from True to False in version 0.22 and will be removed in 0.24. This will change numeric results when test-set sizes are unequal.\n",
      "  DeprecationWarning)\n"
     ]
    },
    {
     "name": "stdout",
     "output_type": "stream",
     "text": [
      "Trade Date:  19991201\n",
      "{'max_features': 'sqrt', 'min_samples_leaf': 0.05, 'min_samples_split': 0.1, 'n_estimators': 75}\n"
     ]
    },
    {
     "name": "stderr",
     "output_type": "stream",
     "text": [
      "/home/ubuntu/anaconda3/lib/python3.6/site-packages/sklearn/model_selection/_search.py:814: DeprecationWarning: The default of the `iid` parameter will change from True to False in version 0.22 and will be removed in 0.24. This will change numeric results when test-set sizes are unequal.\n",
      "  DeprecationWarning)\n"
     ]
    },
    {
     "name": "stdout",
     "output_type": "stream",
     "text": [
      "Trade Date:  20000301\n",
      "{'max_features': 'sqrt', 'min_samples_leaf': 0.1, 'min_samples_split': 0.1, 'n_estimators': 100}\n",
      "Trade Date:  20000601\n",
      "{'max_features': 'sqrt', 'min_samples_leaf': 0.05, 'min_samples_split': 0.30000000000000004, 'n_estimators': 75}\n"
     ]
    },
    {
     "name": "stderr",
     "output_type": "stream",
     "text": [
      "/home/ubuntu/anaconda3/lib/python3.6/site-packages/sklearn/model_selection/_search.py:814: DeprecationWarning: The default of the `iid` parameter will change from True to False in version 0.22 and will be removed in 0.24. This will change numeric results when test-set sizes are unequal.\n",
      "  DeprecationWarning)\n"
     ]
    },
    {
     "name": "stdout",
     "output_type": "stream",
     "text": [
      "Trade Date:  20000901\n",
      "{'max_features': 'sqrt', 'min_samples_leaf': 0.1, 'min_samples_split': 0.1, 'n_estimators': 200}\n"
     ]
    },
    {
     "name": "stderr",
     "output_type": "stream",
     "text": [
      "/home/ubuntu/anaconda3/lib/python3.6/site-packages/sklearn/model_selection/_search.py:814: DeprecationWarning: The default of the `iid` parameter will change from True to False in version 0.22 and will be removed in 0.24. This will change numeric results when test-set sizes are unequal.\n",
      "  DeprecationWarning)\n"
     ]
    },
    {
     "name": "stdout",
     "output_type": "stream",
     "text": [
      "Trade Date:  20001201\n",
      "{'max_features': 'sqrt', 'min_samples_leaf': 0.05, 'min_samples_split': 0.2, 'n_estimators': 75}\n"
     ]
    },
    {
     "name": "stderr",
     "output_type": "stream",
     "text": [
      "/home/ubuntu/anaconda3/lib/python3.6/site-packages/sklearn/model_selection/_search.py:814: DeprecationWarning: The default of the `iid` parameter will change from True to False in version 0.22 and will be removed in 0.24. This will change numeric results when test-set sizes are unequal.\n",
      "  DeprecationWarning)\n"
     ]
    },
    {
     "name": "stdout",
     "output_type": "stream",
     "text": [
      "Trade Date:  20010301\n",
      "{'max_features': 'sqrt', 'min_samples_leaf': 0.1, 'min_samples_split': 0.1, 'n_estimators': 75}\n"
     ]
    },
    {
     "name": "stderr",
     "output_type": "stream",
     "text": [
      "/home/ubuntu/anaconda3/lib/python3.6/site-packages/sklearn/model_selection/_search.py:814: DeprecationWarning: The default of the `iid` parameter will change from True to False in version 0.22 and will be removed in 0.24. This will change numeric results when test-set sizes are unequal.\n",
      "  DeprecationWarning)\n"
     ]
    },
    {
     "name": "stdout",
     "output_type": "stream",
     "text": [
      "Trade Date:  20010601\n",
      "{'max_features': 'sqrt', 'min_samples_leaf': 0.05, 'min_samples_split': 0.1, 'n_estimators': 100}\n"
     ]
    },
    {
     "name": "stderr",
     "output_type": "stream",
     "text": [
      "/home/ubuntu/anaconda3/lib/python3.6/site-packages/sklearn/model_selection/_search.py:814: DeprecationWarning: The default of the `iid` parameter will change from True to False in version 0.22 and will be removed in 0.24. This will change numeric results when test-set sizes are unequal.\n",
      "  DeprecationWarning)\n"
     ]
    },
    {
     "name": "stdout",
     "output_type": "stream",
     "text": [
      "Trade Date:  20010904\n",
      "{'max_features': 'sqrt', 'min_samples_leaf': 0.05, 'min_samples_split': 0.1, 'n_estimators': 75}\n"
     ]
    },
    {
     "name": "stderr",
     "output_type": "stream",
     "text": [
      "/home/ubuntu/anaconda3/lib/python3.6/site-packages/sklearn/model_selection/_search.py:814: DeprecationWarning: The default of the `iid` parameter will change from True to False in version 0.22 and will be removed in 0.24. This will change numeric results when test-set sizes are unequal.\n",
      "  DeprecationWarning)\n"
     ]
    },
    {
     "name": "stdout",
     "output_type": "stream",
     "text": [
      "Trade Date:  20011203\n",
      "{'max_features': 'sqrt', 'min_samples_leaf': 0.1, 'min_samples_split': 0.1, 'n_estimators': 200}\n"
     ]
    },
    {
     "name": "stderr",
     "output_type": "stream",
     "text": [
      "/home/ubuntu/anaconda3/lib/python3.6/site-packages/sklearn/model_selection/_search.py:814: DeprecationWarning: The default of the `iid` parameter will change from True to False in version 0.22 and will be removed in 0.24. This will change numeric results when test-set sizes are unequal.\n",
      "  DeprecationWarning)\n"
     ]
    },
    {
     "name": "stdout",
     "output_type": "stream",
     "text": [
      "Trade Date:  20020301\n",
      "{'max_features': 'sqrt', 'min_samples_leaf': 0.1, 'min_samples_split': 0.1, 'n_estimators': 75}\n",
      "Trade Date:  20020603\n",
      "{'max_features': 'sqrt', 'min_samples_leaf': 0.1, 'min_samples_split': 0.1, 'n_estimators': 200}\n"
     ]
    },
    {
     "name": "stderr",
     "output_type": "stream",
     "text": [
      "/home/ubuntu/anaconda3/lib/python3.6/site-packages/sklearn/model_selection/_search.py:814: DeprecationWarning: The default of the `iid` parameter will change from True to False in version 0.22 and will be removed in 0.24. This will change numeric results when test-set sizes are unequal.\n",
      "  DeprecationWarning)\n"
     ]
    },
    {
     "name": "stdout",
     "output_type": "stream",
     "text": [
      "Trade Date:  20020903\n",
      "{'max_features': 'sqrt', 'min_samples_leaf': 0.1, 'min_samples_split': 0.1, 'n_estimators': 200}\n",
      "Trade Date:  20021202\n",
      "{'max_features': 'sqrt', 'min_samples_leaf': 0.1, 'min_samples_split': 0.1, 'n_estimators': 200}\n"
     ]
    },
    {
     "name": "stderr",
     "output_type": "stream",
     "text": [
      "/home/ubuntu/anaconda3/lib/python3.6/site-packages/sklearn/model_selection/_search.py:814: DeprecationWarning: The default of the `iid` parameter will change from True to False in version 0.22 and will be removed in 0.24. This will change numeric results when test-set sizes are unequal.\n",
      "  DeprecationWarning)\n"
     ]
    },
    {
     "name": "stdout",
     "output_type": "stream",
     "text": [
      "Trade Date:  20030303\n",
      "{'max_features': 'sqrt', 'min_samples_leaf': 0.1, 'min_samples_split': 0.1, 'n_estimators': 200}\n"
     ]
    },
    {
     "name": "stderr",
     "output_type": "stream",
     "text": [
      "/home/ubuntu/anaconda3/lib/python3.6/site-packages/sklearn/model_selection/_search.py:814: DeprecationWarning: The default of the `iid` parameter will change from True to False in version 0.22 and will be removed in 0.24. This will change numeric results when test-set sizes are unequal.\n",
      "  DeprecationWarning)\n"
     ]
    },
    {
     "name": "stdout",
     "output_type": "stream",
     "text": [
      "Trade Date:  20030602\n",
      "{'max_features': 'sqrt', 'min_samples_leaf': 0.05, 'min_samples_split': 0.2, 'n_estimators': 200}\n",
      "Trade Date:  20030902\n",
      "{'max_features': 'sqrt', 'min_samples_leaf': 0.1, 'min_samples_split': 0.1, 'n_estimators': 200}\n"
     ]
    },
    {
     "name": "stderr",
     "output_type": "stream",
     "text": [
      "/home/ubuntu/anaconda3/lib/python3.6/site-packages/sklearn/model_selection/_search.py:814: DeprecationWarning: The default of the `iid` parameter will change from True to False in version 0.22 and will be removed in 0.24. This will change numeric results when test-set sizes are unequal.\n",
      "  DeprecationWarning)\n"
     ]
    },
    {
     "name": "stdout",
     "output_type": "stream",
     "text": [
      "Trade Date:  20031201\n",
      "{'max_features': 'sqrt', 'min_samples_leaf': 0.1, 'min_samples_split': 0.1, 'n_estimators': 200}\n",
      "Trade Date:  20040301\n",
      "{'max_features': 'sqrt', 'min_samples_leaf': 0.05, 'min_samples_split': 0.4, 'n_estimators': 75}\n",
      "Trade Date:  20040601\n",
      "{'max_features': 'sqrt', 'min_samples_leaf': 0.1, 'min_samples_split': 0.30000000000000004, 'n_estimators': 100}\n",
      "Trade Date:  20040901\n",
      "{'max_features': 'sqrt', 'min_samples_leaf': 0.1, 'min_samples_split': 0.30000000000000004, 'n_estimators': 100}\n",
      "Trade Date:  20041201\n",
      "{'max_features': 'sqrt', 'min_samples_leaf': 0.05, 'min_samples_split': 0.2, 'n_estimators': 100}\n",
      "Trade Date:  20050301\n",
      "{'max_features': 'sqrt', 'min_samples_leaf': 0.1, 'min_samples_split': 0.1, 'n_estimators': 200}\n",
      "Trade Date:  20050601\n",
      "{'max_features': 'sqrt', 'min_samples_leaf': 0.1, 'min_samples_split': 0.1, 'n_estimators': 100}\n",
      "Trade Date:  20050901\n",
      "{'max_features': 'sqrt', 'min_samples_leaf': 0.1, 'min_samples_split': 0.1, 'n_estimators': 200}\n",
      "Trade Date:  20051201\n",
      "{'max_features': 'sqrt', 'min_samples_leaf': 0.1, 'min_samples_split': 0.1, 'n_estimators': 100}\n",
      "Trade Date:  20060301\n",
      "{'max_features': 'sqrt', 'min_samples_leaf': 0.1, 'min_samples_split': 0.1, 'n_estimators': 200}\n",
      "Trade Date:  20060601\n",
      "{'max_features': 'sqrt', 'min_samples_leaf': 0.1, 'min_samples_split': 0.1, 'n_estimators': 200}\n",
      "Trade Date:  20060901\n",
      "{'max_features': 'sqrt', 'min_samples_leaf': 0.1, 'min_samples_split': 0.1, 'n_estimators': 200}\n",
      "Trade Date:  20061201\n",
      "{'max_features': 'sqrt', 'min_samples_leaf': 0.1, 'min_samples_split': 0.1, 'n_estimators': 200}\n",
      "Trade Date:  20070301\n",
      "{'max_features': 'sqrt', 'min_samples_leaf': 0.1, 'min_samples_split': 0.1, 'n_estimators': 200}\n",
      "Trade Date:  20070601\n",
      "{'max_features': 'sqrt', 'min_samples_leaf': 0.1, 'min_samples_split': 0.1, 'n_estimators': 200}\n",
      "Trade Date:  20070904\n",
      "{'max_features': 'sqrt', 'min_samples_leaf': 0.1, 'min_samples_split': 0.1, 'n_estimators': 100}\n",
      "Trade Date:  20071203\n",
      "{'max_features': 'sqrt', 'min_samples_leaf': 0.1, 'min_samples_split': 0.1, 'n_estimators': 100}\n",
      "Trade Date:  20080303\n",
      "{'max_features': 'sqrt', 'min_samples_leaf': 0.05, 'min_samples_split': 0.1, 'n_estimators': 100}\n",
      "Trade Date:  20080602\n",
      "{'max_features': 'sqrt', 'min_samples_leaf': 0.1, 'min_samples_split': 0.1, 'n_estimators': 200}\n",
      "Trade Date:  20080902\n",
      "{'max_features': 'sqrt', 'min_samples_leaf': 0.05, 'min_samples_split': 0.1, 'n_estimators': 100}\n",
      "Trade Date:  20081201\n",
      "{'max_features': 'sqrt', 'min_samples_leaf': 0.05, 'min_samples_split': 0.1, 'n_estimators': 100}\n",
      "Trade Date:  20090302\n",
      "{'max_features': 'sqrt', 'min_samples_leaf': 0.05, 'min_samples_split': 0.1, 'n_estimators': 200}\n",
      "Trade Date:  20090601\n",
      "{'max_features': 'sqrt', 'min_samples_leaf': 0.05, 'min_samples_split': 0.1, 'n_estimators': 100}\n",
      "Trade Date:  20090901\n",
      "{'max_features': 'sqrt', 'min_samples_leaf': 0.05, 'min_samples_split': 0.2, 'n_estimators': 75}\n",
      "Trade Date:  20091201\n",
      "{'max_features': 'sqrt', 'min_samples_leaf': 0.2, 'min_samples_split': 0.1, 'n_estimators': 200}\n",
      "Trade Date:  20100301\n",
      "{'max_features': 'sqrt', 'min_samples_leaf': 0.05, 'min_samples_split': 0.1, 'n_estimators': 100}\n",
      "Trade Date:  20100601\n",
      "{'max_features': 'sqrt', 'min_samples_leaf': 0.1, 'min_samples_split': 0.1, 'n_estimators': 75}\n",
      "Trade Date:  20100901\n",
      "{'max_features': 'sqrt', 'min_samples_leaf': 0.05, 'min_samples_split': 0.2, 'n_estimators': 75}\n",
      "Trade Date:  20101201\n",
      "{'max_features': 'sqrt', 'min_samples_leaf': 0.1, 'min_samples_split': 0.1, 'n_estimators': 200}\n",
      "Trade Date:  20110301\n",
      "{'max_features': 'sqrt', 'min_samples_leaf': 0.2, 'min_samples_split': 0.1, 'n_estimators': 100}\n",
      "Trade Date:  20110601\n",
      "{'max_features': 'sqrt', 'min_samples_leaf': 0.2, 'min_samples_split': 0.1, 'n_estimators': 200}\n",
      "Trade Date:  20110901\n",
      "{'max_features': 'sqrt', 'min_samples_leaf': 0.05, 'min_samples_split': 0.1, 'n_estimators': 75}\n",
      "Trade Date:  20111201\n",
      "{'max_features': 'sqrt', 'min_samples_leaf': 0.2, 'min_samples_split': 0.1, 'n_estimators': 200}\n",
      "Trade Date:  20120301\n",
      "{'max_features': 'sqrt', 'min_samples_leaf': 0.2, 'min_samples_split': 0.1, 'n_estimators': 200}\n",
      "Trade Date:  20120601\n",
      "{'max_features': 'sqrt', 'min_samples_leaf': 0.2, 'min_samples_split': 0.1, 'n_estimators': 200}\n",
      "Trade Date:  20120904\n",
      "{'max_features': 'sqrt', 'min_samples_leaf': 0.2, 'min_samples_split': 0.5, 'n_estimators': 200}\n",
      "Trade Date:  20121203\n",
      "{'max_features': 'sqrt', 'min_samples_leaf': 0.2, 'min_samples_split': 0.1, 'n_estimators': 200}\n",
      "Trade Date:  20130301\n",
      "{'max_features': 'sqrt', 'min_samples_leaf': 0.2, 'min_samples_split': 0.1, 'n_estimators': 75}\n",
      "Trade Date:  20130603\n",
      "{'max_features': 'sqrt', 'min_samples_leaf': 0.2, 'min_samples_split': 0.1, 'n_estimators': 200}\n",
      "Trade Date:  20130903\n",
      "{'max_features': 'sqrt', 'min_samples_leaf': 0.2, 'min_samples_split': 0.1, 'n_estimators': 200}\n",
      "Trade Date:  20131202\n",
      "{'max_features': 'sqrt', 'min_samples_leaf': 0.2, 'min_samples_split': 0.1, 'n_estimators': 100}\n",
      "Trade Date:  20140303\n",
      "{'max_features': 'sqrt', 'min_samples_leaf': 0.2, 'min_samples_split': 0.5, 'n_estimators': 100}\n",
      "Trade Date:  20140602\n",
      "{'max_features': 'sqrt', 'min_samples_leaf': 0.2, 'min_samples_split': 0.1, 'n_estimators': 75}\n",
      "Trade Date:  20140902\n",
      "{'max_features': 'sqrt', 'min_samples_leaf': 0.2, 'min_samples_split': 0.5, 'n_estimators': 200}\n",
      "Trade Date:  20141201\n",
      "{'max_features': 'sqrt', 'min_samples_leaf': 0.2, 'min_samples_split': 0.5, 'n_estimators': 100}\n",
      "Trade Date:  20150302\n",
      "{'max_features': 'sqrt', 'min_samples_leaf': 0.2, 'min_samples_split': 0.5, 'n_estimators': 200}\n",
      "Trade Date:  20150601\n",
      "{'max_features': 'sqrt', 'min_samples_leaf': 0.2, 'min_samples_split': 0.5, 'n_estimators': 200}\n",
      "Trade Date:  20150901\n",
      "{'max_features': 'sqrt', 'min_samples_leaf': 0.2, 'min_samples_split': 0.5, 'n_estimators': 200}\n",
      "Trade Date:  20151201\n",
      "{'max_features': 'sqrt', 'min_samples_leaf': 0.2, 'min_samples_split': 0.5, 'n_estimators': 75}\n",
      "Trade Date:  20160301\n",
      "{'max_features': 'sqrt', 'min_samples_leaf': 0.2, 'min_samples_split': 0.1, 'n_estimators': 200}\n",
      "Trade Date:  20160601\n",
      "{'max_features': 'sqrt', 'min_samples_leaf': 0.2, 'min_samples_split': 0.5, 'n_estimators': 75}\n",
      "Trade Date:  20160901\n",
      "{'max_features': 'sqrt', 'min_samples_leaf': 0.2, 'min_samples_split': 0.1, 'n_estimators': 200}\n",
      "Trade Date:  20161201\n",
      "{'max_features': 'sqrt', 'min_samples_leaf': 0.2, 'min_samples_split': 0.5, 'n_estimators': 75}\n",
      "Trade Date:  20170301\n",
      "{'max_features': 'sqrt', 'min_samples_leaf': 0.2, 'min_samples_split': 0.5, 'n_estimators': 200}\n",
      "Trade Date:  20170601\n",
      "Time Spent:  24.42095184326172  minutes\n"
     ]
    }
   ],
   "source": [
    "start = time.time()\n",
    "sector30_result=ml_model.run_4model(sector30_data,\n",
    "                          ['X1_REVGH', 'X2_EPS',\n",
    "       'X3_ROA', 'X4_ROE', 'X5_PE', 'X6_PS', 'X7_NPM', 'X8_GPM', 'X9_OM',\n",
    "       'X10_PB', 'X12_CR', 'X15_LTDTA', 'X16_WCR', 'X17_DE', 'X18_QR',\n",
    "       'X19_DSI', 'X20_DPO'], label_column, date_column,tic_column,\n",
    "                         unique_ticker_sector30, unique_datetime, trade_date,\n",
    "                         first_trade_date_index,\n",
    "                         testing_windows)\n",
    "end = time.time()\n",
    "print('Time Spent: ',(end-start)/60,' minutes')"
   ]
  },
  {
   "cell_type": "code",
   "execution_count": 383,
   "metadata": {},
   "outputs": [],
   "source": [
    "\n",
    "df_predict_best = sector30_result[4].astype(np.float64)\n",
    "df_best_model_name = sector30_result[5]"
   ]
  },
  {
   "cell_type": "code",
   "execution_count": 384,
   "metadata": {},
   "outputs": [
    {
     "data": {
      "text/plain": [
       "rf       35\n",
       "lr       21\n",
       "gbm      18\n",
       "ridge    15\n",
       "Name: model_name, dtype: int64"
      ]
     },
     "execution_count": 384,
     "metadata": {},
     "output_type": "execute_result"
    }
   ],
   "source": [
    "df_best_model_name.model_name.value_counts()"
   ]
  },
  {
   "cell_type": "code",
   "execution_count": 250,
   "metadata": {},
   "outputs": [],
   "source": [
    "ml_model.save_model_result(sector30_result,'sector30')"
   ]
  },
  {
   "cell_type": "markdown",
   "metadata": {},
   "source": [
    "## Sector 35"
   ]
  },
  {
   "cell_type": "code",
   "execution_count": 259,
   "metadata": {},
   "outputs": [
    {
     "data": {
      "text/plain": [
       "Index(['gvkey', 'tic', 'datadate', 'rdq', 'tradedate', 'fyearq', 'fqtr',\n",
       "       'conm', 'datacqtr', 'datafqtr', 'gsector', 'X1_REVGH', 'X2_EPS',\n",
       "       'X3_ROA', 'X4_ROE', 'X5_PE', 'X6_PS', 'X7_NPM', 'X8_GPM', 'X9_OM',\n",
       "       'X10_PB', 'X12_CR', 'X15_LTDTA', 'X16_WCR', 'X17_DE', 'X18_QR',\n",
       "       'X19_DSI', 'X20_DPO', 'y_return'],\n",
       "      dtype='object')"
      ]
     },
     "execution_count": 259,
     "metadata": {},
     "output_type": "execute_result"
    }
   ],
   "source": [
    "sector35_data.columns"
   ]
  },
  {
   "cell_type": "code",
   "execution_count": 260,
   "metadata": {
    "scrolled": true
   },
   "outputs": [
    {
     "name": "stdout",
     "output_type": "stream",
     "text": [
      "{'max_features': 'sqrt', 'min_samples_leaf': 0.1, 'min_samples_split': 0.1, 'n_estimators': 75}\n",
      "Trade Date:  19950601\n",
      "{'max_features': 'sqrt', 'min_samples_leaf': 0.05, 'min_samples_split': 0.4, 'n_estimators': 200}\n",
      "Trade Date:  19950901\n",
      "{'max_features': 'sqrt', 'min_samples_leaf': 0.05, 'min_samples_split': 0.4, 'n_estimators': 75}\n"
     ]
    },
    {
     "name": "stderr",
     "output_type": "stream",
     "text": [
      "/home/ubuntu/anaconda3/lib/python3.6/site-packages/sklearn/model_selection/_search.py:814: DeprecationWarning: The default of the `iid` parameter will change from True to False in version 0.22 and will be removed in 0.24. This will change numeric results when test-set sizes are unequal.\n",
      "  DeprecationWarning)\n"
     ]
    },
    {
     "name": "stdout",
     "output_type": "stream",
     "text": [
      "Trade Date:  19951201\n",
      "{'max_features': 'sqrt', 'min_samples_leaf': 0.05, 'min_samples_split': 0.5, 'n_estimators': 75}\n",
      "Trade Date:  19960301\n",
      "{'max_features': 'sqrt', 'min_samples_leaf': 0.05, 'min_samples_split': 0.5, 'n_estimators': 200}\n",
      "Trade Date:  19960603\n",
      "{'max_features': 'sqrt', 'min_samples_leaf': 0.05, 'min_samples_split': 0.5, 'n_estimators': 75}\n",
      "Trade Date:  19960903\n",
      "{'max_features': 'sqrt', 'min_samples_leaf': 0.05, 'min_samples_split': 0.5, 'n_estimators': 75}\n",
      "Trade Date:  19961202\n",
      "{'max_features': 'sqrt', 'min_samples_leaf': 0.1, 'min_samples_split': 0.5, 'n_estimators': 100}\n"
     ]
    },
    {
     "name": "stderr",
     "output_type": "stream",
     "text": [
      "/home/ubuntu/anaconda3/lib/python3.6/site-packages/sklearn/model_selection/_search.py:814: DeprecationWarning: The default of the `iid` parameter will change from True to False in version 0.22 and will be removed in 0.24. This will change numeric results when test-set sizes are unequal.\n",
      "  DeprecationWarning)\n"
     ]
    },
    {
     "name": "stdout",
     "output_type": "stream",
     "text": [
      "Trade Date:  19970303\n",
      "{'max_features': 'sqrt', 'min_samples_leaf': 0.1, 'min_samples_split': 0.5, 'n_estimators': 75}\n",
      "Trade Date:  19970602\n",
      "{'max_features': 'sqrt', 'min_samples_leaf': 0.05, 'min_samples_split': 0.5, 'n_estimators': 75}\n",
      "Trade Date:  19970902\n",
      "{'max_features': 'sqrt', 'min_samples_leaf': 0.05, 'min_samples_split': 0.5, 'n_estimators': 75}\n",
      "Trade Date:  19971201\n",
      "{'max_features': 'sqrt', 'min_samples_leaf': 0.1, 'min_samples_split': 0.5, 'n_estimators': 200}\n"
     ]
    },
    {
     "name": "stderr",
     "output_type": "stream",
     "text": [
      "/home/ubuntu/anaconda3/lib/python3.6/site-packages/sklearn/model_selection/_search.py:814: DeprecationWarning: The default of the `iid` parameter will change from True to False in version 0.22 and will be removed in 0.24. This will change numeric results when test-set sizes are unequal.\n",
      "  DeprecationWarning)\n"
     ]
    },
    {
     "name": "stdout",
     "output_type": "stream",
     "text": [
      "Trade Date:  19980302\n",
      "{'max_features': 'sqrt', 'min_samples_leaf': 0.05, 'min_samples_split': 0.5, 'n_estimators': 100}\n",
      "Trade Date:  19980601\n",
      "{'max_features': 'sqrt', 'min_samples_leaf': 0.05, 'min_samples_split': 0.5, 'n_estimators': 75}\n"
     ]
    },
    {
     "name": "stderr",
     "output_type": "stream",
     "text": [
      "/home/ubuntu/anaconda3/lib/python3.6/site-packages/sklearn/model_selection/_search.py:814: DeprecationWarning: The default of the `iid` parameter will change from True to False in version 0.22 and will be removed in 0.24. This will change numeric results when test-set sizes are unequal.\n",
      "  DeprecationWarning)\n"
     ]
    },
    {
     "name": "stdout",
     "output_type": "stream",
     "text": [
      "Trade Date:  19980901\n",
      "{'max_features': 'sqrt', 'min_samples_leaf': 0.05, 'min_samples_split': 0.5, 'n_estimators': 100}\n",
      "Trade Date:  19981201\n",
      "{'max_features': 'sqrt', 'min_samples_leaf': 0.1, 'min_samples_split': 0.5, 'n_estimators': 75}\n"
     ]
    },
    {
     "name": "stderr",
     "output_type": "stream",
     "text": [
      "/home/ubuntu/anaconda3/lib/python3.6/site-packages/sklearn/model_selection/_search.py:814: DeprecationWarning: The default of the `iid` parameter will change from True to False in version 0.22 and will be removed in 0.24. This will change numeric results when test-set sizes are unequal.\n",
      "  DeprecationWarning)\n"
     ]
    },
    {
     "name": "stdout",
     "output_type": "stream",
     "text": [
      "Trade Date:  19990301\n",
      "{'max_features': 'sqrt', 'min_samples_leaf': 0.1, 'min_samples_split': 0.5, 'n_estimators': 75}\n"
     ]
    },
    {
     "name": "stderr",
     "output_type": "stream",
     "text": [
      "/home/ubuntu/anaconda3/lib/python3.6/site-packages/sklearn/model_selection/_search.py:814: DeprecationWarning: The default of the `iid` parameter will change from True to False in version 0.22 and will be removed in 0.24. This will change numeric results when test-set sizes are unequal.\n",
      "  DeprecationWarning)\n"
     ]
    },
    {
     "name": "stdout",
     "output_type": "stream",
     "text": [
      "Trade Date:  19990601\n",
      "{'max_features': 'sqrt', 'min_samples_leaf': 0.1, 'min_samples_split': 0.1, 'n_estimators': 100}\n"
     ]
    },
    {
     "name": "stderr",
     "output_type": "stream",
     "text": [
      "/home/ubuntu/anaconda3/lib/python3.6/site-packages/sklearn/model_selection/_search.py:814: DeprecationWarning: The default of the `iid` parameter will change from True to False in version 0.22 and will be removed in 0.24. This will change numeric results when test-set sizes are unequal.\n",
      "  DeprecationWarning)\n"
     ]
    },
    {
     "name": "stdout",
     "output_type": "stream",
     "text": [
      "Trade Date:  19990901\n",
      "{'max_features': 'sqrt', 'min_samples_leaf': 0.1, 'min_samples_split': 0.1, 'n_estimators': 75}\n"
     ]
    },
    {
     "name": "stderr",
     "output_type": "stream",
     "text": [
      "/home/ubuntu/anaconda3/lib/python3.6/site-packages/sklearn/model_selection/_search.py:814: DeprecationWarning: The default of the `iid` parameter will change from True to False in version 0.22 and will be removed in 0.24. This will change numeric results when test-set sizes are unequal.\n",
      "  DeprecationWarning)\n"
     ]
    },
    {
     "name": "stdout",
     "output_type": "stream",
     "text": [
      "Trade Date:  19991201\n",
      "{'max_features': 'sqrt', 'min_samples_leaf': 0.1, 'min_samples_split': 0.1, 'n_estimators': 200}\n",
      "Trade Date:  20000301\n",
      "{'max_features': 'sqrt', 'min_samples_leaf': 0.05, 'min_samples_split': 0.1, 'n_estimators': 75}\n"
     ]
    },
    {
     "name": "stderr",
     "output_type": "stream",
     "text": [
      "/home/ubuntu/anaconda3/lib/python3.6/site-packages/sklearn/model_selection/_search.py:814: DeprecationWarning: The default of the `iid` parameter will change from True to False in version 0.22 and will be removed in 0.24. This will change numeric results when test-set sizes are unequal.\n",
      "  DeprecationWarning)\n"
     ]
    },
    {
     "name": "stdout",
     "output_type": "stream",
     "text": [
      "Trade Date:  20000601\n",
      "{'max_features': 'sqrt', 'min_samples_leaf': 0.05, 'min_samples_split': 0.2, 'n_estimators': 200}\n"
     ]
    },
    {
     "name": "stderr",
     "output_type": "stream",
     "text": [
      "/home/ubuntu/anaconda3/lib/python3.6/site-packages/sklearn/model_selection/_search.py:814: DeprecationWarning: The default of the `iid` parameter will change from True to False in version 0.22 and will be removed in 0.24. This will change numeric results when test-set sizes are unequal.\n",
      "  DeprecationWarning)\n"
     ]
    },
    {
     "name": "stdout",
     "output_type": "stream",
     "text": [
      "Trade Date:  20000901\n",
      "{'max_features': 'sqrt', 'min_samples_leaf': 0.05, 'min_samples_split': 0.2, 'n_estimators': 200}\n",
      "Trade Date:  20001201\n",
      "{'max_features': 'sqrt', 'min_samples_leaf': 0.05, 'min_samples_split': 0.2, 'n_estimators': 100}\n"
     ]
    },
    {
     "name": "stderr",
     "output_type": "stream",
     "text": [
      "/home/ubuntu/anaconda3/lib/python3.6/site-packages/sklearn/model_selection/_search.py:814: DeprecationWarning: The default of the `iid` parameter will change from True to False in version 0.22 and will be removed in 0.24. This will change numeric results when test-set sizes are unequal.\n",
      "  DeprecationWarning)\n"
     ]
    },
    {
     "name": "stdout",
     "output_type": "stream",
     "text": [
      "Trade Date:  20010301\n",
      "{'max_features': 'sqrt', 'min_samples_leaf': 0.05, 'min_samples_split': 0.1, 'n_estimators': 75}\n"
     ]
    },
    {
     "name": "stderr",
     "output_type": "stream",
     "text": [
      "/home/ubuntu/anaconda3/lib/python3.6/site-packages/sklearn/model_selection/_search.py:814: DeprecationWarning: The default of the `iid` parameter will change from True to False in version 0.22 and will be removed in 0.24. This will change numeric results when test-set sizes are unequal.\n",
      "  DeprecationWarning)\n"
     ]
    },
    {
     "name": "stdout",
     "output_type": "stream",
     "text": [
      "Trade Date:  20010601\n",
      "{'max_features': 'sqrt', 'min_samples_leaf': 0.05, 'min_samples_split': 0.30000000000000004, 'n_estimators': 100}\n"
     ]
    },
    {
     "name": "stderr",
     "output_type": "stream",
     "text": [
      "/home/ubuntu/anaconda3/lib/python3.6/site-packages/sklearn/model_selection/_search.py:814: DeprecationWarning: The default of the `iid` parameter will change from True to False in version 0.22 and will be removed in 0.24. This will change numeric results when test-set sizes are unequal.\n",
      "  DeprecationWarning)\n"
     ]
    },
    {
     "name": "stdout",
     "output_type": "stream",
     "text": [
      "Trade Date:  20010904\n",
      "{'max_features': 'sqrt', 'min_samples_leaf': 0.05, 'min_samples_split': 0.1, 'n_estimators': 200}\n"
     ]
    },
    {
     "name": "stderr",
     "output_type": "stream",
     "text": [
      "/home/ubuntu/anaconda3/lib/python3.6/site-packages/sklearn/model_selection/_search.py:814: DeprecationWarning: The default of the `iid` parameter will change from True to False in version 0.22 and will be removed in 0.24. This will change numeric results when test-set sizes are unequal.\n",
      "  DeprecationWarning)\n"
     ]
    },
    {
     "name": "stdout",
     "output_type": "stream",
     "text": [
      "Trade Date:  20011203\n",
      "{'max_features': 'sqrt', 'min_samples_leaf': 0.05, 'min_samples_split': 0.1, 'n_estimators': 100}\n"
     ]
    },
    {
     "name": "stderr",
     "output_type": "stream",
     "text": [
      "/home/ubuntu/anaconda3/lib/python3.6/site-packages/sklearn/model_selection/_search.py:814: DeprecationWarning: The default of the `iid` parameter will change from True to False in version 0.22 and will be removed in 0.24. This will change numeric results when test-set sizes are unequal.\n",
      "  DeprecationWarning)\n"
     ]
    },
    {
     "name": "stdout",
     "output_type": "stream",
     "text": [
      "Trade Date:  20020301\n",
      "{'max_features': 'sqrt', 'min_samples_leaf': 0.05, 'min_samples_split': 0.1, 'n_estimators': 75}\n"
     ]
    },
    {
     "name": "stderr",
     "output_type": "stream",
     "text": [
      "/home/ubuntu/anaconda3/lib/python3.6/site-packages/sklearn/model_selection/_search.py:814: DeprecationWarning: The default of the `iid` parameter will change from True to False in version 0.22 and will be removed in 0.24. This will change numeric results when test-set sizes are unequal.\n",
      "  DeprecationWarning)\n"
     ]
    },
    {
     "name": "stdout",
     "output_type": "stream",
     "text": [
      "Trade Date:  20020603\n",
      "{'max_features': 'sqrt', 'min_samples_leaf': 0.05, 'min_samples_split': 0.1, 'n_estimators': 200}\n",
      "Trade Date:  20020903\n",
      "{'max_features': 'sqrt', 'min_samples_leaf': 0.05, 'min_samples_split': 0.1, 'n_estimators': 75}\n"
     ]
    },
    {
     "name": "stderr",
     "output_type": "stream",
     "text": [
      "/home/ubuntu/anaconda3/lib/python3.6/site-packages/sklearn/model_selection/_search.py:814: DeprecationWarning: The default of the `iid` parameter will change from True to False in version 0.22 and will be removed in 0.24. This will change numeric results when test-set sizes are unequal.\n",
      "  DeprecationWarning)\n"
     ]
    },
    {
     "name": "stdout",
     "output_type": "stream",
     "text": [
      "Trade Date:  20021202\n",
      "{'max_features': 'sqrt', 'min_samples_leaf': 0.05, 'min_samples_split': 0.2, 'n_estimators': 75}\n",
      "Trade Date:  20030303\n",
      "{'max_features': 'sqrt', 'min_samples_leaf': 0.05, 'min_samples_split': 0.1, 'n_estimators': 200}\n",
      "Trade Date:  20030602\n",
      "{'max_features': 'sqrt', 'min_samples_leaf': 0.05, 'min_samples_split': 0.2, 'n_estimators': 75}\n",
      "Trade Date:  20030902\n",
      "{'max_features': 'sqrt', 'min_samples_leaf': 0.05, 'min_samples_split': 0.2, 'n_estimators': 200}\n"
     ]
    },
    {
     "name": "stderr",
     "output_type": "stream",
     "text": [
      "/home/ubuntu/anaconda3/lib/python3.6/site-packages/sklearn/model_selection/_search.py:814: DeprecationWarning: The default of the `iid` parameter will change from True to False in version 0.22 and will be removed in 0.24. This will change numeric results when test-set sizes are unequal.\n",
      "  DeprecationWarning)\n"
     ]
    },
    {
     "name": "stdout",
     "output_type": "stream",
     "text": [
      "Trade Date:  20031201\n",
      "{'max_features': 'sqrt', 'min_samples_leaf': 0.05, 'min_samples_split': 0.2, 'n_estimators': 200}\n"
     ]
    },
    {
     "name": "stderr",
     "output_type": "stream",
     "text": [
      "/home/ubuntu/anaconda3/lib/python3.6/site-packages/sklearn/model_selection/_search.py:814: DeprecationWarning: The default of the `iid` parameter will change from True to False in version 0.22 and will be removed in 0.24. This will change numeric results when test-set sizes are unequal.\n",
      "  DeprecationWarning)\n"
     ]
    },
    {
     "name": "stdout",
     "output_type": "stream",
     "text": [
      "Trade Date:  20040301\n",
      "{'max_features': 'sqrt', 'min_samples_leaf': 0.05, 'min_samples_split': 0.2, 'n_estimators': 200}\n",
      "Trade Date:  20040601\n",
      "{'max_features': 'sqrt', 'min_samples_leaf': 0.05, 'min_samples_split': 0.2, 'n_estimators': 100}\n"
     ]
    },
    {
     "name": "stderr",
     "output_type": "stream",
     "text": [
      "/home/ubuntu/anaconda3/lib/python3.6/site-packages/sklearn/model_selection/_search.py:814: DeprecationWarning: The default of the `iid` parameter will change from True to False in version 0.22 and will be removed in 0.24. This will change numeric results when test-set sizes are unequal.\n",
      "  DeprecationWarning)\n"
     ]
    },
    {
     "name": "stdout",
     "output_type": "stream",
     "text": [
      "Trade Date:  20040901\n",
      "{'max_features': 'sqrt', 'min_samples_leaf': 0.05, 'min_samples_split': 0.2, 'n_estimators': 200}\n"
     ]
    },
    {
     "name": "stderr",
     "output_type": "stream",
     "text": [
      "/home/ubuntu/anaconda3/lib/python3.6/site-packages/sklearn/model_selection/_search.py:814: DeprecationWarning: The default of the `iid` parameter will change from True to False in version 0.22 and will be removed in 0.24. This will change numeric results when test-set sizes are unequal.\n",
      "  DeprecationWarning)\n"
     ]
    },
    {
     "name": "stdout",
     "output_type": "stream",
     "text": [
      "Trade Date:  20041201\n",
      "{'max_features': 'sqrt', 'min_samples_leaf': 0.05, 'min_samples_split': 0.2, 'n_estimators': 200}\n"
     ]
    },
    {
     "name": "stderr",
     "output_type": "stream",
     "text": [
      "/home/ubuntu/anaconda3/lib/python3.6/site-packages/sklearn/model_selection/_search.py:814: DeprecationWarning: The default of the `iid` parameter will change from True to False in version 0.22 and will be removed in 0.24. This will change numeric results when test-set sizes are unequal.\n",
      "  DeprecationWarning)\n"
     ]
    },
    {
     "name": "stdout",
     "output_type": "stream",
     "text": [
      "Trade Date:  20050301\n",
      "{'max_features': 'sqrt', 'min_samples_leaf': 0.05, 'min_samples_split': 0.2, 'n_estimators': 75}\n"
     ]
    },
    {
     "name": "stderr",
     "output_type": "stream",
     "text": [
      "/home/ubuntu/anaconda3/lib/python3.6/site-packages/sklearn/model_selection/_search.py:814: DeprecationWarning: The default of the `iid` parameter will change from True to False in version 0.22 and will be removed in 0.24. This will change numeric results when test-set sizes are unequal.\n",
      "  DeprecationWarning)\n"
     ]
    },
    {
     "name": "stdout",
     "output_type": "stream",
     "text": [
      "Trade Date:  20050601\n",
      "{'max_features': 'sqrt', 'min_samples_leaf': 0.05, 'min_samples_split': 0.1, 'n_estimators': 100}\n"
     ]
    },
    {
     "name": "stderr",
     "output_type": "stream",
     "text": [
      "/home/ubuntu/anaconda3/lib/python3.6/site-packages/sklearn/model_selection/_search.py:814: DeprecationWarning: The default of the `iid` parameter will change from True to False in version 0.22 and will be removed in 0.24. This will change numeric results when test-set sizes are unequal.\n",
      "  DeprecationWarning)\n"
     ]
    },
    {
     "name": "stdout",
     "output_type": "stream",
     "text": [
      "Trade Date:  20050901\n",
      "{'max_features': 'sqrt', 'min_samples_leaf': 0.05, 'min_samples_split': 0.1, 'n_estimators': 75}\n"
     ]
    },
    {
     "name": "stderr",
     "output_type": "stream",
     "text": [
      "/home/ubuntu/anaconda3/lib/python3.6/site-packages/sklearn/model_selection/_search.py:814: DeprecationWarning: The default of the `iid` parameter will change from True to False in version 0.22 and will be removed in 0.24. This will change numeric results when test-set sizes are unequal.\n",
      "  DeprecationWarning)\n"
     ]
    },
    {
     "name": "stdout",
     "output_type": "stream",
     "text": [
      "Trade Date:  20051201\n",
      "{'max_features': 'sqrt', 'min_samples_leaf': 0.05, 'min_samples_split': 0.2, 'n_estimators': 200}\n",
      "Trade Date:  20060301\n",
      "{'max_features': 'sqrt', 'min_samples_leaf': 0.05, 'min_samples_split': 0.1, 'n_estimators': 200}\n",
      "Trade Date:  20060601\n",
      "{'max_features': 'sqrt', 'min_samples_leaf': 0.05, 'min_samples_split': 0.2, 'n_estimators': 100}\n"
     ]
    },
    {
     "name": "stderr",
     "output_type": "stream",
     "text": [
      "/home/ubuntu/anaconda3/lib/python3.6/site-packages/sklearn/model_selection/_search.py:814: DeprecationWarning: The default of the `iid` parameter will change from True to False in version 0.22 and will be removed in 0.24. This will change numeric results when test-set sizes are unequal.\n",
      "  DeprecationWarning)\n"
     ]
    },
    {
     "name": "stdout",
     "output_type": "stream",
     "text": [
      "Trade Date:  20060901\n",
      "{'max_features': 'sqrt', 'min_samples_leaf': 0.05, 'min_samples_split': 0.2, 'n_estimators': 100}\n",
      "Trade Date:  20061201\n",
      "{'max_features': 'sqrt', 'min_samples_leaf': 0.05, 'min_samples_split': 0.1, 'n_estimators': 200}\n"
     ]
    },
    {
     "name": "stderr",
     "output_type": "stream",
     "text": [
      "/home/ubuntu/anaconda3/lib/python3.6/site-packages/sklearn/model_selection/_search.py:814: DeprecationWarning: The default of the `iid` parameter will change from True to False in version 0.22 and will be removed in 0.24. This will change numeric results when test-set sizes are unequal.\n",
      "  DeprecationWarning)\n"
     ]
    },
    {
     "name": "stdout",
     "output_type": "stream",
     "text": [
      "Trade Date:  20070301\n",
      "{'max_features': 'sqrt', 'min_samples_leaf': 0.05, 'min_samples_split': 0.1, 'n_estimators': 100}\n",
      "Trade Date:  20070601\n",
      "{'max_features': 'sqrt', 'min_samples_leaf': 0.05, 'min_samples_split': 0.1, 'n_estimators': 100}\n"
     ]
    },
    {
     "name": "stderr",
     "output_type": "stream",
     "text": [
      "/home/ubuntu/anaconda3/lib/python3.6/site-packages/sklearn/model_selection/_search.py:814: DeprecationWarning: The default of the `iid` parameter will change from True to False in version 0.22 and will be removed in 0.24. This will change numeric results when test-set sizes are unequal.\n",
      "  DeprecationWarning)\n"
     ]
    },
    {
     "name": "stdout",
     "output_type": "stream",
     "text": [
      "Trade Date:  20070904\n",
      "{'max_features': 'sqrt', 'min_samples_leaf': 0.05, 'min_samples_split': 0.1, 'n_estimators': 200}\n",
      "Trade Date:  20071203\n",
      "{'max_features': 'sqrt', 'min_samples_leaf': 0.05, 'min_samples_split': 0.2, 'n_estimators': 200}\n",
      "Trade Date:  20080303\n",
      "{'max_features': 'sqrt', 'min_samples_leaf': 0.05, 'min_samples_split': 0.2, 'n_estimators': 200}\n"
     ]
    },
    {
     "name": "stderr",
     "output_type": "stream",
     "text": [
      "/home/ubuntu/anaconda3/lib/python3.6/site-packages/sklearn/model_selection/_search.py:814: DeprecationWarning: The default of the `iid` parameter will change from True to False in version 0.22 and will be removed in 0.24. This will change numeric results when test-set sizes are unequal.\n",
      "  DeprecationWarning)\n"
     ]
    },
    {
     "name": "stdout",
     "output_type": "stream",
     "text": [
      "Trade Date:  20080602\n",
      "{'max_features': 'sqrt', 'min_samples_leaf': 0.05, 'min_samples_split': 0.1, 'n_estimators': 200}\n"
     ]
    },
    {
     "name": "stderr",
     "output_type": "stream",
     "text": [
      "/home/ubuntu/anaconda3/lib/python3.6/site-packages/sklearn/model_selection/_search.py:814: DeprecationWarning: The default of the `iid` parameter will change from True to False in version 0.22 and will be removed in 0.24. This will change numeric results when test-set sizes are unequal.\n",
      "  DeprecationWarning)\n"
     ]
    },
    {
     "name": "stdout",
     "output_type": "stream",
     "text": [
      "Trade Date:  20080902\n",
      "{'max_features': 'sqrt', 'min_samples_leaf': 0.05, 'min_samples_split': 0.1, 'n_estimators': 75}\n"
     ]
    },
    {
     "name": "stderr",
     "output_type": "stream",
     "text": [
      "/home/ubuntu/anaconda3/lib/python3.6/site-packages/sklearn/model_selection/_search.py:814: DeprecationWarning: The default of the `iid` parameter will change from True to False in version 0.22 and will be removed in 0.24. This will change numeric results when test-set sizes are unequal.\n",
      "  DeprecationWarning)\n"
     ]
    },
    {
     "name": "stdout",
     "output_type": "stream",
     "text": [
      "Trade Date:  20081201\n",
      "{'max_features': 'sqrt', 'min_samples_leaf': 0.05, 'min_samples_split': 0.1, 'n_estimators': 75}\n",
      "Trade Date:  20090302\n",
      "{'max_features': 'sqrt', 'min_samples_leaf': 0.2, 'min_samples_split': 0.5, 'n_estimators': 200}\n"
     ]
    },
    {
     "name": "stderr",
     "output_type": "stream",
     "text": [
      "/home/ubuntu/anaconda3/lib/python3.6/site-packages/sklearn/model_selection/_search.py:814: DeprecationWarning: The default of the `iid` parameter will change from True to False in version 0.22 and will be removed in 0.24. This will change numeric results when test-set sizes are unequal.\n",
      "  DeprecationWarning)\n"
     ]
    },
    {
     "name": "stdout",
     "output_type": "stream",
     "text": [
      "Trade Date:  20090601\n",
      "{'max_features': 'sqrt', 'min_samples_leaf': 0.2, 'min_samples_split': 0.5, 'n_estimators': 100}\n"
     ]
    },
    {
     "name": "stderr",
     "output_type": "stream",
     "text": [
      "/home/ubuntu/anaconda3/lib/python3.6/site-packages/sklearn/model_selection/_search.py:814: DeprecationWarning: The default of the `iid` parameter will change from True to False in version 0.22 and will be removed in 0.24. This will change numeric results when test-set sizes are unequal.\n",
      "  DeprecationWarning)\n"
     ]
    },
    {
     "name": "stdout",
     "output_type": "stream",
     "text": [
      "Trade Date:  20090901\n",
      "{'max_features': 'sqrt', 'min_samples_leaf': 0.2, 'min_samples_split': 0.5, 'n_estimators': 200}\n",
      "Trade Date:  20091201\n",
      "{'max_features': 'sqrt', 'min_samples_leaf': 0.2, 'min_samples_split': 0.5, 'n_estimators': 100}\n",
      "Trade Date:  20100301\n",
      "{'max_features': 'sqrt', 'min_samples_leaf': 0.2, 'min_samples_split': 0.5, 'n_estimators': 75}\n",
      "Trade Date:  20100601\n",
      "{'max_features': 'sqrt', 'min_samples_leaf': 0.2, 'min_samples_split': 0.5, 'n_estimators': 75}\n",
      "Trade Date:  20100901\n",
      "{'max_features': 'sqrt', 'min_samples_leaf': 0.05, 'min_samples_split': 0.1, 'n_estimators': 75}\n",
      "Trade Date:  20101201\n",
      "{'max_features': 'sqrt', 'min_samples_leaf': 0.05, 'min_samples_split': 0.1, 'n_estimators': 100}\n",
      "Trade Date:  20110301\n",
      "{'max_features': 'sqrt', 'min_samples_leaf': 0.05, 'min_samples_split': 0.1, 'n_estimators': 100}\n",
      "Trade Date:  20110601\n",
      "{'max_features': 'sqrt', 'min_samples_leaf': 0.05, 'min_samples_split': 0.1, 'n_estimators': 75}\n",
      "Trade Date:  20110901\n",
      "{'max_features': 'sqrt', 'min_samples_leaf': 0.05, 'min_samples_split': 0.1, 'n_estimators': 200}\n",
      "Trade Date:  20111201\n",
      "{'max_features': 'sqrt', 'min_samples_leaf': 0.05, 'min_samples_split': 0.1, 'n_estimators': 200}\n",
      "Trade Date:  20120301\n",
      "{'max_features': 'sqrt', 'min_samples_leaf': 0.05, 'min_samples_split': 0.1, 'n_estimators': 100}\n",
      "Trade Date:  20120601\n",
      "{'max_features': 'sqrt', 'min_samples_leaf': 0.05, 'min_samples_split': 0.1, 'n_estimators': 100}\n",
      "Trade Date:  20120904\n",
      "{'max_features': 'sqrt', 'min_samples_leaf': 0.1, 'min_samples_split': 0.1, 'n_estimators': 200}\n",
      "Trade Date:  20121203\n",
      "{'max_features': 'sqrt', 'min_samples_leaf': 0.05, 'min_samples_split': 0.1, 'n_estimators': 200}\n",
      "Trade Date:  20130301\n",
      "{'max_features': 'sqrt', 'min_samples_leaf': 0.1, 'min_samples_split': 0.1, 'n_estimators': 200}\n",
      "Trade Date:  20130603\n",
      "{'max_features': 'sqrt', 'min_samples_leaf': 0.1, 'min_samples_split': 0.1, 'n_estimators': 200}\n",
      "Trade Date:  20130903\n",
      "{'max_features': 'sqrt', 'min_samples_leaf': 0.1, 'min_samples_split': 0.1, 'n_estimators': 200}\n",
      "Trade Date:  20131202\n",
      "{'max_features': 'sqrt', 'min_samples_leaf': 0.1, 'min_samples_split': 0.1, 'n_estimators': 75}\n",
      "Trade Date:  20140303\n",
      "{'max_features': 'sqrt', 'min_samples_leaf': 0.1, 'min_samples_split': 0.30000000000000004, 'n_estimators': 75}\n",
      "Trade Date:  20140602\n",
      "{'max_features': 'sqrt', 'min_samples_leaf': 0.1, 'min_samples_split': 0.30000000000000004, 'n_estimators': 200}\n",
      "Trade Date:  20140902\n",
      "{'max_features': 'sqrt', 'min_samples_leaf': 0.05, 'min_samples_split': 0.5, 'n_estimators': 75}\n",
      "Trade Date:  20141201\n",
      "{'max_features': 'sqrt', 'min_samples_leaf': 0.05, 'min_samples_split': 0.5, 'n_estimators': 200}\n",
      "Trade Date:  20150302\n",
      "{'max_features': 'sqrt', 'min_samples_leaf': 0.05, 'min_samples_split': 0.5, 'n_estimators': 100}\n",
      "Trade Date:  20150601\n",
      "{'max_features': 'sqrt', 'min_samples_leaf': 0.05, 'min_samples_split': 0.5, 'n_estimators': 75}\n",
      "Trade Date:  20150901\n",
      "{'max_features': 'sqrt', 'min_samples_leaf': 0.05, 'min_samples_split': 0.5, 'n_estimators': 75}\n",
      "Trade Date:  20151201\n",
      "{'max_features': 'sqrt', 'min_samples_leaf': 0.05, 'min_samples_split': 0.4, 'n_estimators': 75}\n",
      "Trade Date:  20160301\n",
      "{'max_features': 'sqrt', 'min_samples_leaf': 0.05, 'min_samples_split': 0.5, 'n_estimators': 75}\n",
      "Trade Date:  20160601\n",
      "{'max_features': 'sqrt', 'min_samples_leaf': 0.05, 'min_samples_split': 0.5, 'n_estimators': 75}\n",
      "Trade Date:  20160901\n",
      "{'max_features': 'sqrt', 'min_samples_leaf': 0.05, 'min_samples_split': 0.30000000000000004, 'n_estimators': 200}\n",
      "Trade Date:  20161201\n",
      "{'max_features': 'sqrt', 'min_samples_leaf': 0.05, 'min_samples_split': 0.5, 'n_estimators': 75}\n",
      "Trade Date:  20170301\n",
      "{'max_features': 'sqrt', 'min_samples_leaf': 0.05, 'min_samples_split': 0.5, 'n_estimators': 75}\n",
      "Trade Date:  20170601\n",
      "Time Spent:  29.5287407040596  minutes\n"
     ]
    }
   ],
   "source": [
    "start = time.time()\n",
    "sector35_result=ml_model.run_4model(sector35_data,\n",
    "                          ['X1_REVGH', 'X2_EPS',\n",
    "       'X3_ROA', 'X4_ROE', 'X5_PE', 'X6_PS', 'X7_NPM', 'X8_GPM', 'X9_OM',\n",
    "       'X10_PB', 'X12_CR', 'X15_LTDTA', 'X16_WCR', 'X17_DE', 'X18_QR',\n",
    "       'X19_DSI', 'X20_DPO'], label_column, date_column,tic_column,\n",
    "                         unique_ticker_sector35, unique_datetime, trade_date,\n",
    "                         first_trade_date_index,\n",
    "                         testing_windows)\n",
    "end = time.time()\n",
    "print('Time Spent: ',(end-start)/60,' minutes')"
   ]
  },
  {
   "cell_type": "code",
   "execution_count": 393,
   "metadata": {},
   "outputs": [
    {
     "data": {
      "text/plain": [
       "gbm      49\n",
       "rf       25\n",
       "ridge    10\n",
       "lr        5\n",
       "Name: model_name, dtype: int64"
      ]
     },
     "execution_count": 393,
     "metadata": {},
     "output_type": "execute_result"
    }
   ],
   "source": [
    "\n",
    "df_predict_best = sector35_result[4].astype(np.float64)\n",
    "df_best_model_name = sector35_result[5]\n",
    "df_best_model_name.model_name.value_counts()"
   ]
  },
  {
   "cell_type": "code",
   "execution_count": 262,
   "metadata": {},
   "outputs": [],
   "source": [
    "ml_model.save_model_result(sector35_result,'sector35')"
   ]
  },
  {
   "cell_type": "markdown",
   "metadata": {},
   "source": [
    "## Sector 40"
   ]
  },
  {
   "cell_type": "code",
   "execution_count": 516,
   "metadata": {},
   "outputs": [
    {
     "data": {
      "text/plain": [
       "Index(['gvkey', 'tic', 'datadate', 'rdq', 'tradedate', 'fyearq', 'fqtr',\n",
       "       'conm', 'datacqtr', 'datafqtr', 'gsector', 'X2_EPS', 'X3_ROA', 'X4_ROE',\n",
       "       'X5_PE', 'X9_OM', 'X10_PB', 'X15_LTDTA', 'X17_DE', 'X19_DSI',\n",
       "       'y_return'],\n",
       "      dtype='object')"
      ]
     },
     "execution_count": 516,
     "metadata": {},
     "output_type": "execute_result"
    }
   ],
   "source": [
    "sector40_data.columns"
   ]
  },
  {
   "cell_type": "code",
   "execution_count": 269,
   "metadata": {
    "scrolled": true
   },
   "outputs": [
    {
     "name": "stdout",
     "output_type": "stream",
     "text": [
      "{'max_features': 'sqrt', 'min_samples_leaf': 0.05, 'min_samples_split': 0.1, 'n_estimators': 75}\n",
      "Trade Date:  19950601\n",
      "{'max_features': 'sqrt', 'min_samples_leaf': 0.05, 'min_samples_split': 0.1, 'n_estimators': 200}\n",
      "Trade Date:  19950901\n",
      "{'max_features': 'sqrt', 'min_samples_leaf': 0.05, 'min_samples_split': 0.1, 'n_estimators': 200}\n",
      "Trade Date:  19951201\n",
      "{'max_features': 'sqrt', 'min_samples_leaf': 0.05, 'min_samples_split': 0.1, 'n_estimators': 200}\n",
      "Trade Date:  19960301\n",
      "{'max_features': 'sqrt', 'min_samples_leaf': 0.05, 'min_samples_split': 0.1, 'n_estimators': 200}\n",
      "Trade Date:  19960603\n",
      "{'max_features': 'sqrt', 'min_samples_leaf': 0.05, 'min_samples_split': 0.1, 'n_estimators': 200}\n",
      "Trade Date:  19960903\n",
      "{'max_features': 'sqrt', 'min_samples_leaf': 0.05, 'min_samples_split': 0.1, 'n_estimators': 100}\n",
      "Trade Date:  19961202\n",
      "{'max_features': 'sqrt', 'min_samples_leaf': 0.05, 'min_samples_split': 0.1, 'n_estimators': 75}\n",
      "Trade Date:  19970303\n",
      "{'max_features': 'sqrt', 'min_samples_leaf': 0.05, 'min_samples_split': 0.1, 'n_estimators': 200}\n",
      "Trade Date:  19970602\n",
      "{'max_features': 'sqrt', 'min_samples_leaf': 0.05, 'min_samples_split': 0.1, 'n_estimators': 200}\n",
      "Trade Date:  19970902\n",
      "{'max_features': 'sqrt', 'min_samples_leaf': 0.05, 'min_samples_split': 0.1, 'n_estimators': 100}\n",
      "Trade Date:  19971201\n",
      "{'max_features': 'sqrt', 'min_samples_leaf': 0.05, 'min_samples_split': 0.1, 'n_estimators': 200}\n",
      "Trade Date:  19980302\n",
      "{'max_features': 'sqrt', 'min_samples_leaf': 0.05, 'min_samples_split': 0.1, 'n_estimators': 75}\n",
      "Trade Date:  19980601\n",
      "{'max_features': 'sqrt', 'min_samples_leaf': 0.05, 'min_samples_split': 0.1, 'n_estimators': 100}\n",
      "Trade Date:  19980901\n",
      "{'max_features': 'sqrt', 'min_samples_leaf': 0.05, 'min_samples_split': 0.1, 'n_estimators': 200}\n",
      "Trade Date:  19981201\n",
      "{'max_features': 'sqrt', 'min_samples_leaf': 0.05, 'min_samples_split': 0.1, 'n_estimators': 200}\n",
      "Trade Date:  19990301\n",
      "{'max_features': 'sqrt', 'min_samples_leaf': 0.05, 'min_samples_split': 0.1, 'n_estimators': 200}\n",
      "Trade Date:  19990601\n",
      "{'max_features': 'sqrt', 'min_samples_leaf': 0.05, 'min_samples_split': 0.1, 'n_estimators': 200}\n",
      "Trade Date:  19990901\n",
      "{'max_features': 'sqrt', 'min_samples_leaf': 0.05, 'min_samples_split': 0.1, 'n_estimators': 100}\n",
      "Trade Date:  19991201\n",
      "{'max_features': 'sqrt', 'min_samples_leaf': 0.05, 'min_samples_split': 0.1, 'n_estimators': 200}\n",
      "Trade Date:  20000301\n",
      "{'max_features': 'sqrt', 'min_samples_leaf': 0.05, 'min_samples_split': 0.1, 'n_estimators': 75}\n",
      "Trade Date:  20000601\n",
      "{'max_features': 'sqrt', 'min_samples_leaf': 0.05, 'min_samples_split': 0.1, 'n_estimators': 200}\n",
      "Trade Date:  20000901\n",
      "{'max_features': 'sqrt', 'min_samples_leaf': 0.05, 'min_samples_split': 0.1, 'n_estimators': 200}\n",
      "Trade Date:  20001201\n",
      "{'max_features': 'sqrt', 'min_samples_leaf': 0.05, 'min_samples_split': 0.1, 'n_estimators': 200}\n",
      "Trade Date:  20010301\n",
      "{'max_features': 'sqrt', 'min_samples_leaf': 0.05, 'min_samples_split': 0.1, 'n_estimators': 100}\n",
      "Trade Date:  20010601\n",
      "{'max_features': 'sqrt', 'min_samples_leaf': 0.05, 'min_samples_split': 0.1, 'n_estimators': 200}\n",
      "Trade Date:  20010904\n",
      "{'max_features': 'sqrt', 'min_samples_leaf': 0.05, 'min_samples_split': 0.1, 'n_estimators': 100}\n",
      "Trade Date:  20011203\n",
      "{'max_features': 'sqrt', 'min_samples_leaf': 0.05, 'min_samples_split': 0.1, 'n_estimators': 200}\n",
      "Trade Date:  20020301\n",
      "{'max_features': 'sqrt', 'min_samples_leaf': 0.05, 'min_samples_split': 0.1, 'n_estimators': 200}\n",
      "Trade Date:  20020603\n",
      "{'max_features': 'sqrt', 'min_samples_leaf': 0.05, 'min_samples_split': 0.1, 'n_estimators': 200}\n",
      "Trade Date:  20020903\n",
      "{'max_features': 'sqrt', 'min_samples_leaf': 0.05, 'min_samples_split': 0.1, 'n_estimators': 200}\n",
      "Trade Date:  20021202\n",
      "{'max_features': 'sqrt', 'min_samples_leaf': 0.05, 'min_samples_split': 0.1, 'n_estimators': 100}\n",
      "Trade Date:  20030303\n",
      "{'max_features': 'sqrt', 'min_samples_leaf': 0.05, 'min_samples_split': 0.1, 'n_estimators': 200}\n",
      "Trade Date:  20030602\n",
      "{'max_features': 'sqrt', 'min_samples_leaf': 0.05, 'min_samples_split': 0.1, 'n_estimators': 200}\n",
      "Trade Date:  20030902\n",
      "{'max_features': 'sqrt', 'min_samples_leaf': 0.05, 'min_samples_split': 0.1, 'n_estimators': 100}\n",
      "Trade Date:  20031201\n",
      "{'max_features': 'sqrt', 'min_samples_leaf': 0.05, 'min_samples_split': 0.1, 'n_estimators': 200}\n",
      "Trade Date:  20040301\n",
      "{'max_features': 'sqrt', 'min_samples_leaf': 0.05, 'min_samples_split': 0.1, 'n_estimators': 100}\n",
      "Trade Date:  20040601\n",
      "{'max_features': 'sqrt', 'min_samples_leaf': 0.05, 'min_samples_split': 0.1, 'n_estimators': 200}\n",
      "Trade Date:  20040901\n",
      "{'max_features': 'sqrt', 'min_samples_leaf': 0.05, 'min_samples_split': 0.1, 'n_estimators': 200}\n",
      "Trade Date:  20041201\n",
      "{'max_features': 'sqrt', 'min_samples_leaf': 0.05, 'min_samples_split': 0.1, 'n_estimators': 200}\n",
      "Trade Date:  20050301\n",
      "{'max_features': 'sqrt', 'min_samples_leaf': 0.05, 'min_samples_split': 0.1, 'n_estimators': 200}\n",
      "Trade Date:  20050601\n",
      "{'max_features': 'sqrt', 'min_samples_leaf': 0.05, 'min_samples_split': 0.1, 'n_estimators': 100}\n",
      "Trade Date:  20050901\n",
      "{'max_features': 'sqrt', 'min_samples_leaf': 0.05, 'min_samples_split': 0.1, 'n_estimators': 200}\n",
      "Trade Date:  20051201\n",
      "{'max_features': 'sqrt', 'min_samples_leaf': 0.05, 'min_samples_split': 0.1, 'n_estimators': 200}\n",
      "Trade Date:  20060301\n",
      "{'max_features': 'sqrt', 'min_samples_leaf': 0.05, 'min_samples_split': 0.1, 'n_estimators': 200}\n",
      "Trade Date:  20060601\n",
      "{'max_features': 'sqrt', 'min_samples_leaf': 0.05, 'min_samples_split': 0.1, 'n_estimators': 200}\n",
      "Trade Date:  20060901\n",
      "{'max_features': 'sqrt', 'min_samples_leaf': 0.05, 'min_samples_split': 0.1, 'n_estimators': 200}\n",
      "Trade Date:  20061201\n",
      "{'max_features': 'sqrt', 'min_samples_leaf': 0.05, 'min_samples_split': 0.1, 'n_estimators': 100}\n",
      "Trade Date:  20070301\n",
      "{'max_features': 'sqrt', 'min_samples_leaf': 0.05, 'min_samples_split': 0.1, 'n_estimators': 200}\n",
      "Trade Date:  20070601\n",
      "{'max_features': 'sqrt', 'min_samples_leaf': 0.05, 'min_samples_split': 0.1, 'n_estimators': 200}\n",
      "Trade Date:  20070904\n",
      "{'max_features': 'sqrt', 'min_samples_leaf': 0.05, 'min_samples_split': 0.1, 'n_estimators': 200}\n",
      "Trade Date:  20071203\n",
      "{'max_features': 'sqrt', 'min_samples_leaf': 0.05, 'min_samples_split': 0.1, 'n_estimators': 200}\n",
      "Trade Date:  20080303\n",
      "{'max_features': 'sqrt', 'min_samples_leaf': 0.05, 'min_samples_split': 0.1, 'n_estimators': 100}\n",
      "Trade Date:  20080602\n",
      "{'max_features': 'sqrt', 'min_samples_leaf': 0.05, 'min_samples_split': 0.1, 'n_estimators': 200}\n",
      "Trade Date:  20080902\n",
      "{'max_features': 'sqrt', 'min_samples_leaf': 0.05, 'min_samples_split': 0.1, 'n_estimators': 200}\n",
      "Trade Date:  20081201\n",
      "{'max_features': 'sqrt', 'min_samples_leaf': 0.05, 'min_samples_split': 0.1, 'n_estimators': 100}\n",
      "Trade Date:  20090302\n",
      "{'max_features': 'sqrt', 'min_samples_leaf': 0.05, 'min_samples_split': 0.1, 'n_estimators': 75}\n",
      "Trade Date:  20090601\n",
      "{'max_features': 'sqrt', 'min_samples_leaf': 0.05, 'min_samples_split': 0.1, 'n_estimators': 200}\n",
      "Trade Date:  20090901\n",
      "{'max_features': 'sqrt', 'min_samples_leaf': 0.05, 'min_samples_split': 0.1, 'n_estimators': 75}\n",
      "Trade Date:  20091201\n",
      "{'max_features': 'sqrt', 'min_samples_leaf': 0.05, 'min_samples_split': 0.1, 'n_estimators': 200}\n"
     ]
    },
    {
     "name": "stderr",
     "output_type": "stream",
     "text": [
      "/home/ubuntu/anaconda3/lib/python3.6/site-packages/sklearn/model_selection/_search.py:814: DeprecationWarning: The default of the `iid` parameter will change from True to False in version 0.22 and will be removed in 0.24. This will change numeric results when test-set sizes are unequal.\n",
      "  DeprecationWarning)\n"
     ]
    },
    {
     "name": "stdout",
     "output_type": "stream",
     "text": [
      "Trade Date:  20100301\n",
      "{'max_features': 'sqrt', 'min_samples_leaf': 0.05, 'min_samples_split': 0.1, 'n_estimators': 200}\n"
     ]
    },
    {
     "name": "stderr",
     "output_type": "stream",
     "text": [
      "/home/ubuntu/anaconda3/lib/python3.6/site-packages/sklearn/model_selection/_search.py:814: DeprecationWarning: The default of the `iid` parameter will change from True to False in version 0.22 and will be removed in 0.24. This will change numeric results when test-set sizes are unequal.\n",
      "  DeprecationWarning)\n"
     ]
    },
    {
     "name": "stdout",
     "output_type": "stream",
     "text": [
      "Trade Date:  20100601\n",
      "{'max_features': 'sqrt', 'min_samples_leaf': 0.05, 'min_samples_split': 0.1, 'n_estimators': 100}\n",
      "Trade Date:  20100901\n",
      "{'max_features': 'sqrt', 'min_samples_leaf': 0.05, 'min_samples_split': 0.1, 'n_estimators': 200}\n"
     ]
    },
    {
     "name": "stderr",
     "output_type": "stream",
     "text": [
      "/home/ubuntu/anaconda3/lib/python3.6/site-packages/sklearn/model_selection/_search.py:814: DeprecationWarning: The default of the `iid` parameter will change from True to False in version 0.22 and will be removed in 0.24. This will change numeric results when test-set sizes are unequal.\n",
      "  DeprecationWarning)\n"
     ]
    },
    {
     "name": "stdout",
     "output_type": "stream",
     "text": [
      "Trade Date:  20101201\n",
      "{'max_features': 'sqrt', 'min_samples_leaf': 0.05, 'min_samples_split': 0.1, 'n_estimators': 200}\n"
     ]
    },
    {
     "name": "stderr",
     "output_type": "stream",
     "text": [
      "/home/ubuntu/anaconda3/lib/python3.6/site-packages/sklearn/model_selection/_search.py:814: DeprecationWarning: The default of the `iid` parameter will change from True to False in version 0.22 and will be removed in 0.24. This will change numeric results when test-set sizes are unequal.\n",
      "  DeprecationWarning)\n"
     ]
    },
    {
     "name": "stdout",
     "output_type": "stream",
     "text": [
      "Trade Date:  20110301\n",
      "{'max_features': 'sqrt', 'min_samples_leaf': 0.05, 'min_samples_split': 0.1, 'n_estimators': 200}\n"
     ]
    },
    {
     "name": "stderr",
     "output_type": "stream",
     "text": [
      "/home/ubuntu/anaconda3/lib/python3.6/site-packages/sklearn/model_selection/_search.py:814: DeprecationWarning: The default of the `iid` parameter will change from True to False in version 0.22 and will be removed in 0.24. This will change numeric results when test-set sizes are unequal.\n",
      "  DeprecationWarning)\n"
     ]
    },
    {
     "name": "stdout",
     "output_type": "stream",
     "text": [
      "Trade Date:  20110601\n",
      "{'max_features': 'sqrt', 'min_samples_leaf': 0.05, 'min_samples_split': 0.1, 'n_estimators': 200}\n"
     ]
    },
    {
     "name": "stderr",
     "output_type": "stream",
     "text": [
      "/home/ubuntu/anaconda3/lib/python3.6/site-packages/sklearn/model_selection/_search.py:814: DeprecationWarning: The default of the `iid` parameter will change from True to False in version 0.22 and will be removed in 0.24. This will change numeric results when test-set sizes are unequal.\n",
      "  DeprecationWarning)\n"
     ]
    },
    {
     "name": "stdout",
     "output_type": "stream",
     "text": [
      "Trade Date:  20110901\n",
      "{'max_features': 'sqrt', 'min_samples_leaf': 0.05, 'min_samples_split': 0.1, 'n_estimators': 200}\n"
     ]
    },
    {
     "name": "stderr",
     "output_type": "stream",
     "text": [
      "/home/ubuntu/anaconda3/lib/python3.6/site-packages/sklearn/model_selection/_search.py:814: DeprecationWarning: The default of the `iid` parameter will change from True to False in version 0.22 and will be removed in 0.24. This will change numeric results when test-set sizes are unequal.\n",
      "  DeprecationWarning)\n"
     ]
    },
    {
     "name": "stdout",
     "output_type": "stream",
     "text": [
      "Trade Date:  20111201\n",
      "{'max_features': 'sqrt', 'min_samples_leaf': 0.05, 'min_samples_split': 0.1, 'n_estimators': 75}\n"
     ]
    },
    {
     "name": "stderr",
     "output_type": "stream",
     "text": [
      "/home/ubuntu/anaconda3/lib/python3.6/site-packages/sklearn/model_selection/_search.py:814: DeprecationWarning: The default of the `iid` parameter will change from True to False in version 0.22 and will be removed in 0.24. This will change numeric results when test-set sizes are unequal.\n",
      "  DeprecationWarning)\n"
     ]
    },
    {
     "name": "stdout",
     "output_type": "stream",
     "text": [
      "Trade Date:  20120301\n",
      "{'max_features': 'sqrt', 'min_samples_leaf': 0.05, 'min_samples_split': 0.1, 'n_estimators': 200}\n"
     ]
    },
    {
     "name": "stderr",
     "output_type": "stream",
     "text": [
      "/home/ubuntu/anaconda3/lib/python3.6/site-packages/sklearn/model_selection/_search.py:814: DeprecationWarning: The default of the `iid` parameter will change from True to False in version 0.22 and will be removed in 0.24. This will change numeric results when test-set sizes are unequal.\n",
      "  DeprecationWarning)\n"
     ]
    },
    {
     "name": "stdout",
     "output_type": "stream",
     "text": [
      "Trade Date:  20120601\n",
      "{'max_features': 'sqrt', 'min_samples_leaf': 0.05, 'min_samples_split': 0.1, 'n_estimators': 200}\n",
      "Trade Date:  20120904\n",
      "{'max_features': 'sqrt', 'min_samples_leaf': 0.05, 'min_samples_split': 0.1, 'n_estimators': 200}\n",
      "Trade Date:  20121203\n",
      "{'max_features': 'sqrt', 'min_samples_leaf': 0.05, 'min_samples_split': 0.1, 'n_estimators': 200}\n"
     ]
    },
    {
     "name": "stderr",
     "output_type": "stream",
     "text": [
      "/home/ubuntu/anaconda3/lib/python3.6/site-packages/sklearn/model_selection/_search.py:814: DeprecationWarning: The default of the `iid` parameter will change from True to False in version 0.22 and will be removed in 0.24. This will change numeric results when test-set sizes are unequal.\n",
      "  DeprecationWarning)\n"
     ]
    },
    {
     "name": "stdout",
     "output_type": "stream",
     "text": [
      "Trade Date:  20130301\n",
      "{'max_features': 'sqrt', 'min_samples_leaf': 0.05, 'min_samples_split': 0.1, 'n_estimators': 200}\n"
     ]
    },
    {
     "name": "stderr",
     "output_type": "stream",
     "text": [
      "/home/ubuntu/anaconda3/lib/python3.6/site-packages/sklearn/model_selection/_search.py:814: DeprecationWarning: The default of the `iid` parameter will change from True to False in version 0.22 and will be removed in 0.24. This will change numeric results when test-set sizes are unequal.\n",
      "  DeprecationWarning)\n"
     ]
    },
    {
     "name": "stdout",
     "output_type": "stream",
     "text": [
      "Trade Date:  20130603\n",
      "{'max_features': 'sqrt', 'min_samples_leaf': 0.05, 'min_samples_split': 0.1, 'n_estimators': 200}\n",
      "Trade Date:  20130903\n",
      "{'max_features': 'sqrt', 'min_samples_leaf': 0.05, 'min_samples_split': 0.1, 'n_estimators': 200}\n"
     ]
    },
    {
     "name": "stderr",
     "output_type": "stream",
     "text": [
      "/home/ubuntu/anaconda3/lib/python3.6/site-packages/sklearn/model_selection/_search.py:814: DeprecationWarning: The default of the `iid` parameter will change from True to False in version 0.22 and will be removed in 0.24. This will change numeric results when test-set sizes are unequal.\n",
      "  DeprecationWarning)\n"
     ]
    },
    {
     "name": "stdout",
     "output_type": "stream",
     "text": [
      "Trade Date:  20131202\n",
      "{'max_features': 'sqrt', 'min_samples_leaf': 0.05, 'min_samples_split': 0.1, 'n_estimators': 200}\n"
     ]
    },
    {
     "name": "stderr",
     "output_type": "stream",
     "text": [
      "/home/ubuntu/anaconda3/lib/python3.6/site-packages/sklearn/model_selection/_search.py:814: DeprecationWarning: The default of the `iid` parameter will change from True to False in version 0.22 and will be removed in 0.24. This will change numeric results when test-set sizes are unequal.\n",
      "  DeprecationWarning)\n"
     ]
    },
    {
     "name": "stdout",
     "output_type": "stream",
     "text": [
      "Trade Date:  20140303\n",
      "{'max_features': 'sqrt', 'min_samples_leaf': 0.05, 'min_samples_split': 0.1, 'n_estimators': 200}\n",
      "Trade Date:  20140602\n",
      "{'max_features': 'sqrt', 'min_samples_leaf': 0.05, 'min_samples_split': 0.1, 'n_estimators': 75}\n",
      "Trade Date:  20140902\n",
      "{'max_features': 'sqrt', 'min_samples_leaf': 0.05, 'min_samples_split': 0.1, 'n_estimators': 100}\n"
     ]
    },
    {
     "name": "stderr",
     "output_type": "stream",
     "text": [
      "/home/ubuntu/anaconda3/lib/python3.6/site-packages/sklearn/model_selection/_search.py:814: DeprecationWarning: The default of the `iid` parameter will change from True to False in version 0.22 and will be removed in 0.24. This will change numeric results when test-set sizes are unequal.\n",
      "  DeprecationWarning)\n"
     ]
    },
    {
     "name": "stdout",
     "output_type": "stream",
     "text": [
      "Trade Date:  20141201\n",
      "{'max_features': 'sqrt', 'min_samples_leaf': 0.05, 'min_samples_split': 0.1, 'n_estimators': 75}\n"
     ]
    },
    {
     "name": "stderr",
     "output_type": "stream",
     "text": [
      "/home/ubuntu/anaconda3/lib/python3.6/site-packages/sklearn/model_selection/_search.py:814: DeprecationWarning: The default of the `iid` parameter will change from True to False in version 0.22 and will be removed in 0.24. This will change numeric results when test-set sizes are unequal.\n",
      "  DeprecationWarning)\n"
     ]
    },
    {
     "name": "stdout",
     "output_type": "stream",
     "text": [
      "Trade Date:  20150302\n",
      "{'max_features': 'sqrt', 'min_samples_leaf': 0.05, 'min_samples_split': 0.1, 'n_estimators': 200}\n"
     ]
    },
    {
     "name": "stderr",
     "output_type": "stream",
     "text": [
      "/home/ubuntu/anaconda3/lib/python3.6/site-packages/sklearn/model_selection/_search.py:814: DeprecationWarning: The default of the `iid` parameter will change from True to False in version 0.22 and will be removed in 0.24. This will change numeric results when test-set sizes are unequal.\n",
      "  DeprecationWarning)\n"
     ]
    },
    {
     "name": "stdout",
     "output_type": "stream",
     "text": [
      "Trade Date:  20150601\n",
      "{'max_features': 'sqrt', 'min_samples_leaf': 0.05, 'min_samples_split': 0.1, 'n_estimators': 75}\n"
     ]
    },
    {
     "name": "stderr",
     "output_type": "stream",
     "text": [
      "/home/ubuntu/anaconda3/lib/python3.6/site-packages/sklearn/model_selection/_search.py:814: DeprecationWarning: The default of the `iid` parameter will change from True to False in version 0.22 and will be removed in 0.24. This will change numeric results when test-set sizes are unequal.\n",
      "  DeprecationWarning)\n"
     ]
    },
    {
     "name": "stdout",
     "output_type": "stream",
     "text": [
      "Trade Date:  20150901\n",
      "{'max_features': 'sqrt', 'min_samples_leaf': 0.05, 'min_samples_split': 0.1, 'n_estimators': 200}\n",
      "Trade Date:  20151201\n",
      "{'max_features': 'sqrt', 'min_samples_leaf': 0.05, 'min_samples_split': 0.1, 'n_estimators': 100}\n"
     ]
    },
    {
     "name": "stderr",
     "output_type": "stream",
     "text": [
      "/home/ubuntu/anaconda3/lib/python3.6/site-packages/sklearn/model_selection/_search.py:814: DeprecationWarning: The default of the `iid` parameter will change from True to False in version 0.22 and will be removed in 0.24. This will change numeric results when test-set sizes are unequal.\n",
      "  DeprecationWarning)\n"
     ]
    },
    {
     "name": "stdout",
     "output_type": "stream",
     "text": [
      "Trade Date:  20160301\n",
      "{'max_features': 'sqrt', 'min_samples_leaf': 0.05, 'min_samples_split': 0.1, 'n_estimators': 100}\n",
      "Trade Date:  20160601\n",
      "{'max_features': 'sqrt', 'min_samples_leaf': 0.05, 'min_samples_split': 0.1, 'n_estimators': 75}\n"
     ]
    },
    {
     "name": "stderr",
     "output_type": "stream",
     "text": [
      "/home/ubuntu/anaconda3/lib/python3.6/site-packages/sklearn/model_selection/_search.py:814: DeprecationWarning: The default of the `iid` parameter will change from True to False in version 0.22 and will be removed in 0.24. This will change numeric results when test-set sizes are unequal.\n",
      "  DeprecationWarning)\n"
     ]
    },
    {
     "name": "stdout",
     "output_type": "stream",
     "text": [
      "Trade Date:  20160901\n",
      "{'max_features': 'sqrt', 'min_samples_leaf': 0.05, 'min_samples_split': 0.1, 'n_estimators': 100}\n"
     ]
    },
    {
     "name": "stderr",
     "output_type": "stream",
     "text": [
      "/home/ubuntu/anaconda3/lib/python3.6/site-packages/sklearn/model_selection/_search.py:814: DeprecationWarning: The default of the `iid` parameter will change from True to False in version 0.22 and will be removed in 0.24. This will change numeric results when test-set sizes are unequal.\n",
      "  DeprecationWarning)\n"
     ]
    },
    {
     "name": "stdout",
     "output_type": "stream",
     "text": [
      "Trade Date:  20161201\n",
      "{'max_features': 'sqrt', 'min_samples_leaf': 0.05, 'min_samples_split': 0.1, 'n_estimators': 200}\n"
     ]
    },
    {
     "name": "stderr",
     "output_type": "stream",
     "text": [
      "/home/ubuntu/anaconda3/lib/python3.6/site-packages/sklearn/model_selection/_search.py:814: DeprecationWarning: The default of the `iid` parameter will change from True to False in version 0.22 and will be removed in 0.24. This will change numeric results when test-set sizes are unequal.\n",
      "  DeprecationWarning)\n"
     ]
    },
    {
     "name": "stdout",
     "output_type": "stream",
     "text": [
      "Trade Date:  20170301\n",
      "{'max_features': 'sqrt', 'min_samples_leaf': 0.05, 'min_samples_split': 0.1, 'n_estimators': 75}\n"
     ]
    },
    {
     "name": "stderr",
     "output_type": "stream",
     "text": [
      "/home/ubuntu/anaconda3/lib/python3.6/site-packages/sklearn/model_selection/_search.py:814: DeprecationWarning: The default of the `iid` parameter will change from True to False in version 0.22 and will be removed in 0.24. This will change numeric results when test-set sizes are unequal.\n",
      "  DeprecationWarning)\n"
     ]
    },
    {
     "name": "stdout",
     "output_type": "stream",
     "text": [
      "Trade Date:  20170601\n",
      "Time Spent:  25.371432920296986  minutes\n"
     ]
    }
   ],
   "source": [
    "start = time.time()\n",
    "sector40_result=ml_model.run_4model(sector40_data,\n",
    "                          [ 'X2_EPS', 'X3_ROA', 'X4_ROE',\n",
    "       'X5_PE', 'X9_OM', 'X10_PB', 'X15_LTDTA', 'X17_DE', 'X19_DSI'], label_column, date_column,tic_column,\n",
    "                         unique_ticker_sector40, unique_datetime, trade_date,\n",
    "                         first_trade_date_index,\n",
    "                         testing_windows)\n",
    "end = time.time()\n",
    "print('Time Spent: ',(end-start)/60,' minutes')"
   ]
  },
  {
   "cell_type": "code",
   "execution_count": 402,
   "metadata": {},
   "outputs": [
    {
     "data": {
      "text/plain": [
       "rf       35\n",
       "gbm      31\n",
       "lr       13\n",
       "ridge    10\n",
       "Name: model_name, dtype: int64"
      ]
     },
     "execution_count": 402,
     "metadata": {},
     "output_type": "execute_result"
    }
   ],
   "source": [
    "\n",
    "df_predict_best = sector40_result[4].astype(np.float64)\n",
    "df_best_model_name = sector40_result[5]\n",
    "df_best_model_name.model_name.value_counts()"
   ]
  },
  {
   "cell_type": "code",
   "execution_count": 271,
   "metadata": {},
   "outputs": [],
   "source": [
    "ml_model.save_model_result(sector40_result,'sector40')"
   ]
  },
  {
   "cell_type": "markdown",
   "metadata": {},
   "source": [
    "## Sector 45"
   ]
  },
  {
   "cell_type": "code",
   "execution_count": 279,
   "metadata": {},
   "outputs": [
    {
     "data": {
      "text/plain": [
       "Index(['gvkey', 'tic', 'datadate', 'rdq', 'tradedate', 'fyearq', 'fqtr',\n",
       "       'conm', 'datacqtr', 'datafqtr', 'gsector', 'X1_REVGH', 'X2_EPS',\n",
       "       'X3_ROA', 'X4_ROE', 'X5_PE', 'X6_PS', 'X7_NPM', 'X8_GPM', 'X9_OM',\n",
       "       'X10_PB', 'X12_CR', 'X15_LTDTA', 'X16_WCR', 'X17_DE', 'X18_QR',\n",
       "       'X19_DSI', 'X20_DPO', 'y_return'],\n",
       "      dtype='object')"
      ]
     },
     "execution_count": 279,
     "metadata": {},
     "output_type": "execute_result"
    }
   ],
   "source": [
    "sector45_data.columns"
   ]
  },
  {
   "cell_type": "code",
   "execution_count": 280,
   "metadata": {
    "scrolled": true
   },
   "outputs": [
    {
     "name": "stdout",
     "output_type": "stream",
     "text": [
      "{'max_features': 'sqrt', 'min_samples_leaf': 0.2, 'min_samples_split': 0.5, 'n_estimators': 75}\n",
      "Trade Date:  19950601\n",
      "{'max_features': 'sqrt', 'min_samples_leaf': 0.2, 'min_samples_split': 0.5, 'n_estimators': 100}\n",
      "Trade Date:  19950901\n",
      "{'max_features': 'sqrt', 'min_samples_leaf': 0.2, 'min_samples_split': 0.5, 'n_estimators': 100}\n",
      "Trade Date:  19951201\n",
      "{'max_features': 'sqrt', 'min_samples_leaf': 0.2, 'min_samples_split': 0.5, 'n_estimators': 100}\n",
      "Trade Date:  19960301\n",
      "{'max_features': 'sqrt', 'min_samples_leaf': 0.2, 'min_samples_split': 0.5, 'n_estimators': 100}\n",
      "Trade Date:  19960603\n",
      "{'max_features': 'sqrt', 'min_samples_leaf': 0.2, 'min_samples_split': 0.5, 'n_estimators': 100}\n",
      "Trade Date:  19960903\n",
      "{'max_features': 'sqrt', 'min_samples_leaf': 0.2, 'min_samples_split': 0.5, 'n_estimators': 100}\n",
      "Trade Date:  19961202\n",
      "{'max_features': 'sqrt', 'min_samples_leaf': 0.2, 'min_samples_split': 0.1, 'n_estimators': 200}\n",
      "Trade Date:  19970303\n",
      "{'max_features': 'sqrt', 'min_samples_leaf': 0.2, 'min_samples_split': 0.1, 'n_estimators': 200}\n",
      "Trade Date:  19970602\n",
      "{'max_features': 'sqrt', 'min_samples_leaf': 0.2, 'min_samples_split': 0.1, 'n_estimators': 100}\n",
      "Trade Date:  19970902\n",
      "{'max_features': 'sqrt', 'min_samples_leaf': 0.2, 'min_samples_split': 0.1, 'n_estimators': 75}\n",
      "Trade Date:  19971201\n",
      "{'max_features': 'sqrt', 'min_samples_leaf': 0.2, 'min_samples_split': 0.5, 'n_estimators': 200}\n",
      "Trade Date:  19980302\n",
      "{'max_features': 'sqrt', 'min_samples_leaf': 0.2, 'min_samples_split': 0.5, 'n_estimators': 200}\n",
      "Trade Date:  19980601\n",
      "{'max_features': 'sqrt', 'min_samples_leaf': 0.2, 'min_samples_split': 0.5, 'n_estimators': 200}\n",
      "Trade Date:  19980901\n",
      "{'max_features': 'sqrt', 'min_samples_leaf': 0.2, 'min_samples_split': 0.1, 'n_estimators': 100}\n",
      "Trade Date:  19981201\n",
      "{'max_features': 'sqrt', 'min_samples_leaf': 0.2, 'min_samples_split': 0.1, 'n_estimators': 200}\n",
      "Trade Date:  19990301\n",
      "{'max_features': 'sqrt', 'min_samples_leaf': 0.05, 'min_samples_split': 0.1, 'n_estimators': 200}\n",
      "Trade Date:  19990601\n",
      "{'max_features': 'sqrt', 'min_samples_leaf': 0.05, 'min_samples_split': 0.1, 'n_estimators': 200}\n",
      "Trade Date:  19990901\n",
      "{'max_features': 'sqrt', 'min_samples_leaf': 0.05, 'min_samples_split': 0.1, 'n_estimators': 200}\n",
      "Trade Date:  19991201\n",
      "{'max_features': 'sqrt', 'min_samples_leaf': 0.05, 'min_samples_split': 0.1, 'n_estimators': 200}\n",
      "Trade Date:  20000301\n",
      "{'max_features': 'sqrt', 'min_samples_leaf': 0.05, 'min_samples_split': 0.1, 'n_estimators': 100}\n",
      "Trade Date:  20000601\n",
      "{'max_features': 'sqrt', 'min_samples_leaf': 0.05, 'min_samples_split': 0.1, 'n_estimators': 75}\n",
      "Trade Date:  20000901\n",
      "{'max_features': 'sqrt', 'min_samples_leaf': 0.05, 'min_samples_split': 0.1, 'n_estimators': 75}\n",
      "Trade Date:  20001201\n",
      "{'max_features': 'sqrt', 'min_samples_leaf': 0.05, 'min_samples_split': 0.1, 'n_estimators': 200}\n",
      "Trade Date:  20010301\n",
      "{'max_features': 'sqrt', 'min_samples_leaf': 0.05, 'min_samples_split': 0.1, 'n_estimators': 200}\n",
      "Trade Date:  20010601\n",
      "{'max_features': 'sqrt', 'min_samples_leaf': 0.05, 'min_samples_split': 0.1, 'n_estimators': 200}\n",
      "Trade Date:  20010904\n",
      "{'max_features': 'sqrt', 'min_samples_leaf': 0.1, 'min_samples_split': 0.1, 'n_estimators': 200}\n",
      "Trade Date:  20011203\n",
      "{'max_features': 'sqrt', 'min_samples_leaf': 0.05, 'min_samples_split': 0.2, 'n_estimators': 100}\n",
      "Trade Date:  20020301\n",
      "{'max_features': 'sqrt', 'min_samples_leaf': 0.05, 'min_samples_split': 0.1, 'n_estimators': 75}\n",
      "Trade Date:  20020603\n",
      "{'max_features': 'sqrt', 'min_samples_leaf': 0.05, 'min_samples_split': 0.1, 'n_estimators': 200}\n",
      "Trade Date:  20020903\n",
      "{'max_features': 'sqrt', 'min_samples_leaf': 0.05, 'min_samples_split': 0.1, 'n_estimators': 200}\n",
      "Trade Date:  20021202\n",
      "{'max_features': 'sqrt', 'min_samples_leaf': 0.05, 'min_samples_split': 0.1, 'n_estimators': 200}\n",
      "Trade Date:  20030303\n",
      "{'max_features': 'sqrt', 'min_samples_leaf': 0.05, 'min_samples_split': 0.1, 'n_estimators': 200}\n",
      "Trade Date:  20030602\n",
      "{'max_features': 'sqrt', 'min_samples_leaf': 0.05, 'min_samples_split': 0.1, 'n_estimators': 200}\n",
      "Trade Date:  20030902\n",
      "{'max_features': 'sqrt', 'min_samples_leaf': 0.05, 'min_samples_split': 0.1, 'n_estimators': 200}\n",
      "Trade Date:  20031201\n",
      "{'max_features': 'sqrt', 'min_samples_leaf': 0.05, 'min_samples_split': 0.1, 'n_estimators': 200}\n",
      "Trade Date:  20040301\n",
      "{'max_features': 'sqrt', 'min_samples_leaf': 0.05, 'min_samples_split': 0.1, 'n_estimators': 75}\n",
      "Trade Date:  20040601\n",
      "{'max_features': 'sqrt', 'min_samples_leaf': 0.05, 'min_samples_split': 0.1, 'n_estimators': 200}\n",
      "Trade Date:  20040901\n",
      "{'max_features': 'sqrt', 'min_samples_leaf': 0.05, 'min_samples_split': 0.1, 'n_estimators': 100}\n",
      "Trade Date:  20041201\n",
      "{'max_features': 'sqrt', 'min_samples_leaf': 0.05, 'min_samples_split': 0.1, 'n_estimators': 200}\n",
      "Trade Date:  20050301\n",
      "{'max_features': 'sqrt', 'min_samples_leaf': 0.05, 'min_samples_split': 0.1, 'n_estimators': 200}\n",
      "Trade Date:  20050601\n",
      "{'max_features': 'sqrt', 'min_samples_leaf': 0.05, 'min_samples_split': 0.1, 'n_estimators': 200}\n",
      "Trade Date:  20050901\n",
      "{'max_features': 'sqrt', 'min_samples_leaf': 0.05, 'min_samples_split': 0.1, 'n_estimators': 75}\n",
      "Trade Date:  20051201\n",
      "{'max_features': 'sqrt', 'min_samples_leaf': 0.05, 'min_samples_split': 0.1, 'n_estimators': 200}\n",
      "Trade Date:  20060301\n",
      "{'max_features': 'sqrt', 'min_samples_leaf': 0.05, 'min_samples_split': 0.1, 'n_estimators': 75}\n",
      "Trade Date:  20060601\n",
      "{'max_features': 'sqrt', 'min_samples_leaf': 0.05, 'min_samples_split': 0.1, 'n_estimators': 75}\n",
      "Trade Date:  20060901\n",
      "{'max_features': 'sqrt', 'min_samples_leaf': 0.05, 'min_samples_split': 0.1, 'n_estimators': 75}\n",
      "Trade Date:  20061201\n",
      "{'max_features': 'sqrt', 'min_samples_leaf': 0.05, 'min_samples_split': 0.1, 'n_estimators': 200}\n",
      "Trade Date:  20070301\n",
      "{'max_features': 'sqrt', 'min_samples_leaf': 0.05, 'min_samples_split': 0.1, 'n_estimators': 75}\n",
      "Trade Date:  20070601\n",
      "{'max_features': 'sqrt', 'min_samples_leaf': 0.05, 'min_samples_split': 0.1, 'n_estimators': 200}\n",
      "Trade Date:  20070904\n",
      "{'max_features': 'sqrt', 'min_samples_leaf': 0.05, 'min_samples_split': 0.1, 'n_estimators': 200}\n",
      "Trade Date:  20071203\n",
      "{'max_features': 'sqrt', 'min_samples_leaf': 0.05, 'min_samples_split': 0.1, 'n_estimators': 75}\n",
      "Trade Date:  20080303\n",
      "{'max_features': 'sqrt', 'min_samples_leaf': 0.05, 'min_samples_split': 0.1, 'n_estimators': 75}\n",
      "Trade Date:  20080602\n",
      "{'max_features': 'sqrt', 'min_samples_leaf': 0.05, 'min_samples_split': 0.2, 'n_estimators': 75}\n",
      "Trade Date:  20080902\n",
      "{'max_features': 'sqrt', 'min_samples_leaf': 0.05, 'min_samples_split': 0.1, 'n_estimators': 75}\n",
      "Trade Date:  20081201\n",
      "{'max_features': 'sqrt', 'min_samples_leaf': 0.05, 'min_samples_split': 0.1, 'n_estimators': 200}\n",
      "Trade Date:  20090302\n",
      "{'max_features': 'sqrt', 'min_samples_leaf': 0.05, 'min_samples_split': 0.1, 'n_estimators': 200}\n",
      "Trade Date:  20090601\n",
      "{'max_features': 'sqrt', 'min_samples_leaf': 0.05, 'min_samples_split': 0.1, 'n_estimators': 200}\n",
      "Trade Date:  20090901\n",
      "{'max_features': 'sqrt', 'min_samples_leaf': 0.05, 'min_samples_split': 0.1, 'n_estimators': 200}\n",
      "Trade Date:  20091201\n",
      "{'max_features': 'sqrt', 'min_samples_leaf': 0.05, 'min_samples_split': 0.2, 'n_estimators': 75}\n",
      "Trade Date:  20100301\n",
      "{'max_features': 'sqrt', 'min_samples_leaf': 0.05, 'min_samples_split': 0.1, 'n_estimators': 200}\n",
      "Trade Date:  20100601\n",
      "{'max_features': 'sqrt', 'min_samples_leaf': 0.05, 'min_samples_split': 0.2, 'n_estimators': 75}\n",
      "Trade Date:  20100901\n",
      "{'max_features': 'sqrt', 'min_samples_leaf': 0.05, 'min_samples_split': 0.1, 'n_estimators': 200}\n",
      "Trade Date:  20101201\n",
      "{'max_features': 'sqrt', 'min_samples_leaf': 0.05, 'min_samples_split': 0.1, 'n_estimators': 200}\n",
      "Trade Date:  20110301\n",
      "{'max_features': 'sqrt', 'min_samples_leaf': 0.05, 'min_samples_split': 0.1, 'n_estimators': 75}\n",
      "Trade Date:  20110601\n",
      "{'max_features': 'sqrt', 'min_samples_leaf': 0.05, 'min_samples_split': 0.1, 'n_estimators': 75}\n",
      "Trade Date:  20110901\n",
      "{'max_features': 'sqrt', 'min_samples_leaf': 0.05, 'min_samples_split': 0.1, 'n_estimators': 75}\n",
      "Trade Date:  20111201\n",
      "{'max_features': 'sqrt', 'min_samples_leaf': 0.05, 'min_samples_split': 0.1, 'n_estimators': 200}\n",
      "Trade Date:  20120301\n",
      "{'max_features': 'sqrt', 'min_samples_leaf': 0.05, 'min_samples_split': 0.1, 'n_estimators': 200}\n",
      "Trade Date:  20120601\n",
      "{'max_features': 'sqrt', 'min_samples_leaf': 0.05, 'min_samples_split': 0.1, 'n_estimators': 200}\n",
      "Trade Date:  20120904\n",
      "{'max_features': 'sqrt', 'min_samples_leaf': 0.05, 'min_samples_split': 0.1, 'n_estimators': 200}\n",
      "Trade Date:  20121203\n",
      "{'max_features': 'sqrt', 'min_samples_leaf': 0.05, 'min_samples_split': 0.1, 'n_estimators': 200}\n",
      "Trade Date:  20130301\n",
      "{'max_features': 'sqrt', 'min_samples_leaf': 0.05, 'min_samples_split': 0.1, 'n_estimators': 75}\n",
      "Trade Date:  20130603\n",
      "{'max_features': 'sqrt', 'min_samples_leaf': 0.05, 'min_samples_split': 0.1, 'n_estimators': 100}\n"
     ]
    },
    {
     "name": "stderr",
     "output_type": "stream",
     "text": [
      "/home/ubuntu/anaconda3/lib/python3.6/site-packages/sklearn/model_selection/_search.py:814: DeprecationWarning: The default of the `iid` parameter will change from True to False in version 0.22 and will be removed in 0.24. This will change numeric results when test-set sizes are unequal.\n",
      "  DeprecationWarning)\n"
     ]
    },
    {
     "name": "stdout",
     "output_type": "stream",
     "text": [
      "Trade Date:  20130903\n",
      "{'max_features': 'sqrt', 'min_samples_leaf': 0.05, 'min_samples_split': 0.1, 'n_estimators': 75}\n",
      "Trade Date:  20131202\n",
      "{'max_features': 'sqrt', 'min_samples_leaf': 0.05, 'min_samples_split': 0.2, 'n_estimators': 75}\n",
      "Trade Date:  20140303\n",
      "{'max_features': 'sqrt', 'min_samples_leaf': 0.05, 'min_samples_split': 0.30000000000000004, 'n_estimators': 75}\n",
      "Trade Date:  20140602\n",
      "{'max_features': 'sqrt', 'min_samples_leaf': 0.05, 'min_samples_split': 0.2, 'n_estimators': 200}\n"
     ]
    },
    {
     "name": "stderr",
     "output_type": "stream",
     "text": [
      "/home/ubuntu/anaconda3/lib/python3.6/site-packages/sklearn/model_selection/_search.py:814: DeprecationWarning: The default of the `iid` parameter will change from True to False in version 0.22 and will be removed in 0.24. This will change numeric results when test-set sizes are unequal.\n",
      "  DeprecationWarning)\n"
     ]
    },
    {
     "name": "stdout",
     "output_type": "stream",
     "text": [
      "Trade Date:  20140902\n",
      "{'max_features': 'sqrt', 'min_samples_leaf': 0.05, 'min_samples_split': 0.1, 'n_estimators': 75}\n",
      "Trade Date:  20141201\n",
      "{'max_features': 'sqrt', 'min_samples_leaf': 0.05, 'min_samples_split': 0.1, 'n_estimators': 100}\n"
     ]
    },
    {
     "name": "stderr",
     "output_type": "stream",
     "text": [
      "/home/ubuntu/anaconda3/lib/python3.6/site-packages/sklearn/model_selection/_search.py:814: DeprecationWarning: The default of the `iid` parameter will change from True to False in version 0.22 and will be removed in 0.24. This will change numeric results when test-set sizes are unequal.\n",
      "  DeprecationWarning)\n"
     ]
    },
    {
     "name": "stdout",
     "output_type": "stream",
     "text": [
      "Trade Date:  20150302\n",
      "{'max_features': 'sqrt', 'min_samples_leaf': 0.05, 'min_samples_split': 0.1, 'n_estimators': 200}\n",
      "Trade Date:  20150601\n",
      "{'max_features': 'sqrt', 'min_samples_leaf': 0.05, 'min_samples_split': 0.1, 'n_estimators': 200}\n"
     ]
    },
    {
     "name": "stderr",
     "output_type": "stream",
     "text": [
      "/home/ubuntu/anaconda3/lib/python3.6/site-packages/sklearn/model_selection/_search.py:814: DeprecationWarning: The default of the `iid` parameter will change from True to False in version 0.22 and will be removed in 0.24. This will change numeric results when test-set sizes are unequal.\n",
      "  DeprecationWarning)\n"
     ]
    },
    {
     "name": "stdout",
     "output_type": "stream",
     "text": [
      "Trade Date:  20150901\n",
      "{'max_features': 'sqrt', 'min_samples_leaf': 0.05, 'min_samples_split': 0.1, 'n_estimators': 200}\n",
      "Trade Date:  20151201\n",
      "{'max_features': 'sqrt', 'min_samples_leaf': 0.05, 'min_samples_split': 0.2, 'n_estimators': 200}\n",
      "Trade Date:  20160301\n",
      "{'max_features': 'sqrt', 'min_samples_leaf': 0.05, 'min_samples_split': 0.1, 'n_estimators': 200}\n"
     ]
    },
    {
     "name": "stderr",
     "output_type": "stream",
     "text": [
      "/home/ubuntu/anaconda3/lib/python3.6/site-packages/sklearn/model_selection/_search.py:814: DeprecationWarning: The default of the `iid` parameter will change from True to False in version 0.22 and will be removed in 0.24. This will change numeric results when test-set sizes are unequal.\n",
      "  DeprecationWarning)\n"
     ]
    },
    {
     "name": "stdout",
     "output_type": "stream",
     "text": [
      "Trade Date:  20160601\n",
      "{'max_features': 'sqrt', 'min_samples_leaf': 0.05, 'min_samples_split': 0.1, 'n_estimators': 200}\n",
      "Trade Date:  20160901\n",
      "{'max_features': 'sqrt', 'min_samples_leaf': 0.05, 'min_samples_split': 0.1, 'n_estimators': 200}\n"
     ]
    },
    {
     "name": "stderr",
     "output_type": "stream",
     "text": [
      "/home/ubuntu/anaconda3/lib/python3.6/site-packages/sklearn/model_selection/_search.py:814: DeprecationWarning: The default of the `iid` parameter will change from True to False in version 0.22 and will be removed in 0.24. This will change numeric results when test-set sizes are unequal.\n",
      "  DeprecationWarning)\n"
     ]
    },
    {
     "name": "stdout",
     "output_type": "stream",
     "text": [
      "Trade Date:  20161201\n",
      "{'max_features': 'sqrt', 'min_samples_leaf': 0.05, 'min_samples_split': 0.1, 'n_estimators': 200}\n",
      "Trade Date:  20170301\n",
      "{'max_features': 'sqrt', 'min_samples_leaf': 0.05, 'min_samples_split': 0.1, 'n_estimators': 75}\n"
     ]
    },
    {
     "name": "stderr",
     "output_type": "stream",
     "text": [
      "/home/ubuntu/anaconda3/lib/python3.6/site-packages/sklearn/model_selection/_search.py:814: DeprecationWarning: The default of the `iid` parameter will change from True to False in version 0.22 and will be removed in 0.24. This will change numeric results when test-set sizes are unequal.\n",
      "  DeprecationWarning)\n"
     ]
    },
    {
     "name": "stdout",
     "output_type": "stream",
     "text": [
      "Trade Date:  20170601\n",
      "Time Spent:  36.486567719777426  minutes\n"
     ]
    }
   ],
   "source": [
    "start = time.time()\n",
    "sector45_result=ml_model.run_4model(sector45_data,\n",
    "                          [ 'X1_REVGH', 'X2_EPS',\n",
    "       'X3_ROA', 'X4_ROE', 'X5_PE', 'X6_PS', 'X7_NPM', 'X8_GPM', 'X9_OM',\n",
    "       'X10_PB', 'X12_CR', 'X15_LTDTA', 'X16_WCR', 'X17_DE', 'X18_QR',\n",
    "       'X19_DSI', 'X20_DPO'], label_column, date_column,tic_column,\n",
    "                         unique_ticker_sector45, unique_datetime, trade_date,\n",
    "                         first_trade_date_index,\n",
    "                         testing_windows)\n",
    "end = time.time()\n",
    "print('Time Spent: ',(end-start)/60,' minutes')"
   ]
  },
  {
   "cell_type": "code",
   "execution_count": 412,
   "metadata": {},
   "outputs": [
    {
     "data": {
      "text/plain": [
       "rf       43\n",
       "gbm      31\n",
       "lr        9\n",
       "ridge     6\n",
       "Name: model_name, dtype: int64"
      ]
     },
     "execution_count": 412,
     "metadata": {},
     "output_type": "execute_result"
    }
   ],
   "source": [
    "\n",
    "df_predict_best = sector45_result[4].astype(np.float64)\n",
    "df_best_model_name = sector45_result[5]\n",
    "df_best_model_name.model_name.value_counts()"
   ]
  },
  {
   "cell_type": "code",
   "execution_count": 281,
   "metadata": {},
   "outputs": [],
   "source": [
    "ml_model.save_model_result(sector45_result,'sector45')"
   ]
  },
  {
   "cell_type": "markdown",
   "metadata": {},
   "source": [
    "## Sector 50"
   ]
  },
  {
   "cell_type": "code",
   "execution_count": 290,
   "metadata": {},
   "outputs": [
    {
     "data": {
      "text/plain": [
       "Index(['gvkey', 'tic', 'datadate', 'rdq', 'tradedate', 'fyearq', 'fqtr',\n",
       "       'conm', 'datacqtr', 'datafqtr', 'gsector', 'X1_REVGH', 'X2_EPS',\n",
       "       'X3_ROA', 'X4_ROE', 'X5_PE', 'X6_PS', 'X7_NPM', 'X8_GPM', 'X9_OM',\n",
       "       'X10_PB', 'X11_PCFO', 'X12_CR', 'X13_EM', 'X14_EVCFO', 'X15_LTDTA',\n",
       "       'X16_WCR', 'X17_DE', 'X18_QR', 'X19_DSI', 'X20_DPO', 'y_return'],\n",
       "      dtype='object')"
      ]
     },
     "execution_count": 290,
     "metadata": {},
     "output_type": "execute_result"
    }
   ],
   "source": [
    "sector50_data.columns"
   ]
  },
  {
   "cell_type": "code",
   "execution_count": 291,
   "metadata": {
    "scrolled": true
   },
   "outputs": [
    {
     "name": "stdout",
     "output_type": "stream",
     "text": [
      "{'max_features': 'sqrt', 'min_samples_leaf': 0.1, 'min_samples_split': 0.1, 'n_estimators': 75}\n"
     ]
    },
    {
     "name": "stderr",
     "output_type": "stream",
     "text": [
      "/home/ubuntu/anaconda3/lib/python3.6/site-packages/sklearn/model_selection/_search.py:814: DeprecationWarning: The default of the `iid` parameter will change from True to False in version 0.22 and will be removed in 0.24. This will change numeric results when test-set sizes are unequal.\n",
      "  DeprecationWarning)\n"
     ]
    },
    {
     "name": "stdout",
     "output_type": "stream",
     "text": [
      "Trade Date:  19950601\n",
      "{'max_features': 'sqrt', 'min_samples_leaf': 0.05, 'min_samples_split': 0.1, 'n_estimators': 200}\n"
     ]
    },
    {
     "name": "stderr",
     "output_type": "stream",
     "text": [
      "/home/ubuntu/anaconda3/lib/python3.6/site-packages/sklearn/model_selection/_search.py:814: DeprecationWarning: The default of the `iid` parameter will change from True to False in version 0.22 and will be removed in 0.24. This will change numeric results when test-set sizes are unequal.\n",
      "  DeprecationWarning)\n"
     ]
    },
    {
     "name": "stdout",
     "output_type": "stream",
     "text": [
      "Trade Date:  19950901\n",
      "{'max_features': 'sqrt', 'min_samples_leaf': 0.1, 'min_samples_split': 0.30000000000000004, 'n_estimators': 100}\n"
     ]
    },
    {
     "name": "stderr",
     "output_type": "stream",
     "text": [
      "/home/ubuntu/anaconda3/lib/python3.6/site-packages/sklearn/model_selection/_search.py:814: DeprecationWarning: The default of the `iid` parameter will change from True to False in version 0.22 and will be removed in 0.24. This will change numeric results when test-set sizes are unequal.\n",
      "  DeprecationWarning)\n"
     ]
    },
    {
     "name": "stdout",
     "output_type": "stream",
     "text": [
      "Trade Date:  19951201\n",
      "{'max_features': 'sqrt', 'min_samples_leaf': 0.1, 'min_samples_split': 0.30000000000000004, 'n_estimators': 100}\n",
      "Trade Date:  19960301\n",
      "{'max_features': 'sqrt', 'min_samples_leaf': 0.2, 'min_samples_split': 0.1, 'n_estimators': 75}\n"
     ]
    },
    {
     "name": "stderr",
     "output_type": "stream",
     "text": [
      "/home/ubuntu/anaconda3/lib/python3.6/site-packages/sklearn/model_selection/_search.py:814: DeprecationWarning: The default of the `iid` parameter will change from True to False in version 0.22 and will be removed in 0.24. This will change numeric results when test-set sizes are unequal.\n",
      "  DeprecationWarning)\n"
     ]
    },
    {
     "name": "stdout",
     "output_type": "stream",
     "text": [
      "Trade Date:  19960603\n",
      "{'max_features': 'sqrt', 'min_samples_leaf': 0.1, 'min_samples_split': 0.30000000000000004, 'n_estimators': 200}\n",
      "Trade Date:  19960903\n",
      "{'max_features': 'sqrt', 'min_samples_leaf': 0.1, 'min_samples_split': 0.1, 'n_estimators': 75}\n"
     ]
    },
    {
     "name": "stderr",
     "output_type": "stream",
     "text": [
      "/home/ubuntu/anaconda3/lib/python3.6/site-packages/sklearn/model_selection/_search.py:814: DeprecationWarning: The default of the `iid` parameter will change from True to False in version 0.22 and will be removed in 0.24. This will change numeric results when test-set sizes are unequal.\n",
      "  DeprecationWarning)\n"
     ]
    },
    {
     "name": "stdout",
     "output_type": "stream",
     "text": [
      "Trade Date:  19961202\n",
      "{'max_features': 'sqrt', 'min_samples_leaf': 0.1, 'min_samples_split': 0.1, 'n_estimators': 75}\n"
     ]
    },
    {
     "name": "stderr",
     "output_type": "stream",
     "text": [
      "/home/ubuntu/anaconda3/lib/python3.6/site-packages/sklearn/model_selection/_search.py:814: DeprecationWarning: The default of the `iid` parameter will change from True to False in version 0.22 and will be removed in 0.24. This will change numeric results when test-set sizes are unequal.\n",
      "  DeprecationWarning)\n"
     ]
    },
    {
     "name": "stdout",
     "output_type": "stream",
     "text": [
      "Trade Date:  19970303\n",
      "{'max_features': 'sqrt', 'min_samples_leaf': 0.05, 'min_samples_split': 0.2, 'n_estimators': 100}\n"
     ]
    },
    {
     "name": "stderr",
     "output_type": "stream",
     "text": [
      "/home/ubuntu/anaconda3/lib/python3.6/site-packages/sklearn/model_selection/_search.py:814: DeprecationWarning: The default of the `iid` parameter will change from True to False in version 0.22 and will be removed in 0.24. This will change numeric results when test-set sizes are unequal.\n",
      "  DeprecationWarning)\n"
     ]
    },
    {
     "name": "stdout",
     "output_type": "stream",
     "text": [
      "Trade Date:  19970602\n",
      "{'max_features': 'sqrt', 'min_samples_leaf': 0.2, 'min_samples_split': 0.1, 'n_estimators': 75}\n"
     ]
    },
    {
     "name": "stderr",
     "output_type": "stream",
     "text": [
      "/home/ubuntu/anaconda3/lib/python3.6/site-packages/sklearn/model_selection/_search.py:814: DeprecationWarning: The default of the `iid` parameter will change from True to False in version 0.22 and will be removed in 0.24. This will change numeric results when test-set sizes are unequal.\n",
      "  DeprecationWarning)\n"
     ]
    },
    {
     "name": "stdout",
     "output_type": "stream",
     "text": [
      "Trade Date:  19970902\n",
      "{'max_features': 'sqrt', 'min_samples_leaf': 0.05, 'min_samples_split': 0.2, 'n_estimators': 75}\n"
     ]
    },
    {
     "name": "stderr",
     "output_type": "stream",
     "text": [
      "/home/ubuntu/anaconda3/lib/python3.6/site-packages/sklearn/model_selection/_search.py:814: DeprecationWarning: The default of the `iid` parameter will change from True to False in version 0.22 and will be removed in 0.24. This will change numeric results when test-set sizes are unequal.\n",
      "  DeprecationWarning)\n"
     ]
    },
    {
     "name": "stdout",
     "output_type": "stream",
     "text": [
      "Trade Date:  19971201\n",
      "{'max_features': 'sqrt', 'min_samples_leaf': 0.1, 'min_samples_split': 0.4, 'n_estimators': 100}\n"
     ]
    },
    {
     "name": "stderr",
     "output_type": "stream",
     "text": [
      "/home/ubuntu/anaconda3/lib/python3.6/site-packages/sklearn/model_selection/_search.py:814: DeprecationWarning: The default of the `iid` parameter will change from True to False in version 0.22 and will be removed in 0.24. This will change numeric results when test-set sizes are unequal.\n",
      "  DeprecationWarning)\n"
     ]
    },
    {
     "name": "stdout",
     "output_type": "stream",
     "text": [
      "Trade Date:  19980302\n",
      "{'max_features': 'sqrt', 'min_samples_leaf': 0.05, 'min_samples_split': 0.2, 'n_estimators': 200}\n",
      "Trade Date:  19980601\n",
      "{'max_features': 'sqrt', 'min_samples_leaf': 0.05, 'min_samples_split': 0.2, 'n_estimators': 100}\n",
      "Trade Date:  19980901\n",
      "{'max_features': 'sqrt', 'min_samples_leaf': 0.1, 'min_samples_split': 0.30000000000000004, 'n_estimators': 200}\n"
     ]
    },
    {
     "name": "stderr",
     "output_type": "stream",
     "text": [
      "/home/ubuntu/anaconda3/lib/python3.6/site-packages/sklearn/model_selection/_search.py:814: DeprecationWarning: The default of the `iid` parameter will change from True to False in version 0.22 and will be removed in 0.24. This will change numeric results when test-set sizes are unequal.\n",
      "  DeprecationWarning)\n"
     ]
    },
    {
     "name": "stdout",
     "output_type": "stream",
     "text": [
      "Trade Date:  19981201\n",
      "{'max_features': 'sqrt', 'min_samples_leaf': 0.05, 'min_samples_split': 0.2, 'n_estimators': 75}\n"
     ]
    },
    {
     "name": "stderr",
     "output_type": "stream",
     "text": [
      "/home/ubuntu/anaconda3/lib/python3.6/site-packages/sklearn/model_selection/_search.py:814: DeprecationWarning: The default of the `iid` parameter will change from True to False in version 0.22 and will be removed in 0.24. This will change numeric results when test-set sizes are unequal.\n",
      "  DeprecationWarning)\n"
     ]
    },
    {
     "name": "stdout",
     "output_type": "stream",
     "text": [
      "Trade Date:  19990301\n",
      "{'max_features': 'sqrt', 'min_samples_leaf': 0.05, 'min_samples_split': 0.1, 'n_estimators': 200}\n"
     ]
    },
    {
     "name": "stderr",
     "output_type": "stream",
     "text": [
      "/home/ubuntu/anaconda3/lib/python3.6/site-packages/sklearn/model_selection/_search.py:814: DeprecationWarning: The default of the `iid` parameter will change from True to False in version 0.22 and will be removed in 0.24. This will change numeric results when test-set sizes are unequal.\n",
      "  DeprecationWarning)\n"
     ]
    },
    {
     "name": "stdout",
     "output_type": "stream",
     "text": [
      "Trade Date:  19990601\n",
      "{'max_features': 'sqrt', 'min_samples_leaf': 0.05, 'min_samples_split': 0.5, 'n_estimators': 100}\n"
     ]
    },
    {
     "name": "stderr",
     "output_type": "stream",
     "text": [
      "/home/ubuntu/anaconda3/lib/python3.6/site-packages/sklearn/model_selection/_search.py:814: DeprecationWarning: The default of the `iid` parameter will change from True to False in version 0.22 and will be removed in 0.24. This will change numeric results when test-set sizes are unequal.\n",
      "  DeprecationWarning)\n"
     ]
    },
    {
     "name": "stdout",
     "output_type": "stream",
     "text": [
      "Trade Date:  19990901\n",
      "{'max_features': 'sqrt', 'min_samples_leaf': 0.05, 'min_samples_split': 0.1, 'n_estimators': 100}\n"
     ]
    },
    {
     "name": "stderr",
     "output_type": "stream",
     "text": [
      "/home/ubuntu/anaconda3/lib/python3.6/site-packages/sklearn/model_selection/_search.py:814: DeprecationWarning: The default of the `iid` parameter will change from True to False in version 0.22 and will be removed in 0.24. This will change numeric results when test-set sizes are unequal.\n",
      "  DeprecationWarning)\n"
     ]
    },
    {
     "name": "stdout",
     "output_type": "stream",
     "text": [
      "Trade Date:  19991201\n",
      "{'max_features': 'sqrt', 'min_samples_leaf': 0.05, 'min_samples_split': 0.4, 'n_estimators': 75}\n",
      "Trade Date:  20000301\n",
      "{'max_features': 'sqrt', 'min_samples_leaf': 0.05, 'min_samples_split': 0.5, 'n_estimators': 200}\n"
     ]
    },
    {
     "name": "stderr",
     "output_type": "stream",
     "text": [
      "/home/ubuntu/anaconda3/lib/python3.6/site-packages/sklearn/model_selection/_search.py:814: DeprecationWarning: The default of the `iid` parameter will change from True to False in version 0.22 and will be removed in 0.24. This will change numeric results when test-set sizes are unequal.\n",
      "  DeprecationWarning)\n"
     ]
    },
    {
     "name": "stdout",
     "output_type": "stream",
     "text": [
      "Trade Date:  20000601\n",
      "{'max_features': 'sqrt', 'min_samples_leaf': 0.05, 'min_samples_split': 0.5, 'n_estimators': 200}\n"
     ]
    },
    {
     "name": "stderr",
     "output_type": "stream",
     "text": [
      "/home/ubuntu/anaconda3/lib/python3.6/site-packages/sklearn/model_selection/_search.py:814: DeprecationWarning: The default of the `iid` parameter will change from True to False in version 0.22 and will be removed in 0.24. This will change numeric results when test-set sizes are unequal.\n",
      "  DeprecationWarning)\n"
     ]
    },
    {
     "name": "stdout",
     "output_type": "stream",
     "text": [
      "Trade Date:  20000901\n",
      "{'max_features': 'sqrt', 'min_samples_leaf': 0.05, 'min_samples_split': 0.5, 'n_estimators': 100}\n"
     ]
    },
    {
     "name": "stderr",
     "output_type": "stream",
     "text": [
      "/home/ubuntu/anaconda3/lib/python3.6/site-packages/sklearn/model_selection/_search.py:814: DeprecationWarning: The default of the `iid` parameter will change from True to False in version 0.22 and will be removed in 0.24. This will change numeric results when test-set sizes are unequal.\n",
      "  DeprecationWarning)\n"
     ]
    },
    {
     "name": "stdout",
     "output_type": "stream",
     "text": [
      "Trade Date:  20001201\n",
      "{'max_features': 'sqrt', 'min_samples_leaf': 0.05, 'min_samples_split': 0.5, 'n_estimators': 200}\n"
     ]
    },
    {
     "name": "stderr",
     "output_type": "stream",
     "text": [
      "/home/ubuntu/anaconda3/lib/python3.6/site-packages/sklearn/model_selection/_search.py:814: DeprecationWarning: The default of the `iid` parameter will change from True to False in version 0.22 and will be removed in 0.24. This will change numeric results when test-set sizes are unequal.\n",
      "  DeprecationWarning)\n"
     ]
    },
    {
     "name": "stdout",
     "output_type": "stream",
     "text": [
      "Trade Date:  20010301\n",
      "{'max_features': 'sqrt', 'min_samples_leaf': 0.05, 'min_samples_split': 0.5, 'n_estimators': 100}\n"
     ]
    },
    {
     "name": "stderr",
     "output_type": "stream",
     "text": [
      "/home/ubuntu/anaconda3/lib/python3.6/site-packages/sklearn/model_selection/_search.py:814: DeprecationWarning: The default of the `iid` parameter will change from True to False in version 0.22 and will be removed in 0.24. This will change numeric results when test-set sizes are unequal.\n",
      "  DeprecationWarning)\n"
     ]
    },
    {
     "name": "stdout",
     "output_type": "stream",
     "text": [
      "Trade Date:  20010601\n",
      "{'max_features': 'sqrt', 'min_samples_leaf': 0.05, 'min_samples_split': 0.5, 'n_estimators': 200}\n"
     ]
    },
    {
     "name": "stderr",
     "output_type": "stream",
     "text": [
      "/home/ubuntu/anaconda3/lib/python3.6/site-packages/sklearn/model_selection/_search.py:814: DeprecationWarning: The default of the `iid` parameter will change from True to False in version 0.22 and will be removed in 0.24. This will change numeric results when test-set sizes are unequal.\n",
      "  DeprecationWarning)\n"
     ]
    },
    {
     "name": "stdout",
     "output_type": "stream",
     "text": [
      "Trade Date:  20010904\n",
      "{'max_features': 'sqrt', 'min_samples_leaf': 0.2, 'min_samples_split': 0.5, 'n_estimators': 100}\n"
     ]
    },
    {
     "name": "stderr",
     "output_type": "stream",
     "text": [
      "/home/ubuntu/anaconda3/lib/python3.6/site-packages/sklearn/model_selection/_search.py:814: DeprecationWarning: The default of the `iid` parameter will change from True to False in version 0.22 and will be removed in 0.24. This will change numeric results when test-set sizes are unequal.\n",
      "  DeprecationWarning)\n"
     ]
    },
    {
     "name": "stdout",
     "output_type": "stream",
     "text": [
      "Trade Date:  20011203\n",
      "{'max_features': 'sqrt', 'min_samples_leaf': 0.1, 'min_samples_split': 0.5, 'n_estimators': 75}\n"
     ]
    },
    {
     "name": "stderr",
     "output_type": "stream",
     "text": [
      "/home/ubuntu/anaconda3/lib/python3.6/site-packages/sklearn/model_selection/_search.py:814: DeprecationWarning: The default of the `iid` parameter will change from True to False in version 0.22 and will be removed in 0.24. This will change numeric results when test-set sizes are unequal.\n",
      "  DeprecationWarning)\n"
     ]
    },
    {
     "name": "stdout",
     "output_type": "stream",
     "text": [
      "Trade Date:  20020301\n",
      "{'max_features': 'sqrt', 'min_samples_leaf': 0.1, 'min_samples_split': 0.5, 'n_estimators': 200}\n"
     ]
    },
    {
     "name": "stderr",
     "output_type": "stream",
     "text": [
      "/home/ubuntu/anaconda3/lib/python3.6/site-packages/sklearn/model_selection/_search.py:814: DeprecationWarning: The default of the `iid` parameter will change from True to False in version 0.22 and will be removed in 0.24. This will change numeric results when test-set sizes are unequal.\n",
      "  DeprecationWarning)\n"
     ]
    },
    {
     "name": "stdout",
     "output_type": "stream",
     "text": [
      "Trade Date:  20020603\n",
      "{'max_features': 'sqrt', 'min_samples_leaf': 0.1, 'min_samples_split': 0.5, 'n_estimators': 200}\n"
     ]
    },
    {
     "name": "stderr",
     "output_type": "stream",
     "text": [
      "/home/ubuntu/anaconda3/lib/python3.6/site-packages/sklearn/model_selection/_search.py:814: DeprecationWarning: The default of the `iid` parameter will change from True to False in version 0.22 and will be removed in 0.24. This will change numeric results when test-set sizes are unequal.\n",
      "  DeprecationWarning)\n"
     ]
    },
    {
     "name": "stdout",
     "output_type": "stream",
     "text": [
      "Trade Date:  20020903\n",
      "{'max_features': 'sqrt', 'min_samples_leaf': 0.1, 'min_samples_split': 0.5, 'n_estimators': 200}\n",
      "Trade Date:  20021202\n",
      "{'max_features': 'sqrt', 'min_samples_leaf': 0.05, 'min_samples_split': 0.4, 'n_estimators': 100}\n",
      "Trade Date:  20030303\n",
      "{'max_features': 'sqrt', 'min_samples_leaf': 0.2, 'min_samples_split': 0.1, 'n_estimators': 75}\n"
     ]
    },
    {
     "name": "stderr",
     "output_type": "stream",
     "text": [
      "/home/ubuntu/anaconda3/lib/python3.6/site-packages/sklearn/model_selection/_search.py:814: DeprecationWarning: The default of the `iid` parameter will change from True to False in version 0.22 and will be removed in 0.24. This will change numeric results when test-set sizes are unequal.\n",
      "  DeprecationWarning)\n"
     ]
    },
    {
     "name": "stdout",
     "output_type": "stream",
     "text": [
      "Trade Date:  20030602\n",
      "{'max_features': 'sqrt', 'min_samples_leaf': 0.2, 'min_samples_split': 0.5, 'n_estimators': 200}\n"
     ]
    },
    {
     "name": "stderr",
     "output_type": "stream",
     "text": [
      "/home/ubuntu/anaconda3/lib/python3.6/site-packages/sklearn/model_selection/_search.py:814: DeprecationWarning: The default of the `iid` parameter will change from True to False in version 0.22 and will be removed in 0.24. This will change numeric results when test-set sizes are unequal.\n",
      "  DeprecationWarning)\n"
     ]
    },
    {
     "name": "stdout",
     "output_type": "stream",
     "text": [
      "Trade Date:  20030902\n",
      "{'max_features': 'sqrt', 'min_samples_leaf': 0.2, 'min_samples_split': 0.1, 'n_estimators': 200}\n"
     ]
    },
    {
     "name": "stderr",
     "output_type": "stream",
     "text": [
      "/home/ubuntu/anaconda3/lib/python3.6/site-packages/sklearn/model_selection/_search.py:814: DeprecationWarning: The default of the `iid` parameter will change from True to False in version 0.22 and will be removed in 0.24. This will change numeric results when test-set sizes are unequal.\n",
      "  DeprecationWarning)\n"
     ]
    },
    {
     "name": "stdout",
     "output_type": "stream",
     "text": [
      "Trade Date:  20031201\n",
      "{'max_features': 'sqrt', 'min_samples_leaf': 0.2, 'min_samples_split': 0.5, 'n_estimators': 200}\n"
     ]
    },
    {
     "name": "stderr",
     "output_type": "stream",
     "text": [
      "/home/ubuntu/anaconda3/lib/python3.6/site-packages/sklearn/model_selection/_search.py:814: DeprecationWarning: The default of the `iid` parameter will change from True to False in version 0.22 and will be removed in 0.24. This will change numeric results when test-set sizes are unequal.\n",
      "  DeprecationWarning)\n"
     ]
    },
    {
     "name": "stdout",
     "output_type": "stream",
     "text": [
      "Trade Date:  20040301\n",
      "{'max_features': 'sqrt', 'min_samples_leaf': 0.2, 'min_samples_split': 0.5, 'n_estimators': 100}\n",
      "Trade Date:  20040601\n",
      "{'max_features': 'sqrt', 'min_samples_leaf': 0.2, 'min_samples_split': 0.1, 'n_estimators': 75}\n"
     ]
    },
    {
     "name": "stderr",
     "output_type": "stream",
     "text": [
      "/home/ubuntu/anaconda3/lib/python3.6/site-packages/sklearn/model_selection/_search.py:814: DeprecationWarning: The default of the `iid` parameter will change from True to False in version 0.22 and will be removed in 0.24. This will change numeric results when test-set sizes are unequal.\n",
      "  DeprecationWarning)\n"
     ]
    },
    {
     "name": "stdout",
     "output_type": "stream",
     "text": [
      "Trade Date:  20040901\n",
      "{'max_features': 'sqrt', 'min_samples_leaf': 0.2, 'min_samples_split': 0.5, 'n_estimators': 100}\n"
     ]
    },
    {
     "name": "stderr",
     "output_type": "stream",
     "text": [
      "/home/ubuntu/anaconda3/lib/python3.6/site-packages/sklearn/model_selection/_search.py:814: DeprecationWarning: The default of the `iid` parameter will change from True to False in version 0.22 and will be removed in 0.24. This will change numeric results when test-set sizes are unequal.\n",
      "  DeprecationWarning)\n"
     ]
    },
    {
     "name": "stdout",
     "output_type": "stream",
     "text": [
      "Trade Date:  20041201\n",
      "{'max_features': 'sqrt', 'min_samples_leaf': 0.2, 'min_samples_split': 0.1, 'n_estimators': 75}\n",
      "Trade Date:  20050301\n",
      "{'max_features': 'sqrt', 'min_samples_leaf': 0.2, 'min_samples_split': 0.1, 'n_estimators': 100}\n"
     ]
    },
    {
     "name": "stderr",
     "output_type": "stream",
     "text": [
      "/home/ubuntu/anaconda3/lib/python3.6/site-packages/sklearn/model_selection/_search.py:814: DeprecationWarning: The default of the `iid` parameter will change from True to False in version 0.22 and will be removed in 0.24. This will change numeric results when test-set sizes are unequal.\n",
      "  DeprecationWarning)\n"
     ]
    },
    {
     "name": "stdout",
     "output_type": "stream",
     "text": [
      "Trade Date:  20050601\n",
      "{'max_features': 'sqrt', 'min_samples_leaf': 0.2, 'min_samples_split': 0.1, 'n_estimators': 100}\n",
      "Trade Date:  20050901\n",
      "{'max_features': 'sqrt', 'min_samples_leaf': 0.1, 'min_samples_split': 0.5, 'n_estimators': 100}\n"
     ]
    },
    {
     "name": "stderr",
     "output_type": "stream",
     "text": [
      "/home/ubuntu/anaconda3/lib/python3.6/site-packages/sklearn/model_selection/_search.py:814: DeprecationWarning: The default of the `iid` parameter will change from True to False in version 0.22 and will be removed in 0.24. This will change numeric results when test-set sizes are unequal.\n",
      "  DeprecationWarning)\n"
     ]
    },
    {
     "name": "stdout",
     "output_type": "stream",
     "text": [
      "Trade Date:  20051201\n",
      "{'max_features': 'sqrt', 'min_samples_leaf': 0.1, 'min_samples_split': 0.5, 'n_estimators': 100}\n"
     ]
    },
    {
     "name": "stderr",
     "output_type": "stream",
     "text": [
      "/home/ubuntu/anaconda3/lib/python3.6/site-packages/sklearn/model_selection/_search.py:814: DeprecationWarning: The default of the `iid` parameter will change from True to False in version 0.22 and will be removed in 0.24. This will change numeric results when test-set sizes are unequal.\n",
      "  DeprecationWarning)\n"
     ]
    },
    {
     "name": "stdout",
     "output_type": "stream",
     "text": [
      "Trade Date:  20060301\n",
      "{'max_features': 'sqrt', 'min_samples_leaf': 0.2, 'min_samples_split': 0.1, 'n_estimators': 75}\n"
     ]
    },
    {
     "name": "stderr",
     "output_type": "stream",
     "text": [
      "/home/ubuntu/anaconda3/lib/python3.6/site-packages/sklearn/model_selection/_search.py:814: DeprecationWarning: The default of the `iid` parameter will change from True to False in version 0.22 and will be removed in 0.24. This will change numeric results when test-set sizes are unequal.\n",
      "  DeprecationWarning)\n"
     ]
    },
    {
     "name": "stdout",
     "output_type": "stream",
     "text": [
      "Trade Date:  20060601\n",
      "{'max_features': 'sqrt', 'min_samples_leaf': 0.2, 'min_samples_split': 0.1, 'n_estimators': 100}\n",
      "Trade Date:  20060901\n",
      "{'max_features': 'sqrt', 'min_samples_leaf': 0.2, 'min_samples_split': 0.5, 'n_estimators': 100}\n"
     ]
    },
    {
     "name": "stderr",
     "output_type": "stream",
     "text": [
      "/home/ubuntu/anaconda3/lib/python3.6/site-packages/sklearn/model_selection/_search.py:814: DeprecationWarning: The default of the `iid` parameter will change from True to False in version 0.22 and will be removed in 0.24. This will change numeric results when test-set sizes are unequal.\n",
      "  DeprecationWarning)\n"
     ]
    },
    {
     "name": "stdout",
     "output_type": "stream",
     "text": [
      "Trade Date:  20061201\n",
      "{'max_features': 'sqrt', 'min_samples_leaf': 0.2, 'min_samples_split': 0.5, 'n_estimators': 100}\n"
     ]
    },
    {
     "name": "stderr",
     "output_type": "stream",
     "text": [
      "/home/ubuntu/anaconda3/lib/python3.6/site-packages/sklearn/model_selection/_search.py:814: DeprecationWarning: The default of the `iid` parameter will change from True to False in version 0.22 and will be removed in 0.24. This will change numeric results when test-set sizes are unequal.\n",
      "  DeprecationWarning)\n"
     ]
    },
    {
     "name": "stdout",
     "output_type": "stream",
     "text": [
      "Trade Date:  20070301\n",
      "{'max_features': 'sqrt', 'min_samples_leaf': 0.2, 'min_samples_split': 0.1, 'n_estimators': 200}\n",
      "Trade Date:  20070601\n",
      "{'max_features': 'sqrt', 'min_samples_leaf': 0.2, 'min_samples_split': 0.1, 'n_estimators': 100}\n",
      "Trade Date:  20070904\n",
      "{'max_features': 'sqrt', 'min_samples_leaf': 0.2, 'min_samples_split': 0.1, 'n_estimators': 100}\n"
     ]
    },
    {
     "name": "stderr",
     "output_type": "stream",
     "text": [
      "/home/ubuntu/anaconda3/lib/python3.6/site-packages/sklearn/model_selection/_search.py:814: DeprecationWarning: The default of the `iid` parameter will change from True to False in version 0.22 and will be removed in 0.24. This will change numeric results when test-set sizes are unequal.\n",
      "  DeprecationWarning)\n"
     ]
    },
    {
     "name": "stdout",
     "output_type": "stream",
     "text": [
      "Trade Date:  20071203\n",
      "{'max_features': 'sqrt', 'min_samples_leaf': 0.2, 'min_samples_split': 0.5, 'n_estimators': 200}\n",
      "Trade Date:  20080303\n",
      "{'max_features': 'sqrt', 'min_samples_leaf': 0.2, 'min_samples_split': 0.5, 'n_estimators': 75}\n"
     ]
    },
    {
     "name": "stderr",
     "output_type": "stream",
     "text": [
      "/home/ubuntu/anaconda3/lib/python3.6/site-packages/sklearn/model_selection/_search.py:814: DeprecationWarning: The default of the `iid` parameter will change from True to False in version 0.22 and will be removed in 0.24. This will change numeric results when test-set sizes are unequal.\n",
      "  DeprecationWarning)\n"
     ]
    },
    {
     "name": "stdout",
     "output_type": "stream",
     "text": [
      "Trade Date:  20080602\n",
      "{'max_features': 'sqrt', 'min_samples_leaf': 0.2, 'min_samples_split': 0.5, 'n_estimators': 75}\n"
     ]
    },
    {
     "name": "stderr",
     "output_type": "stream",
     "text": [
      "/home/ubuntu/anaconda3/lib/python3.6/site-packages/sklearn/model_selection/_search.py:814: DeprecationWarning: The default of the `iid` parameter will change from True to False in version 0.22 and will be removed in 0.24. This will change numeric results when test-set sizes are unequal.\n",
      "  DeprecationWarning)\n"
     ]
    },
    {
     "name": "stdout",
     "output_type": "stream",
     "text": [
      "Trade Date:  20080902\n",
      "{'max_features': 'sqrt', 'min_samples_leaf': 0.2, 'min_samples_split': 0.1, 'n_estimators': 100}\n"
     ]
    },
    {
     "name": "stderr",
     "output_type": "stream",
     "text": [
      "/home/ubuntu/anaconda3/lib/python3.6/site-packages/sklearn/model_selection/_search.py:814: DeprecationWarning: The default of the `iid` parameter will change from True to False in version 0.22 and will be removed in 0.24. This will change numeric results when test-set sizes are unequal.\n",
      "  DeprecationWarning)\n"
     ]
    },
    {
     "name": "stdout",
     "output_type": "stream",
     "text": [
      "Trade Date:  20081201\n",
      "{'max_features': 'sqrt', 'min_samples_leaf': 0.2, 'min_samples_split': 0.5, 'n_estimators': 100}\n"
     ]
    },
    {
     "name": "stderr",
     "output_type": "stream",
     "text": [
      "/home/ubuntu/anaconda3/lib/python3.6/site-packages/sklearn/model_selection/_search.py:814: DeprecationWarning: The default of the `iid` parameter will change from True to False in version 0.22 and will be removed in 0.24. This will change numeric results when test-set sizes are unequal.\n",
      "  DeprecationWarning)\n"
     ]
    },
    {
     "name": "stdout",
     "output_type": "stream",
     "text": [
      "Trade Date:  20090302\n",
      "{'max_features': 'sqrt', 'min_samples_leaf': 0.2, 'min_samples_split': 0.5, 'n_estimators': 100}\n"
     ]
    },
    {
     "name": "stderr",
     "output_type": "stream",
     "text": [
      "/home/ubuntu/anaconda3/lib/python3.6/site-packages/sklearn/model_selection/_search.py:814: DeprecationWarning: The default of the `iid` parameter will change from True to False in version 0.22 and will be removed in 0.24. This will change numeric results when test-set sizes are unequal.\n",
      "  DeprecationWarning)\n"
     ]
    },
    {
     "name": "stdout",
     "output_type": "stream",
     "text": [
      "Trade Date:  20090601\n",
      "{'max_features': 'sqrt', 'min_samples_leaf': 0.2, 'min_samples_split': 0.5, 'n_estimators': 200}\n"
     ]
    },
    {
     "name": "stderr",
     "output_type": "stream",
     "text": [
      "/home/ubuntu/anaconda3/lib/python3.6/site-packages/sklearn/model_selection/_search.py:814: DeprecationWarning: The default of the `iid` parameter will change from True to False in version 0.22 and will be removed in 0.24. This will change numeric results when test-set sizes are unequal.\n",
      "  DeprecationWarning)\n"
     ]
    },
    {
     "name": "stdout",
     "output_type": "stream",
     "text": [
      "Trade Date:  20090901\n",
      "{'max_features': 'sqrt', 'min_samples_leaf': 0.2, 'min_samples_split': 0.5, 'n_estimators': 200}\n"
     ]
    },
    {
     "name": "stderr",
     "output_type": "stream",
     "text": [
      "/home/ubuntu/anaconda3/lib/python3.6/site-packages/sklearn/model_selection/_search.py:814: DeprecationWarning: The default of the `iid` parameter will change from True to False in version 0.22 and will be removed in 0.24. This will change numeric results when test-set sizes are unequal.\n",
      "  DeprecationWarning)\n"
     ]
    },
    {
     "name": "stdout",
     "output_type": "stream",
     "text": [
      "Trade Date:  20091201\n",
      "{'max_features': 'sqrt', 'min_samples_leaf': 0.05, 'min_samples_split': 0.1, 'n_estimators': 75}\n"
     ]
    },
    {
     "name": "stderr",
     "output_type": "stream",
     "text": [
      "/home/ubuntu/anaconda3/lib/python3.6/site-packages/sklearn/model_selection/_search.py:814: DeprecationWarning: The default of the `iid` parameter will change from True to False in version 0.22 and will be removed in 0.24. This will change numeric results when test-set sizes are unequal.\n",
      "  DeprecationWarning)\n"
     ]
    },
    {
     "name": "stdout",
     "output_type": "stream",
     "text": [
      "Trade Date:  20100301\n",
      "{'max_features': 'sqrt', 'min_samples_leaf': 0.05, 'min_samples_split': 0.1, 'n_estimators': 75}\n"
     ]
    },
    {
     "name": "stderr",
     "output_type": "stream",
     "text": [
      "/home/ubuntu/anaconda3/lib/python3.6/site-packages/sklearn/model_selection/_search.py:814: DeprecationWarning: The default of the `iid` parameter will change from True to False in version 0.22 and will be removed in 0.24. This will change numeric results when test-set sizes are unequal.\n",
      "  DeprecationWarning)\n"
     ]
    },
    {
     "name": "stdout",
     "output_type": "stream",
     "text": [
      "Trade Date:  20100601\n",
      "{'max_features': 'sqrt', 'min_samples_leaf': 0.1, 'min_samples_split': 0.1, 'n_estimators': 75}\n",
      "Trade Date:  20100901\n",
      "{'max_features': 'sqrt', 'min_samples_leaf': 0.1, 'min_samples_split': 0.1, 'n_estimators': 100}\n"
     ]
    },
    {
     "name": "stderr",
     "output_type": "stream",
     "text": [
      "/home/ubuntu/anaconda3/lib/python3.6/site-packages/sklearn/model_selection/_search.py:814: DeprecationWarning: The default of the `iid` parameter will change from True to False in version 0.22 and will be removed in 0.24. This will change numeric results when test-set sizes are unequal.\n",
      "  DeprecationWarning)\n"
     ]
    },
    {
     "name": "stdout",
     "output_type": "stream",
     "text": [
      "Trade Date:  20101201\n",
      "{'max_features': 'sqrt', 'min_samples_leaf': 0.05, 'min_samples_split': 0.1, 'n_estimators': 75}\n",
      "Trade Date:  20110301\n",
      "{'max_features': 'sqrt', 'min_samples_leaf': 0.05, 'min_samples_split': 0.1, 'n_estimators': 75}\n"
     ]
    },
    {
     "name": "stderr",
     "output_type": "stream",
     "text": [
      "/home/ubuntu/anaconda3/lib/python3.6/site-packages/sklearn/model_selection/_search.py:814: DeprecationWarning: The default of the `iid` parameter will change from True to False in version 0.22 and will be removed in 0.24. This will change numeric results when test-set sizes are unequal.\n",
      "  DeprecationWarning)\n"
     ]
    },
    {
     "name": "stdout",
     "output_type": "stream",
     "text": [
      "Trade Date:  20110601\n",
      "{'max_features': 'sqrt', 'min_samples_leaf': 0.05, 'min_samples_split': 0.1, 'n_estimators': 75}\n",
      "Trade Date:  20110901\n",
      "{'max_features': 'sqrt', 'min_samples_leaf': 0.05, 'min_samples_split': 0.1, 'n_estimators': 200}\n"
     ]
    },
    {
     "name": "stderr",
     "output_type": "stream",
     "text": [
      "/home/ubuntu/anaconda3/lib/python3.6/site-packages/sklearn/model_selection/_search.py:814: DeprecationWarning: The default of the `iid` parameter will change from True to False in version 0.22 and will be removed in 0.24. This will change numeric results when test-set sizes are unequal.\n",
      "  DeprecationWarning)\n"
     ]
    },
    {
     "name": "stdout",
     "output_type": "stream",
     "text": [
      "Trade Date:  20111201\n",
      "{'max_features': 'sqrt', 'min_samples_leaf': 0.05, 'min_samples_split': 0.1, 'n_estimators': 100}\n"
     ]
    },
    {
     "name": "stderr",
     "output_type": "stream",
     "text": [
      "/home/ubuntu/anaconda3/lib/python3.6/site-packages/sklearn/model_selection/_search.py:814: DeprecationWarning: The default of the `iid` parameter will change from True to False in version 0.22 and will be removed in 0.24. This will change numeric results when test-set sizes are unequal.\n",
      "  DeprecationWarning)\n"
     ]
    },
    {
     "name": "stdout",
     "output_type": "stream",
     "text": [
      "Trade Date:  20120301\n",
      "{'max_features': 'sqrt', 'min_samples_leaf': 0.1, 'min_samples_split': 0.1, 'n_estimators': 200}\n"
     ]
    },
    {
     "name": "stderr",
     "output_type": "stream",
     "text": [
      "/home/ubuntu/anaconda3/lib/python3.6/site-packages/sklearn/model_selection/_search.py:814: DeprecationWarning: The default of the `iid` parameter will change from True to False in version 0.22 and will be removed in 0.24. This will change numeric results when test-set sizes are unequal.\n",
      "  DeprecationWarning)\n"
     ]
    },
    {
     "name": "stdout",
     "output_type": "stream",
     "text": [
      "Trade Date:  20120601\n",
      "{'max_features': 'sqrt', 'min_samples_leaf': 0.1, 'min_samples_split': 0.1, 'n_estimators': 200}\n",
      "Trade Date:  20120904\n",
      "{'max_features': 'sqrt', 'min_samples_leaf': 0.05, 'min_samples_split': 0.1, 'n_estimators': 200}\n"
     ]
    },
    {
     "name": "stderr",
     "output_type": "stream",
     "text": [
      "/home/ubuntu/anaconda3/lib/python3.6/site-packages/sklearn/model_selection/_search.py:814: DeprecationWarning: The default of the `iid` parameter will change from True to False in version 0.22 and will be removed in 0.24. This will change numeric results when test-set sizes are unequal.\n",
      "  DeprecationWarning)\n"
     ]
    },
    {
     "name": "stdout",
     "output_type": "stream",
     "text": [
      "Trade Date:  20121203\n",
      "{'max_features': 'sqrt', 'min_samples_leaf': 0.1, 'min_samples_split': 0.1, 'n_estimators': 200}\n",
      "Trade Date:  20130301\n",
      "{'max_features': 'sqrt', 'min_samples_leaf': 0.1, 'min_samples_split': 0.1, 'n_estimators': 100}\n"
     ]
    },
    {
     "name": "stderr",
     "output_type": "stream",
     "text": [
      "/home/ubuntu/anaconda3/lib/python3.6/site-packages/sklearn/model_selection/_search.py:814: DeprecationWarning: The default of the `iid` parameter will change from True to False in version 0.22 and will be removed in 0.24. This will change numeric results when test-set sizes are unequal.\n",
      "  DeprecationWarning)\n"
     ]
    },
    {
     "name": "stdout",
     "output_type": "stream",
     "text": [
      "Trade Date:  20130603\n",
      "{'max_features': 'sqrt', 'min_samples_leaf': 0.1, 'min_samples_split': 0.30000000000000004, 'n_estimators': 200}\n"
     ]
    },
    {
     "name": "stderr",
     "output_type": "stream",
     "text": [
      "/home/ubuntu/anaconda3/lib/python3.6/site-packages/sklearn/model_selection/_search.py:814: DeprecationWarning: The default of the `iid` parameter will change from True to False in version 0.22 and will be removed in 0.24. This will change numeric results when test-set sizes are unequal.\n",
      "  DeprecationWarning)\n"
     ]
    },
    {
     "name": "stdout",
     "output_type": "stream",
     "text": [
      "Trade Date:  20130903\n",
      "{'max_features': 'sqrt', 'min_samples_leaf': 0.1, 'min_samples_split': 0.1, 'n_estimators': 200}\n"
     ]
    },
    {
     "name": "stderr",
     "output_type": "stream",
     "text": [
      "/home/ubuntu/anaconda3/lib/python3.6/site-packages/sklearn/model_selection/_search.py:814: DeprecationWarning: The default of the `iid` parameter will change from True to False in version 0.22 and will be removed in 0.24. This will change numeric results when test-set sizes are unequal.\n",
      "  DeprecationWarning)\n"
     ]
    },
    {
     "name": "stdout",
     "output_type": "stream",
     "text": [
      "Trade Date:  20131202\n",
      "{'max_features': 'sqrt', 'min_samples_leaf': 0.1, 'min_samples_split': 0.1, 'n_estimators': 200}\n",
      "Trade Date:  20140303\n",
      "{'max_features': 'sqrt', 'min_samples_leaf': 0.1, 'min_samples_split': 0.1, 'n_estimators': 200}\n"
     ]
    },
    {
     "name": "stderr",
     "output_type": "stream",
     "text": [
      "/home/ubuntu/anaconda3/lib/python3.6/site-packages/sklearn/model_selection/_search.py:814: DeprecationWarning: The default of the `iid` parameter will change from True to False in version 0.22 and will be removed in 0.24. This will change numeric results when test-set sizes are unequal.\n",
      "  DeprecationWarning)\n"
     ]
    },
    {
     "name": "stdout",
     "output_type": "stream",
     "text": [
      "Trade Date:  20140602\n",
      "{'max_features': 'sqrt', 'min_samples_leaf': 0.1, 'min_samples_split': 0.1, 'n_estimators': 75}\n",
      "Trade Date:  20140902\n",
      "{'max_features': 'sqrt', 'min_samples_leaf': 0.1, 'min_samples_split': 0.1, 'n_estimators': 200}\n"
     ]
    },
    {
     "name": "stderr",
     "output_type": "stream",
     "text": [
      "/home/ubuntu/anaconda3/lib/python3.6/site-packages/sklearn/model_selection/_search.py:814: DeprecationWarning: The default of the `iid` parameter will change from True to False in version 0.22 and will be removed in 0.24. This will change numeric results when test-set sizes are unequal.\n",
      "  DeprecationWarning)\n"
     ]
    },
    {
     "name": "stdout",
     "output_type": "stream",
     "text": [
      "Trade Date:  20141201\n",
      "{'max_features': 'sqrt', 'min_samples_leaf': 0.1, 'min_samples_split': 0.5, 'n_estimators': 200}\n",
      "Trade Date:  20150302\n",
      "{'max_features': 'sqrt', 'min_samples_leaf': 0.1, 'min_samples_split': 0.4, 'n_estimators': 200}\n",
      "Trade Date:  20150601\n",
      "{'max_features': 'sqrt', 'min_samples_leaf': 0.1, 'min_samples_split': 0.30000000000000004, 'n_estimators': 200}\n"
     ]
    },
    {
     "name": "stderr",
     "output_type": "stream",
     "text": [
      "/home/ubuntu/anaconda3/lib/python3.6/site-packages/sklearn/model_selection/_search.py:814: DeprecationWarning: The default of the `iid` parameter will change from True to False in version 0.22 and will be removed in 0.24. This will change numeric results when test-set sizes are unequal.\n",
      "  DeprecationWarning)\n"
     ]
    },
    {
     "name": "stdout",
     "output_type": "stream",
     "text": [
      "Trade Date:  20150901\n",
      "{'max_features': 'sqrt', 'min_samples_leaf': 0.1, 'min_samples_split': 0.30000000000000004, 'n_estimators': 75}\n",
      "Trade Date:  20151201\n",
      "{'max_features': 'sqrt', 'min_samples_leaf': 0.1, 'min_samples_split': 0.1, 'n_estimators': 75}\n",
      "Trade Date:  20160301\n",
      "{'max_features': 'sqrt', 'min_samples_leaf': 0.1, 'min_samples_split': 0.30000000000000004, 'n_estimators': 200}\n",
      "Trade Date:  20160601\n",
      "{'max_features': 'sqrt', 'min_samples_leaf': 0.05, 'min_samples_split': 0.1, 'n_estimators': 200}\n"
     ]
    },
    {
     "name": "stderr",
     "output_type": "stream",
     "text": [
      "/home/ubuntu/anaconda3/lib/python3.6/site-packages/sklearn/model_selection/_search.py:814: DeprecationWarning: The default of the `iid` parameter will change from True to False in version 0.22 and will be removed in 0.24. This will change numeric results when test-set sizes are unequal.\n",
      "  DeprecationWarning)\n"
     ]
    },
    {
     "name": "stdout",
     "output_type": "stream",
     "text": [
      "Trade Date:  20160901\n",
      "{'max_features': 'sqrt', 'min_samples_leaf': 0.1, 'min_samples_split': 0.4, 'n_estimators': 200}\n"
     ]
    },
    {
     "name": "stderr",
     "output_type": "stream",
     "text": [
      "/home/ubuntu/anaconda3/lib/python3.6/site-packages/sklearn/model_selection/_search.py:814: DeprecationWarning: The default of the `iid` parameter will change from True to False in version 0.22 and will be removed in 0.24. This will change numeric results when test-set sizes are unequal.\n",
      "  DeprecationWarning)\n",
      "/home/ubuntu/anaconda3/lib/python3.6/site-packages/sklearn/model_selection/_search.py:814: DeprecationWarning: The default of the `iid` parameter will change from True to False in version 0.22 and will be removed in 0.24. This will change numeric results when test-set sizes are unequal.\n",
      "  DeprecationWarning)\n"
     ]
    },
    {
     "name": "stdout",
     "output_type": "stream",
     "text": [
      "Trade Date:  20161201\n",
      "{'max_features': 'sqrt', 'min_samples_leaf': 0.2, 'min_samples_split': 0.5, 'n_estimators': 200}\n"
     ]
    },
    {
     "name": "stderr",
     "output_type": "stream",
     "text": [
      "/home/ubuntu/anaconda3/lib/python3.6/site-packages/sklearn/model_selection/_search.py:814: DeprecationWarning: The default of the `iid` parameter will change from True to False in version 0.22 and will be removed in 0.24. This will change numeric results when test-set sizes are unequal.\n",
      "  DeprecationWarning)\n",
      "/home/ubuntu/anaconda3/lib/python3.6/site-packages/sklearn/model_selection/_search.py:814: DeprecationWarning: The default of the `iid` parameter will change from True to False in version 0.22 and will be removed in 0.24. This will change numeric results when test-set sizes are unequal.\n",
      "  DeprecationWarning)\n"
     ]
    },
    {
     "name": "stdout",
     "output_type": "stream",
     "text": [
      "Trade Date:  20170301\n",
      "{'max_features': 'sqrt', 'min_samples_leaf': 0.1, 'min_samples_split': 0.5, 'n_estimators': 200}\n"
     ]
    },
    {
     "name": "stderr",
     "output_type": "stream",
     "text": [
      "/home/ubuntu/anaconda3/lib/python3.6/site-packages/sklearn/model_selection/_search.py:814: DeprecationWarning: The default of the `iid` parameter will change from True to False in version 0.22 and will be removed in 0.24. This will change numeric results when test-set sizes are unequal.\n",
      "  DeprecationWarning)\n"
     ]
    },
    {
     "name": "stdout",
     "output_type": "stream",
     "text": [
      "Trade Date:  20170601\n",
      "Time Spent:  15.706189195315043  minutes\n"
     ]
    },
    {
     "name": "stderr",
     "output_type": "stream",
     "text": [
      "/home/ubuntu/anaconda3/lib/python3.6/site-packages/sklearn/model_selection/_search.py:814: DeprecationWarning: The default of the `iid` parameter will change from True to False in version 0.22 and will be removed in 0.24. This will change numeric results when test-set sizes are unequal.\n",
      "  DeprecationWarning)\n"
     ]
    }
   ],
   "source": [
    "start = time.time()\n",
    "sector50_result=ml_model.run_4model(sector50_data,\n",
    "                          ['X1_REVGH', 'X2_EPS',\n",
    "       'X3_ROA', 'X4_ROE', 'X5_PE', 'X6_PS', 'X7_NPM', 'X8_GPM', 'X9_OM',\n",
    "       'X10_PB', 'X11_PCFO', 'X12_CR', 'X13_EM', 'X14_EVCFO', 'X15_LTDTA',\n",
    "       'X16_WCR', 'X17_DE', 'X18_QR', 'X19_DSI', 'X20_DPO'], label_column, date_column,tic_column,\n",
    "                         unique_ticker_sector50, unique_datetime, trade_date,\n",
    "                         first_trade_date_index,\n",
    "                         testing_windows)\n",
    "end = time.time()\n",
    "print('Time Spent: ',(end-start)/60,' minutes')"
   ]
  },
  {
   "cell_type": "code",
   "execution_count": 421,
   "metadata": {},
   "outputs": [
    {
     "data": {
      "text/plain": [
       "gbm      32\n",
       "rf       26\n",
       "ridge    26\n",
       "lr        5\n",
       "Name: model_name, dtype: int64"
      ]
     },
     "execution_count": 421,
     "metadata": {},
     "output_type": "execute_result"
    }
   ],
   "source": [
    "#df_predict_rf = sector50_result[1].astype(np.float64)\n",
    "df_predict_best = sector50_result[4].astype(np.float64)\n",
    "df_best_model_name = sector50_result[5]\n",
    "df_best_model_name.model_name.value_counts()"
   ]
  },
  {
   "cell_type": "code",
   "execution_count": 292,
   "metadata": {},
   "outputs": [],
   "source": [
    "ml_model.save_model_result(sector50_result,'sector50')"
   ]
  },
  {
   "cell_type": "markdown",
   "metadata": {},
   "source": [
    "## Sector 55"
   ]
  },
  {
   "cell_type": "code",
   "execution_count": 312,
   "metadata": {},
   "outputs": [
    {
     "data": {
      "text/plain": [
       "Index(['gvkey', 'tic', 'datadate', 'rdq', 'tradedate', 'fyearq', 'fqtr',\n",
       "       'conm', 'datacqtr', 'datafqtr', 'gsector', 'X1_REVGH', 'X2_EPS',\n",
       "       'X3_ROA', 'X4_ROE', 'X5_PE', 'X6_PS', 'X7_NPM', 'X8_GPM', 'X9_OM',\n",
       "       'X10_PB', 'X11_PCFO', 'X12_CR', 'X13_EM', 'X14_EVCFO', 'X15_LTDTA',\n",
       "       'X16_WCR', 'X17_DE', 'X18_QR', 'X19_DSI', 'X20_DPO', 'y_return'],\n",
       "      dtype='object')"
      ]
     },
     "execution_count": 312,
     "metadata": {},
     "output_type": "execute_result"
    }
   ],
   "source": [
    "sector55_data.columns"
   ]
  },
  {
   "cell_type": "code",
   "execution_count": 313,
   "metadata": {
    "scrolled": true
   },
   "outputs": [
    {
     "name": "stdout",
     "output_type": "stream",
     "text": [
      "{'max_features': 'sqrt', 'min_samples_leaf': 0.05, 'min_samples_split': 0.1, 'n_estimators': 200}\n",
      "Trade Date:  19950601\n",
      "{'max_features': 'sqrt', 'min_samples_leaf': 0.1, 'min_samples_split': 0.1, 'n_estimators': 200}\n",
      "Trade Date:  19950901\n",
      "{'max_features': 'sqrt', 'min_samples_leaf': 0.05, 'min_samples_split': 0.1, 'n_estimators': 100}\n",
      "Trade Date:  19951201\n",
      "{'max_features': 'sqrt', 'min_samples_leaf': 0.1, 'min_samples_split': 0.1, 'n_estimators': 75}\n",
      "Trade Date:  19960301\n",
      "{'max_features': 'sqrt', 'min_samples_leaf': 0.1, 'min_samples_split': 0.30000000000000004, 'n_estimators': 75}\n",
      "Trade Date:  19960603\n",
      "{'max_features': 'sqrt', 'min_samples_leaf': 0.1, 'min_samples_split': 0.1, 'n_estimators': 200}\n",
      "Trade Date:  19960903\n",
      "{'max_features': 'sqrt', 'min_samples_leaf': 0.1, 'min_samples_split': 0.30000000000000004, 'n_estimators': 100}\n",
      "Trade Date:  19961202\n",
      "{'max_features': 'sqrt', 'min_samples_leaf': 0.05, 'min_samples_split': 0.1, 'n_estimators': 75}\n",
      "Trade Date:  19970303\n",
      "{'max_features': 'sqrt', 'min_samples_leaf': 0.2, 'min_samples_split': 0.1, 'n_estimators': 100}\n",
      "Trade Date:  19970602\n",
      "{'max_features': 'sqrt', 'min_samples_leaf': 0.05, 'min_samples_split': 0.1, 'n_estimators': 100}\n",
      "Trade Date:  19970902\n",
      "{'max_features': 'sqrt', 'min_samples_leaf': 0.05, 'min_samples_split': 0.30000000000000004, 'n_estimators': 100}\n",
      "Trade Date:  19971201\n",
      "{'max_features': 'sqrt', 'min_samples_leaf': 0.1, 'min_samples_split': 0.30000000000000004, 'n_estimators': 100}\n",
      "Trade Date:  19980302\n",
      "{'max_features': 'sqrt', 'min_samples_leaf': 0.05, 'min_samples_split': 0.1, 'n_estimators': 100}\n",
      "Trade Date:  19980601\n",
      "{'max_features': 'sqrt', 'min_samples_leaf': 0.05, 'min_samples_split': 0.1, 'n_estimators': 75}\n",
      "Trade Date:  19980901\n",
      "{'max_features': 'sqrt', 'min_samples_leaf': 0.1, 'min_samples_split': 0.1, 'n_estimators': 75}\n",
      "Trade Date:  19981201\n",
      "{'max_features': 'sqrt', 'min_samples_leaf': 0.05, 'min_samples_split': 0.1, 'n_estimators': 200}\n",
      "Trade Date:  19990301\n",
      "{'max_features': 'sqrt', 'min_samples_leaf': 0.2, 'min_samples_split': 0.1, 'n_estimators': 200}\n",
      "Trade Date:  19990601\n",
      "{'max_features': 'sqrt', 'min_samples_leaf': 0.1, 'min_samples_split': 0.1, 'n_estimators': 200}\n",
      "Trade Date:  19990901\n",
      "{'max_features': 'sqrt', 'min_samples_leaf': 0.2, 'min_samples_split': 0.5, 'n_estimators': 200}\n",
      "Trade Date:  19991201\n",
      "{'max_features': 'sqrt', 'min_samples_leaf': 0.1, 'min_samples_split': 0.1, 'n_estimators': 200}\n",
      "Trade Date:  20000301\n",
      "{'max_features': 'sqrt', 'min_samples_leaf': 0.2, 'min_samples_split': 0.1, 'n_estimators': 75}\n",
      "Trade Date:  20000601\n",
      "{'max_features': 'sqrt', 'min_samples_leaf': 0.2, 'min_samples_split': 0.1, 'n_estimators': 200}\n",
      "Trade Date:  20000901\n",
      "{'max_features': 'sqrt', 'min_samples_leaf': 0.2, 'min_samples_split': 0.1, 'n_estimators': 200}\n",
      "Trade Date:  20001201\n",
      "{'max_features': 'sqrt', 'min_samples_leaf': 0.1, 'min_samples_split': 0.1, 'n_estimators': 100}\n",
      "Trade Date:  20010301\n",
      "{'max_features': 'sqrt', 'min_samples_leaf': 0.1, 'min_samples_split': 0.1, 'n_estimators': 200}\n",
      "Trade Date:  20010601\n",
      "{'max_features': 'sqrt', 'min_samples_leaf': 0.1, 'min_samples_split': 0.1, 'n_estimators': 100}\n",
      "Trade Date:  20010904\n",
      "{'max_features': 'sqrt', 'min_samples_leaf': 0.1, 'min_samples_split': 0.1, 'n_estimators': 100}\n",
      "Trade Date:  20011203\n",
      "{'max_features': 'sqrt', 'min_samples_leaf': 0.1, 'min_samples_split': 0.1, 'n_estimators': 75}\n",
      "Trade Date:  20020301\n",
      "{'max_features': 'sqrt', 'min_samples_leaf': 0.1, 'min_samples_split': 0.1, 'n_estimators': 75}\n",
      "Trade Date:  20020603\n",
      "{'max_features': 'sqrt', 'min_samples_leaf': 0.1, 'min_samples_split': 0.30000000000000004, 'n_estimators': 200}\n",
      "Trade Date:  20020903\n",
      "{'max_features': 'sqrt', 'min_samples_leaf': 0.05, 'min_samples_split': 0.4, 'n_estimators': 100}\n",
      "Trade Date:  20021202\n",
      "{'max_features': 'sqrt', 'min_samples_leaf': 0.05, 'min_samples_split': 0.1, 'n_estimators': 75}\n",
      "Trade Date:  20030303\n",
      "{'max_features': 'sqrt', 'min_samples_leaf': 0.05, 'min_samples_split': 0.2, 'n_estimators': 100}\n",
      "Trade Date:  20030602\n",
      "{'max_features': 'sqrt', 'min_samples_leaf': 0.05, 'min_samples_split': 0.1, 'n_estimators': 75}\n",
      "Trade Date:  20030902\n",
      "{'max_features': 'sqrt', 'min_samples_leaf': 0.05, 'min_samples_split': 0.1, 'n_estimators': 100}\n",
      "Trade Date:  20031201\n",
      "{'max_features': 'sqrt', 'min_samples_leaf': 0.05, 'min_samples_split': 0.30000000000000004, 'n_estimators': 75}\n",
      "Trade Date:  20040301\n",
      "{'max_features': 'sqrt', 'min_samples_leaf': 0.2, 'min_samples_split': 0.1, 'n_estimators': 200}\n",
      "Trade Date:  20040601\n",
      "{'max_features': 'sqrt', 'min_samples_leaf': 0.05, 'min_samples_split': 0.1, 'n_estimators': 75}\n",
      "Trade Date:  20040901\n",
      "{'max_features': 'sqrt', 'min_samples_leaf': 0.05, 'min_samples_split': 0.1, 'n_estimators': 75}\n",
      "Trade Date:  20041201\n",
      "{'max_features': 'sqrt', 'min_samples_leaf': 0.05, 'min_samples_split': 0.5, 'n_estimators': 100}\n",
      "Trade Date:  20050301\n",
      "{'max_features': 'sqrt', 'min_samples_leaf': 0.05, 'min_samples_split': 0.1, 'n_estimators': 75}\n",
      "Trade Date:  20050601\n",
      "{'max_features': 'sqrt', 'min_samples_leaf': 0.05, 'min_samples_split': 0.1, 'n_estimators': 75}\n",
      "Trade Date:  20050901\n",
      "{'max_features': 'sqrt', 'min_samples_leaf': 0.05, 'min_samples_split': 0.1, 'n_estimators': 200}\n",
      "Trade Date:  20051201\n",
      "{'max_features': 'sqrt', 'min_samples_leaf': 0.05, 'min_samples_split': 0.5, 'n_estimators': 75}\n",
      "Trade Date:  20060301\n",
      "{'max_features': 'sqrt', 'min_samples_leaf': 0.05, 'min_samples_split': 0.4, 'n_estimators': 75}\n",
      "Trade Date:  20060601\n",
      "{'max_features': 'sqrt', 'min_samples_leaf': 0.05, 'min_samples_split': 0.5, 'n_estimators': 75}\n",
      "Trade Date:  20060901\n",
      "{'max_features': 'sqrt', 'min_samples_leaf': 0.05, 'min_samples_split': 0.5, 'n_estimators': 75}\n",
      "Trade Date:  20061201\n",
      "{'max_features': 'sqrt', 'min_samples_leaf': 0.05, 'min_samples_split': 0.1, 'n_estimators': 75}\n",
      "Trade Date:  20070301\n",
      "{'max_features': 'sqrt', 'min_samples_leaf': 0.05, 'min_samples_split': 0.5, 'n_estimators': 75}\n",
      "Trade Date:  20070601\n",
      "{'max_features': 'sqrt', 'min_samples_leaf': 0.05, 'min_samples_split': 0.5, 'n_estimators': 200}\n",
      "Trade Date:  20070904\n",
      "{'max_features': 'sqrt', 'min_samples_leaf': 0.05, 'min_samples_split': 0.5, 'n_estimators': 75}\n",
      "Trade Date:  20071203\n",
      "{'max_features': 'sqrt', 'min_samples_leaf': 0.05, 'min_samples_split': 0.4, 'n_estimators': 75}\n",
      "Trade Date:  20080303\n",
      "{'max_features': 'sqrt', 'min_samples_leaf': 0.05, 'min_samples_split': 0.1, 'n_estimators': 75}\n",
      "Trade Date:  20080602\n",
      "{'max_features': 'sqrt', 'min_samples_leaf': 0.05, 'min_samples_split': 0.5, 'n_estimators': 75}\n",
      "Trade Date:  20080902\n",
      "{'max_features': 'sqrt', 'min_samples_leaf': 0.05, 'min_samples_split': 0.4, 'n_estimators': 75}\n",
      "Trade Date:  20081201\n",
      "{'max_features': 'sqrt', 'min_samples_leaf': 0.05, 'min_samples_split': 0.5, 'n_estimators': 100}\n",
      "Trade Date:  20090302\n",
      "{'max_features': 'sqrt', 'min_samples_leaf': 0.05, 'min_samples_split': 0.5, 'n_estimators': 200}\n",
      "Trade Date:  20090601\n",
      "{'max_features': 'sqrt', 'min_samples_leaf': 0.05, 'min_samples_split': 0.2, 'n_estimators': 75}\n",
      "Trade Date:  20090901\n",
      "{'max_features': 'sqrt', 'min_samples_leaf': 0.05, 'min_samples_split': 0.5, 'n_estimators': 200}\n",
      "Trade Date:  20091201\n",
      "{'max_features': 'sqrt', 'min_samples_leaf': 0.05, 'min_samples_split': 0.5, 'n_estimators': 75}\n",
      "Trade Date:  20100301\n",
      "{'max_features': 'sqrt', 'min_samples_leaf': 0.05, 'min_samples_split': 0.5, 'n_estimators': 75}\n",
      "Trade Date:  20100601\n",
      "{'max_features': 'sqrt', 'min_samples_leaf': 0.05, 'min_samples_split': 0.5, 'n_estimators': 75}\n",
      "Trade Date:  20100901\n",
      "{'max_features': 'sqrt', 'min_samples_leaf': 0.1, 'min_samples_split': 0.1, 'n_estimators': 100}\n"
     ]
    },
    {
     "name": "stderr",
     "output_type": "stream",
     "text": [
      "/home/ubuntu/anaconda3/lib/python3.6/site-packages/sklearn/model_selection/_search.py:814: DeprecationWarning: The default of the `iid` parameter will change from True to False in version 0.22 and will be removed in 0.24. This will change numeric results when test-set sizes are unequal.\n",
      "  DeprecationWarning)\n"
     ]
    },
    {
     "name": "stdout",
     "output_type": "stream",
     "text": [
      "Trade Date:  20101201\n",
      "{'max_features': 'sqrt', 'min_samples_leaf': 0.05, 'min_samples_split': 0.5, 'n_estimators': 75}\n",
      "Trade Date:  20110301\n",
      "{'max_features': 'sqrt', 'min_samples_leaf': 0.2, 'min_samples_split': 0.1, 'n_estimators': 100}\n",
      "Trade Date:  20110601\n",
      "{'max_features': 'sqrt', 'min_samples_leaf': 0.05, 'min_samples_split': 0.4, 'n_estimators': 75}\n",
      "Trade Date:  20110901\n",
      "{'max_features': 'sqrt', 'min_samples_leaf': 0.05, 'min_samples_split': 0.2, 'n_estimators': 75}\n",
      "Trade Date:  20111201\n",
      "{'max_features': 'sqrt', 'min_samples_leaf': 0.05, 'min_samples_split': 0.1, 'n_estimators': 75}\n",
      "Trade Date:  20120301\n",
      "{'max_features': 'sqrt', 'min_samples_leaf': 0.05, 'min_samples_split': 0.1, 'n_estimators': 100}\n",
      "Trade Date:  20120601\n",
      "{'max_features': 'sqrt', 'min_samples_leaf': 0.05, 'min_samples_split': 0.1, 'n_estimators': 200}\n",
      "Trade Date:  20120904\n",
      "{'max_features': 'sqrt', 'min_samples_leaf': 0.2, 'min_samples_split': 0.5, 'n_estimators': 75}\n",
      "Trade Date:  20121203\n",
      "{'max_features': 'sqrt', 'min_samples_leaf': 0.05, 'min_samples_split': 0.1, 'n_estimators': 75}\n",
      "Trade Date:  20130301\n",
      "{'max_features': 'sqrt', 'min_samples_leaf': 0.1, 'min_samples_split': 0.30000000000000004, 'n_estimators': 75}\n",
      "Trade Date:  20130603\n",
      "{'max_features': 'sqrt', 'min_samples_leaf': 0.1, 'min_samples_split': 0.1, 'n_estimators': 200}\n",
      "Trade Date:  20130903\n",
      "{'max_features': 'sqrt', 'min_samples_leaf': 0.1, 'min_samples_split': 0.1, 'n_estimators': 200}\n",
      "Trade Date:  20131202\n",
      "{'max_features': 'sqrt', 'min_samples_leaf': 0.1, 'min_samples_split': 0.1, 'n_estimators': 200}\n",
      "Trade Date:  20140303\n",
      "{'max_features': 'sqrt', 'min_samples_leaf': 0.2, 'min_samples_split': 0.1, 'n_estimators': 200}\n",
      "Trade Date:  20140602\n",
      "{'max_features': 'sqrt', 'min_samples_leaf': 0.2, 'min_samples_split': 0.1, 'n_estimators': 200}\n",
      "Trade Date:  20140902\n",
      "{'max_features': 'sqrt', 'min_samples_leaf': 0.1, 'min_samples_split': 0.30000000000000004, 'n_estimators': 200}\n",
      "Trade Date:  20141201\n",
      "{'max_features': 'sqrt', 'min_samples_leaf': 0.1, 'min_samples_split': 0.1, 'n_estimators': 100}\n",
      "Trade Date:  20150302\n",
      "{'max_features': 'sqrt', 'min_samples_leaf': 0.05, 'min_samples_split': 0.1, 'n_estimators': 75}\n",
      "Trade Date:  20150601\n",
      "{'max_features': 'sqrt', 'min_samples_leaf': 0.05, 'min_samples_split': 0.1, 'n_estimators': 200}\n",
      "Trade Date:  20150901\n",
      "{'max_features': 'sqrt', 'min_samples_leaf': 0.05, 'min_samples_split': 0.1, 'n_estimators': 200}\n",
      "Trade Date:  20151201\n",
      "{'max_features': 'sqrt', 'min_samples_leaf': 0.1, 'min_samples_split': 0.1, 'n_estimators': 75}\n",
      "Trade Date:  20160301\n",
      "{'max_features': 'sqrt', 'min_samples_leaf': 0.1, 'min_samples_split': 0.1, 'n_estimators': 100}\n",
      "Trade Date:  20160601\n",
      "{'max_features': 'sqrt', 'min_samples_leaf': 0.1, 'min_samples_split': 0.1, 'n_estimators': 200}\n",
      "Trade Date:  20160901\n",
      "{'max_features': 'sqrt', 'min_samples_leaf': 0.1, 'min_samples_split': 0.1, 'n_estimators': 200}\n",
      "Trade Date:  20161201\n",
      "{'max_features': 'sqrt', 'min_samples_leaf': 0.05, 'min_samples_split': 0.1, 'n_estimators': 200}\n",
      "Trade Date:  20170301\n",
      "{'max_features': 'sqrt', 'min_samples_leaf': 0.05, 'min_samples_split': 0.1, 'n_estimators': 75}\n",
      "Trade Date:  20170601\n",
      "Time Spent:  22.576026288668313  minutes\n"
     ]
    }
   ],
   "source": [
    "start = time.time()\n",
    "sector55_result=ml_model.run_4model(sector55_data,\n",
    "                          ['X1_REVGH', 'X2_EPS',\n",
    "       'X3_ROA', 'X4_ROE', 'X5_PE', 'X6_PS', 'X7_NPM', 'X8_GPM', 'X9_OM',\n",
    "       'X10_PB', 'X11_PCFO', 'X12_CR', 'X13_EM', 'X14_EVCFO', 'X15_LTDTA',\n",
    "       'X16_WCR', 'X17_DE', 'X18_QR', 'X19_DSI', 'X20_DPO'], label_column, date_column,tic_column,\n",
    "                         unique_ticker_sector55, unique_datetime, trade_date,\n",
    "                         first_trade_date_index,\n",
    "                         testing_windows)\n",
    "end = time.time()\n",
    "print('Time Spent: ',(end-start)/60,' minutes')"
   ]
  },
  {
   "cell_type": "code",
   "execution_count": 430,
   "metadata": {},
   "outputs": [
    {
     "data": {
      "text/plain": [
       "gbm      51\n",
       "rf       27\n",
       "ridge    10\n",
       "lr        1\n",
       "Name: model_name, dtype: int64"
      ]
     },
     "execution_count": 430,
     "metadata": {},
     "output_type": "execute_result"
    }
   ],
   "source": [
    "#df_predict_rf = sector50_result[1].astype(np.float64)\n",
    "df_predict_best = sector55_result[4].astype(np.float64)\n",
    "df_best_model_name = sector55_result[5]\n",
    "df_best_model_name.model_name.value_counts()"
   ]
  },
  {
   "cell_type": "code",
   "execution_count": 315,
   "metadata": {},
   "outputs": [],
   "source": [
    "ml_model.save_model_result(sector55_result,'sector55')"
   ]
  },
  {
   "cell_type": "code",
   "execution_count": null,
   "metadata": {},
   "outputs": [],
   "source": []
  },
  {
   "cell_type": "markdown",
   "metadata": {},
   "source": [
    "## Sector 60"
   ]
  },
  {
   "cell_type": "code",
   "execution_count": 327,
   "metadata": {},
   "outputs": [
    {
     "data": {
      "text/plain": [
       "Index(['gvkey', 'tic', 'datadate', 'rdq', 'tradedate', 'fyearq', 'fqtr',\n",
       "       'conm', 'datacqtr', 'datafqtr', 'gsector', 'X1_REVGH', 'X2_EPS',\n",
       "       'X3_ROA', 'X4_ROE', 'X5_PE', 'X6_PS', 'X7_NPM', 'X8_GPM', 'X9_OM',\n",
       "       'X10_PB', 'X15_LTDTA', 'X17_DE', 'X19_DSI', 'y_return'],\n",
       "      dtype='object')"
      ]
     },
     "execution_count": 327,
     "metadata": {},
     "output_type": "execute_result"
    }
   ],
   "source": [
    "sector60_data.columns"
   ]
  },
  {
   "cell_type": "code",
   "execution_count": 328,
   "metadata": {
    "scrolled": true
   },
   "outputs": [
    {
     "name": "stdout",
     "output_type": "stream",
     "text": [
      "{'max_features': 'sqrt', 'min_samples_leaf': 0.1, 'min_samples_split': 0.1, 'n_estimators': 75}\n",
      "Trade Date:  19950601\n",
      "{'max_features': 'sqrt', 'min_samples_leaf': 0.2, 'min_samples_split': 0.1, 'n_estimators': 100}\n"
     ]
    },
    {
     "name": "stderr",
     "output_type": "stream",
     "text": [
      "/home/ubuntu/anaconda3/lib/python3.6/site-packages/sklearn/model_selection/_search.py:814: DeprecationWarning: The default of the `iid` parameter will change from True to False in version 0.22 and will be removed in 0.24. This will change numeric results when test-set sizes are unequal.\n",
      "  DeprecationWarning)\n"
     ]
    },
    {
     "name": "stdout",
     "output_type": "stream",
     "text": [
      "Trade Date:  19950901\n",
      "{'max_features': 'sqrt', 'min_samples_leaf': 0.1, 'min_samples_split': 0.1, 'n_estimators': 100}\n",
      "Trade Date:  19951201\n",
      "{'max_features': 'sqrt', 'min_samples_leaf': 0.1, 'min_samples_split': 0.1, 'n_estimators': 100}\n"
     ]
    },
    {
     "name": "stderr",
     "output_type": "stream",
     "text": [
      "/home/ubuntu/anaconda3/lib/python3.6/site-packages/sklearn/model_selection/_search.py:814: DeprecationWarning: The default of the `iid` parameter will change from True to False in version 0.22 and will be removed in 0.24. This will change numeric results when test-set sizes are unequal.\n",
      "  DeprecationWarning)\n"
     ]
    },
    {
     "name": "stdout",
     "output_type": "stream",
     "text": [
      "Trade Date:  19960301\n",
      "{'max_features': 'sqrt', 'min_samples_leaf': 0.1, 'min_samples_split': 0.5, 'n_estimators': 100}\n"
     ]
    },
    {
     "name": "stderr",
     "output_type": "stream",
     "text": [
      "/home/ubuntu/anaconda3/lib/python3.6/site-packages/sklearn/model_selection/_search.py:814: DeprecationWarning: The default of the `iid` parameter will change from True to False in version 0.22 and will be removed in 0.24. This will change numeric results when test-set sizes are unequal.\n",
      "  DeprecationWarning)\n",
      "/home/ubuntu/anaconda3/lib/python3.6/site-packages/sklearn/model_selection/_search.py:814: DeprecationWarning: The default of the `iid` parameter will change from True to False in version 0.22 and will be removed in 0.24. This will change numeric results when test-set sizes are unequal.\n",
      "  DeprecationWarning)\n"
     ]
    },
    {
     "name": "stdout",
     "output_type": "stream",
     "text": [
      "Trade Date:  19960603\n",
      "{'max_features': 'sqrt', 'min_samples_leaf': 0.1, 'min_samples_split': 0.1, 'n_estimators': 100}\n"
     ]
    },
    {
     "name": "stderr",
     "output_type": "stream",
     "text": [
      "/home/ubuntu/anaconda3/lib/python3.6/site-packages/sklearn/model_selection/_search.py:814: DeprecationWarning: The default of the `iid` parameter will change from True to False in version 0.22 and will be removed in 0.24. This will change numeric results when test-set sizes are unequal.\n",
      "  DeprecationWarning)\n"
     ]
    },
    {
     "name": "stdout",
     "output_type": "stream",
     "text": [
      "Trade Date:  19960903\n",
      "{'max_features': 'sqrt', 'min_samples_leaf': 0.1, 'min_samples_split': 0.1, 'n_estimators': 75}\n",
      "Trade Date:  19961202\n",
      "{'max_features': 'sqrt', 'min_samples_leaf': 0.1, 'min_samples_split': 0.1, 'n_estimators': 100}\n"
     ]
    },
    {
     "name": "stderr",
     "output_type": "stream",
     "text": [
      "/home/ubuntu/anaconda3/lib/python3.6/site-packages/sklearn/model_selection/_search.py:814: DeprecationWarning: The default of the `iid` parameter will change from True to False in version 0.22 and will be removed in 0.24. This will change numeric results when test-set sizes are unequal.\n",
      "  DeprecationWarning)\n"
     ]
    },
    {
     "name": "stdout",
     "output_type": "stream",
     "text": [
      "Trade Date:  19970303\n",
      "{'max_features': 'sqrt', 'min_samples_leaf': 0.1, 'min_samples_split': 0.1, 'n_estimators': 100}\n"
     ]
    },
    {
     "name": "stderr",
     "output_type": "stream",
     "text": [
      "/home/ubuntu/anaconda3/lib/python3.6/site-packages/sklearn/model_selection/_search.py:814: DeprecationWarning: The default of the `iid` parameter will change from True to False in version 0.22 and will be removed in 0.24. This will change numeric results when test-set sizes are unequal.\n",
      "  DeprecationWarning)\n"
     ]
    },
    {
     "name": "stdout",
     "output_type": "stream",
     "text": [
      "Trade Date:  19970602\n",
      "{'max_features': 'sqrt', 'min_samples_leaf': 0.1, 'min_samples_split': 0.1, 'n_estimators': 100}\n",
      "Trade Date:  19970902\n",
      "{'max_features': 'sqrt', 'min_samples_leaf': 0.05, 'min_samples_split': 0.1, 'n_estimators': 200}\n"
     ]
    },
    {
     "name": "stderr",
     "output_type": "stream",
     "text": [
      "/home/ubuntu/anaconda3/lib/python3.6/site-packages/sklearn/model_selection/_search.py:814: DeprecationWarning: The default of the `iid` parameter will change from True to False in version 0.22 and will be removed in 0.24. This will change numeric results when test-set sizes are unequal.\n",
      "  DeprecationWarning)\n"
     ]
    },
    {
     "name": "stdout",
     "output_type": "stream",
     "text": [
      "Trade Date:  19971201\n",
      "{'max_features': 'sqrt', 'min_samples_leaf': 0.1, 'min_samples_split': 0.1, 'n_estimators': 75}\n",
      "Trade Date:  19980302\n",
      "{'max_features': 'sqrt', 'min_samples_leaf': 0.05, 'min_samples_split': 0.1, 'n_estimators': 75}\n"
     ]
    },
    {
     "name": "stderr",
     "output_type": "stream",
     "text": [
      "/home/ubuntu/anaconda3/lib/python3.6/site-packages/sklearn/model_selection/_search.py:814: DeprecationWarning: The default of the `iid` parameter will change from True to False in version 0.22 and will be removed in 0.24. This will change numeric results when test-set sizes are unequal.\n",
      "  DeprecationWarning)\n"
     ]
    },
    {
     "name": "stdout",
     "output_type": "stream",
     "text": [
      "Trade Date:  19980601\n",
      "{'max_features': 'sqrt', 'min_samples_leaf': 0.05, 'min_samples_split': 0.1, 'n_estimators': 200}\n"
     ]
    },
    {
     "name": "stderr",
     "output_type": "stream",
     "text": [
      "/home/ubuntu/anaconda3/lib/python3.6/site-packages/sklearn/model_selection/_search.py:814: DeprecationWarning: The default of the `iid` parameter will change from True to False in version 0.22 and will be removed in 0.24. This will change numeric results when test-set sizes are unequal.\n",
      "  DeprecationWarning)\n"
     ]
    },
    {
     "name": "stdout",
     "output_type": "stream",
     "text": [
      "Trade Date:  19980901\n",
      "{'max_features': 'sqrt', 'min_samples_leaf': 0.05, 'min_samples_split': 0.2, 'n_estimators': 100}\n",
      "Trade Date:  19981201\n",
      "{'max_features': 'sqrt', 'min_samples_leaf': 0.1, 'min_samples_split': 0.1, 'n_estimators': 75}\n"
     ]
    },
    {
     "name": "stderr",
     "output_type": "stream",
     "text": [
      "/home/ubuntu/anaconda3/lib/python3.6/site-packages/sklearn/model_selection/_search.py:814: DeprecationWarning: The default of the `iid` parameter will change from True to False in version 0.22 and will be removed in 0.24. This will change numeric results when test-set sizes are unequal.\n",
      "  DeprecationWarning)\n"
     ]
    },
    {
     "name": "stdout",
     "output_type": "stream",
     "text": [
      "Trade Date:  19990301\n",
      "{'max_features': 'sqrt', 'min_samples_leaf': 0.05, 'min_samples_split': 0.2, 'n_estimators': 100}\n"
     ]
    },
    {
     "name": "stderr",
     "output_type": "stream",
     "text": [
      "/home/ubuntu/anaconda3/lib/python3.6/site-packages/sklearn/model_selection/_search.py:814: DeprecationWarning: The default of the `iid` parameter will change from True to False in version 0.22 and will be removed in 0.24. This will change numeric results when test-set sizes are unequal.\n",
      "  DeprecationWarning)\n"
     ]
    },
    {
     "name": "stdout",
     "output_type": "stream",
     "text": [
      "Trade Date:  19990601\n",
      "{'max_features': 'sqrt', 'min_samples_leaf': 0.05, 'min_samples_split': 0.2, 'n_estimators': 75}\n",
      "Trade Date:  19990901\n",
      "{'max_features': 'sqrt', 'min_samples_leaf': 0.05, 'min_samples_split': 0.1, 'n_estimators': 200}\n",
      "Trade Date:  19991201\n",
      "{'max_features': 'sqrt', 'min_samples_leaf': 0.1, 'min_samples_split': 0.1, 'n_estimators': 75}\n"
     ]
    },
    {
     "name": "stderr",
     "output_type": "stream",
     "text": [
      "/home/ubuntu/anaconda3/lib/python3.6/site-packages/sklearn/model_selection/_search.py:814: DeprecationWarning: The default of the `iid` parameter will change from True to False in version 0.22 and will be removed in 0.24. This will change numeric results when test-set sizes are unequal.\n",
      "  DeprecationWarning)\n"
     ]
    },
    {
     "name": "stdout",
     "output_type": "stream",
     "text": [
      "Trade Date:  20000301\n",
      "{'max_features': 'sqrt', 'min_samples_leaf': 0.1, 'min_samples_split': 0.1, 'n_estimators': 100}\n",
      "Trade Date:  20000601\n",
      "{'max_features': 'sqrt', 'min_samples_leaf': 0.1, 'min_samples_split': 0.1, 'n_estimators': 200}\n"
     ]
    },
    {
     "name": "stderr",
     "output_type": "stream",
     "text": [
      "/home/ubuntu/anaconda3/lib/python3.6/site-packages/sklearn/model_selection/_search.py:814: DeprecationWarning: The default of the `iid` parameter will change from True to False in version 0.22 and will be removed in 0.24. This will change numeric results when test-set sizes are unequal.\n",
      "  DeprecationWarning)\n"
     ]
    },
    {
     "name": "stdout",
     "output_type": "stream",
     "text": [
      "Trade Date:  20000901\n",
      "{'max_features': 'sqrt', 'min_samples_leaf': 0.2, 'min_samples_split': 0.1, 'n_estimators': 75}\n"
     ]
    },
    {
     "name": "stderr",
     "output_type": "stream",
     "text": [
      "/home/ubuntu/anaconda3/lib/python3.6/site-packages/sklearn/model_selection/_search.py:814: DeprecationWarning: The default of the `iid` parameter will change from True to False in version 0.22 and will be removed in 0.24. This will change numeric results when test-set sizes are unequal.\n",
      "  DeprecationWarning)\n"
     ]
    },
    {
     "name": "stdout",
     "output_type": "stream",
     "text": [
      "Trade Date:  20001201\n",
      "{'max_features': 'sqrt', 'min_samples_leaf': 0.1, 'min_samples_split': 0.30000000000000004, 'n_estimators': 75}\n"
     ]
    },
    {
     "name": "stderr",
     "output_type": "stream",
     "text": [
      "/home/ubuntu/anaconda3/lib/python3.6/site-packages/sklearn/model_selection/_search.py:814: DeprecationWarning: The default of the `iid` parameter will change from True to False in version 0.22 and will be removed in 0.24. This will change numeric results when test-set sizes are unequal.\n",
      "  DeprecationWarning)\n"
     ]
    },
    {
     "name": "stdout",
     "output_type": "stream",
     "text": [
      "Trade Date:  20010301\n",
      "{'max_features': 'sqrt', 'min_samples_leaf': 0.1, 'min_samples_split': 0.5, 'n_estimators': 75}\n",
      "Trade Date:  20010601\n",
      "{'max_features': 'sqrt', 'min_samples_leaf': 0.1, 'min_samples_split': 0.4, 'n_estimators': 75}\n"
     ]
    },
    {
     "name": "stderr",
     "output_type": "stream",
     "text": [
      "/home/ubuntu/anaconda3/lib/python3.6/site-packages/sklearn/model_selection/_search.py:814: DeprecationWarning: The default of the `iid` parameter will change from True to False in version 0.22 and will be removed in 0.24. This will change numeric results when test-set sizes are unequal.\n",
      "  DeprecationWarning)\n"
     ]
    },
    {
     "name": "stdout",
     "output_type": "stream",
     "text": [
      "Trade Date:  20010904\n",
      "{'max_features': 'sqrt', 'min_samples_leaf': 0.1, 'min_samples_split': 0.5, 'n_estimators': 100}\n",
      "Trade Date:  20011203\n",
      "{'max_features': 'sqrt', 'min_samples_leaf': 0.05, 'min_samples_split': 0.5, 'n_estimators': 75}\n"
     ]
    },
    {
     "name": "stderr",
     "output_type": "stream",
     "text": [
      "/home/ubuntu/anaconda3/lib/python3.6/site-packages/sklearn/model_selection/_search.py:814: DeprecationWarning: The default of the `iid` parameter will change from True to False in version 0.22 and will be removed in 0.24. This will change numeric results when test-set sizes are unequal.\n",
      "  DeprecationWarning)\n"
     ]
    },
    {
     "name": "stdout",
     "output_type": "stream",
     "text": [
      "Trade Date:  20020301\n",
      "{'max_features': 'sqrt', 'min_samples_leaf': 0.1, 'min_samples_split': 0.30000000000000004, 'n_estimators': 200}\n",
      "Trade Date:  20020603\n",
      "{'max_features': 'sqrt', 'min_samples_leaf': 0.2, 'min_samples_split': 0.1, 'n_estimators': 200}\n",
      "Trade Date:  20020903\n",
      "{'max_features': 'sqrt', 'min_samples_leaf': 0.2, 'min_samples_split': 0.1, 'n_estimators': 75}\n"
     ]
    },
    {
     "name": "stderr",
     "output_type": "stream",
     "text": [
      "/home/ubuntu/anaconda3/lib/python3.6/site-packages/sklearn/model_selection/_search.py:814: DeprecationWarning: The default of the `iid` parameter will change from True to False in version 0.22 and will be removed in 0.24. This will change numeric results when test-set sizes are unequal.\n",
      "  DeprecationWarning)\n"
     ]
    },
    {
     "name": "stdout",
     "output_type": "stream",
     "text": [
      "Trade Date:  20021202\n",
      "{'max_features': 'sqrt', 'min_samples_leaf': 0.05, 'min_samples_split': 0.4, 'n_estimators': 200}\n"
     ]
    },
    {
     "name": "stderr",
     "output_type": "stream",
     "text": [
      "/home/ubuntu/anaconda3/lib/python3.6/site-packages/sklearn/model_selection/_search.py:814: DeprecationWarning: The default of the `iid` parameter will change from True to False in version 0.22 and will be removed in 0.24. This will change numeric results when test-set sizes are unequal.\n",
      "  DeprecationWarning)\n"
     ]
    },
    {
     "name": "stdout",
     "output_type": "stream",
     "text": [
      "Trade Date:  20030303\n",
      "{'max_features': 'sqrt', 'min_samples_leaf': 0.05, 'min_samples_split': 0.30000000000000004, 'n_estimators': 200}\n"
     ]
    },
    {
     "name": "stderr",
     "output_type": "stream",
     "text": [
      "/home/ubuntu/anaconda3/lib/python3.6/site-packages/sklearn/model_selection/_search.py:814: DeprecationWarning: The default of the `iid` parameter will change from True to False in version 0.22 and will be removed in 0.24. This will change numeric results when test-set sizes are unequal.\n",
      "  DeprecationWarning)\n"
     ]
    },
    {
     "name": "stdout",
     "output_type": "stream",
     "text": [
      "Trade Date:  20030602\n",
      "{'max_features': 'sqrt', 'min_samples_leaf': 0.05, 'min_samples_split': 0.2, 'n_estimators': 200}\n",
      "Trade Date:  20030902\n",
      "{'max_features': 'sqrt', 'min_samples_leaf': 0.05, 'min_samples_split': 0.2, 'n_estimators': 200}\n"
     ]
    },
    {
     "name": "stderr",
     "output_type": "stream",
     "text": [
      "/home/ubuntu/anaconda3/lib/python3.6/site-packages/sklearn/model_selection/_search.py:814: DeprecationWarning: The default of the `iid` parameter will change from True to False in version 0.22 and will be removed in 0.24. This will change numeric results when test-set sizes are unequal.\n",
      "  DeprecationWarning)\n"
     ]
    },
    {
     "name": "stdout",
     "output_type": "stream",
     "text": [
      "Trade Date:  20031201\n",
      "{'max_features': 'sqrt', 'min_samples_leaf': 0.05, 'min_samples_split': 0.1, 'n_estimators': 75}\n"
     ]
    },
    {
     "name": "stderr",
     "output_type": "stream",
     "text": [
      "/home/ubuntu/anaconda3/lib/python3.6/site-packages/sklearn/model_selection/_search.py:814: DeprecationWarning: The default of the `iid` parameter will change from True to False in version 0.22 and will be removed in 0.24. This will change numeric results when test-set sizes are unequal.\n",
      "  DeprecationWarning)\n"
     ]
    },
    {
     "name": "stdout",
     "output_type": "stream",
     "text": [
      "Trade Date:  20040301\n",
      "{'max_features': 'sqrt', 'min_samples_leaf': 0.05, 'min_samples_split': 0.1, 'n_estimators': 75}\n"
     ]
    },
    {
     "name": "stderr",
     "output_type": "stream",
     "text": [
      "/home/ubuntu/anaconda3/lib/python3.6/site-packages/sklearn/model_selection/_search.py:814: DeprecationWarning: The default of the `iid` parameter will change from True to False in version 0.22 and will be removed in 0.24. This will change numeric results when test-set sizes are unequal.\n",
      "  DeprecationWarning)\n"
     ]
    },
    {
     "name": "stdout",
     "output_type": "stream",
     "text": [
      "Trade Date:  20040601\n",
      "{'max_features': 'sqrt', 'min_samples_leaf': 0.05, 'min_samples_split': 0.1, 'n_estimators': 100}\n",
      "Trade Date:  20040901\n",
      "{'max_features': 'sqrt', 'min_samples_leaf': 0.05, 'min_samples_split': 0.2, 'n_estimators': 200}\n",
      "Trade Date:  20041201\n",
      "{'max_features': 'sqrt', 'min_samples_leaf': 0.05, 'min_samples_split': 0.2, 'n_estimators': 75}\n"
     ]
    },
    {
     "name": "stderr",
     "output_type": "stream",
     "text": [
      "/home/ubuntu/anaconda3/lib/python3.6/site-packages/sklearn/model_selection/_search.py:814: DeprecationWarning: The default of the `iid` parameter will change from True to False in version 0.22 and will be removed in 0.24. This will change numeric results when test-set sizes are unequal.\n",
      "  DeprecationWarning)\n"
     ]
    },
    {
     "name": "stdout",
     "output_type": "stream",
     "text": [
      "Trade Date:  20050301\n",
      "{'max_features': 'sqrt', 'min_samples_leaf': 0.05, 'min_samples_split': 0.30000000000000004, 'n_estimators': 200}\n"
     ]
    },
    {
     "name": "stderr",
     "output_type": "stream",
     "text": [
      "/home/ubuntu/anaconda3/lib/python3.6/site-packages/sklearn/model_selection/_search.py:814: DeprecationWarning: The default of the `iid` parameter will change from True to False in version 0.22 and will be removed in 0.24. This will change numeric results when test-set sizes are unequal.\n",
      "  DeprecationWarning)\n"
     ]
    },
    {
     "name": "stdout",
     "output_type": "stream",
     "text": [
      "Trade Date:  20050601\n",
      "{'max_features': 'sqrt', 'min_samples_leaf': 0.05, 'min_samples_split': 0.4, 'n_estimators': 200}\n"
     ]
    },
    {
     "name": "stderr",
     "output_type": "stream",
     "text": [
      "/home/ubuntu/anaconda3/lib/python3.6/site-packages/sklearn/model_selection/_search.py:814: DeprecationWarning: The default of the `iid` parameter will change from True to False in version 0.22 and will be removed in 0.24. This will change numeric results when test-set sizes are unequal.\n",
      "  DeprecationWarning)\n"
     ]
    },
    {
     "name": "stdout",
     "output_type": "stream",
     "text": [
      "Trade Date:  20050901\n",
      "{'max_features': 'sqrt', 'min_samples_leaf': 0.05, 'min_samples_split': 0.1, 'n_estimators': 75}\n",
      "Trade Date:  20051201\n",
      "{'max_features': 'sqrt', 'min_samples_leaf': 0.05, 'min_samples_split': 0.1, 'n_estimators': 200}\n",
      "Trade Date:  20060301\n",
      "{'max_features': 'sqrt', 'min_samples_leaf': 0.05, 'min_samples_split': 0.1, 'n_estimators': 100}\n",
      "Trade Date:  20060601\n",
      "{'max_features': 'sqrt', 'min_samples_leaf': 0.05, 'min_samples_split': 0.1, 'n_estimators': 100}\n",
      "Trade Date:  20060901\n",
      "{'max_features': 'sqrt', 'min_samples_leaf': 0.05, 'min_samples_split': 0.2, 'n_estimators': 200}\n",
      "Trade Date:  20061201\n",
      "{'max_features': 'sqrt', 'min_samples_leaf': 0.1, 'min_samples_split': 0.1, 'n_estimators': 200}\n",
      "Trade Date:  20070301\n",
      "{'max_features': 'sqrt', 'min_samples_leaf': 0.1, 'min_samples_split': 0.1, 'n_estimators': 200}\n",
      "Trade Date:  20070601\n",
      "{'max_features': 'sqrt', 'min_samples_leaf': 0.1, 'min_samples_split': 0.1, 'n_estimators': 200}\n",
      "Trade Date:  20070904\n",
      "{'max_features': 'sqrt', 'min_samples_leaf': 0.1, 'min_samples_split': 0.1, 'n_estimators': 75}\n",
      "Trade Date:  20071203\n",
      "{'max_features': 'sqrt', 'min_samples_leaf': 0.1, 'min_samples_split': 0.1, 'n_estimators': 200}\n",
      "Trade Date:  20080303\n",
      "{'max_features': 'sqrt', 'min_samples_leaf': 0.1, 'min_samples_split': 0.1, 'n_estimators': 200}\n",
      "Trade Date:  20080602\n",
      "{'max_features': 'sqrt', 'min_samples_leaf': 0.1, 'min_samples_split': 0.1, 'n_estimators': 100}\n",
      "Trade Date:  20080902\n",
      "{'max_features': 'sqrt', 'min_samples_leaf': 0.1, 'min_samples_split': 0.1, 'n_estimators': 100}\n",
      "Trade Date:  20081201\n",
      "{'max_features': 'sqrt', 'min_samples_leaf': 0.2, 'min_samples_split': 0.1, 'n_estimators': 75}\n",
      "Trade Date:  20090302\n",
      "{'max_features': 'sqrt', 'min_samples_leaf': 0.1, 'min_samples_split': 0.1, 'n_estimators': 200}\n",
      "Trade Date:  20090601\n",
      "{'max_features': 'sqrt', 'min_samples_leaf': 0.1, 'min_samples_split': 0.5, 'n_estimators': 200}\n",
      "Trade Date:  20090901\n",
      "{'max_features': 'sqrt', 'min_samples_leaf': 0.2, 'min_samples_split': 0.1, 'n_estimators': 100}\n",
      "Trade Date:  20091201\n",
      "{'max_features': 'sqrt', 'min_samples_leaf': 0.2, 'min_samples_split': 0.1, 'n_estimators': 75}\n"
     ]
    },
    {
     "name": "stderr",
     "output_type": "stream",
     "text": [
      "/home/ubuntu/anaconda3/lib/python3.6/site-packages/sklearn/model_selection/_search.py:814: DeprecationWarning: The default of the `iid` parameter will change from True to False in version 0.22 and will be removed in 0.24. This will change numeric results when test-set sizes are unequal.\n",
      "  DeprecationWarning)\n"
     ]
    },
    {
     "name": "stdout",
     "output_type": "stream",
     "text": [
      "Trade Date:  20100301\n",
      "{'max_features': 'sqrt', 'min_samples_leaf': 0.2, 'min_samples_split': 0.1, 'n_estimators': 100}\n",
      "Trade Date:  20100601\n",
      "{'max_features': 'sqrt', 'min_samples_leaf': 0.1, 'min_samples_split': 0.30000000000000004, 'n_estimators': 75}\n",
      "Trade Date:  20100901\n",
      "{'max_features': 'sqrt', 'min_samples_leaf': 0.1, 'min_samples_split': 0.1, 'n_estimators': 75}\n",
      "Trade Date:  20101201\n",
      "{'max_features': 'sqrt', 'min_samples_leaf': 0.05, 'min_samples_split': 0.2, 'n_estimators': 200}\n",
      "Trade Date:  20110301\n",
      "{'max_features': 'sqrt', 'min_samples_leaf': 0.05, 'min_samples_split': 0.30000000000000004, 'n_estimators': 200}\n",
      "Trade Date:  20110601\n",
      "{'max_features': 'sqrt', 'min_samples_leaf': 0.05, 'min_samples_split': 0.30000000000000004, 'n_estimators': 200}\n",
      "Trade Date:  20110901\n",
      "{'max_features': 'sqrt', 'min_samples_leaf': 0.05, 'min_samples_split': 0.30000000000000004, 'n_estimators': 200}\n",
      "Trade Date:  20111201\n",
      "{'max_features': 'sqrt', 'min_samples_leaf': 0.05, 'min_samples_split': 0.30000000000000004, 'n_estimators': 200}\n"
     ]
    },
    {
     "name": "stderr",
     "output_type": "stream",
     "text": [
      "/home/ubuntu/anaconda3/lib/python3.6/site-packages/sklearn/model_selection/_search.py:814: DeprecationWarning: The default of the `iid` parameter will change from True to False in version 0.22 and will be removed in 0.24. This will change numeric results when test-set sizes are unequal.\n",
      "  DeprecationWarning)\n"
     ]
    },
    {
     "name": "stdout",
     "output_type": "stream",
     "text": [
      "Trade Date:  20120301\n",
      "{'max_features': 'sqrt', 'min_samples_leaf': 0.05, 'min_samples_split': 0.2, 'n_estimators': 200}\n",
      "Trade Date:  20120601\n",
      "{'max_features': 'sqrt', 'min_samples_leaf': 0.05, 'min_samples_split': 0.30000000000000004, 'n_estimators': 100}\n",
      "Trade Date:  20120904\n",
      "{'max_features': 'sqrt', 'min_samples_leaf': 0.05, 'min_samples_split': 0.4, 'n_estimators': 75}\n",
      "Trade Date:  20121203\n",
      "{'max_features': 'sqrt', 'min_samples_leaf': 0.05, 'min_samples_split': 0.30000000000000004, 'n_estimators': 100}\n",
      "Trade Date:  20130301\n",
      "{'max_features': 'sqrt', 'min_samples_leaf': 0.05, 'min_samples_split': 0.4, 'n_estimators': 100}\n"
     ]
    },
    {
     "name": "stderr",
     "output_type": "stream",
     "text": [
      "/home/ubuntu/anaconda3/lib/python3.6/site-packages/sklearn/model_selection/_search.py:814: DeprecationWarning: The default of the `iid` parameter will change from True to False in version 0.22 and will be removed in 0.24. This will change numeric results when test-set sizes are unequal.\n",
      "  DeprecationWarning)\n"
     ]
    },
    {
     "name": "stdout",
     "output_type": "stream",
     "text": [
      "Trade Date:  20130603\n",
      "{'max_features': 'sqrt', 'min_samples_leaf': 0.05, 'min_samples_split': 0.2, 'n_estimators': 100}\n"
     ]
    },
    {
     "name": "stderr",
     "output_type": "stream",
     "text": [
      "/home/ubuntu/anaconda3/lib/python3.6/site-packages/sklearn/model_selection/_search.py:814: DeprecationWarning: The default of the `iid` parameter will change from True to False in version 0.22 and will be removed in 0.24. This will change numeric results when test-set sizes are unequal.\n",
      "  DeprecationWarning)\n"
     ]
    },
    {
     "name": "stdout",
     "output_type": "stream",
     "text": [
      "Trade Date:  20130903\n",
      "{'max_features': 'sqrt', 'min_samples_leaf': 0.05, 'min_samples_split': 0.2, 'n_estimators': 200}\n"
     ]
    },
    {
     "name": "stderr",
     "output_type": "stream",
     "text": [
      "/home/ubuntu/anaconda3/lib/python3.6/site-packages/sklearn/model_selection/_search.py:814: DeprecationWarning: The default of the `iid` parameter will change from True to False in version 0.22 and will be removed in 0.24. This will change numeric results when test-set sizes are unequal.\n",
      "  DeprecationWarning)\n"
     ]
    },
    {
     "name": "stdout",
     "output_type": "stream",
     "text": [
      "Trade Date:  20131202\n",
      "{'max_features': 'sqrt', 'min_samples_leaf': 0.05, 'min_samples_split': 0.1, 'n_estimators': 100}\n",
      "Trade Date:  20140303\n",
      "{'max_features': 'sqrt', 'min_samples_leaf': 0.05, 'min_samples_split': 0.1, 'n_estimators': 200}\n",
      "Trade Date:  20140602\n",
      "{'max_features': 'sqrt', 'min_samples_leaf': 0.05, 'min_samples_split': 0.1, 'n_estimators': 200}\n"
     ]
    },
    {
     "name": "stderr",
     "output_type": "stream",
     "text": [
      "/home/ubuntu/anaconda3/lib/python3.6/site-packages/sklearn/model_selection/_search.py:814: DeprecationWarning: The default of the `iid` parameter will change from True to False in version 0.22 and will be removed in 0.24. This will change numeric results when test-set sizes are unequal.\n",
      "  DeprecationWarning)\n"
     ]
    },
    {
     "name": "stdout",
     "output_type": "stream",
     "text": [
      "Trade Date:  20140902\n",
      "{'max_features': 'sqrt', 'min_samples_leaf': 0.05, 'min_samples_split': 0.1, 'n_estimators': 100}\n"
     ]
    },
    {
     "name": "stderr",
     "output_type": "stream",
     "text": [
      "/home/ubuntu/anaconda3/lib/python3.6/site-packages/sklearn/model_selection/_search.py:814: DeprecationWarning: The default of the `iid` parameter will change from True to False in version 0.22 and will be removed in 0.24. This will change numeric results when test-set sizes are unequal.\n",
      "  DeprecationWarning)\n"
     ]
    },
    {
     "name": "stdout",
     "output_type": "stream",
     "text": [
      "Trade Date:  20141201\n",
      "{'max_features': 'sqrt', 'min_samples_leaf': 0.05, 'min_samples_split': 0.1, 'n_estimators': 100}\n",
      "Trade Date:  20150302\n",
      "{'max_features': 'sqrt', 'min_samples_leaf': 0.05, 'min_samples_split': 0.1, 'n_estimators': 75}\n"
     ]
    },
    {
     "name": "stderr",
     "output_type": "stream",
     "text": [
      "/home/ubuntu/anaconda3/lib/python3.6/site-packages/sklearn/model_selection/_search.py:814: DeprecationWarning: The default of the `iid` parameter will change from True to False in version 0.22 and will be removed in 0.24. This will change numeric results when test-set sizes are unequal.\n",
      "  DeprecationWarning)\n"
     ]
    },
    {
     "name": "stdout",
     "output_type": "stream",
     "text": [
      "Trade Date:  20150601\n",
      "{'max_features': 'sqrt', 'min_samples_leaf': 0.05, 'min_samples_split': 0.2, 'n_estimators': 200}\n"
     ]
    },
    {
     "name": "stderr",
     "output_type": "stream",
     "text": [
      "/home/ubuntu/anaconda3/lib/python3.6/site-packages/sklearn/model_selection/_search.py:814: DeprecationWarning: The default of the `iid` parameter will change from True to False in version 0.22 and will be removed in 0.24. This will change numeric results when test-set sizes are unequal.\n",
      "  DeprecationWarning)\n",
      "/home/ubuntu/anaconda3/lib/python3.6/site-packages/sklearn/model_selection/_search.py:814: DeprecationWarning: The default of the `iid` parameter will change from True to False in version 0.22 and will be removed in 0.24. This will change numeric results when test-set sizes are unequal.\n",
      "  DeprecationWarning)\n"
     ]
    },
    {
     "name": "stdout",
     "output_type": "stream",
     "text": [
      "Trade Date:  20150901\n",
      "{'max_features': 'sqrt', 'min_samples_leaf': 0.05, 'min_samples_split': 0.2, 'n_estimators': 100}\n"
     ]
    },
    {
     "name": "stderr",
     "output_type": "stream",
     "text": [
      "/home/ubuntu/anaconda3/lib/python3.6/site-packages/sklearn/model_selection/_search.py:814: DeprecationWarning: The default of the `iid` parameter will change from True to False in version 0.22 and will be removed in 0.24. This will change numeric results when test-set sizes are unequal.\n",
      "  DeprecationWarning)\n",
      "/home/ubuntu/anaconda3/lib/python3.6/site-packages/sklearn/model_selection/_search.py:814: DeprecationWarning: The default of the `iid` parameter will change from True to False in version 0.22 and will be removed in 0.24. This will change numeric results when test-set sizes are unequal.\n",
      "  DeprecationWarning)\n"
     ]
    },
    {
     "name": "stdout",
     "output_type": "stream",
     "text": [
      "Trade Date:  20151201\n",
      "{'max_features': 'sqrt', 'min_samples_leaf': 0.05, 'min_samples_split': 0.1, 'n_estimators': 100}\n",
      "Trade Date:  20160301\n",
      "{'max_features': 'sqrt', 'min_samples_leaf': 0.05, 'min_samples_split': 0.1, 'n_estimators': 200}\n",
      "Trade Date:  20160601\n",
      "{'max_features': 'sqrt', 'min_samples_leaf': 0.05, 'min_samples_split': 0.1, 'n_estimators': 200}\n"
     ]
    },
    {
     "name": "stderr",
     "output_type": "stream",
     "text": [
      "/home/ubuntu/anaconda3/lib/python3.6/site-packages/sklearn/model_selection/_search.py:814: DeprecationWarning: The default of the `iid` parameter will change from True to False in version 0.22 and will be removed in 0.24. This will change numeric results when test-set sizes are unequal.\n",
      "  DeprecationWarning)\n"
     ]
    },
    {
     "name": "stdout",
     "output_type": "stream",
     "text": [
      "Trade Date:  20160901\n",
      "{'max_features': 'sqrt', 'min_samples_leaf': 0.05, 'min_samples_split': 0.1, 'n_estimators': 200}\n",
      "Trade Date:  20161201\n",
      "{'max_features': 'sqrt', 'min_samples_leaf': 0.05, 'min_samples_split': 0.1, 'n_estimators': 75}\n"
     ]
    },
    {
     "name": "stderr",
     "output_type": "stream",
     "text": [
      "/home/ubuntu/anaconda3/lib/python3.6/site-packages/sklearn/model_selection/_search.py:814: DeprecationWarning: The default of the `iid` parameter will change from True to False in version 0.22 and will be removed in 0.24. This will change numeric results when test-set sizes are unequal.\n",
      "  DeprecationWarning)\n"
     ]
    },
    {
     "name": "stdout",
     "output_type": "stream",
     "text": [
      "Trade Date:  20170301\n",
      "{'max_features': 'sqrt', 'min_samples_leaf': 0.05, 'min_samples_split': 0.1, 'n_estimators': 200}\n"
     ]
    },
    {
     "name": "stderr",
     "output_type": "stream",
     "text": [
      "/home/ubuntu/anaconda3/lib/python3.6/site-packages/sklearn/model_selection/_search.py:814: DeprecationWarning: The default of the `iid` parameter will change from True to False in version 0.22 and will be removed in 0.24. This will change numeric results when test-set sizes are unequal.\n",
      "  DeprecationWarning)\n"
     ]
    },
    {
     "name": "stdout",
     "output_type": "stream",
     "text": [
      "Trade Date:  20170601\n",
      "Time Spent:  17.17618236144384  minutes\n"
     ]
    }
   ],
   "source": [
    "start = time.time()\n",
    "sector60_result=ml_model.run_4model(sector60_data,\n",
    "                          ['X1_REVGH', 'X2_EPS',\n",
    "       'X3_ROA', 'X4_ROE', 'X5_PE', 'X6_PS', 'X7_NPM', 'X8_GPM', 'X9_OM',\n",
    "       'X10_PB', 'X15_LTDTA', 'X17_DE', 'X19_DSI'], label_column, date_column,tic_column,\n",
    "                         unique_ticker_sector60, unique_datetime, trade_date,\n",
    "                         first_trade_date_index,\n",
    "                         testing_windows)\n",
    "end = time.time()\n",
    "print('Time Spent: ',(end-start)/60,' minutes')"
   ]
  },
  {
   "cell_type": "code",
   "execution_count": 439,
   "metadata": {},
   "outputs": [
    {
     "data": {
      "text/plain": [
       "gbm      39\n",
       "rf       26\n",
       "ridge    21\n",
       "lr        3\n",
       "Name: model_name, dtype: int64"
      ]
     },
     "execution_count": 439,
     "metadata": {},
     "output_type": "execute_result"
    }
   ],
   "source": [
    "#df_predict_rf = sector50_result[1].astype(np.float64)\n",
    "df_predict_best = sector60_result[4].astype(np.float64)\n",
    "df_best_model_name = sector60_result[5]\n",
    "df_best_model_name.model_name.value_counts()"
   ]
  },
  {
   "cell_type": "code",
   "execution_count": 330,
   "metadata": {},
   "outputs": [],
   "source": [
    "ml_model.save_model_result(sector60_result,'sector60')"
   ]
  },
  {
   "cell_type": "code",
   "execution_count": null,
   "metadata": {},
   "outputs": [],
   "source": []
  }
 ],
 "metadata": {
  "kernelspec": {
   "display_name": "Python 3",
   "language": "python",
   "name": "python3"
  },
  "language_info": {
   "codemirror_mode": {
    "name": "ipython",
    "version": 3
   },
   "file_extension": ".py",
   "mimetype": "text/x-python",
   "name": "python",
   "nbconvert_exporter": "python",
   "pygments_lexer": "ipython3",
   "version": "3.6.9"
  }
 },
 "nbformat": 4,
 "nbformat_minor": 4
}
